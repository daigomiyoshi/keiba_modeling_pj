{
 "cells": [
  {
   "cell_type": "code",
   "execution_count": 1,
   "metadata": {},
   "outputs": [],
   "source": [
    "import re\n",
    "import glob\n",
    "import os\n",
    "import time \n",
    "import datetime\n",
    "import pandas as pd\n",
    "import pymysql\n",
    "from selenium import webdriver\n",
    "from selenium.webdriver.common.by import By\n",
    "from selenium.webdriver.support.ui import WebDriverWait\n",
    "from selenium.webdriver.support import expected_conditions as EC\n",
    "import warnings\n",
    "warnings.filterwarnings('ignore')\n",
    "\n",
    "from Config import params_config, db_config\n",
    "from Utils.bulk_insert import BulkInsert"
   ]
  },
  {
   "cell_type": "code",
   "execution_count": 2,
   "metadata": {
    "scrolled": true
   },
   "outputs": [],
   "source": [
    "parameters = params_config.parameters"
   ]
  },
  {
   "cell_type": "code",
   "execution_count": 3,
   "metadata": {},
   "outputs": [],
   "source": [
    "class BulkInsert(object):\n",
    "    def __init__(self, con):\n",
    "        self.con = con\n",
    "\n",
    "    def execute(self, insert_data, target_table, col_names):\n",
    "        if len(insert_data) == 0:\n",
    "            return None\n",
    "\n",
    "        try:\n",
    "            cursor = self.con.cursor()\n",
    "            query = self._generate_query(col_names, insert_data, target_table)\n",
    "            cursor.execute(query)\n",
    "            self.con.commit()\n",
    "        except Exception:\n",
    "            raise RuntimeError()\n",
    "\n",
    "    @staticmethod\n",
    "    def _generate_query(col_names, insert_data, target_table):\n",
    "        schema = '(' + ', '.join(map(lambda x: str(x), col_names)) + ')'\n",
    "        data_text =  ', '.join(map(lambda x: str(tuple(x)), insert_data))\n",
    "        return 'INSERT INTO ' + target_table + schema + ' VALUES ' + data_text"
   ]
  },
  {
   "cell_type": "code",
   "execution_count": 4,
   "metadata": {},
   "outputs": [],
   "source": [
    "def _bulk_insert(insert_list, target_table_name, insert_col_names):\n",
    "    bi = BulkInsert(con)\n",
    "    bi.execute(insert_data=insert_list, target_table=target_table_name, col_names=insert_col_names)"
   ]
  },
  {
   "cell_type": "code",
   "execution_count": 145,
   "metadata": {
    "scrolled": true
   },
   "outputs": [],
   "source": [
    "db_params = db_config.db_params\n",
    "con = pymysql.connect(**db_params)"
   ]
  },
  {
   "cell_type": "markdown",
   "metadata": {},
   "source": [
    "##  競馬結果のスクレイピングロジック\n",
    "- 将来直近の土日に関して\n",
    "    - ウェブ新聞の予想情報を取得\n",
    "- 過去の土日に関して\n",
    "    - ウェブ新聞の予想情報を取得\n",
    "    - 結果払い戻し情報を取得\n",
    "<br>\n",
    "\n",
    "1986/01/05 まで情報あり<br>\n",
    "土曜と日曜（レースがない日もある）だけ記録があるので、そこだけスクレイピングする"
   ]
  },
  {
   "cell_type": "code",
   "execution_count": 6,
   "metadata": {},
   "outputs": [],
   "source": [
    "def initialize_chrome_driver(parameters):\n",
    "    driver = webdriver.Chrome(executable_path=parameters['DRIVER_DIR'])\n",
    "    driver.set_page_load_timeout(parameters['PAGE_LOAD_TIMEOUT'])\n",
    "    driver.maximize_window()\n",
    "    return driver\n",
    "\n",
    "\n",
    "def get_nearest_future_holidays_list():\n",
    "    target_datetime = datetime.date.today()\n",
    "#     target_datetime = datetime.date(2019, 7, 15)\n",
    "    if target_datetime.weekday() == 6:\n",
    "        sunday_datetime_str = target_datetime.strftime(\"%Y%m%d\")\n",
    "        target_datetime_minus_1 = target_datetime + datetime.timedelta(days=-1)\n",
    "        saturday_datetime_str = target_datetime_minus_1.strftime(\"%Y%m%d\")\n",
    "        return [saturday_datetime_str, sunday_datetime_str]\n",
    "    \n",
    "    while True:\n",
    "        if target_datetime.weekday() == 5:\n",
    "            saturday_datetime_str = target_datetime.strftime(\"%Y%m%d\")\n",
    "            target_datetime_plus_1 = target_datetime + datetime.timedelta(days=1)\n",
    "            sunday_datetime_str = target_datetime_plus_1.strftime(\"%Y%m%d\")\n",
    "            return [saturday_datetime_str, sunday_datetime_str]\n",
    "        else:\n",
    "            target_datetime = target_datetime + datetime.timedelta(days=1)\n",
    "\n",
    "\n",
    "def get_latest_holidays_list(target_datetime):\n",
    "    while True:\n",
    "        if target_datetime.weekday() == 5:\n",
    "            saturday_datetime_str = target_datetime.strftime(\"%Y%m%d\")\n",
    "            target_datetime_plus_1 = target_datetime + datetime.timedelta(days=1)\n",
    "            sunday_datetime_str = target_datetime_plus_1.strftime(\"%Y%m%d\")\n",
    "            return [saturday_datetime_str, sunday_datetime_str]\n",
    "        else:\n",
    "            target_datetime = target_datetime + datetime.timedelta(days=-1)"
   ]
  },
  {
   "cell_type": "code",
   "execution_count": 7,
   "metadata": {},
   "outputs": [],
   "source": [
    "def initialize_chrome_driver(parameters):\n",
    "    driver = webdriver.Chrome(executable_path=parameters['DRIVER_DIR'])\n",
    "    driver.set_page_load_timeout(parameters['PAGE_LOAD_TIMEOUT'])\n",
    "    driver.maximize_window()\n",
    "    \n",
    "    return driver "
   ]
  },
  {
   "cell_type": "code",
   "execution_count": 8,
   "metadata": {},
   "outputs": [],
   "source": [
    "driver = initialize_chrome_driver(parameters)"
   ]
  },
  {
   "cell_type": "code",
   "execution_count": 199,
   "metadata": {},
   "outputs": [],
   "source": [
    "driver.back()\n",
    "# driver.quit()"
   ]
  },
  {
   "cell_type": "markdown",
   "metadata": {},
   "source": [
    "## Class: KeibaLabScraper"
   ]
  },
  {
   "cell_type": "code",
   "execution_count": 9,
   "metadata": {
    "scrolled": false
   },
   "outputs": [
    {
     "data": {
      "text/plain": [
       "['20190720', '20190721']"
      ]
     },
     "execution_count": 9,
     "metadata": {},
     "output_type": "execute_result"
    }
   ],
   "source": [
    "# first process for scraping\n",
    "target_datetime_list =  get_nearest_future_holidays_list()\n",
    "target_datetime_list"
   ]
  },
  {
   "cell_type": "code",
   "execution_count": 30,
   "metadata": {},
   "outputs": [],
   "source": [
    "def _load_target_url_page(driver, parameters, target_datetime_str):\n",
    "    target_url = parameters['TARGET_URL_OF_KAIBALAB_RACE'] + target_datetime_str\n",
    "    try:\n",
    "        driver.get(target_url)\n",
    "        print('We could load the URL:', driver.current_url)\n",
    "    except Exception as e:\n",
    "        print(e)\n",
    "\n",
    "def _make_web_driver_click_by(driver, parameters, xpath, verbose=True):\n",
    "    for i in range(parameters['RETRIES']):\n",
    "        try:\n",
    "            WebDriverWait(driver, parameters['PAGE_LOAD_TIMEOUT']).until(\n",
    "                EC.element_to_be_clickable((By.XPATH, xpath)))\n",
    "            driver.find_element_by_xpath(xpath).click()\n",
    "\n",
    "            if verbose:\n",
    "                print('We could load the XPATH and now locate in:', driver.current_url)\n",
    "\n",
    "        except TimeoutException:\n",
    "            print('Timeout, Retrying... ({I}/{MAX})'.format(I=i, MAX=parameters['RETRIES']))\n",
    "            continue\n",
    "        else:\n",
    "            return 'click_success'\n",
    "    return 'click_failed'"
   ]
  },
  {
   "cell_type": "code",
   "execution_count": 13,
   "metadata": {
    "scrolled": false
   },
   "outputs": [],
   "source": [
    "def _is_race_kakutei(xpath_table_of_race_result, table_tbody_idx):\n",
    "    xpath_for_kakutei_box = xpath_table_of_race_result + '/tbody/tr[{TBODY_IDX}]/td[3]'.format(TBODY_IDX=table_tbody_idx+1)\n",
    "    try:\n",
    "        driver.find_element_by_xpath(xpath_for_kakutei_box).find_element_by_tag_name('a')\n",
    "        return True\n",
    "    except Exception:\n",
    "        return False"
   ]
  },
  {
   "cell_type": "code",
   "execution_count": 28,
   "metadata": {},
   "outputs": [],
   "source": [
    "def _make_xpath_list_of_race_result_link():\n",
    "    xpath_list_of_race_result_link = []\n",
    "    \n",
    "    xpath_race_info_div = '//*[@id=\"raceInfo\"]/div[1]'\n",
    "    race_table_header_list = driver.find_element_by_xpath(xpath_race_info_div).find_elements_by_tag_name('table')\n",
    "    \n",
    "    for table_header_idx in range(len(race_table_header_list)):\n",
    "        xpath_table_of_race_result = xpath_race_info_div + '/table[{TABLE_IDX_IDX}]'.format(TABLE_IDX_IDX=table_header_idx+1)\n",
    "        race_table_body_elem_list = driver.find_element_by_xpath(xpath_table_of_race_result).find_element_by_tag_name('tbody').find_elements_by_tag_name('tr')\n",
    "        \n",
    "        for table_tbody_idx in range(len(race_table_body_elem_list)):\n",
    "            if _is_race_kakutei(xpath_table_of_race_result, table_tbody_idx):\n",
    "                xpath_tdoby_of_table_race_result = xpath_table_of_race_result + '/tbody/tr[{TBODY_IDX}]/td[2]/a'.format(TBODY_IDX=table_tbody_idx+1)\n",
    "                xpath_list_of_race_result_link.append(['kakutei', xpath_tdoby_of_table_race_result])\n",
    "            else:\n",
    "                xpath_tdoby_of_table_race_result = xpath_table_of_race_result + '/tbody/tr[{TBODY_IDX}]/td[2]/a'.format(TBODY_IDX=table_tbody_idx+1)\n",
    "                xpath_list_of_race_result_link.append(['not_kakutei', xpath_tdoby_of_table_race_result])\n",
    "                \n",
    "    if xpath_list_of_race_result_link is None:\n",
    "        return None\n",
    "    \n",
    "    return xpath_list_of_race_result_link"
   ]
  },
  {
   "cell_type": "code",
   "execution_count": 25,
   "metadata": {},
   "outputs": [],
   "source": [
    "def get_race_id():\n",
    "    race_id = \\\n",
    "        int(re.sub('\\\\D', '', driver.current_url.split(parameters['TARGET_URL_OF_KAIBALAB_RACE'])[1]))\n",
    "    while True:\n",
    "        if len(str(race_id)) != 12:\n",
    "            print('failed to get the correct race_id, so retry to get the id')\n",
    "            _make_web_driver_click_by(xpath_of_race_result_link[1])\n",
    "            race_id = int(re.sub('\\\\D', '', driver.current_url.split(\n",
    "                parameters['TARGET_URL_OF_KAIBALAB_RACE'])[1]))\n",
    "        else:\n",
    "            break\n",
    "    return race_id"
   ]
  },
  {
   "cell_type": "code",
   "execution_count": 16,
   "metadata": {},
   "outputs": [],
   "source": [
    "def get_race_data_box_list(race_id):\n",
    "    race_data_box = driver.find_element_by_xpath('//*[@id=\"tab1\"]/div[2]/div[1]/div[1]/div[1]/div[2]')\n",
    "    race_timing = race_data_box.find_element_by_xpath('//p[@class=\"bold\"]').text\n",
    "    race_title = race_data_box.find_element_by_xpath('//h1[@class=\"raceTitle fL\"]').text\n",
    "    try:\n",
    "        race_weather = race_data_box.find_elements_by_xpath('//div[@class=\"weather_ground fL\"]/ul/li')[0].text\n",
    "        race_condition =  race_data_box.find_elements_by_xpath('//div[@class=\"weather_ground fL\"]/ul/li')[1].text\n",
    "    except:\n",
    "        race_weather = 'unknown'\n",
    "        race_condition = 'unknown'\n",
    "    \n",
    "    course_syokin_elem = race_data_box.find_elements_by_xpath('//ul[@class=\"classCourseSyokin clearfix\"]/li')\n",
    "    course_syokin_list = ','.join([course_syokin_elem[i].text.replace('\\u3000',' ') for i in range(len(course_syokin_elem))]).replace(',',' ')\n",
    "    \n",
    "    return [race_id, race_timing, race_title, race_weather, race_condition, course_syokin_list]"
   ]
  },
  {
   "cell_type": "code",
   "execution_count": 192,
   "metadata": {},
   "outputs": [],
   "source": [
    "def _get_race_result_tbody_list(race_id):\n",
    "    race_result_tbody_row_elem_list = driver.find_elements_by_xpath('//*[@class=\"DbTable stripe resulttable\"]/tbody/tr')\n",
    "    race_result_tbody_list = []\n",
    "    \n",
    "    for i in range(len(race_result_tbody_row_elem_list)):\n",
    "        arrival_order = race_result_tbody_row_elem_list[i].find_element_by_xpath('td[1]').text\n",
    "        post_position = race_result_tbody_row_elem_list[i].find_element_by_xpath('td[2]').text\n",
    "\n",
    "        horse_number = race_result_tbody_row_elem_list[i].find_element_by_xpath('td[3]').text\n",
    "        horse_name = race_result_tbody_row_elem_list[i].find_element_by_xpath('td[4]').text\n",
    "        href_to_the_horse = race_result_tbody_row_elem_list[i].find_element_by_xpath('td[4]/a').get_attribute(\"href\")\n",
    "        horse_age = race_result_tbody_row_elem_list[i].find_element_by_xpath('td[5]').text\n",
    "        horse_weight = race_result_tbody_row_elem_list[i].find_element_by_xpath('td[15]').text \n",
    "        horse_impost = race_result_tbody_row_elem_list[i].find_element_by_xpath('td[6]').text \n",
    "\n",
    "        jockey_name = race_result_tbody_row_elem_list[i].find_element_by_xpath('td[7]').text\n",
    "        href_to_the_jockey = race_result_tbody_row_elem_list[i].find_element_by_xpath('td[7]/a').get_attribute(\"href\")\n",
    "\n",
    "        popularity_order = race_result_tbody_row_elem_list[i].find_element_by_xpath('td[8]').text\n",
    "        win_odds = race_result_tbody_row_elem_list[i].find_element_by_xpath('td[9]').text\n",
    "\n",
    "        trainer_name = race_result_tbody_row_elem_list[i].find_element_by_xpath('td[14]').text\n",
    "        href_to_the_trainer = race_result_tbody_row_elem_list[i].find_element_by_xpath('td[14]/a').get_attribute(\"href\")\n",
    "        \n",
    "        race_result_tbody_list.append([race_id, arrival_order, post_position, horse_number, horse_name, href_to_the_horse, horse_age, horse_weight, horse_impost, \n",
    " jockey_name, href_to_the_jockey, popularity_order, win_odds, trainer_name, href_to_the_trainer])\n",
    "    \n",
    "    return race_result_tbody_list"
   ]
  },
  {
   "cell_type": "code",
   "execution_count": 200,
   "metadata": {
    "scrolled": true
   },
   "outputs": [
    {
     "data": {
      "text/plain": [
       "[[201907140210,\n",
       "  '1',\n",
       "  '8',\n",
       "  '11',\n",
       "  'ポンデザール',\n",
       "  'https://www.keibalab.jp/db/horse/2015104834/',\n",
       "  '牝4',\n",
       "  '492(＋6)',\n",
       "  '53.0',\n",
       "  '藤岡康太',\n",
       "  'https://www.keibalab.jp/db/jockey/01116/',\n",
       "  '3',\n",
       "  '5.1',\n",
       "  '[美]堀宣行',\n",
       "  'https://www.keibalab.jp/db/trainer/01070/'],\n",
       " [201907140210,\n",
       "  '2',\n",
       "  '2',\n",
       "  '2',\n",
       "  'ドリームスピリット',\n",
       "  'https://www.keibalab.jp/db/horse/2015102790/',\n",
       "  '牡4',\n",
       "  '512(＋8)',\n",
       "  '54.0',\n",
       "  '武藤雅',\n",
       "  'https://www.keibalab.jp/db/jockey/01169/',\n",
       "  '6',\n",
       "  '14.6',\n",
       "  '[美]武藤善則',\n",
       "  'https://www.keibalab.jp/db/trainer/01064/'],\n",
       " [201907140210,\n",
       "  '3',\n",
       "  '1',\n",
       "  '1',\n",
       "  'ラクローチェ',\n",
       "  'https://www.keibalab.jp/db/horse/2016100784/',\n",
       "  '牡3',\n",
       "  '458(0)',\n",
       "  '53.0',\n",
       "  '幸英明',\n",
       "  'https://www.keibalab.jp/db/jockey/00732/',\n",
       "  '1',\n",
       "  '2.8',\n",
       "  '[栗]角田晃一',\n",
       "  'https://www.keibalab.jp/db/trainer/01121/'],\n",
       " [201907140210,\n",
       "  '4',\n",
       "  '6',\n",
       "  '8',\n",
       "  'トロピカルストーム',\n",
       "  'https://www.keibalab.jp/db/horse/2013105912/',\n",
       "  'セ6',\n",
       "  '448(＋8)',\n",
       "  '54.0',\n",
       "  '池添謙一',\n",
       "  'https://www.keibalab.jp/db/jockey/01032/',\n",
       "  '7',\n",
       "  '15.3',\n",
       "  '[栗]西村真幸',\n",
       "  'https://www.keibalab.jp/db/trainer/01148/'],\n",
       " [201907140210,\n",
       "  '5',\n",
       "  '6',\n",
       "  '7',\n",
       "  'シャイニーゲール',\n",
       "  'https://www.keibalab.jp/db/horse/2014101586/',\n",
       "  '牡5',\n",
       "  '470(－2)',\n",
       "  '55.0',\n",
       "  '菱田裕二',\n",
       "  'https://www.keibalab.jp/db/jockey/01144/',\n",
       "  '5',\n",
       "  '7.5',\n",
       "  '[栗]石坂正',\n",
       "  'https://www.keibalab.jp/db/trainer/01022/'],\n",
       " [201907140210,\n",
       "  '6',\n",
       "  '7',\n",
       "  '10',\n",
       "  'コロンバスデイ',\n",
       "  'https://www.keibalab.jp/db/horse/2015104316/',\n",
       "  '牝4',\n",
       "  '468(0)',\n",
       "  '53.0',\n",
       "  '福永祐一',\n",
       "  'https://www.keibalab.jp/db/jockey/01014/',\n",
       "  '2',\n",
       "  '4.9',\n",
       "  '[美]小笠倫弘',\n",
       "  'https://www.keibalab.jp/db/trainer/01076/'],\n",
       " [201907140210,\n",
       "  '7',\n",
       "  '7',\n",
       "  '9',\n",
       "  'ピッツバーグ',\n",
       "  'https://www.keibalab.jp/db/horse/2013100677/',\n",
       "  'セ6',\n",
       "  '492(－4)',\n",
       "  '54.0',\n",
       "  '吉田隼人',\n",
       "  'https://www.keibalab.jp/db/jockey/01095/',\n",
       "  '9',\n",
       "  '33.8',\n",
       "  '[栗]矢作芳人',\n",
       "  'https://www.keibalab.jp/db/trainer/01075/'],\n",
       " [201907140210,\n",
       "  '8',\n",
       "  '4',\n",
       "  '4',\n",
       "  'フレスコパスト',\n",
       "  'https://www.keibalab.jp/db/horse/2014104281/',\n",
       "  '牝5',\n",
       "  '422(0)',\n",
       "  '50.0',\n",
       "  '菅原明良',\n",
       "  'https://www.keibalab.jp/db/jockey/01179/',\n",
       "  '11',\n",
       "  '150.9',\n",
       "  '[美]中野栄治',\n",
       "  'https://www.keibalab.jp/db/trainer/01010/'],\n",
       " [201907140210,\n",
       "  '9',\n",
       "  '3',\n",
       "  '3',\n",
       "  'スワーヴアラミス',\n",
       "  'https://www.keibalab.jp/db/horse/2015104526/',\n",
       "  '牡4',\n",
       "  '484(＋8)',\n",
       "  '56.0',\n",
       "  '武豊',\n",
       "  'https://www.keibalab.jp/db/jockey/00666/',\n",
       "  '4',\n",
       "  '7.1',\n",
       "  '[栗]須貝尚介',\n",
       "  'https://www.keibalab.jp/db/trainer/01105/'],\n",
       " [201907140210,\n",
       "  '10',\n",
       "  '5',\n",
       "  '5',\n",
       "  '(地)ハナザカリ',\n",
       "  'https://www.keibalab.jp/db/horse/2015105501/',\n",
       "  '牝4',\n",
       "  '494(＋4)',\n",
       "  '52.0',\n",
       "  '横山武史',\n",
       "  'https://www.keibalab.jp/db/jockey/01170/',\n",
       "  '8',\n",
       "  '19.1',\n",
       "  '[美]粕谷昌央',\n",
       "  'https://www.keibalab.jp/db/trainer/01096/'],\n",
       " [201907140210,\n",
       "  '11',\n",
       "  '8',\n",
       "  '12',\n",
       "  '(地)ケージーキンカメ',\n",
       "  'https://www.keibalab.jp/db/horse/2011101513/',\n",
       "  '牡8',\n",
       "  '492(－2)',\n",
       "  '53.0',\n",
       "  '古川吉洋',\n",
       "  'https://www.keibalab.jp/db/jockey/01015/',\n",
       "  '10',\n",
       "  '67.0',\n",
       "  '[栗]飯田雄三',\n",
       "  'https://www.keibalab.jp/db/trainer/01050/'],\n",
       " [201907140210,\n",
       "  '取消',\n",
       "  '5',\n",
       "  '6',\n",
       "  'メイショウホウトウ',\n",
       "  'https://www.keibalab.jp/db/horse/2011103071/',\n",
       "  '牡8',\n",
       "  '',\n",
       "  '53.0',\n",
       "  '加藤祥太',\n",
       "  'https://www.keibalab.jp/db/jockey/01156/',\n",
       "  '',\n",
       "  '---',\n",
       "  '[栗]上村洋行',\n",
       "  'https://www.keibalab.jp/db/trainer/01168/']]"
      ]
     },
     "execution_count": 200,
     "metadata": {},
     "output_type": "execute_result"
    }
   ],
   "source": [
    "_get_race_result_tbody_list(race_id)"
   ]
  },
  {
   "cell_type": "code",
   "execution_count": null,
   "metadata": {
    "scrolled": true
   },
   "outputs": [],
   "source": [
    "# bulk_insert(insert_list=race_result_tbody_list,\n",
    "#                              target_table_name='keibalab_race_result_list',\n",
    "#                              insert_col_names=parameters['TABLE_COL_NAMES']['keibalab_race_result_list']) "
   ]
  },
  {
   "cell_type": "markdown",
   "metadata": {},
   "source": [
    "## 将来のレース情報を取得"
   ]
  },
  {
   "cell_type": "code",
   "execution_count": 181,
   "metadata": {
    "scrolled": true
   },
   "outputs": [
    {
     "name": "stdout",
     "output_type": "stream",
     "text": [
      "We could load the URL: https://www.keibalab.jp/db/race/20190714\n"
     ]
    }
   ],
   "source": [
    "target_datetime_str = target_datetime_list[1]\n",
    "target_datetime_str = '20190714'\n",
    "_load_target_url_page(driver, parameters, target_datetime_str)"
   ]
  },
  {
   "cell_type": "code",
   "execution_count": 182,
   "metadata": {
    "scrolled": true
   },
   "outputs": [
    {
     "name": "stdout",
     "output_type": "stream",
     "text": [
      "36\n"
     ]
    },
    {
     "data": {
      "text/plain": [
       "[['kakutei', '//*[@id=\"raceInfo\"]/div[1]/table[1]/tbody/tr[1]/td[2]/a'],\n",
       " ['kakutei', '//*[@id=\"raceInfo\"]/div[1]/table[1]/tbody/tr[2]/td[2]/a'],\n",
       " ['kakutei', '//*[@id=\"raceInfo\"]/div[1]/table[1]/tbody/tr[3]/td[2]/a'],\n",
       " ['kakutei', '//*[@id=\"raceInfo\"]/div[1]/table[1]/tbody/tr[4]/td[2]/a'],\n",
       " ['kakutei', '//*[@id=\"raceInfo\"]/div[1]/table[1]/tbody/tr[5]/td[2]/a'],\n",
       " ['kakutei', '//*[@id=\"raceInfo\"]/div[1]/table[1]/tbody/tr[6]/td[2]/a'],\n",
       " ['kakutei', '//*[@id=\"raceInfo\"]/div[1]/table[1]/tbody/tr[7]/td[2]/a'],\n",
       " ['kakutei', '//*[@id=\"raceInfo\"]/div[1]/table[1]/tbody/tr[8]/td[2]/a'],\n",
       " ['kakutei', '//*[@id=\"raceInfo\"]/div[1]/table[1]/tbody/tr[9]/td[2]/a'],\n",
       " ['kakutei', '//*[@id=\"raceInfo\"]/div[1]/table[1]/tbody/tr[10]/td[2]/a'],\n",
       " ['kakutei', '//*[@id=\"raceInfo\"]/div[1]/table[1]/tbody/tr[11]/td[2]/a'],\n",
       " ['kakutei', '//*[@id=\"raceInfo\"]/div[1]/table[1]/tbody/tr[12]/td[2]/a'],\n",
       " ['kakutei', '//*[@id=\"raceInfo\"]/div[1]/table[2]/tbody/tr[1]/td[2]/a'],\n",
       " ['kakutei', '//*[@id=\"raceInfo\"]/div[1]/table[2]/tbody/tr[2]/td[2]/a'],\n",
       " ['kakutei', '//*[@id=\"raceInfo\"]/div[1]/table[2]/tbody/tr[3]/td[2]/a'],\n",
       " ['kakutei', '//*[@id=\"raceInfo\"]/div[1]/table[2]/tbody/tr[4]/td[2]/a'],\n",
       " ['kakutei', '//*[@id=\"raceInfo\"]/div[1]/table[2]/tbody/tr[5]/td[2]/a'],\n",
       " ['kakutei', '//*[@id=\"raceInfo\"]/div[1]/table[2]/tbody/tr[6]/td[2]/a'],\n",
       " ['kakutei', '//*[@id=\"raceInfo\"]/div[1]/table[2]/tbody/tr[7]/td[2]/a'],\n",
       " ['kakutei', '//*[@id=\"raceInfo\"]/div[1]/table[2]/tbody/tr[8]/td[2]/a'],\n",
       " ['kakutei', '//*[@id=\"raceInfo\"]/div[1]/table[2]/tbody/tr[9]/td[2]/a'],\n",
       " ['kakutei', '//*[@id=\"raceInfo\"]/div[1]/table[2]/tbody/tr[10]/td[2]/a'],\n",
       " ['kakutei', '//*[@id=\"raceInfo\"]/div[1]/table[2]/tbody/tr[11]/td[2]/a'],\n",
       " ['kakutei', '//*[@id=\"raceInfo\"]/div[1]/table[2]/tbody/tr[12]/td[2]/a'],\n",
       " ['kakutei', '//*[@id=\"raceInfo\"]/div[1]/table[3]/tbody/tr[1]/td[2]/a'],\n",
       " ['kakutei', '//*[@id=\"raceInfo\"]/div[1]/table[3]/tbody/tr[2]/td[2]/a'],\n",
       " ['kakutei', '//*[@id=\"raceInfo\"]/div[1]/table[3]/tbody/tr[3]/td[2]/a'],\n",
       " ['kakutei', '//*[@id=\"raceInfo\"]/div[1]/table[3]/tbody/tr[4]/td[2]/a'],\n",
       " ['kakutei', '//*[@id=\"raceInfo\"]/div[1]/table[3]/tbody/tr[5]/td[2]/a'],\n",
       " ['kakutei', '//*[@id=\"raceInfo\"]/div[1]/table[3]/tbody/tr[6]/td[2]/a'],\n",
       " ['kakutei', '//*[@id=\"raceInfo\"]/div[1]/table[3]/tbody/tr[7]/td[2]/a'],\n",
       " ['kakutei', '//*[@id=\"raceInfo\"]/div[1]/table[3]/tbody/tr[8]/td[2]/a'],\n",
       " ['kakutei', '//*[@id=\"raceInfo\"]/div[1]/table[3]/tbody/tr[9]/td[2]/a'],\n",
       " ['kakutei', '//*[@id=\"raceInfo\"]/div[1]/table[3]/tbody/tr[10]/td[2]/a'],\n",
       " ['kakutei', '//*[@id=\"raceInfo\"]/div[1]/table[3]/tbody/tr[11]/td[2]/a'],\n",
       " ['kakutei', '//*[@id=\"raceInfo\"]/div[1]/table[3]/tbody/tr[12]/td[2]/a']]"
      ]
     },
     "execution_count": 182,
     "metadata": {},
     "output_type": "execute_result"
    }
   ],
   "source": [
    "xpath_list_of_race_result_link = _make_xpath_list_of_race_result_link()\n",
    "print(len(xpath_list_of_race_result_link))\n",
    "xpath_list_of_race_result_link"
   ]
  },
  {
   "cell_type": "code",
   "execution_count": 183,
   "metadata": {
    "scrolled": true
   },
   "outputs": [
    {
     "name": "stdout",
     "output_type": "stream",
     "text": [
      "We could load the XPATH and now locate in: https://www.keibalab.jp/db/race/201907140210/\n"
     ]
    },
    {
     "data": {
      "text/plain": [
       "'click_success'"
      ]
     },
     "execution_count": 183,
     "metadata": {},
     "output_type": "execute_result"
    }
   ],
   "source": [
    "xpath = xpath_list_of_race_result_link[33][1]\n",
    "_make_web_driver_click_by(driver, parameters, xpath, verbose=True)"
   ]
  },
  {
   "cell_type": "code",
   "execution_count": 184,
   "metadata": {
    "scrolled": true
   },
   "outputs": [
    {
     "data": {
      "text/plain": [
       "201907140210"
      ]
     },
     "execution_count": 184,
     "metadata": {},
     "output_type": "execute_result"
    }
   ],
   "source": [
    "race_id = get_race_id()\n",
    "race_id"
   ]
  },
  {
   "cell_type": "code",
   "execution_count": 185,
   "metadata": {},
   "outputs": [],
   "source": [
    "def is_race_id_existing_in_db(race_id):\n",
    "    select_query = 'SELECT race_id FROM keibalab_race_master WHERE race_id = \"{RACE_ID}\";'.format(RACE_ID = race_id)\n",
    "    cursor = con.cursor()\n",
    "    cursor.execute(select_query)\n",
    "    fetch_result = cursor.fetchone()\n",
    "    if fetch_result is None:\n",
    "        return False\n",
    "    elif int(fetch_result[0]) == race_id:\n",
    "        return True"
   ]
  },
  {
   "cell_type": "code",
   "execution_count": 186,
   "metadata": {
    "scrolled": true
   },
   "outputs": [
    {
     "data": {
      "text/plain": [
       "False"
      ]
     },
     "execution_count": 186,
     "metadata": {},
     "output_type": "execute_result"
    }
   ],
   "source": [
    "is_race_id_existing_in_db(race_id)"
   ]
  },
  {
   "cell_type": "code",
   "execution_count": 187,
   "metadata": {
    "scrolled": true
   },
   "outputs": [
    {
     "data": {
      "text/plain": [
       "[201907140210,\n",
       " '2019/7/14(日) 2回函館4日目',\n",
       " '北海ハンデキャップ',\n",
       " '曇',\n",
       " '良',\n",
       " 'サラ系3歳上1000万 (混)[指] ハンデ 芝2600m 12頭 15:11発走 本賞金 1500万 600万 380万 230万 150万']"
      ]
     },
     "execution_count": 187,
     "metadata": {},
     "output_type": "execute_result"
    }
   ],
   "source": [
    "race_data_box_list = get_race_data_box_list(race_id)\n",
    "race_data_box_list"
   ]
  },
  {
   "cell_type": "code",
   "execution_count": 201,
   "metadata": {},
   "outputs": [],
   "source": [
    "def _get_race_prior_info_tbody_list(race_id):\n",
    "    xpath_to_web_newspaper = '//*[@id=\"dbNav\"]/div/ul/li[1]/a'\n",
    "    _make_web_driver_click_by(driver, parameters, xpath_to_web_newspaper)\n",
    "    xpath_to_yoko_gata = '//*[@id=\"dbnewWrap\"]/div/article/div/section/div[4]/div[1]/div[1]/ul/li[2]/a'\n",
    "    is_success = _make_web_driver_click_by(driver, parameters, xpath_to_yoko_gata)\n",
    "    if is_success == 'click_failed':\n",
    "        return None\n",
    "\n",
    "    race_info_tbody_row_elem_list = driver.find_elements_by_xpath('//*[@id=\"top\"]/table/tbody/tr')\n",
    "    if len(race_info_tbody_row_elem_list) == 0:\n",
    "        pass\n",
    "\n",
    "    race_info_tbody_list = []\n",
    "    for i in range(len(race_info_tbody_row_elem_list)):\n",
    "        try:\n",
    "            post_position = race_info_tbody_row_elem_list[i].find_element_by_xpath('td[1]').text\n",
    "            horse_number = race_info_tbody_row_elem_list[i].find_element_by_xpath('td[2]').text\n",
    "            horse_name = race_info_tbody_row_elem_list[i].find_element_by_xpath('td[4]/dl/dd[1]').text\n",
    "            href_to_the_horse = \\\n",
    "                race_info_tbody_row_elem_list[i].find_element_by_xpath('td[4]/dl/dd[1]/a').get_attribute(\"href\")\n",
    "            jockey_name = \\\n",
    "                race_info_tbody_row_elem_list[i].find_elements_by_xpath('td[4]/dl/dd[2]/a')[0].get_attribute(\"href\")\n",
    "            href_to_the_jockey = race_info_tbody_row_elem_list[i].find_element_by_xpath('td[4]/dl/dd[2]').text\n",
    "            trainer_name = race_info_tbody_row_elem_list[i].find_element_by_xpath('td[4]/dl/dd[3]/a').text\n",
    "            sex_and_age, interval = \\\n",
    "                race_info_tbody_row_elem_list[i].find_element_by_xpath('td[4]/dl/dd[3]').text.split(trainer_name)\n",
    "            horse_age = re.sub(\"\\\\D\", \"\", sex_and_age)\n",
    "            horse_sex = re.match('[0-9a-zA-Zあ-んア-ン一-鿐]', sex_and_age).group()\n",
    "\n",
    "            popularity_order = race_info_tbody_row_elem_list[i].find_elements_by_xpath('td[5]/dl/dd')[0].text\n",
    "            win_odds = race_info_tbody_row_elem_list[i].find_elements_by_xpath('td[5]/dl/dd')[1].text\n",
    "            horse_weight = race_info_tbody_row_elem_list[i].find_elements_by_xpath('td[5]/dl/dd')[2].text\n",
    "            horse_weight_increment_from_previous = \\\n",
    "                race_info_tbody_row_elem_list[i].find_elements_by_xpath('td[5]/dl/dd')[3].text\n",
    "            owner_name = race_info_tbody_row_elem_list[i].find_elements_by_xpath('td[6]/dl/dd/a')[0].text\n",
    "            href_to_the_owner = \\\n",
    "                race_info_tbody_row_elem_list[i].find_elements_by_xpath('td[6]/dl/dd/a')[0].get_attribute(\"href\")\n",
    "            breeder_name = race_info_tbody_row_elem_list[i].find_elements_by_xpath('td[6]/dl/dd/a')[1].text\n",
    "\n",
    "            jockey_finish_first_second = race_info_tbody_row_elem_list[i].find_elements_by_xpath('td[7]/i')[0].text\n",
    "            horse_number_finish_first_second = \\\n",
    "                race_info_tbody_row_elem_list[i].find_elements_by_xpath('td[7]/i')[1].text\n",
    "            stallion_finish_first_second = race_info_tbody_row_elem_list[i].find_elements_by_xpath('td[7]/i')[2].text\n",
    "            conbi_finish_first_second = race_info_tbody_row_elem_list[i].find_elements_by_xpath('td[7]/i')[3].text\n",
    "\n",
    "            zensou_info_elem = race_info_tbody_row_elem_list[i].find_elements_by_xpath('td/a/dl')\n",
    "            zensou_info_list = [(zensou_info_elem[i].text.replace('\\n', ' ').replace('  ', ' '))\n",
    "                                for i in range(len(zensou_info_elem))]\n",
    "            zensou_info_list = [[zensou_info_list[i].replace(' ', ',')] for i in range(len(zensou_info_elem))]\n",
    "            zensou_info_list = str(zensou_info_list).replace('\\'', '')\n",
    "\n",
    "        except IndexError:\n",
    "            continue\n",
    "\n",
    "        race_info_tbody_list.append(\n",
    "            [race_id, post_position, horse_number, horse_name, href_to_the_horse, jockey_name, href_to_the_jockey,\n",
    "             trainer_name, horse_age, horse_sex, popularity_order, win_odds, horse_weight,\n",
    "             horse_weight_increment_from_previous, owner_name, href_to_the_owner, breeder_name,\n",
    "             jockey_finish_first_second, horse_number_finish_first_second, stallion_finish_first_second,\n",
    "             conbi_finish_first_second, zensou_info_list])\n",
    "\n",
    "    return race_info_tbody_list"
   ]
  },
  {
   "cell_type": "code",
   "execution_count": 189,
   "metadata": {
    "scrolled": true
   },
   "outputs": [],
   "source": [
    "# xpath_to_web_newspaper = '//*[@id=\"dbNav\"]/div/ul/li[1]/a'\n",
    "# _make_web_driver_click_by(driver, parameters, xpath_to_web_newspaper)\n",
    "# xpath_to_yoko_gata = '//*[@id=\"dbnewWrap\"]/div/article/div/section/div[4]/div[1]/div[1]/ul/li[2]/a'\n",
    "# _make_web_driver_click_by(driver, parameters, xpath_to_yoko_gata)\n",
    "\n",
    "# race_info_tbody_row_elem_list = driver.find_elements_by_xpath('//*[@id=\"top\"]/table/tbody/tr')"
   ]
  },
  {
   "cell_type": "code",
   "execution_count": 202,
   "metadata": {
    "scrolled": false
   },
   "outputs": [
    {
     "name": "stdout",
     "output_type": "stream",
     "text": [
      "We could load the XPATH and now locate in: https://www.keibalab.jp/db/race/201907140210/umabashira.html\n",
      "We could load the XPATH and now locate in: https://www.keibalab.jp/db/race/201907140210/umabashira.html?kind=yoko\n"
     ]
    }
   ],
   "source": [
    "race_prior_info_tbody_list = _get_race_prior_info_tbody_list(race_id)"
   ]
  },
  {
   "cell_type": "code",
   "execution_count": 203,
   "metadata": {},
   "outputs": [
    {
     "data": {
      "text/plain": [
       "[[201907140210,\n",
       "  '1',\n",
       "  '1',\n",
       "  'ラクローチェ',\n",
       "  'https://www.keibalab.jp/db/horse/2016100784/',\n",
       "  'https://www.keibalab.jp/db/jockey/00732/',\n",
       "  '幸英明(53.0)◁◀◀◁',\n",
       "  '栗・角田晃',\n",
       "  '3',\n",
       "  '牡',\n",
       "  '1人気',\n",
       "  '2.8倍',\n",
       "  '458kg',\n",
       "  '(0kg)',\n",
       "  '畑佐博',\n",
       "  'https://www.keibalab.jp/db/owner/867882/',\n",
       "  '細川農場',\n",
       "  '0.0%[0]',\n",
       "  '21.4%[14]',\n",
       "  '36.8%[19]',\n",
       "  '9.4%[32]',\n",
       "  '[[1,2東京11,19/5/25,芝24,3歳500万,②②②②,10頭8番3人,晴,良,2:25.5,33.8,S,458kg(－4),浜中俊,56.0,エデリー(0.2)], [7,3京都7,19/5/11,芝20,3歳500万,④⑤④④,8頭8番1人,晴,良,2:01.2,35.0,S,462kg(＋4),幸英明,56.0,ヒルノダカー(1.2)], [1,3京都1,19/4/20,芝20,3歳未勝利,②②②②,18頭12番1人,晴,良,2:00.6,35.7,M,458kg(---),幸英明,56.0,クラヴィーア(0.6)]]'],\n",
       " [201907140210,\n",
       "  '2',\n",
       "  '2',\n",
       "  'ドリームスピリット',\n",
       "  'https://www.keibalab.jp/db/horse/2015102790/',\n",
       "  'https://www.keibalab.jp/db/jockey/01169/',\n",
       "  '武藤雅(54.0)◁◁◀◁',\n",
       "  '美・武藤善',\n",
       "  '4',\n",
       "  '牡',\n",
       "  '6人気',\n",
       "  '14.6倍',\n",
       "  '512kg',\n",
       "  '(＋8kg)',\n",
       "  '落合幸弘',\n",
       "  'https://www.keibalab.jp/db/owner/949808/',\n",
       "  '中村俊紀',\n",
       "  '100.0%[1]',\n",
       "  '26.7%[15]',\n",
       "  '0.0%[3]',\n",
       "  '8.8%[159]',\n",
       "  '[[1,1小倉3,19/2/16,芝26,4歳上500万,④③③③,11頭1番1人,小雨,良,2:41.3,35.4,S,504kg(＋2),☆横山武,55.0,ミレフォリウ(0.2)], [5,1中京2,19/1/20,芝22,金山特別,⑭⑭⑫⑪,15頭15番1人,曇,良,2:14.6,34.6,S,502kg(0),武豊,56.0,ナムラドノヴ(0.8)], [2,4中京2,18/12/2,芝22,3歳上500万,⑫⑫⑩⑪,18頭1番1人,晴,良,2:13.6,34.4,S,502kg(＋8),Cルメ,55.0,レッドヴァー(0.0)], [4,3福島3,18/11/10,芝26,3歳上500万,①①①①,14頭3番1人,曇,良,2:42.2,36.6,S,494kg(＋6),津村明,55.0,マイネルキラ(0.5)], [2,2福島3,18/7/7,芝26,開成山特別,⑧⑧⑧⑤,12頭4番3人,曇,稍,2:42.8,37.2,M,488kg(－4),武藤雅,54.0,オジュウチョ(0.5)]]'],\n",
       " [201907140210,\n",
       "  '3',\n",
       "  '3',\n",
       "  'スワーヴアラミス',\n",
       "  'https://www.keibalab.jp/db/horse/2015104526/',\n",
       "  'https://www.keibalab.jp/db/jockey/00666/',\n",
       "  '武豊(56.0)◁◀◀◁',\n",
       "  '栗・須貝尚',\n",
       "  '4',\n",
       "  '牡',\n",
       "  '4人気',\n",
       "  '7.1倍',\n",
       "  '484kg',\n",
       "  '(＋8kg)',\n",
       "  'NICKS',\n",
       "  'https://www.keibalab.jp/db/owner/776788/',\n",
       "  '社台コー',\n",
       "  '33.3%[3]',\n",
       "  '0.0%[14]',\n",
       "  '20.0%[10]',\n",
       "  '31.5%[54]',\n",
       "  '[[3,2阪神7,19/4/13,ダ20,4歳上1000万,②②②②,15頭14番2人,晴,良,2:06.0,38.3,H,476kg(＋6),武豊,57.0,ウェルカムゴ(0.6)], [2,1阪神7,19/3/16,ダ20,4歳上1000万,④③⑤⑦,13頭7番1人,晴,稍,2:06.5,37.5,S,470kg(0),武豊,57.0,エルリストン(0.8)], [2,1阪神2,19/2/24,ダ18,4歳上1000万,⑤⑤④④,8頭8番3人,晴,良,1:52.7,37.0,M,470kg(＋6),武豊,56.0,ノーウェイ(0.1)], [1,4京都2,18/10/7,ダ18,3歳上500万,③②②①,11頭6番1人,晴,稍,1:52.1,37.4,H,464kg(－6),松田大,55.0,ジョースター(0.3)], [1,3中京1,18/6/30,ダ19,3歳未勝利,②②②②,16頭14番1人,曇,良,2:00.3,36.1,S,470kg(＋2),松田大,56.0,フローリン(0.2)]]'],\n",
       " [201907140210,\n",
       "  '4',\n",
       "  '4',\n",
       "  'フレスコパスト',\n",
       "  'https://www.keibalab.jp/db/horse/2014104281/',\n",
       "  'https://www.keibalab.jp/db/jockey/01179/',\n",
       "  '菅原明(50.0)◁◁◀◁',\n",
       "  '美・中野栄',\n",
       "  '5',\n",
       "  '牝',\n",
       "  '11人気',\n",
       "  '150.9倍',\n",
       "  '422kg',\n",
       "  '(0kg)',\n",
       "  '岡田壮史',\n",
       "  'https://www.keibalab.jp/db/owner/271808/',\n",
       "  '岡田スタ',\n",
       "  '0.0%[2]',\n",
       "  '13.3%[15]',\n",
       "  '0.0%[1]',\n",
       "  '0.0%[0]',\n",
       "  '[[7,2函館2,19/7/7,芝18,かもめ島特別,③③②③,7頭1番7人,曇,良,1:49.7,35.8,S,422kg(＋2),黛弘人,55.0,リンディーホ(0.7)], [11,3東京6,19/6/16,芝24,町田特別,⑨⑨⑩⑪,11頭5番11人,晴,稍,2:29.0,37.9,S,420kg(－6),山田敬,51.0,ベイビーステ(3.7)], [12,1福島2,19/4/7,芝26,燧ヶ岳特別,⑪⑨⑫⑪,15頭10番12人,晴,良,2:44.2,40.1,H,430kg(＋2),黛弘人,55.0,ニッポンテイ(4.6)], [7,2中山7,19/3/16,芝20,4歳上1000万,⑧⑧⑧⑧,8頭5番7人,曇,良,2:04.4,36.3,S,428kg(＋18),▲藤田菜,52.0,ハナレイムー(2.2)]]'],\n",
       " [201907140210,\n",
       "  '5',\n",
       "  '5',\n",
       "  'ハナザカリ',\n",
       "  'https://www.keibalab.jp/db/horse/2015105501/',\n",
       "  'https://www.keibalab.jp/db/jockey/01170/',\n",
       "  '横山武(52.0)◀◁◁◁',\n",
       "  '美・粕谷昌',\n",
       "  '4',\n",
       "  '牝',\n",
       "  '8人気',\n",
       "  '19.1倍',\n",
       "  '494kg',\n",
       "  '(＋4kg)',\n",
       "  '岡田壮史',\n",
       "  'https://www.keibalab.jp/db/owner/271808/',\n",
       "  '岡田牧場',\n",
       "  '0.0%[2]',\n",
       "  '40.0%[15]',\n",
       "  '33.3%[6]',\n",
       "  '8.3%[24]',\n",
       "  '[[6,3中山4,19/3/31,芝25,安房特別,①①①①,10頭6番4人,晴,良,2:35.5,38.0,S,490kg(＋8),江田照,52.0,マイネルヴン(0.6)], [1,1小倉5,19/2/23,芝26,4歳上500万,①①①①,10頭4番2人,晴,良,2:40.4,36.2,S,482kg(＋2),▲西村淳,51.0,リードザフィ(0.4)], [3,1中京6,19/2/3,芝22,4歳上500万,①①①①,13頭1番6人,曇,良,2:14.5,35.0,S,480kg(－8),▲木幡育,51.0,ネプチュナイ(0.2)], [10,1中山6,19/1/19,芝22,4歳上500万,①①②①,16頭12番8人,晴,良,2:15.2,37.4,S,488kg(＋2),田辺裕,54.0,サトノシャー(1.1)], [3,5中山9,18/12/28,芝20,ＹＪＳＦ中１,①①①①,14頭2番8人,晴,良,2:02.3,37.9,H,486kg(＋6),西村淳,54.0,プレシャスブ(0.3)]]'],\n",
       " [201907140210,\n",
       "  '6',\n",
       "  '7',\n",
       "  'シャイニーゲール',\n",
       "  'https://www.keibalab.jp/db/horse/2014101586/',\n",
       "  'https://www.keibalab.jp/db/jockey/01144/',\n",
       "  '菱田裕(55.0)◁◀◀◁',\n",
       "  '栗・石坂正',\n",
       "  '5',\n",
       "  '牡',\n",
       "  '5人気',\n",
       "  '7.5倍',\n",
       "  '470kg',\n",
       "  '(－2kg)',\n",
       "  '小林昌志',\n",
       "  'https://www.keibalab.jp/db/owner/403882/',\n",
       "  '雅牧場',\n",
       "  '0.0%[3]',\n",
       "  '13.3%[15]',\n",
       "  '25.0%[4]',\n",
       "  '10.3%[29]',\n",
       "  '[[6,3阪神4,19/6/9,芝24,三田特別,②②②①,14頭13番7人,晴,良,2:26.9,37.5,M,472kg(＋10),菱田裕,55.0,サトノガーネ(0.7)], [3,4中京6,18/12/16,芝22,尾張特別,②②②②,10頭7番3人,曇,良,2:15.4,34.6,S,462kg(－2),菱田裕,57.0,ギャラッド(0.0)], [5,5京都7,18/11/24,芝24,高雄特別,②②②②,9頭8番5人,晴,良,2:27.7,35.1,S,464kg(＋4),浜中俊,55.0,マイハートビ(0.8)], [3,4京都9,18/10/28,芝24,鳴滝特別,②②②②,9頭9番6人,晴,良,2:30.4,34.8,S,460kg(－6),菱田裕,57.0,スティルウォ(0.2)], [1,2函館5,18/7/21,芝26,横津岳特別,②②②②,12頭2番4人,晴,良,2:41.6,34.9,S,466kg(－4),Cルメ,57.0,ジャディード(0.4)]]'],\n",
       " [201907140210,\n",
       "  '6',\n",
       "  '8',\n",
       "  'トロピカルストーム',\n",
       "  'https://www.keibalab.jp/db/horse/2013105912/',\n",
       "  'https://www.keibalab.jp/db/jockey/01032/',\n",
       "  '池添謙(54.0)◁◁◀◁',\n",
       "  '栗・西村真',\n",
       "  '6',\n",
       "  'セ',\n",
       "  '7人気',\n",
       "  '15.3倍',\n",
       "  '448kg',\n",
       "  '(＋8kg)',\n",
       "  '吉田和美',\n",
       "  'https://www.keibalab.jp/db/owner/307886/',\n",
       "  '社台コー',\n",
       "  '16.7%[6]',\n",
       "  '0.0%[14]',\n",
       "  '36.8%[19]',\n",
       "  '15.4%[13]',\n",
       "  '[[14,1福島4,19/4/14,芝26,奥の細道特別,⑧⑥⑧⑯,16頭9番9人,曇,良,2:42.9,38.3,S,440kg(－8),川又賢,57.0,サトノオンリ(2.0)], [1,1小倉7,19/3/2,芝26,呼子特別,⑧⑧③②,12頭5番2人,曇,良,2:41.5,35.2,S,448kg(－2),幸英明,57.0,ジャディード(0.1)], [5,1小倉2,19/2/10,芝26,4歳上500万,⑩⑪⑧⑩,13頭11番4人,晴,稍,2:43.6,36.4,M,450kg(＋2),北村友,57.0,タイセイトレ(0.4)], [10,5阪神7,18/12/22,芝26,3歳上500万,⑩⑩⑦⑥,17頭9番4人,曇,稍,2:42.2,37.2,S,448kg(＋6),☆坂井瑠,56.0,ナムラマル(1.1)], [3,3福島3,18/11/10,芝26,3歳上500万,⑪⑪⑦⑥,14頭14番2人,曇,良,2:42.0,35.8,S,442kg(－2),☆川又賢,56.0,マイネルキラ(0.3)]]'],\n",
       " [201907140210,\n",
       "  '7',\n",
       "  '9',\n",
       "  'ピッツバーグ',\n",
       "  'https://www.keibalab.jp/db/horse/2013100677/',\n",
       "  'https://www.keibalab.jp/db/jockey/01095/',\n",
       "  '吉田隼(54.0)◀◀◁◁',\n",
       "  '栗・矢作芳',\n",
       "  '6',\n",
       "  'セ',\n",
       "  '9人気',\n",
       "  '33.8倍',\n",
       "  '492kg',\n",
       "  '(－4kg)',\n",
       "  'ラメール',\n",
       "  'https://www.keibalab.jp/db/owner/766788/',\n",
       "  '戸川牧場',\n",
       "  '25.0%[8]',\n",
       "  '14.3%[14]',\n",
       "  '0.0%[3]',\n",
       "  '10.5%[19]',\n",
       "  '[[5,1新潟6,19/5/12,芝18,赤倉特別,－－②②,12頭11番11人,晴,良,1:48.2,33.6,S,496kg(＋2),吉田隼,57.0,スリーマキシ(0.4)], [7,2東京4,19/4/28,芝24,陣馬特別,①①①①,8頭3番3人,晴,良,2:26.1,34.9,S,494kg(－2),内田博,54.0,エストスペリ(1.1)], [7,1阪神6,19/3/10,芝24,淡路特別,④②④⑦,10頭8番6人,雨,良,2:28.6,36.9,S,496kg(＋2),坂井瑠,54.0,プリンスオブ(1.9)], [9,1東京7,19/2/16,芝34,ダイヤモンド,ＧⅢ,②②②②,10頭4番7人,曇,良,3:32.9,35.6,S,494kg(－6),松岡正,49.0,ユーキャンス(1.4)], [2,1東京3,19/2/2,芝24,箱根特別,①①①①,10頭3番9人,晴,良,2:27.6,33.9,S,500kg(－8),坂井瑠,53.0,ナムラドノヴ(0.0)]]'],\n",
       " [201907140210,\n",
       "  '7',\n",
       "  '10',\n",
       "  'コロンバスデイ',\n",
       "  'https://www.keibalab.jp/db/horse/2015104316/',\n",
       "  'https://www.keibalab.jp/db/jockey/01014/',\n",
       "  '福永祐(53.0)◁◀◀◁',\n",
       "  '美・小笠倫',\n",
       "  '4',\n",
       "  '牝',\n",
       "  '2人気',\n",
       "  '4.9倍',\n",
       "  '468kg',\n",
       "  '(0kg)',\n",
       "  '社台レー',\n",
       "  'https://www.keibalab.jp/db/owner/134788/',\n",
       "  '社台ファ',\n",
       "  '0.0%[0]',\n",
       "  '30.8%[13]',\n",
       "  '50.0%[4]',\n",
       "  '33.3%[3]',\n",
       "  '[[1,1函館6,19/6/30,芝26,3歳上500万,③②②①,11頭11番2人,小雨,稍,2:42.1,37.4,M,468kg(＋2),Cルメ,55.0,ラヴィンジャ(0.2)], [1,1新潟2,19/4/29,芝24,4歳上500万,⑥⑥⑤③,11頭10番6人,晴,良,2:27.8,35.4,H,466kg(＋6),▲藤田菜,52.0,シゲルシイタ(0.0)], [8,1小倉7,19/3/2,芝26,呼子特別,③④③④,12頭2番3人,曇,良,2:43.0,36.6,S,460kg(－4),藤岡康,54.0,トロピカルス(1.5)], [5,1小倉5,19/2/23,芝26,4歳上500万,⑥⑥②③,10頭9番1人,晴,良,2:41.3,36.9,S,464kg(0),☆川又賢,53.0,ハナザカリ(0.9)], [3,1小倉2,19/2/10,芝26,4歳上500万,⑩⑨④④,13頭9番8人,晴,稍,2:43.4,36.5,M,464kg(＋6),☆川又賢,53.0,タイセイトレ(0.2)]]'],\n",
       " [201907140210,\n",
       "  '8',\n",
       "  '11',\n",
       "  'ポンデザール',\n",
       "  'https://www.keibalab.jp/db/horse/2015104834/',\n",
       "  'https://www.keibalab.jp/db/jockey/01116/',\n",
       "  '藤岡康(53.0)◁◁◀◁',\n",
       "  '美・堀宣行',\n",
       "  '4',\n",
       "  '牝',\n",
       "  '3人気',\n",
       "  '5.1倍',\n",
       "  '492kg',\n",
       "  '(＋6kg)',\n",
       "  'サンデー',\n",
       "  'https://www.keibalab.jp/db/owner/992788/',\n",
       "  'ノーザン',\n",
       "  '0.0%[7]',\n",
       "  '23.1%[13]',\n",
       "  '20.0%[10]',\n",
       "  '26.3%[38]',\n",
       "  '[[1,1新潟8,19/5/19,芝24,荒川峡特別,⑦⑦⑦⑥,9頭5番3人,晴,良,2:29.0,34.4,S,486kg(＋28),丸田恭,55.0,ヴァンクール(0.0)], [1,2札幌4,18/8/26,芝26,3歳未勝利,⑩⑩⑪④,14頭3番3人,曇,稍,2:46.2,35.8,S,458kg(－14),Jモレ,54.0,コロンバスデ(0.2)], [5,2札幌2,18/8/19,ダ24,3歳未勝利,⑧⑧⑥⑥,12頭5番3人,雨,稍,2:37.6,40.0,H,472kg(＋16),Jモレ,54.0,ワイズワン(0.8)], [12,1東京6,18/2/12,芝24,3歳未勝利,③③④②,16頭11番5人,晴,良,2:31.5,36.5,S,456kg(－4),石橋脩,54.0,トラストケン(1.3)], [6,1中山1,18/1/6,ダ18,3歳新馬,⑪⑫⑫⑬,15頭1番5人,晴,良,1:58.4,39.6,H,460kg(---),石橋脩,54.0,アトムアスト(0.7)]]'],\n",
       " [201907140210,\n",
       "  '8',\n",
       "  '12',\n",
       "  'ケージーキンカメ',\n",
       "  'https://www.keibalab.jp/db/horse/2011101513/',\n",
       "  'https://www.keibalab.jp/db/jockey/01015/',\n",
       "  '古川吉(53.0)◁◁◀◁',\n",
       "  '栗・飯田雄',\n",
       "  '8',\n",
       "  '牡',\n",
       "  '10人気',\n",
       "  '67.0倍',\n",
       "  '492kg',\n",
       "  '(－2kg)',\n",
       "  '岩崎僖澄',\n",
       "  'https://www.keibalab.jp/db/owner/977885/',\n",
       "  '松本牧場',\n",
       "  '42.9%[7]',\n",
       "  '14.3%[7]',\n",
       "  '25.0%[4]',\n",
       "  '0.0%[4]',\n",
       "  '[[6,1函館5,19/6/29,芝20,洞爺湖特別,③④④④,9頭8番8人,曇,良,2:01.6,37.0,M,494kg(＋12),古川吉,57.0,サウンドバー(1.2)], [6,3京都9,19/5/18,芝18,オーストラＴ,－－③③,8頭8番7人,曇,良,1:49.8,33.9,S,482kg(－4),国分恭,57.0,フォックスク(0.6)], [7,3京都5,19/5/4,芝20,鴨川特別,⑤⑤⑤⑥,11頭10番11人,晴,良,2:00.9,34.9,S,486kg(＋16),国分恭,53.0,バレーノロッ(0.6)], [10,1小倉6,19/2/24,芝26,皿倉山特別,⑦⑦⑦⑧,15頭12番15人,晴,良,2:39.6,36.6,S,470kg(－2),中井裕,54.0,タイセイトレ(1.2)], [6,2京都5,19/2/9,芝24,琵琶湖特別,⑤⑥⑥⑥,8頭6番7人,曇,良,2:29.0,35.8,M,472kg(－4),国分恭,57.0,フォイヤーヴ(0.8)]]']]"
      ]
     },
     "execution_count": 203,
     "metadata": {},
     "output_type": "execute_result"
    }
   ],
   "source": [
    "race_prior_info_tbody_list"
   ]
  },
  {
   "cell_type": "code",
   "execution_count": null,
   "metadata": {},
   "outputs": [],
   "source": []
  }
 ],
 "metadata": {
  "kernelspec": {
   "display_name": "Python 3",
   "language": "python",
   "name": "python3"
  },
  "language_info": {
   "codemirror_mode": {
    "name": "ipython",
    "version": 3
   },
   "file_extension": ".py",
   "mimetype": "text/x-python",
   "name": "python",
   "nbconvert_exporter": "python",
   "pygments_lexer": "ipython3",
   "version": "3.7.3"
  }
 },
 "nbformat": 4,
 "nbformat_minor": 2
}
