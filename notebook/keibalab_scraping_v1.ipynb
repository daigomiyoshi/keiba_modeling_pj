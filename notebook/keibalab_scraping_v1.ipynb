{
 "cells": [
  {
   "cell_type": "code",
   "execution_count": null,
   "metadata": {},
   "outputs": [],
   "source": [
    "import re\n",
    "import glob\n",
    "import os\n",
    "import time \n",
    "import datetime\n",
    "import pandas as pd\n",
    "import pymysql\n",
    "from selenium import webdriver\n",
    "from selenium.webdriver.common.by import By\n",
    "from selenium.webdriver.support.ui import WebDriverWait\n",
    "from selenium.webdriver.support import expected_conditions as EC\n",
    "import warnings\n",
    "warnings.filterwarnings('ignore')\n",
    "\n",
    "from Config import params_config, db_config\n",
    "from Utils.bulk_insert import BulkInsert"
   ]
  },
  {
   "cell_type": "code",
   "execution_count": null,
   "metadata": {
    "scrolled": true
   },
   "outputs": [],
   "source": [
    "parameters = params_config.parameters\n",
    "parameters"
   ]
  },
  {
   "cell_type": "code",
   "execution_count": null,
   "metadata": {},
   "outputs": [],
   "source": [
    "class BulkInsert(object):\n",
    "    def __init__(self, con):\n",
    "        self.con = con\n",
    "\n",
    "    def execute(self, insert_data, target_table, col_names):\n",
    "        if len(insert_data) == 0:\n",
    "            return None\n",
    "\n",
    "        try:\n",
    "            cursor = self.con.cursor()\n",
    "            query = self._generate_query(col_names, insert_data, target_table)\n",
    "            cursor.execute(query)\n",
    "            self.con.commit()\n",
    "        except Exception:\n",
    "            raise RuntimeError()\n",
    "\n",
    "    @staticmethod\n",
    "    def _generate_query(col_names, insert_data, target_table):\n",
    "        schema = '(' + ', '.join(map(lambda x: str(x), col_names)) + ')'\n",
    "#         data_text = str(tuple(insert_data))\n",
    "        data_text =  ', '.join(map(lambda x: str(tuple(x)), insert_data))\n",
    "        return 'INSERT INTO ' + target_table + schema + ' VALUES ' + data_text"
   ]
  },
  {
   "cell_type": "code",
   "execution_count": null,
   "metadata": {},
   "outputs": [],
   "source": [
    "def bulk_insert(insert_list, target_table_name, insert_col_names):\n",
    "    bi = BulkInsert(con)\n",
    "    bi.execute(insert_data=insert_list, target_table=target_table_name, col_names=insert_col_names)"
   ]
  },
  {
   "cell_type": "code",
   "execution_count": null,
   "metadata": {
    "scrolled": true
   },
   "outputs": [],
   "source": [
    "db_params = db_config.db_params\n",
    "con = pymysql.connect(**db_params)"
   ]
  },
  {
   "cell_type": "markdown",
   "metadata": {},
   "source": [
    "### 過去の競馬結果をスクレイピングするmain関数処理\n",
    "- 1986/01/05 まで情報あり\n",
    "- 土曜と日曜（レースがない日もある）だけ記録があるので、そこだけスクレイピングする"
   ]
  },
  {
   "cell_type": "code",
   "execution_count": null,
   "metadata": {},
   "outputs": [],
   "source": [
    "def get_today_datetime():\n",
    "    return datetime.date.today()"
   ]
  },
  {
   "cell_type": "code",
   "execution_count": null,
   "metadata": {},
   "outputs": [],
   "source": [
    "def get_latest_holiday_list(target_datetime):\n",
    "    while True:\n",
    "        if target_datetime.weekday() == 5:\n",
    "            saturday_datetime_str = target_datetime.strftime(\"%Y%m%d\")\n",
    "            target_datetime_plus_1 = target_datetime + datetime.timedelta(days=1)\n",
    "            sunday_datetime_str = target_datetime_plus_1.strftime(\"%Y%m%d\")\n",
    "            return [saturday_datetime_str, sunday_datetime_str]\n",
    "        else:\n",
    "            target_datetime = target_datetime + datetime.timedelta(days=-1)"
   ]
  },
  {
   "cell_type": "code",
   "execution_count": null,
   "metadata": {},
   "outputs": [],
   "source": [
    "def scraping_race_result_until_start_date(parameters):\n",
    "    # first process for scraping\n",
    "    target_datetime =  get_today_datetime()  # type: datetime.date\n",
    "    target_datetime_list =  get_latest_holiday_list(target_datetime)\n",
    "    print(target_datetime_list)\n",
    "    \n",
    "    # scarping keibalab web info\n",
    "    print('scraping the web site info in {TARGET_DATE}'.format(TARGET_DATE = target_datetime_list[0]))\n",
    "    ## ENTERE MY CODE ##\n",
    "    print('scraping the web site info in {TARGET_DATE}'.format(TARGET_DATE = target_datetime_list[1]))\n",
    "    ## ENTERE MY CODE ##\n",
    "    \n",
    "    # after the second time process for scraping\n",
    "    while True:\n",
    "        target_datetime_str = target_datetime_list[0]  # type: str\n",
    "        target_datetime = datetime.datetime.strptime(target_datetime_str, '%Y%m%d') - datetime.timedelta(days=1)  # type: datetime.date\n",
    "        target_datetime_list =  get_latest_holiday_list(target_datetime)\n",
    "        print(target_datetime_list)\n",
    "        \n",
    "        # scarping keibalab web info\n",
    "        print('scraping the web site info in {TARGET_DATE}'.format(TARGET_DATE = target_datetime_list[0]))\n",
    "        ## ENTERE MY CODE ##\n",
    "        print('scraping the web site info in {TARGET_DATE}'.format(TARGET_DATE = target_datetime_list[1]))\n",
    "        ## ENTERE MY CODE ##\n",
    "\n",
    "        if parameters['START_DATE'] in target_datetime_list:\n",
    "            break"
   ]
  },
  {
   "cell_type": "code",
   "execution_count": null,
   "metadata": {
    "scrolled": true
   },
   "outputs": [],
   "source": [
    "scraping_race_result_until_start_date(parameters)"
   ]
  },
  {
   "cell_type": "code",
   "execution_count": null,
   "metadata": {},
   "outputs": [],
   "source": [
    "def initialize_chrome_driver(parameters):\n",
    "    driver = webdriver.Chrome(executable_path=parameters['DRIVER_DIR'])\n",
    "    driver.set_page_load_timeout(parameters['PAGE_LOAD_TIMEOUT'])\n",
    "    driver.maximize_window()\n",
    "    \n",
    "    return driver "
   ]
  },
  {
   "cell_type": "code",
   "execution_count": null,
   "metadata": {},
   "outputs": [],
   "source": [
    "def close_chrome_window(driver):\n",
    "    driver.quit()"
   ]
  },
  {
   "cell_type": "code",
   "execution_count": null,
   "metadata": {},
   "outputs": [],
   "source": [
    "def back_chrome_window(driver):\n",
    "    driver.back()"
   ]
  },
  {
   "cell_type": "code",
   "execution_count": null,
   "metadata": {},
   "outputs": [],
   "source": [
    "driver = initialize_chrome_driver(parameters)"
   ]
  },
  {
   "cell_type": "code",
   "execution_count": null,
   "metadata": {},
   "outputs": [],
   "source": [
    "# back_chrome_window(driver)\n",
    "# close_chrome_window(driver)"
   ]
  },
  {
   "cell_type": "markdown",
   "metadata": {},
   "source": [
    "## Class: KeibaLabScraper"
   ]
  },
  {
   "cell_type": "markdown",
   "metadata": {},
   "source": [
    "- 例：20181229,1230の日はレースがないため、例外処理を行うようにしておく"
   ]
  },
  {
   "cell_type": "code",
   "execution_count": null,
   "metadata": {
    "scrolled": true
   },
   "outputs": [],
   "source": [
    "# first process for scraping\n",
    "target_datetime =  get_today_datetime()  # type: datetime.date\n",
    "target_datetime_list =  get_latest_holiday_list(target_datetime)\n",
    "target_datetime_list"
   ]
  },
  {
   "cell_type": "code",
   "execution_count": null,
   "metadata": {},
   "outputs": [],
   "source": [
    "def make_web_driver_click_by(driver, parameters, xpath, verbose=True):\n",
    "    try:\n",
    "        WebDriverWait(driver, parameters['PAGE_LOAD_TIMEOUT']).until(EC.element_to_be_clickable((By.XPATH, xpath)))\n",
    "        driver.find_element_by_xpath(xpath).click()\n",
    "        if verbose:\n",
    "            print('We can load the XPATH and now locate in:', driver.current_url)\n",
    "            \n",
    "    except Exception as e:\n",
    "        print(e)"
   ]
  },
  {
   "cell_type": "code",
   "execution_count": null,
   "metadata": {},
   "outputs": [],
   "source": [
    "def load_target_url_page(driver, parameters, target_datetime_str):\n",
    "    target_url = parameters['TARGET_URL'] + target_datetime_str\n",
    "    \n",
    "    try:\n",
    "        driver.get(target_url)\n",
    "        print('We can load the URL:', driver.current_url)\n",
    "    except:\n",
    "        print(\"The page load was time out\")"
   ]
  },
  {
   "cell_type": "code",
   "execution_count": null,
   "metadata": {
    "scrolled": false
   },
   "outputs": [],
   "source": [
    "target_datetime_str = target_datetime_list[0]\n",
    "load_target_url_page(driver, parameters, target_datetime_str)"
   ]
  },
  {
   "cell_type": "code",
   "execution_count": null,
   "metadata": {
    "scrolled": false
   },
   "outputs": [],
   "source": [
    "def is_race_kakutei(xpath_table_of_race_result, table_tbody_idx):\n",
    "    xpath_for_kakutei_box = xpath_table_of_race_result + '/tbody/tr[{TBODY_IDX}]/td[3]'.format(TBODY_IDX=table_tbody_idx+1)\n",
    "    try:\n",
    "        driver.find_element_by_xpath(xpath_for_kakutei_box).find_element_by_tag_name('a')\n",
    "        return True\n",
    "    except Exception as e:\n",
    "        return False"
   ]
  },
  {
   "cell_type": "code",
   "execution_count": null,
   "metadata": {},
   "outputs": [],
   "source": [
    "def make_xpath_list_of_race_result_link():\n",
    "    xpath_list_of_race_result_link = []\n",
    "    \n",
    "    xpath_race_info_div = '//*[@id=\"raceInfo\"]/div[1]'\n",
    "    race_table_header_list = driver.find_element_by_xpath(xpath_race_info_div).find_elements_by_tag_name('table')\n",
    "    \n",
    "    for table_header_idx in range(len(race_table_header_list)):\n",
    "        xpath_table_of_race_result = xpath_race_info_div + '/table[{TABLE_IDX_IDX}]'.format(TABLE_IDX_IDX=table_header_idx+1)\n",
    "        race_table_body_elem_list = driver.find_element_by_xpath(xpath_table_of_race_result).find_element_by_tag_name('tbody').find_elements_by_tag_name('tr')\n",
    "        \n",
    "        for table_tbody_idx in range(len(race_table_body_elem_list)):\n",
    "            if is_race_kakutei(xpath_table_of_race_result, table_tbody_idx):\n",
    "                xpath_tdoby_of_table_race_result = xpath_table_of_race_result + '/tbody/tr[{TBODY_IDX}]/td[2]/a'.format(TBODY_IDX=table_tbody_idx+1)\n",
    "                xpath_list_of_race_result_link.append(xpath_tdoby_of_table_race_result)\n",
    "            else:\n",
    "                continue\n",
    "                \n",
    "    return xpath_list_of_race_result_link"
   ]
  },
  {
   "cell_type": "code",
   "execution_count": null,
   "metadata": {
    "scrolled": true
   },
   "outputs": [],
   "source": [
    "xpath_list_of_race_result_link = make_xpath_list_of_race_result_link()\n",
    "print(len(xpath_list_of_race_result_link))\n",
    "xpath_list_of_race_result_link"
   ]
  },
  {
   "cell_type": "code",
   "execution_count": null,
   "metadata": {
    "scrolled": false
   },
   "outputs": [],
   "source": [
    "xpath = xpath_list_of_race_result_link[18]\n",
    "make_web_driver_click_by(driver, parameters, xpath, verbose=True)"
   ]
  },
  {
   "cell_type": "code",
   "execution_count": null,
   "metadata": {},
   "outputs": [],
   "source": [
    "def get_race_id():\n",
    "    return re.sub('\\\\D', '', driver.current_url.split(parameters['TARGET_URL'])[1])"
   ]
  },
  {
   "cell_type": "code",
   "execution_count": null,
   "metadata": {
    "scrolled": false
   },
   "outputs": [],
   "source": [
    "race_id = get_race_id()\n",
    "race_id"
   ]
  },
  {
   "cell_type": "code",
   "execution_count": null,
   "metadata": {},
   "outputs": [],
   "source": [
    "def get_race_data_box_list(race_id):\n",
    "    race_data_box = driver.find_element_by_xpath('//*[@id=\"tab1\"]/div[2]/div[1]/div[1]/div[1]/div[2]')\n",
    "    race_timing = race_data_box.find_element_by_xpath('//p[@class=\"bold\"]').text\n",
    "    race_title = race_data_box.find_element_by_xpath('//h1[@class=\"raceTitle fL\"]').text\n",
    "    race_weather = race_data_box.find_elements_by_xpath('//div[@class=\"weather_ground fL\"]/ul/li')[0].text\n",
    "    race_condition =  race_data_box.find_elements_by_xpath('//div[@class=\"weather_ground fL\"]/ul/li')[1].text\n",
    "    \n",
    "    course_syokin_elem = race_data_box.find_elements_by_xpath('//ul[@class=\"classCourseSyokin clearfix\"]/li')\n",
    "    course_syokin_list = ','.join([course_syokin_elem[i].text.replace('\\u3000',' ') for i in range(len(course_syokin_elem))]).replace(',',' ')\n",
    "    \n",
    "    return [race_id, race_timing, race_title, race_weather, race_condition, course_syokin_list]"
   ]
  },
  {
   "cell_type": "code",
   "execution_count": null,
   "metadata": {
    "scrolled": true
   },
   "outputs": [],
   "source": [
    "race_data_box_list = get_race_data_box_list(race_id)\n",
    "race_data_box_list"
   ]
  },
  {
   "cell_type": "code",
   "execution_count": null,
   "metadata": {},
   "outputs": [],
   "source": [
    "def get_race_result_tbody_list(race_id):\n",
    "    race_result_tbody_row_elem_list = driver.find_elements_by_xpath('//*[@class=\"DbTable stripe resulttable\"]/tbody/tr')\n",
    "    race_result_tbody_list = []\n",
    "    \n",
    "    for i in range(len(race_result_tbody_row_elem_list)):\n",
    "        arrival_order = race_result_tbody_row_elem_list[i].find_element_by_xpath('td[1]').text\n",
    "        post_position = race_result_tbody_row_elem_list[i].find_element_by_xpath('td[2]').text\n",
    "\n",
    "        horse_number = race_result_tbody_row_elem_list[i].find_element_by_xpath('td[3]').text\n",
    "        horse_name = race_result_tbody_row_elem_list[i].find_element_by_xpath('td[4]').text\n",
    "        href_to_the_horse = race_result_tbody_row_elem_list[i].find_element_by_xpath('td[4]/a').get_attribute(\"href\")\n",
    "        horse_age = race_result_tbody_row_elem_list[i].find_element_by_xpath('td[5]').text\n",
    "        horse_weight = race_result_tbody_row_elem_list[i].find_element_by_xpath('td[15]').text \n",
    "        horse_impost = race_result_tbody_row_elem_list[i].find_element_by_xpath('td[6]').text \n",
    "\n",
    "        jockey_name = race_result_tbody_row_elem_list[i].find_element_by_xpath('td[7]').text\n",
    "        href_to_the_jockey = race_result_tbody_row_elem_list[i].find_element_by_xpath('td[7]/a').get_attribute(\"href\")\n",
    "\n",
    "        popularity_order = race_result_tbody_row_elem_list[i].find_element_by_xpath('td[8]').text\n",
    "        win_odds = race_result_tbody_row_elem_list[i].find_element_by_xpath('td[9]').text\n",
    "\n",
    "        trainer_name = race_result_tbody_row_elem_list[i].find_element_by_xpath('td[14]').text\n",
    "        href_to_the_trainer = race_result_tbody_row_elem_list[i].find_element_by_xpath('td[14]/a').get_attribute(\"href\")\n",
    "        \n",
    "        race_result_tbody_list.append([race_id, arrival_order, post_position, horse_number, horse_name, href_to_the_horse, horse_age, horse_weight, horse_impost, \n",
    " jockey_name, href_to_the_jockey, popularity_order, win_odds, trainer_name, href_to_the_trainer])\n",
    "    \n",
    "    return race_result_tbody_list"
   ]
  },
  {
   "cell_type": "code",
   "execution_count": null,
   "metadata": {},
   "outputs": [],
   "source": [
    "race_result_tbody_list = get_race_result_tbody_list(race_id)"
   ]
  },
  {
   "cell_type": "code",
   "execution_count": null,
   "metadata": {
    "scrolled": true
   },
   "outputs": [],
   "source": [
    "race_result_tbody_list"
   ]
  },
  {
   "cell_type": "code",
   "execution_count": null,
   "metadata": {},
   "outputs": [],
   "source": [
    "bulk_insert(insert_list=[race_data_box_list],\n",
    "                             target_table_name='keibalab_race_master',\n",
    "                             insert_col_names=parameters['TABLE_COL_NAMES']['keibalab_race_master'])"
   ]
  },
  {
   "cell_type": "code",
   "execution_count": null,
   "metadata": {
    "scrolled": true
   },
   "outputs": [],
   "source": [
    "bulk_insert(insert_list=race_result_tbody_list,\n",
    "                             target_table_name='keibalab_race_result_list',\n",
    "                             insert_col_names=parameters['TABLE_COL_NAMES']['keibalab_race_result_list']) "
   ]
  },
  {
   "cell_type": "code",
   "execution_count": null,
   "metadata": {},
   "outputs": [],
   "source": []
  }
 ],
 "metadata": {
  "kernelspec": {
   "display_name": "Python 3",
   "language": "python",
   "name": "python3"
  },
  "language_info": {
   "codemirror_mode": {
    "name": "ipython",
    "version": 3
   },
   "file_extension": ".py",
   "mimetype": "text/x-python",
   "name": "python",
   "nbconvert_exporter": "python",
   "pygments_lexer": "ipython3",
   "version": "3.7.1"
  }
 },
 "nbformat": 4,
 "nbformat_minor": 2
}
