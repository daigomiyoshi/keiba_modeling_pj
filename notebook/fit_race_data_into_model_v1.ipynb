{
 "cells": [
  {
   "cell_type": "code",
   "execution_count": 1,
   "metadata": {},
   "outputs": [],
   "source": [
    "import os\n",
    "import sys\n",
    "import pymysql\n",
    "import pandas as pd\n",
    "import re\n",
    "import datetime\n",
    "import category_encoders\n",
    "import joblib\n",
    "\n",
    "from Config import params_config, query_config, db_config\n",
    "from Utils.bulk_insert import BulkInsert\n",
    "\n",
    "import warnings\n",
    "warnings.filterwarnings('ignore')"
   ]
  },
  {
   "cell_type": "markdown",
   "metadata": {},
   "source": [
    "## fit_race_info_into_model.py"
   ]
  },
  {
   "cell_type": "code",
   "execution_count": 2,
   "metadata": {},
   "outputs": [],
   "source": [
    "queries = query_config.queries\n",
    "parameters = params_config.parameters\n",
    "db_params = db_config.db_params\n",
    "con = pymysql.connect(**db_params)"
   ]
  },
  {
   "cell_type": "code",
   "execution_count": 3,
   "metadata": {},
   "outputs": [],
   "source": [
    "def fetchall_and_make_list_by(query, con):\n",
    "    try:\n",
    "        cursor = con.cursor()\n",
    "        cursor.execute(query)\n",
    "        fetch_result = cursor.fetchall()\n",
    "        fetch_result_list = [item for item in fetch_result]\n",
    "        cursor.close()\n",
    "        return fetch_result_list\n",
    "    except Exception as e:\n",
    "        print(e)\n",
    "\n",
    "def get_race_prior_info_list_for_training(parameters, con):\n",
    "    selected_query = queries['RACE_PRIOR_INFO_FOR_TRAINING']\n",
    "    return fetchall_and_make_list_by(selected_query, con)"
   ]
  },
  {
   "cell_type": "code",
   "execution_count": 4,
   "metadata": {
    "scrolled": true
   },
   "outputs": [],
   "source": [
    "race_prior_info_list_trained = get_race_prior_info_list_for_training(parameters, con)"
   ]
  },
  {
   "cell_type": "code",
   "execution_count": 5,
   "metadata": {},
   "outputs": [],
   "source": [
    "race_prior_info_df_trained = pd.DataFrame(race_prior_info_list_trained, \n",
    "                                          columns=parameters['DATAFRAME_COL_NAMES']['race_prior_info_for_training'])"
   ]
  },
  {
   "cell_type": "code",
   "execution_count": 6,
   "metadata": {
    "scrolled": false
   },
   "outputs": [
    {
     "data": {
      "text/plain": [
       "(177695, 26)"
      ]
     },
     "execution_count": 6,
     "metadata": {},
     "output_type": "execute_result"
    }
   ],
   "source": [
    "race_prior_info_df_trained.shape"
   ]
  },
  {
   "cell_type": "markdown",
   "metadata": {},
   "source": [
    "## Class: Preprocessing"
   ]
  },
  {
   "cell_type": "code",
   "execution_count": 7,
   "metadata": {},
   "outputs": [],
   "source": [
    "def _get_year_month_day_from_race_timing(x):\n",
    "    date_str = re.match('([0-9]+)/([0-9]+)/([0-9]+)' , x).group()\n",
    "    year = datetime.datetime.strptime(date_str, '%Y/%m/%d').year\n",
    "    month = datetime.datetime.strptime(date_str, '%Y/%m/%d').month\n",
    "    day = datetime.datetime.strptime(date_str, '%Y/%m/%d').day\n",
    "    return pd.Series([year, month, day])\n",
    "\n",
    "def _get_dow_from_race_timing(x):\n",
    "    return re.search(\"土|日\" , x).group()\n",
    "\n",
    "def _get_time_in_the_racecourse_from_race_timing(x):\n",
    "    return int(re.split('([0-9]+)回([ぁ-んァ-ン 一-龥]+)([0-9]+)日目' , x)[1])\n",
    "\n",
    "def _get_racecourse_from_race_timing(x):\n",
    "    return re.split('([0-9]+)回([ぁ-んァ-ン 一-龥]+)([0-9]+)日目' , x)[2]\n",
    "\n",
    "def _get_what_day_in_the_racecourse_from_race_timing(x):\n",
    "    return int(re.split('([0-9]+)回([ぁ-んァ-ン 一-龥]+)([0-9]+)日目' , x)[3])\n",
    "\n",
    "def _encode_race_course(df):\n",
    "    race_course_mapping = {'函館': 1, '札幌': 2, '福島': 3, '東京': 4, '中山': 5, '新潟': 6, '中京': 7, '阪神': 8, '京都': 9, '小倉': 10}\n",
    "    return df['race_course'].map(race_course_mapping)"
   ]
  },
  {
   "cell_type": "code",
   "execution_count": 8,
   "metadata": {},
   "outputs": [],
   "source": [
    "def preprocess_race_timing(df):\n",
    "    df[['year', 'month', 'day']] = df['race_timing'].apply(_get_year_month_day_from_race_timing)\n",
    "    df['dow'] = df['race_timing'].apply(_get_dow_from_race_timing)\n",
    "    df['race_course'] =  df['race_timing'].apply(_get_racecourse_from_race_timing)\n",
    "    df['race_course_encoded'] = _encode_race_course(df)\n",
    "    df['time_in_racecourse'] =  df['race_timing'].apply(_get_time_in_the_racecourse_from_race_timing)\n",
    "    df['what_day_in_racecourse'] =  df['race_timing'].apply(_get_what_day_in_the_racecourse_from_race_timing)\n",
    "    return df"
   ]
  },
  {
   "cell_type": "code",
   "execution_count": 9,
   "metadata": {
    "scrolled": true
   },
   "outputs": [],
   "source": [
    "race_prior_info_df_trained = preprocess_race_timing(race_prior_info_df_trained)"
   ]
  },
  {
   "cell_type": "code",
   "execution_count": 10,
   "metadata": {},
   "outputs": [],
   "source": [
    "def encode_race_weather(df):\n",
    "    race_weather_mapping = {'晴': 1, '曇': 2, '小雨': 3, '雨': 4, '小雪': 5, '雪':6}\n",
    "    return df['race_weather'].map(race_weather_mapping)"
   ]
  },
  {
   "cell_type": "code",
   "execution_count": 11,
   "metadata": {},
   "outputs": [],
   "source": [
    "race_prior_info_df_trained['race_weather_encoded'] = encode_race_weather(race_prior_info_df_trained)"
   ]
  },
  {
   "cell_type": "code",
   "execution_count": 12,
   "metadata": {},
   "outputs": [],
   "source": [
    "def encode_race_condition(df):\n",
    "    race_condition_mapping = {'良': 1, '稍': 2, '重': 3, '不': 4}\n",
    "    return df['race_condition'].map(race_condition_mapping)"
   ]
  },
  {
   "cell_type": "code",
   "execution_count": 13,
   "metadata": {},
   "outputs": [],
   "source": [
    "race_prior_info_df_trained['race_condition_encoded'] = encode_race_condition(race_prior_info_df_trained)"
   ]
  },
  {
   "cell_type": "code",
   "execution_count": 17,
   "metadata": {},
   "outputs": [],
   "source": [
    "def encode_fit_and_transform_href_to_the_horse(df):\n",
    "    if parameters['HYPER_PARAMETERS']['CATEGORY_ENCODERS_FOR_HORSE']=='TargetEncoder':\n",
    "        ce = category_encoders.TargetEncoder(cols=['href_to_the_horse'])\n",
    "    elif parameters['HYPER_PARAMETERS']['CATEGORY_ENCODERS_FOR_HORSE']=='OrdinalEncoder':\n",
    "        ce = category_encoders.OrdinalEncoder(cols=['href_to_the_horse'])\n",
    "        \n",
    "    ce.fit(df, \n",
    "           df[parameters['DATAFRAME_COL_NAMES']['target_col']],\n",
    "           handle_unknown=parameters['HYPER_PARAMETERS']['CATEGORY_ENCODERS_HANDLE_UNKNOWN'])\n",
    "    joblib.dump(ce, parameters['FILE_NAME_OF_HORSE_CATEGORY_ENCODERS'])\n",
    "    \n",
    "    df_ce = ce.transform(df)\n",
    "    df_ce = df_ce.rename(columns={'href_to_the_horse': 'href_to_the_horse_encoded'})\n",
    "    return pd.concat([df, df_ce['href_to_the_horse_encoded']], axis=1)"
   ]
  },
  {
   "cell_type": "code",
   "execution_count": 18,
   "metadata": {
    "scrolled": false
   },
   "outputs": [],
   "source": [
    "# ce_loaded = joblib.load(parameters['FILE_NAME_OF_CATEGORY_ENCODERS'])\n",
    "# ce_loaded"
   ]
  },
  {
   "cell_type": "code",
   "execution_count": 19,
   "metadata": {},
   "outputs": [],
   "source": [
    "race_prior_info_df_trained = encode_fit_and_transform_href_to_the_horse(race_prior_info_df_trained)"
   ]
  },
  {
   "cell_type": "code",
   "execution_count": 20,
   "metadata": {},
   "outputs": [],
   "source": [
    "def _get_horse_age_and_sex(x):\n",
    "    horse_sex = re.split('([ぁ-んァ-ン 一-龥]+)([0-9]+)' , x)[1]\n",
    "    horse_age = int(re.split('([ぁ-んァ-ン 一-龥]+)([0-9]+)' , x)[2])\n",
    "    return pd.Series([horse_sex, horse_age])\n",
    "\n",
    "def  _encode_horse_sex(df):\n",
    "    horse_sex_mapping = {'牡': 1, '牝': 2, 'セ': 3}\n",
    "    return df['horse_sex'].map(horse_sex_mapping)\n",
    "\n",
    "def preprocess_horse_sex_age(df):\n",
    "    df[['horse_sex', 'horse_age']] = df['horse_sex_age'].apply(_get_horse_age_and_sex)\n",
    "    df['horse_sex_encoded'] = _encode_horse_sex(df)\n",
    "    return df"
   ]
  },
  {
   "cell_type": "code",
   "execution_count": 21,
   "metadata": {
    "scrolled": true
   },
   "outputs": [],
   "source": [
    "race_prior_info_df_trained = preprocess_horse_sex_age(race_prior_info_df_trained)"
   ]
  },
  {
   "cell_type": "code",
   "execution_count": 22,
   "metadata": {},
   "outputs": [],
   "source": [
    "def _parse_horse_weight_increment(x):\n",
    "    return int(x.replace('＋', '+').replace('－', '-').replace('---', '0'))\n",
    "\n",
    "def _get_horse_weight_info(x):\n",
    "    horse_weight = int(re.split('(\\()(.*)(\\))' , x)[0])\n",
    "    horse_weight_increment_str = re.split('(\\()(.*)(\\))' , x)[2]\n",
    "    horse_weight_increment = _parse_horse_weight_increment(horse_weight_increment_str)\n",
    "    return pd.Series([horse_weight, horse_weight_increment])\n",
    "\n",
    "def preprocess_horse_weight_and_increment(df):\n",
    "    df[['horse_weight', 'horse_weight_increment']] = df['horse_weight_and_increment'].apply(_get_horse_weight_info)\n",
    "    return df"
   ]
  },
  {
   "cell_type": "code",
   "execution_count": 23,
   "metadata": {},
   "outputs": [],
   "source": [
    "race_prior_info_df_trained = preprocess_horse_weight_and_increment(race_prior_info_df_trained)"
   ]
  },
  {
   "cell_type": "code",
   "execution_count": 24,
   "metadata": {},
   "outputs": [],
   "source": [
    "def _get_and_encode_weight_loss_flg(x):\n",
    "    try:\n",
    "        weight_loss_flg = re.search('▲|△|☆' , x).group()\n",
    "        weight_loss_encode = int(weight_loss_flg.replace('▲', '3').replace('△', '2').replace('☆', '1'))\n",
    "    except AttributeError:\n",
    "        weight_loss_encode = 0\n",
    "    return weight_loss_encode\n",
    "\n",
    "def preprocess_jockey_name(df):\n",
    "    df['weight_loss_encode'] = df['jockey_name'].apply(_get_and_encode_weight_loss_flg)\n",
    "    return df"
   ]
  },
  {
   "cell_type": "code",
   "execution_count": 25,
   "metadata": {},
   "outputs": [],
   "source": [
    "race_prior_info_df_trained = preprocess_jockey_name(race_prior_info_df_trained)"
   ]
  },
  {
   "cell_type": "code",
   "execution_count": 26,
   "metadata": {},
   "outputs": [],
   "source": [
    "def encode_fit_and_transform_href_to_the_jockey(df):\n",
    "    if parameters['HYPER_PARAMETERS']['CATEGORY_ENCODERS_FOR_JOCKEY']=='TargetEncoder':\n",
    "        ce = category_encoders.TargetEncoder(cols=['href_to_the_jockey'])\n",
    "    elif parameters['HYPER_PARAMETERS']['CATEGORY_ENCODERS_FOR_JOCKEY']=='OrdinalEncoder':\n",
    "        ce = category_encoders.OrdinalEncoder(cols=['href_to_the_jockey'])\n",
    "        \n",
    "    ce.fit(df, \n",
    "           df[parameters['DATAFRAME_COL_NAMES']['target_col']],\n",
    "           handle_unknown=parameters['HYPER_PARAMETERS']['CATEGORY_ENCODERS_HANDLE_UNKNOWN'])\n",
    "    joblib.dump(ce, parameters['FILE_NAME_OF_JOCKEY_CATEGORY_ENCODERS'])\n",
    "    \n",
    "    df_ce = ce.transform(df)\n",
    "    df_ce = df_ce.rename(columns={'href_to_the_jockey': 'href_to_the_jockey_encoded'})\n",
    "    return pd.concat([df, df_ce['href_to_the_jockey_encoded']], axis=1)"
   ]
  },
  {
   "cell_type": "code",
   "execution_count": 27,
   "metadata": {
    "scrolled": true
   },
   "outputs": [],
   "source": [
    "# ce_loaded = joblib.load(parameters['FILE_NAME_OF_JOCKEY_CATEGORY_ENCODERS'])\n",
    "# ce_loaded"
   ]
  },
  {
   "cell_type": "code",
   "execution_count": 28,
   "metadata": {},
   "outputs": [],
   "source": [
    "race_prior_info_df_trained = encode_fit_and_transform_href_to_the_jockey(race_prior_info_df_trained)"
   ]
  },
  {
   "cell_type": "code",
   "execution_count": 29,
   "metadata": {},
   "outputs": [],
   "source": [
    "def _get_trainer_belonging(x):\n",
    "    return re.split('\\[(.*)\\]' , x)[1]\n",
    "\n",
    "def _encode_trainer_belonging(df):\n",
    "    trainer_belonging_mapping = {'美': 1, '栗': 2, '招': 3}\n",
    "    return df['trainer_belonging'].map(trainer_belonging_mapping)\n",
    "\n",
    "def preprocess_trainer_name(df):\n",
    "    df['trainer_belonging'] = df['trainer_name'].apply(_get_trainer_belonging)\n",
    "    df['trainer_belonging_encoded'] = _encode_trainer_belonging(df)\n",
    "    return df"
   ]
  },
  {
   "cell_type": "code",
   "execution_count": 30,
   "metadata": {},
   "outputs": [],
   "source": [
    "race_prior_info_df_trained = preprocess_trainer_name(race_prior_info_df_trained)"
   ]
  },
  {
   "cell_type": "code",
   "execution_count": 31,
   "metadata": {},
   "outputs": [],
   "source": [
    "def encode_fit_and_transform_href_to_the_trainer(df):\n",
    "    if parameters['HYPER_PARAMETERS']['CATEGORY_ENCODERS_FOR_TRAINER']=='TargetEncoder':\n",
    "        ce = category_encoders.TargetEncoder(cols=['href_to_the_trainer'])\n",
    "    elif parameters['HYPER_PARAMETERS']['CATEGORY_ENCODERS_FOR_TRAINER']=='OrdinalEncoder':\n",
    "        ce = category_encoders.OrdinalEncoder(cols=['href_to_the_trainer'])\n",
    "        \n",
    "    ce.fit(df, \n",
    "           df[parameters['DATAFRAME_COL_NAMES']['target_col']],\n",
    "           handle_unknown=parameters['HYPER_PARAMETERS']['CATEGORY_ENCODERS_HANDLE_UNKNOWN'])\n",
    "    joblib.dump(ce, parameters['FILE_NAME_OF_TRAINER_CATEGORY_ENCODERS'])\n",
    "    \n",
    "    df_ce = ce.transform(df)\n",
    "    df_ce = df_ce.rename(columns={'href_to_the_trainer': 'href_to_the_trainer_encoded'})\n",
    "    return pd.concat([df, df_ce['href_to_the_trainer_encoded']], axis=1)"
   ]
  },
  {
   "cell_type": "code",
   "execution_count": 32,
   "metadata": {},
   "outputs": [],
   "source": [
    "race_prior_info_df_trained = encode_fit_and_transform_href_to_the_trainer(race_prior_info_df_trained)"
   ]
  },
  {
   "cell_type": "code",
   "execution_count": 34,
   "metadata": {
    "scrolled": true
   },
   "outputs": [
    {
     "data": {
      "text/html": [
       "<div>\n",
       "<style scoped>\n",
       "    .dataframe tbody tr th:only-of-type {\n",
       "        vertical-align: middle;\n",
       "    }\n",
       "\n",
       "    .dataframe tbody tr th {\n",
       "        vertical-align: top;\n",
       "    }\n",
       "\n",
       "    .dataframe thead th {\n",
       "        text-align: right;\n",
       "    }\n",
       "</style>\n",
       "<table border=\"1\" class=\"dataframe\">\n",
       "  <thead>\n",
       "    <tr style=\"text-align: right;\">\n",
       "      <th></th>\n",
       "      <th>race_id</th>\n",
       "      <th>race_timing</th>\n",
       "      <th>race_title</th>\n",
       "      <th>race_weather</th>\n",
       "      <th>race_condition</th>\n",
       "      <th>course_syokin_list</th>\n",
       "      <th>post_position</th>\n",
       "      <th>horse_number</th>\n",
       "      <th>href_to_the_horse</th>\n",
       "      <th>horse_sex_age</th>\n",
       "      <th>...</th>\n",
       "      <th>horse_sex</th>\n",
       "      <th>horse_age</th>\n",
       "      <th>horse_sex_encoded</th>\n",
       "      <th>horse_weight</th>\n",
       "      <th>horse_weight_increment</th>\n",
       "      <th>weight_loss_encode</th>\n",
       "      <th>href_to_the_jockey_encoded</th>\n",
       "      <th>trainer_belonging</th>\n",
       "      <th>trainer_belonging_encoded</th>\n",
       "      <th>href_to_the_trainer_encoded</th>\n",
       "    </tr>\n",
       "  </thead>\n",
       "  <tbody>\n",
       "    <tr>\n",
       "      <th>0</th>\n",
       "      <td>201510100501</td>\n",
       "      <td>2015/10/10(土) 4回東京1日目</td>\n",
       "      <td>サラ系2歳未勝利</td>\n",
       "      <td>曇</td>\n",
       "      <td>良</td>\n",
       "      <td>サラ系2歳未勝利 牝 [指] 馬齢 ダ1400m 16頭 11:10発走 本賞金 500万 ...</td>\n",
       "      <td>1</td>\n",
       "      <td>1</td>\n",
       "      <td>https://www.keibalab.jp/db/horse/2013101018/</td>\n",
       "      <td>牝2</td>\n",
       "      <td>...</td>\n",
       "      <td>牝</td>\n",
       "      <td>2</td>\n",
       "      <td>2</td>\n",
       "      <td>494</td>\n",
       "      <td>0</td>\n",
       "      <td>3</td>\n",
       "      <td>9.365854</td>\n",
       "      <td>美</td>\n",
       "      <td>1</td>\n",
       "      <td>9.477301</td>\n",
       "    </tr>\n",
       "    <tr>\n",
       "      <th>1</th>\n",
       "      <td>201510100501</td>\n",
       "      <td>2015/10/10(土) 4回東京1日目</td>\n",
       "      <td>サラ系2歳未勝利</td>\n",
       "      <td>曇</td>\n",
       "      <td>良</td>\n",
       "      <td>サラ系2歳未勝利 牝 [指] 馬齢 ダ1400m 16頭 11:10発走 本賞金 500万 ...</td>\n",
       "      <td>1</td>\n",
       "      <td>2</td>\n",
       "      <td>https://www.keibalab.jp/db/horse/2013104095/</td>\n",
       "      <td>牝2</td>\n",
       "      <td>...</td>\n",
       "      <td>牝</td>\n",
       "      <td>2</td>\n",
       "      <td>2</td>\n",
       "      <td>442</td>\n",
       "      <td>-8</td>\n",
       "      <td>0</td>\n",
       "      <td>7.139848</td>\n",
       "      <td>美</td>\n",
       "      <td>1</td>\n",
       "      <td>8.058151</td>\n",
       "    </tr>\n",
       "    <tr>\n",
       "      <th>2</th>\n",
       "      <td>201510100501</td>\n",
       "      <td>2015/10/10(土) 4回東京1日目</td>\n",
       "      <td>サラ系2歳未勝利</td>\n",
       "      <td>曇</td>\n",
       "      <td>良</td>\n",
       "      <td>サラ系2歳未勝利 牝 [指] 馬齢 ダ1400m 16頭 11:10発走 本賞金 500万 ...</td>\n",
       "      <td>2</td>\n",
       "      <td>3</td>\n",
       "      <td>https://www.keibalab.jp/db/horse/2013102296/</td>\n",
       "      <td>牝2</td>\n",
       "      <td>...</td>\n",
       "      <td>牝</td>\n",
       "      <td>2</td>\n",
       "      <td>2</td>\n",
       "      <td>492</td>\n",
       "      <td>2</td>\n",
       "      <td>0</td>\n",
       "      <td>7.397448</td>\n",
       "      <td>美</td>\n",
       "      <td>1</td>\n",
       "      <td>7.429495</td>\n",
       "    </tr>\n",
       "    <tr>\n",
       "      <th>3</th>\n",
       "      <td>201510100501</td>\n",
       "      <td>2015/10/10(土) 4回東京1日目</td>\n",
       "      <td>サラ系2歳未勝利</td>\n",
       "      <td>曇</td>\n",
       "      <td>良</td>\n",
       "      <td>サラ系2歳未勝利 牝 [指] 馬齢 ダ1400m 16頭 11:10発走 本賞金 500万 ...</td>\n",
       "      <td>2</td>\n",
       "      <td>4</td>\n",
       "      <td>https://www.keibalab.jp/db/horse/2013105492/</td>\n",
       "      <td>牝2</td>\n",
       "      <td>...</td>\n",
       "      <td>牝</td>\n",
       "      <td>2</td>\n",
       "      <td>2</td>\n",
       "      <td>434</td>\n",
       "      <td>-8</td>\n",
       "      <td>0</td>\n",
       "      <td>8.466200</td>\n",
       "      <td>美</td>\n",
       "      <td>1</td>\n",
       "      <td>7.913892</td>\n",
       "    </tr>\n",
       "    <tr>\n",
       "      <th>4</th>\n",
       "      <td>201510100501</td>\n",
       "      <td>2015/10/10(土) 4回東京1日目</td>\n",
       "      <td>サラ系2歳未勝利</td>\n",
       "      <td>曇</td>\n",
       "      <td>良</td>\n",
       "      <td>サラ系2歳未勝利 牝 [指] 馬齢 ダ1400m 16頭 11:10発走 本賞金 500万 ...</td>\n",
       "      <td>3</td>\n",
       "      <td>5</td>\n",
       "      <td>https://www.keibalab.jp/db/horse/2013102168/</td>\n",
       "      <td>牝2</td>\n",
       "      <td>...</td>\n",
       "      <td>牝</td>\n",
       "      <td>2</td>\n",
       "      <td>2</td>\n",
       "      <td>434</td>\n",
       "      <td>-6</td>\n",
       "      <td>0</td>\n",
       "      <td>8.272380</td>\n",
       "      <td>美</td>\n",
       "      <td>1</td>\n",
       "      <td>7.556059</td>\n",
       "    </tr>\n",
       "  </tbody>\n",
       "</table>\n",
       "<p>5 rows × 47 columns</p>\n",
       "</div>"
      ],
      "text/plain": [
       "        race_id            race_timing race_title race_weather race_condition  \\\n",
       "0  201510100501  2015/10/10(土) 4回東京1日目   サラ系2歳未勝利            曇              良   \n",
       "1  201510100501  2015/10/10(土) 4回東京1日目   サラ系2歳未勝利            曇              良   \n",
       "2  201510100501  2015/10/10(土) 4回東京1日目   サラ系2歳未勝利            曇              良   \n",
       "3  201510100501  2015/10/10(土) 4回東京1日目   サラ系2歳未勝利            曇              良   \n",
       "4  201510100501  2015/10/10(土) 4回東京1日目   サラ系2歳未勝利            曇              良   \n",
       "\n",
       "                                  course_syokin_list  post_position  \\\n",
       "0  サラ系2歳未勝利 牝 [指] 馬齢 ダ1400m 16頭 11:10発走 本賞金 500万 ...              1   \n",
       "1  サラ系2歳未勝利 牝 [指] 馬齢 ダ1400m 16頭 11:10発走 本賞金 500万 ...              1   \n",
       "2  サラ系2歳未勝利 牝 [指] 馬齢 ダ1400m 16頭 11:10発走 本賞金 500万 ...              2   \n",
       "3  サラ系2歳未勝利 牝 [指] 馬齢 ダ1400m 16頭 11:10発走 本賞金 500万 ...              2   \n",
       "4  サラ系2歳未勝利 牝 [指] 馬齢 ダ1400m 16頭 11:10発走 本賞金 500万 ...              3   \n",
       "\n",
       "   horse_number                             href_to_the_horse horse_sex_age  \\\n",
       "0             1  https://www.keibalab.jp/db/horse/2013101018/            牝2   \n",
       "1             2  https://www.keibalab.jp/db/horse/2013104095/            牝2   \n",
       "2             3  https://www.keibalab.jp/db/horse/2013102296/            牝2   \n",
       "3             4  https://www.keibalab.jp/db/horse/2013105492/            牝2   \n",
       "4             5  https://www.keibalab.jp/db/horse/2013102168/            牝2   \n",
       "\n",
       "   ... horse_sex  horse_age horse_sex_encoded horse_weight  \\\n",
       "0  ...         牝          2                 2          494   \n",
       "1  ...         牝          2                 2          442   \n",
       "2  ...         牝          2                 2          492   \n",
       "3  ...         牝          2                 2          434   \n",
       "4  ...         牝          2                 2          434   \n",
       "\n",
       "   horse_weight_increment  weight_loss_encode href_to_the_jockey_encoded  \\\n",
       "0                       0                   3                   9.365854   \n",
       "1                      -8                   0                   7.139848   \n",
       "2                       2                   0                   7.397448   \n",
       "3                      -8                   0                   8.466200   \n",
       "4                      -6                   0                   8.272380   \n",
       "\n",
       "  trainer_belonging trainer_belonging_encoded href_to_the_trainer_encoded  \n",
       "0                 美                         1                    9.477301  \n",
       "1                 美                         1                    8.058151  \n",
       "2                 美                         1                    7.429495  \n",
       "3                 美                         1                    7.913892  \n",
       "4                 美                         1                    7.556059  \n",
       "\n",
       "[5 rows x 47 columns]"
      ]
     },
     "execution_count": 34,
     "metadata": {},
     "output_type": "execute_result"
    }
   ],
   "source": [
    "race_prior_info_df_trained.head()"
   ]
  },
  {
   "cell_type": "code",
   "execution_count": null,
   "metadata": {},
   "outputs": [],
   "source": []
  },
  {
   "cell_type": "code",
   "execution_count": null,
   "metadata": {},
   "outputs": [],
   "source": []
  },
  {
   "cell_type": "code",
   "execution_count": 43,
   "metadata": {},
   "outputs": [],
   "source": [
    "import numpy as np\n",
    "import torch\n",
    "import torch.nn as nn\n",
    "import torch.nn.functional as F\n",
    "import torch.optim as optim"
   ]
  },
  {
   "cell_type": "code",
   "execution_count": 37,
   "metadata": {},
   "outputs": [],
   "source": [
    "class Net(nn.Module):\n",
    "    def __init__(self, D):\n",
    "        super(Net, self).__init__()\n",
    "        self.l1 = nn.Linear(D, 10)\n",
    "        self.l2 = nn.Linear(10, 1)\n",
    "\n",
    "    def forward(self, x):\n",
    "        x = torch.sigmoid(self.l1(x))\n",
    "        x = self.l2(x)\n",
    "        return x"
   ]
  },
  {
   "cell_type": "code",
   "execution_count": 39,
   "metadata": {},
   "outputs": [],
   "source": [
    "def listnet_loss(y_i, z_i):\n",
    "    \"\"\"\n",
    "    y_i: (n_i, 1)\n",
    "    z_i: (n_i, 1)\n",
    "    \"\"\"\n",
    "\n",
    "    P_y_i = F.softmax(y_i, dim=0)\n",
    "    P_z_i = F.softmax(z_i, dim=0)\n",
    "    return - torch.sum(P_y_i * torch.log(P_z_i))\n",
    "\n",
    "def make_dataset(N_train, N_valid, D):\n",
    "    ws = torch.randn(D, 1)\n",
    "\n",
    "    X_train = torch.randn(N_train, D, requires_grad=True)\n",
    "    X_valid = torch.randn(N_valid, D, requires_grad=True)\n",
    "\n",
    "    ys_train_score = torch.mm(X_train, ws)\n",
    "    ys_valid_score = torch.mm(X_valid, ws)\n",
    "\n",
    "    bins = [-2, -1, 0, 1]  # 5 relevances\n",
    "    ys_train_rel = torch.Tensor(\n",
    "        np.digitize(ys_train_score.clone().detach().numpy(), bins=bins)\n",
    "    )\n",
    "    ys_valid_rel = torch.Tensor(\n",
    "        np.digitize(ys_valid_score.clone().detach().numpy(), bins=bins)\n",
    "    )\n",
    "\n",
    "    return X_train, X_valid, ys_train_rel, ys_valid_rel\n",
    "\n",
    "\n",
    "def swapped_pairs(ys_pred, ys_target):\n",
    "    N = ys_target.shape[0]\n",
    "    swapped = 0\n",
    "    for i in range(N - 1):\n",
    "        for j in range(i + 1, N):\n",
    "            if ys_target[i] < ys_target[j]:\n",
    "                if ys_pred[i] > ys_pred[j]:\n",
    "                    swapped += 1\n",
    "            elif ys_target[i] > ys_target[j]:\n",
    "                if ys_pred[i] < ys_pred[j]:\n",
    "                    swapped += 1\n",
    "    return swapped\n",
    "\n",
    "\n",
    "def ndcg(ys_true, ys_pred):\n",
    "    def dcg(ys_true, ys_pred):\n",
    "        _, argsort = torch.sort(ys_pred, descending=True, dim=0)\n",
    "        ys_true_sorted = ys_true[argsort]\n",
    "        ret = 0\n",
    "        for i, l in enumerate(ys_true_sorted, 1):\n",
    "            ret += (2 ** l - 1) / np.log2(1 + i)\n",
    "        return ret\n",
    "    ideal_dcg = dcg(ys_true, ys_true)\n",
    "    pred_dcg = dcg(ys_true, ys_pred)\n",
    "    return pred_dcg / ideal_dcg\n"
   ]
  },
  {
   "cell_type": "code",
   "execution_count": 44,
   "metadata": {},
   "outputs": [],
   "source": [
    "N_train = 500\n",
    "N_valid = 100\n",
    "D = 50\n",
    "epochs = 10\n",
    "batch_size = 16\n",
    "\n",
    "X_train, X_valid, ys_train, ys_valid = make_dataset(N_train, N_valid, D)"
   ]
  },
  {
   "cell_type": "code",
   "execution_count": 47,
   "metadata": {
    "scrolled": true
   },
   "outputs": [
    {
     "data": {
      "text/plain": [
       "tensor([[-0.4171, -1.8220, -0.5783,  ...,  1.5002, -0.4274, -1.1665],\n",
       "        [ 1.7215, -1.9836,  0.5270,  ...,  0.6701, -0.9603,  0.3600],\n",
       "        [ 0.0219, -1.3083,  0.8111,  ...,  0.6885, -0.5924, -0.1169],\n",
       "        ...,\n",
       "        [-0.2086, -0.0378,  1.2788,  ...,  0.3110, -0.2704, -1.0314],\n",
       "        [-0.5935, -0.6379,  1.3678,  ..., -0.3148, -0.7610,  0.2626],\n",
       "        [ 0.7759,  0.8268,  1.5696,  ...,  2.0907,  1.7582, -0.2129]],\n",
       "       requires_grad=True)"
      ]
     },
     "execution_count": 47,
     "metadata": {},
     "output_type": "execute_result"
    }
   ],
   "source": [
    "X_train"
   ]
  },
  {
   "cell_type": "code",
   "execution_count": null,
   "metadata": {},
   "outputs": [],
   "source": []
  }
 ],
 "metadata": {
  "kernelspec": {
   "display_name": "Python 3",
   "language": "python",
   "name": "python3"
  },
  "language_info": {
   "codemirror_mode": {
    "name": "ipython",
    "version": 3
   },
   "file_extension": ".py",
   "mimetype": "text/x-python",
   "name": "python",
   "nbconvert_exporter": "python",
   "pygments_lexer": "ipython3",
   "version": "3.7.3"
  }
 },
 "nbformat": 4,
 "nbformat_minor": 2
}
