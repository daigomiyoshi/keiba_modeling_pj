{
 "cells": [
  {
   "cell_type": "code",
   "execution_count": 1,
   "metadata": {},
   "outputs": [],
   "source": [
    "import re\n",
    "import glob\n",
    "import os\n",
    "import time \n",
    "import datetime\n",
    "import pandas as pd\n",
    "import pymysql\n",
    "from selenium import webdriver\n",
    "from selenium.webdriver.common.by import By\n",
    "from selenium.webdriver.support.ui import WebDriverWait\n",
    "from selenium.webdriver.support import expected_conditions as EC\n",
    "from selenium.common.exceptions import NoSuchElementException, TimeoutException\n",
    "\n",
    "import warnings\n",
    "warnings.filterwarnings('ignore')\n",
    "\n",
    "from Config import params_config, db_config\n",
    "from Utils.bulk_insert import BulkInsert"
   ]
  },
  {
   "cell_type": "code",
   "execution_count": 33,
   "metadata": {},
   "outputs": [],
   "source": [
    "parameters = params_config.parameters\n",
    "db_params = db_config.db_params\n",
    "con = pymysql.connect(**db_params)"
   ]
  },
  {
   "cell_type": "code",
   "execution_count": 3,
   "metadata": {
    "collapsed": true
   },
   "outputs": [],
   "source": [
    "def initialize_chrome_driver(parameters):\n",
    "    driver = webdriver.Chrome(executable_path=parameters['DRIVER_DIR'])\n",
    "    driver.set_page_load_timeout(parameters['PAGE_LOAD_TIMEOUT'])\n",
    "    driver.maximize_window()\n",
    "    return driver\n",
    "\n",
    "\n",
    "def get_nearest_future_holidays_list():\n",
    "    target_datetime = datetime.date.today()\n",
    "    target_datetime = datetime.date(2019, 7, 14)\n",
    "    if target_datetime.weekday() == 6:\n",
    "        sunday_datetime_str = target_datetime.strftime(\"%Y%m%d\")\n",
    "        target_datetime_minus_1 = target_datetime + datetime.timedelta(days=-1)\n",
    "        saturday_datetime_str = target_datetime_minus_1.strftime(\"%Y%m%d\")\n",
    "        return [saturday_datetime_str, sunday_datetime_str]\n",
    "    \n",
    "    while True:\n",
    "        if target_datetime.weekday() == 5:\n",
    "            saturday_datetime_str = target_datetime.strftime(\"%Y%m%d\")\n",
    "            target_datetime_plus_1 = target_datetime + datetime.timedelta(days=1)\n",
    "            sunday_datetime_str = target_datetime_plus_1.strftime(\"%Y%m%d\")\n",
    "            return [saturday_datetime_str, sunday_datetime_str]\n",
    "        else:\n",
    "            target_datetime = target_datetime + datetime.timedelta(days=1)\n",
    "\n",
    "\n",
    "def get_latest_holidays_list(target_datetime):\n",
    "    while True:\n",
    "        if target_datetime.weekday() == 5:\n",
    "            saturday_datetime_str = target_datetime.strftime(\"%Y%m%d\")\n",
    "            target_datetime_plus_1 = target_datetime + datetime.timedelta(days=1)\n",
    "            sunday_datetime_str = target_datetime_plus_1.strftime(\"%Y%m%d\")\n",
    "            return [saturday_datetime_str, sunday_datetime_str]\n",
    "        else:\n",
    "            target_datetime = target_datetime + datetime.timedelta(days=-1)"
   ]
  },
  {
   "cell_type": "code",
   "execution_count": 22,
   "metadata": {},
   "outputs": [],
   "source": [
    "driver = initialize_chrome_driver(parameters)"
   ]
  },
  {
   "cell_type": "code",
   "execution_count": 23,
   "metadata": {
    "scrolled": true
   },
   "outputs": [
    {
     "data": {
      "text/plain": [
       "'20190601'"
      ]
     },
     "execution_count": 23,
     "metadata": {},
     "output_type": "execute_result"
    }
   ],
   "source": [
    "target_datetime_list = get_nearest_future_holidays_list()\n",
    "target_datetime_str = '20190601'\n",
    "target_datetime_str"
   ]
  },
  {
   "cell_type": "markdown",
   "metadata": {},
   "source": [
    "## KeibaLabScraper\n",
    "### scraping_race_info_in"
   ]
  },
  {
   "cell_type": "code",
   "execution_count": 14,
   "metadata": {},
   "outputs": [],
   "source": [
    "# Functions\n",
    "def _back_chrome_window_for_number_of(times):\n",
    "    for _ in range(times):\n",
    "        driver.back()\n",
    "    return None\n",
    "\n",
    "def _load_target_url_page(target_datetime_str):\n",
    "    target_url = parameters['TARGET_URL_OF_KAIBALAB_RACE'] + target_datetime_str\n",
    "    try:\n",
    "        driver.get(target_url)\n",
    "        print('We could load the URL:', driver.current_url)\n",
    "    except Exception as e:\n",
    "        print(e)\n",
    "\n",
    "def _make_web_driver_click_by(xpath, verbose=True):\n",
    "    for i in range(parameters['RETRIES']):\n",
    "        try:\n",
    "            WebDriverWait(driver, parameters['PAGE_LOAD_TIMEOUT']).until(\n",
    "                EC.element_to_be_clickable((By.XPATH, xpath)))\n",
    "            driver.find_element_by_xpath(xpath).click()\n",
    "\n",
    "            if verbose:\n",
    "                print('We could load the XPATH and now locate in:', driver.current_url)\n",
    "\n",
    "        except TimeoutException:\n",
    "            print('Timeout, Retrying... ({TIME}/{MAX})'.format(TIME=i+1, MAX=parameters['RETRIES']))\n",
    "            continue\n",
    "        else:\n",
    "            return 'click_success'\n",
    "    return 'click_failed'\n",
    "\n",
    "def _is_race_kakutei(xpath_table_of_race_result, table_tbody_idx):\n",
    "    xpath_for_kakutei_box = \\\n",
    "        xpath_table_of_race_result + '/tbody/tr[{TBODY_IDX}]/td[3]'.format(TBODY_IDX=table_tbody_idx + 1)\n",
    "    try:\n",
    "        driver.find_element_by_xpath(xpath_for_kakutei_box).find_element_by_tag_name('a')\n",
    "        return True\n",
    "    except NoSuchElementException:\n",
    "        return False\n",
    "\n",
    "def _make_xpath_list_of_race_result_link():\n",
    "    xpath_list_of_race_result_link = []\n",
    "\n",
    "    xpath_race_info_div = '//*[@id=\"raceInfo\"]/div[1]'\n",
    "    race_table_header_list = \\\n",
    "        driver.find_element_by_xpath(xpath_race_info_div).find_elements_by_tag_name('table')\n",
    "\n",
    "    for table_header_idx in range(len(race_table_header_list)):\n",
    "        xpath_table_of_race_result = \\\n",
    "            xpath_race_info_div + '/table[{TABLE_IDX}]'.format(TABLE_IDX=table_header_idx + 1)\n",
    "        race_table_body_elem_list = driver.find_element_by_xpath(\n",
    "            xpath_table_of_race_result).find_element_by_tag_name('tbody').find_elements_by_tag_name('tr')\n",
    "\n",
    "        for table_tbody_idx in range(len(race_table_body_elem_list)):\n",
    "            xpath_tdoby_of_table_race_result = \\\n",
    "                xpath_table_of_race_result + '/tbody/tr[{TBODY_IDX}]/td[2]/a'.format(TBODY_IDX=table_tbody_idx + 1)\n",
    "            if _is_race_kakutei(xpath_table_of_race_result, table_tbody_idx):\n",
    "                xpath_list_of_race_result_link.append(['kakutei', xpath_tdoby_of_table_race_result])\n",
    "            else:\n",
    "                xpath_list_of_race_result_link.append(['not_kakutei', xpath_tdoby_of_table_race_result])\n",
    "\n",
    "    if xpath_list_of_race_result_link is None:  # case that this day has no races\n",
    "        return None\n",
    "\n",
    "    return xpath_list_of_race_result_link\n",
    "\n",
    "def _get_race_id(xpath_of_race_result_link):\n",
    "    race_id = \\\n",
    "        int(re.sub('\\\\D', '', driver.current_url.split(parameters['TARGET_URL_OF_KAIBALAB_RACE'])[1]))\n",
    "    while True:\n",
    "        if len(str(race_id)) != 12:\n",
    "            print('Failed to get the correct race_id, so retry to get the id')\n",
    "            _make_web_driver_click_by(xpath_of_race_result_link[1])\n",
    "            race_id = int(re.sub('\\\\D', '', driver.current_url.split(\n",
    "                parameters['TARGET_URL_OF_KAIBALAB_RACE'])[1]))\n",
    "        else:\n",
    "            break\n",
    "    return race_id\n",
    "\n",
    "def _is_race_id_existing_in_db(race_id):\n",
    "    select_query = 'SELECT race_id FROM keibalab_race_master WHERE race_id = \"{RACE_ID}\";'.format(RACE_ID=race_id)\n",
    "    cursor = con.cursor()\n",
    "    cursor.execute(select_query)\n",
    "    fetch_result = cursor.fetchone()\n",
    "    if fetch_result is None:\n",
    "        return False\n",
    "    elif int(fetch_result[0]) == race_id:\n",
    "        return True\n",
    "\n",
    "def _get_race_data_box_list(race_id):\n",
    "    race_data_box = driver.find_element_by_xpath('//*[@id=\"tab1\"]/div[2]/div[1]/div[1]/div[1]/div[2]')\n",
    "    race_timing = race_data_box.find_element_by_xpath('//p[@class=\"bold\"]').text\n",
    "    race_title = race_data_box.find_element_by_xpath('//h1[@class=\"raceTitle fL\"]').text\n",
    "    try:\n",
    "        race_weather = race_data_box.find_elements_by_xpath('//div[@class=\"weather_ground fL\"]/ul/li')[0].text\n",
    "        race_condition = race_data_box.find_elements_by_xpath('//div[@class=\"weather_ground fL\"]/ul/li')[1].text\n",
    "    except IndexError:\n",
    "        race_weather = 'unknown'\n",
    "        race_condition = 'unknown'\n",
    "    course_syokin_elem = race_data_box.find_elements_by_xpath('//ul[@class=\"classCourseSyokin clearfix\"]/li')\n",
    "    course_syokin_list = ','.join([course_syokin_elem[i].text.replace('\\u3000', ' ')\n",
    "                                   for i in range(len(course_syokin_elem))]).replace(',', ' ')\n",
    "\n",
    "    return [race_id, race_timing, race_title, race_weather, race_condition, course_syokin_list]\n",
    "\n",
    "def _get_race_result_tbody_list(race_id):\n",
    "    race_result_tbody_row_elem_list = \\\n",
    "        driver.find_elements_by_xpath('//*[@class=\"DbTable stripe resulttable\"]/tbody/tr')\n",
    "    race_result_tbody_list = []\n",
    "\n",
    "    for i in range(len(race_result_tbody_row_elem_list)):\n",
    "        arrival_order = race_result_tbody_row_elem_list[i].find_element_by_xpath('td[1]').text\n",
    "        post_position = race_result_tbody_row_elem_list[i].find_element_by_xpath('td[2]').text\n",
    "\n",
    "        horse_number = race_result_tbody_row_elem_list[i].find_element_by_xpath('td[3]').text\n",
    "        horse_name = race_result_tbody_row_elem_list[i].find_element_by_xpath('td[4]').text\n",
    "        href_to_the_horse = race_result_tbody_row_elem_list[i].find_element_by_xpath('td[4]/a').\\\n",
    "            get_attribute(\"href\")\n",
    "        horse_age = race_result_tbody_row_elem_list[i].find_element_by_xpath('td[5]').text\n",
    "        horse_weight = race_result_tbody_row_elem_list[i].find_element_by_xpath('td[15]').text\n",
    "        horse_impost = race_result_tbody_row_elem_list[i].find_element_by_xpath('td[6]').text\n",
    "\n",
    "        jockey_name = race_result_tbody_row_elem_list[i].find_element_by_xpath('td[7]').text\n",
    "        href_to_the_jockey = race_result_tbody_row_elem_list[i].find_element_by_xpath('td[7]/a').\\\n",
    "            get_attribute(\"href\")\n",
    "\n",
    "        popularity_order = race_result_tbody_row_elem_list[i].find_element_by_xpath('td[8]').text\n",
    "        win_odds = race_result_tbody_row_elem_list[i].find_element_by_xpath('td[9]').text\n",
    "\n",
    "        trainer_name = race_result_tbody_row_elem_list[i].find_element_by_xpath('td[14]').text\n",
    "        href_to_the_trainer = race_result_tbody_row_elem_list[i].find_element_by_xpath('td[14]/a').\\\n",
    "            get_attribute(\"href\")\n",
    "\n",
    "        race_result_tbody_list.append(\n",
    "            [race_id, arrival_order, post_position, horse_number, horse_name, href_to_the_horse, horse_age,\n",
    "             horse_weight, horse_impost, jockey_name, href_to_the_jockey, popularity_order, win_odds, trainer_name,\n",
    "             href_to_the_trainer])\n",
    "\n",
    "    return race_result_tbody_list\n",
    "\n",
    "def _get_race_prior_info_tbody_list(race_id):\n",
    "\n",
    "    while True:\n",
    "        xpath_to_web_newspaper = '//*[@id=\"dbNav\"]/div/ul/li[1]/a'\n",
    "        _make_web_driver_click_by(xpath_to_web_newspaper, verbose=False)\n",
    "        xpath_to_yoko_gata = '//*[@id=\"dbnewWrap\"]/div/article/div/section/div[4]/div[1]/div[1]/ul/li[2]/a'\n",
    "        is_success = _make_web_driver_click_by(xpath_to_yoko_gata, verbose=False)\n",
    "\n",
    "        if is_success == 'click_failed':\n",
    "            return None\n",
    "\n",
    "        race_info_tbody_row_elem_list = driver.find_elements_by_xpath('//*[@id=\"top\"]/table/tbody/tr')\n",
    "        if len(race_info_tbody_row_elem_list) == 0:\n",
    "            print('NG')\n",
    "            _back_chrome_window_for_number_of(2)\n",
    "        else:\n",
    "            break\n",
    "\n",
    "    race_info_tbody_list = []\n",
    "    for i in range(len(race_info_tbody_row_elem_list)):\n",
    "#         try:\n",
    "        post_position = race_info_tbody_row_elem_list[i].find_element_by_xpath('td[1]').text\n",
    "        horse_number = race_info_tbody_row_elem_list[i].find_element_by_xpath('td[2]').text\n",
    "        horse_name = race_info_tbody_row_elem_list[i].find_element_by_xpath('td[4]/dl/dd[1]').text\n",
    "        href_to_the_horse = \\\n",
    "            race_info_tbody_row_elem_list[i].find_element_by_xpath('td[4]/dl/dd[1]/a').get_attribute(\"href\")\n",
    "        jockey_name = \\\n",
    "            race_info_tbody_row_elem_list[i].find_elements_by_xpath('td[4]/dl/dd[2]/a')[0].get_attribute(\"href\")\n",
    "        href_to_the_jockey = race_info_tbody_row_elem_list[i].find_element_by_xpath('td[4]/dl/dd[2]').text\n",
    "        trainer_name = race_info_tbody_row_elem_list[i].find_element_by_xpath('td[4]/dl/dd[3]/a').text\n",
    "        sex_and_age, interval = \\\n",
    "            race_info_tbody_row_elem_list[i].find_element_by_xpath('td[4]/dl/dd[3]').text.split(trainer_name)\n",
    "        horse_age = re.sub(\"\\\\D\", \"\", sex_and_age)\n",
    "        horse_sex = re.match('[0-9a-zA-Zあ-んア-ン一-鿐]', sex_and_age).group()\n",
    "\n",
    "        try:\n",
    "            popularity_order = race_info_tbody_row_elem_list[i].find_elements_by_xpath('td[5]/dl/dd')[0].text\n",
    "            win_odds = race_info_tbody_row_elem_list[i].find_elements_by_xpath('td[5]/dl/dd')[1].text\n",
    "            horse_weight = race_info_tbody_row_elem_list[i].find_elements_by_xpath('td[5]/dl/dd')[2].text\n",
    "            horse_weight_increment_from_previous = \\\n",
    "                race_info_tbody_row_elem_list[i].find_elements_by_xpath('td[5]/dl/dd')[3].text\n",
    "\n",
    "        except IndexError:\n",
    "            popularity_order = race_info_tbody_row_elem_list[i].find_element_by_xpath('td[5]').text\n",
    "            win_odds = race_info_tbody_row_elem_list[i].find_element_by_xpath('td[5]').text\n",
    "            horse_weight = race_info_tbody_row_elem_list[i].find_element_by_xpath('td[5]').text\n",
    "            horse_weight_increment_from_previous = \\\n",
    "                race_info_tbody_row_elem_list[i].find_element_by_xpath('td[5]').text\n",
    "\n",
    "        owner_name = race_info_tbody_row_elem_list[i].find_elements_by_xpath('td[6]/dl/dd/a')[0].text\n",
    "        href_to_the_owner = \\\n",
    "            race_info_tbody_row_elem_list[i].find_elements_by_xpath('td[6]/dl/dd/a')[0].get_attribute(\"href\")\n",
    "        breeder_name = race_info_tbody_row_elem_list[i].find_elements_by_xpath('td[6]/dl/dd/a')[1].text\n",
    "\n",
    "        jockey_finish_first_second = race_info_tbody_row_elem_list[i].find_elements_by_xpath('td[7]/i')[0].text\n",
    "        horse_number_finish_first_second = \\\n",
    "            race_info_tbody_row_elem_list[i].find_elements_by_xpath('td[7]/i')[1].text\n",
    "        stallion_finish_first_second = race_info_tbody_row_elem_list[i].find_elements_by_xpath('td[7]/i')[2].text\n",
    "        conbi_finish_first_second = race_info_tbody_row_elem_list[i].find_elements_by_xpath('td[7]/i')[3].text\n",
    "\n",
    "        zensou_info_elem = race_info_tbody_row_elem_list[i].find_elements_by_xpath('td/a/dl')\n",
    "        zensou_info_list = [(zensou_info_elem[i].text.replace('\\n', ' ').replace('  ', ' '))\n",
    "                            for i in range(len(zensou_info_elem))]\n",
    "        zensou_info_list = [[zensou_info_list[i].replace(' ', ',')] for i in range(len(zensou_info_elem))]\n",
    "        zensou_info_list = str(zensou_info_list).replace('\\'', '')\n",
    "\n",
    "#         except IndexError:\n",
    "#             continue\n",
    "\n",
    "        race_info_tbody_list.append(\n",
    "            [race_id, post_position, horse_number, horse_name, href_to_the_horse, jockey_name, href_to_the_jockey,\n",
    "             trainer_name, horse_age, horse_sex, popularity_order, win_odds, horse_weight,\n",
    "             horse_weight_increment_from_previous, owner_name, href_to_the_owner, breeder_name,\n",
    "             jockey_finish_first_second, horse_number_finish_first_second, stallion_finish_first_second,\n",
    "             conbi_finish_first_second, zensou_info_list])\n",
    "\n",
    "    return race_info_tbody_list"
   ]
  },
  {
   "cell_type": "code",
   "execution_count": 28,
   "metadata": {
    "scrolled": true
   },
   "outputs": [
    {
     "name": "stdout",
     "output_type": "stream",
     "text": [
      "We could load the URL: https://www.keibalab.jp/db/race/20190601\n"
     ]
    }
   ],
   "source": [
    "_load_target_url_page(target_datetime_str)"
   ]
  },
  {
   "cell_type": "code",
   "execution_count": 29,
   "metadata": {
    "scrolled": true
   },
   "outputs": [
    {
     "name": "stdout",
     "output_type": "stream",
     "text": [
      "24\n"
     ]
    },
    {
     "data": {
      "text/plain": [
       "[['kakutei', '//*[@id=\"raceInfo\"]/div[1]/table[1]/tbody/tr[1]/td[2]/a'],\n",
       " ['kakutei', '//*[@id=\"raceInfo\"]/div[1]/table[1]/tbody/tr[2]/td[2]/a'],\n",
       " ['kakutei', '//*[@id=\"raceInfo\"]/div[1]/table[1]/tbody/tr[3]/td[2]/a'],\n",
       " ['kakutei', '//*[@id=\"raceInfo\"]/div[1]/table[1]/tbody/tr[4]/td[2]/a'],\n",
       " ['kakutei', '//*[@id=\"raceInfo\"]/div[1]/table[1]/tbody/tr[5]/td[2]/a'],\n",
       " ['kakutei', '//*[@id=\"raceInfo\"]/div[1]/table[1]/tbody/tr[6]/td[2]/a'],\n",
       " ['kakutei', '//*[@id=\"raceInfo\"]/div[1]/table[1]/tbody/tr[7]/td[2]/a'],\n",
       " ['kakutei', '//*[@id=\"raceInfo\"]/div[1]/table[1]/tbody/tr[8]/td[2]/a'],\n",
       " ['kakutei', '//*[@id=\"raceInfo\"]/div[1]/table[1]/tbody/tr[9]/td[2]/a'],\n",
       " ['kakutei', '//*[@id=\"raceInfo\"]/div[1]/table[1]/tbody/tr[10]/td[2]/a'],\n",
       " ['kakutei', '//*[@id=\"raceInfo\"]/div[1]/table[1]/tbody/tr[11]/td[2]/a'],\n",
       " ['kakutei', '//*[@id=\"raceInfo\"]/div[1]/table[1]/tbody/tr[12]/td[2]/a'],\n",
       " ['kakutei', '//*[@id=\"raceInfo\"]/div[1]/table[2]/tbody/tr[1]/td[2]/a'],\n",
       " ['kakutei', '//*[@id=\"raceInfo\"]/div[1]/table[2]/tbody/tr[2]/td[2]/a'],\n",
       " ['kakutei', '//*[@id=\"raceInfo\"]/div[1]/table[2]/tbody/tr[3]/td[2]/a'],\n",
       " ['kakutei', '//*[@id=\"raceInfo\"]/div[1]/table[2]/tbody/tr[4]/td[2]/a'],\n",
       " ['kakutei', '//*[@id=\"raceInfo\"]/div[1]/table[2]/tbody/tr[5]/td[2]/a'],\n",
       " ['kakutei', '//*[@id=\"raceInfo\"]/div[1]/table[2]/tbody/tr[6]/td[2]/a'],\n",
       " ['kakutei', '//*[@id=\"raceInfo\"]/div[1]/table[2]/tbody/tr[7]/td[2]/a'],\n",
       " ['kakutei', '//*[@id=\"raceInfo\"]/div[1]/table[2]/tbody/tr[8]/td[2]/a'],\n",
       " ['kakutei', '//*[@id=\"raceInfo\"]/div[1]/table[2]/tbody/tr[9]/td[2]/a'],\n",
       " ['kakutei', '//*[@id=\"raceInfo\"]/div[1]/table[2]/tbody/tr[10]/td[2]/a'],\n",
       " ['kakutei', '//*[@id=\"raceInfo\"]/div[1]/table[2]/tbody/tr[11]/td[2]/a'],\n",
       " ['kakutei', '//*[@id=\"raceInfo\"]/div[1]/table[2]/tbody/tr[12]/td[2]/a']]"
      ]
     },
     "execution_count": 29,
     "metadata": {},
     "output_type": "execute_result"
    }
   ],
   "source": [
    "xpath_list_of_race_result_link = _make_xpath_list_of_race_result_link()\n",
    "print(len(xpath_list_of_race_result_link))\n",
    "xpath_list_of_race_result_link"
   ]
  },
  {
   "cell_type": "code",
   "execution_count": 30,
   "metadata": {},
   "outputs": [
    {
     "name": "stdout",
     "output_type": "stream",
     "text": [
      "We could load the XPATH and now locate in: https://www.keibalab.jp/db/race/201906010902/\n"
     ]
    },
    {
     "data": {
      "text/plain": [
       "'click_success'"
      ]
     },
     "execution_count": 30,
     "metadata": {},
     "output_type": "execute_result"
    }
   ],
   "source": [
    "xpath_of_race_result_link = xpath_list_of_race_result_link[13]\n",
    "is_success = _make_web_driver_click_by(xpath_of_race_result_link[1])\n",
    "is_success"
   ]
  },
  {
   "cell_type": "code",
   "execution_count": 31,
   "metadata": {
    "scrolled": true
   },
   "outputs": [
    {
     "data": {
      "text/plain": [
       "201906010902"
      ]
     },
     "execution_count": 31,
     "metadata": {},
     "output_type": "execute_result"
    }
   ],
   "source": [
    "race_id = _get_race_id(xpath_of_race_result_link[1])\n",
    "race_id"
   ]
  },
  {
   "cell_type": "code",
   "execution_count": 34,
   "metadata": {},
   "outputs": [
    {
     "data": {
      "text/plain": [
       "False"
      ]
     },
     "execution_count": 34,
     "metadata": {},
     "output_type": "execute_result"
    }
   ],
   "source": [
    "_is_race_id_existing_in_db(race_id)"
   ]
  },
  {
   "cell_type": "code",
   "execution_count": null,
   "metadata": {
    "scrolled": true
   },
   "outputs": [],
   "source": [
    "race_data_box_list = _get_race_data_box_list(race_id)\n",
    "race_data_box_list"
   ]
  },
  {
   "cell_type": "code",
   "execution_count": null,
   "metadata": {},
   "outputs": [],
   "source": [
    "race_result_tbody_list = _get_race_result_tbody_list(race_id)\n",
    "race_result_tbody_list"
   ]
  },
  {
   "cell_type": "code",
   "execution_count": null,
   "metadata": {},
   "outputs": [],
   "source": [
    "race_prior_info_tbody_list = _get_race_prior_info_tbody_list(race_id)\n",
    "race_prior_info_tbody_list"
   ]
  }
 ],
 "metadata": {
  "kernelspec": {
   "display_name": "Python 3",
   "language": "python",
   "name": "python3"
  },
  "language_info": {
   "codemirror_mode": {
    "name": "ipython",
    "version": 3
   },
   "file_extension": ".py",
   "mimetype": "text/x-python",
   "name": "python",
   "nbconvert_exporter": "python",
   "pygments_lexer": "ipython3",
   "version": "3.7.3"
  }
 },
 "nbformat": 4,
 "nbformat_minor": 2
}
