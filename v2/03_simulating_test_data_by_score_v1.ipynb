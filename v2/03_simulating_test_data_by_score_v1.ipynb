{
 "cells": [
  {
   "cell_type": "code",
   "execution_count": 1,
   "metadata": {},
   "outputs": [],
   "source": [
    "import os\n",
    "import sys\n",
    "import pymysql\n",
    "import pandas as pd\n",
    "\n",
    "from Config import params_config, db_config\n",
    "from SqlQuery import queries_config\n",
    "\n",
    "import warnings\n",
    "warnings.filterwarnings('ignore')"
   ]
  },
  {
   "cell_type": "code",
   "execution_count": 2,
   "metadata": {},
   "outputs": [],
   "source": [
    "pd.set_option('display.max_columns', 400)\n",
    "pd.set_option('display.max_rows', 400)"
   ]
  },
  {
   "cell_type": "code",
   "execution_count": 3,
   "metadata": {},
   "outputs": [],
   "source": [
    "db_params = {\n",
    "    'host': '127.0.0.1',\n",
    "    'user': 'root',\n",
    "    'password': 'daigo1123',\n",
    "    'database': 'dev_netkeiba',\n",
    "    'port': 3306,\n",
    "    'charset': 'utf8'\n",
    "}\n",
    "con = pymysql.connect(**db_params)\n",
    "parameters = params_config.parameters\n",
    "queries = queries_config.queries"
   ]
  },
  {
   "cell_type": "code",
   "execution_count": 4,
   "metadata": {},
   "outputs": [
    {
     "data": {
      "text/plain": [
       "\"\\n        SELECT \\n              C.race_id\\n            , C.race_title\\n            , C.race_year\\n            , C.race_month\\n            , C.race_date\\n            , C.race_dow\\n            , C.starting_time\\n            , A.horse_num\\n            , A.predicted_score\\n            , CASE WHEN B.refund_type IS NULL THEN '4着以降' ELSE B.refund_type END AS refund_type\\n            , CASE WHEN B.refund_yen IS NULL THEN '4着以降' ELSE B.refund_yen END AS refund_yen\\n            , CASE WHEN B.popularity_order IS NULL THEN '4着以降' ELSE B.popularity_order END AS popularity_order\\n        FROM race_predicted_score AS A\\n        LEFT JOIN race_refund_info AS B\\n        ON A.race_id = B.race_id\\n        AND A.horse_num = B.horse_num\\n        LEFT JOIN race_master AS C\\n        ON A.race_id = C.race_id\\n        ORDER BY C.race_year, C.race_month, C.race_date, A.race_id, A.horse_num\\n        \""
      ]
     },
     "execution_count": 4,
     "metadata": {},
     "output_type": "execute_result"
    }
   ],
   "source": [
    "queries['PREDICTION_SCORE_AND_RESULT_INFO']"
   ]
  },
  {
   "cell_type": "code",
   "execution_count": null,
   "metadata": {},
   "outputs": [],
   "source": []
  }
 ],
 "metadata": {
  "kernelspec": {
   "display_name": "Python 3",
   "language": "python",
   "name": "python3"
  },
  "language_info": {
   "codemirror_mode": {
    "name": "ipython",
    "version": 3
   },
   "file_extension": ".py",
   "mimetype": "text/x-python",
   "name": "python",
   "nbconvert_exporter": "python",
   "pygments_lexer": "ipython3",
   "version": "3.7.3"
  }
 },
 "nbformat": 4,
 "nbformat_minor": 2
}
