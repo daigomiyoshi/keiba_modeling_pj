{
 "cells": [
  {
   "cell_type": "code",
   "execution_count": 1,
   "metadata": {},
   "outputs": [],
   "source": [
    "import os\n",
    "import sys\n",
    "import pymysql\n",
    "import numpy as np\n",
    "import pandas as pd\n",
    "import re\n",
    "import datetime\n",
    "import category_encoders\n",
    "import joblib\n",
    "\n",
    "from Config import params_config, query_config, db_config\n",
    "from Utils.bulk_insert import BulkInsert\n",
    "\n",
    "import warnings\n",
    "warnings.filterwarnings('ignore')"
   ]
  },
  {
   "cell_type": "markdown",
   "metadata": {},
   "source": [
    "## fit_race_info_into_model.py"
   ]
  },
  {
   "cell_type": "code",
   "execution_count": 2,
   "metadata": {},
   "outputs": [],
   "source": [
    "queries = query_config.queries\n",
    "parameters = params_config.parameters\n",
    "db_params = db_config.db_params\n",
    "con = pymysql.connect(**db_params)"
   ]
  },
  {
   "cell_type": "code",
   "execution_count": 3,
   "metadata": {},
   "outputs": [],
   "source": [
    "def fetchall_and_make_list_by(query, con):\n",
    "    try:\n",
    "        cursor = con.cursor()\n",
    "        cursor.execute(query)\n",
    "        fetch_result = cursor.fetchall()\n",
    "        fetch_result_list = [item for item in fetch_result]\n",
    "        cursor.close()\n",
    "        return fetch_result_list\n",
    "    except Exception as e:\n",
    "        print(e)\n",
    "\n",
    "def get_training_race_data_frame(queries, parameters, con):\n",
    "    selected_query = queries['TRAINING_DATA_FROM_MASTER_PRIOR_RESULT']\n",
    "    training_race_data_list = fetchall_and_make_list_by(selected_query, con)\n",
    "    training_race_data_frame = pd.DataFrame(training_race_data_list, \n",
    "                                          columns=parameters['DATAFRAME_COL_NAMES']['training_race_data_cols'])\n",
    "    return training_race_data_frame"
   ]
  },
  {
   "cell_type": "code",
   "execution_count": 4,
   "metadata": {
    "scrolled": true
   },
   "outputs": [],
   "source": [
    "training_race_df =  get_training_race_data_frame(queries, parameters, con)"
   ]
  },
  {
   "cell_type": "code",
   "execution_count": 5,
   "metadata": {
    "scrolled": false
   },
   "outputs": [
    {
     "data": {
      "text/plain": [
       "(481289, 31)"
      ]
     },
     "execution_count": 5,
     "metadata": {},
     "output_type": "execute_result"
    }
   ],
   "source": [
    "training_race_df.shape"
   ]
  },
  {
   "cell_type": "code",
   "execution_count": 6,
   "metadata": {
    "scrolled": true
   },
   "outputs": [
    {
     "data": {
      "text/html": [
       "<div>\n",
       "<style scoped>\n",
       "    .dataframe tbody tr th:only-of-type {\n",
       "        vertical-align: middle;\n",
       "    }\n",
       "\n",
       "    .dataframe tbody tr th {\n",
       "        vertical-align: top;\n",
       "    }\n",
       "\n",
       "    .dataframe thead th {\n",
       "        text-align: right;\n",
       "    }\n",
       "</style>\n",
       "<table border=\"1\" class=\"dataframe\">\n",
       "  <thead>\n",
       "    <tr style=\"text-align: right;\">\n",
       "      <th></th>\n",
       "      <th>race_id</th>\n",
       "      <th>race_timing</th>\n",
       "      <th>race_title</th>\n",
       "      <th>race_weather</th>\n",
       "      <th>race_condition</th>\n",
       "      <th>course_syokin_list</th>\n",
       "      <th>post_position</th>\n",
       "      <th>horse_number</th>\n",
       "      <th>href_to_the_horse</th>\n",
       "      <th>horse_sex_age_in_result</th>\n",
       "      <th>...</th>\n",
       "      <th>trainer_name_in_result</th>\n",
       "      <th>trainer_name_in_prior</th>\n",
       "      <th>href_to_the_owner</th>\n",
       "      <th>breeder_name</th>\n",
       "      <th>jockey_finish_first_second</th>\n",
       "      <th>horse_number_finish_first_second</th>\n",
       "      <th>stallion_finish_first_second</th>\n",
       "      <th>conbi_finish_first_second</th>\n",
       "      <th>zensou_info_list</th>\n",
       "      <th>arrival_order</th>\n",
       "    </tr>\n",
       "  </thead>\n",
       "  <tbody>\n",
       "    <tr>\n",
       "      <th>0</th>\n",
       "      <td>200906070501</td>\n",
       "      <td>2009/6/7(日) 3回東京6日目</td>\n",
       "      <td>サラ系3歳未勝利</td>\n",
       "      <td>晴</td>\n",
       "      <td>重</td>\n",
       "      <td>サラ系3歳未勝利 牝 [指] 馬齢 ダ1400m 16頭 10:00発走 本賞金 500万 ...</td>\n",
       "      <td>1</td>\n",
       "      <td>1</td>\n",
       "      <td>https://www.keibalab.jp/db/horse/2006104859/</td>\n",
       "      <td>牝3</td>\n",
       "      <td>...</td>\n",
       "      <td>[美]田中清隆</td>\n",
       "      <td>None</td>\n",
       "      <td>None</td>\n",
       "      <td>None</td>\n",
       "      <td>None</td>\n",
       "      <td>None</td>\n",
       "      <td>None</td>\n",
       "      <td>None</td>\n",
       "      <td>None</td>\n",
       "      <td>4</td>\n",
       "    </tr>\n",
       "    <tr>\n",
       "      <th>1</th>\n",
       "      <td>200906070501</td>\n",
       "      <td>2009/6/7(日) 3回東京6日目</td>\n",
       "      <td>サラ系3歳未勝利</td>\n",
       "      <td>晴</td>\n",
       "      <td>重</td>\n",
       "      <td>サラ系3歳未勝利 牝 [指] 馬齢 ダ1400m 16頭 10:00発走 本賞金 500万 ...</td>\n",
       "      <td>1</td>\n",
       "      <td>2</td>\n",
       "      <td>https://www.keibalab.jp/db/horse/2006105710/</td>\n",
       "      <td>牝3</td>\n",
       "      <td>...</td>\n",
       "      <td>[美]萱野浩二</td>\n",
       "      <td>None</td>\n",
       "      <td>None</td>\n",
       "      <td>None</td>\n",
       "      <td>None</td>\n",
       "      <td>None</td>\n",
       "      <td>None</td>\n",
       "      <td>None</td>\n",
       "      <td>None</td>\n",
       "      <td>12</td>\n",
       "    </tr>\n",
       "    <tr>\n",
       "      <th>2</th>\n",
       "      <td>200906070501</td>\n",
       "      <td>2009/6/7(日) 3回東京6日目</td>\n",
       "      <td>サラ系3歳未勝利</td>\n",
       "      <td>晴</td>\n",
       "      <td>重</td>\n",
       "      <td>サラ系3歳未勝利 牝 [指] 馬齢 ダ1400m 16頭 10:00発走 本賞金 500万 ...</td>\n",
       "      <td>2</td>\n",
       "      <td>3</td>\n",
       "      <td>https://www.keibalab.jp/db/horse/2006103271/</td>\n",
       "      <td>牝3</td>\n",
       "      <td>...</td>\n",
       "      <td>[美]武藤善則</td>\n",
       "      <td>None</td>\n",
       "      <td>None</td>\n",
       "      <td>None</td>\n",
       "      <td>None</td>\n",
       "      <td>None</td>\n",
       "      <td>None</td>\n",
       "      <td>None</td>\n",
       "      <td>None</td>\n",
       "      <td>1</td>\n",
       "    </tr>\n",
       "    <tr>\n",
       "      <th>3</th>\n",
       "      <td>200906070501</td>\n",
       "      <td>2009/6/7(日) 3回東京6日目</td>\n",
       "      <td>サラ系3歳未勝利</td>\n",
       "      <td>晴</td>\n",
       "      <td>重</td>\n",
       "      <td>サラ系3歳未勝利 牝 [指] 馬齢 ダ1400m 16頭 10:00発走 本賞金 500万 ...</td>\n",
       "      <td>2</td>\n",
       "      <td>4</td>\n",
       "      <td>https://www.keibalab.jp/db/horse/2006102356/</td>\n",
       "      <td>牝3</td>\n",
       "      <td>...</td>\n",
       "      <td>[美]武市康男</td>\n",
       "      <td>None</td>\n",
       "      <td>None</td>\n",
       "      <td>None</td>\n",
       "      <td>None</td>\n",
       "      <td>None</td>\n",
       "      <td>None</td>\n",
       "      <td>None</td>\n",
       "      <td>None</td>\n",
       "      <td>6</td>\n",
       "    </tr>\n",
       "    <tr>\n",
       "      <th>4</th>\n",
       "      <td>200906070501</td>\n",
       "      <td>2009/6/7(日) 3回東京6日目</td>\n",
       "      <td>サラ系3歳未勝利</td>\n",
       "      <td>晴</td>\n",
       "      <td>重</td>\n",
       "      <td>サラ系3歳未勝利 牝 [指] 馬齢 ダ1400m 16頭 10:00発走 本賞金 500万 ...</td>\n",
       "      <td>3</td>\n",
       "      <td>5</td>\n",
       "      <td>https://www.keibalab.jp/db/horse/2006102229/</td>\n",
       "      <td>牝3</td>\n",
       "      <td>...</td>\n",
       "      <td>[美]藤原辰雄</td>\n",
       "      <td>None</td>\n",
       "      <td>None</td>\n",
       "      <td>None</td>\n",
       "      <td>None</td>\n",
       "      <td>None</td>\n",
       "      <td>None</td>\n",
       "      <td>None</td>\n",
       "      <td>None</td>\n",
       "      <td>5</td>\n",
       "    </tr>\n",
       "  </tbody>\n",
       "</table>\n",
       "<p>5 rows × 31 columns</p>\n",
       "</div>"
      ],
      "text/plain": [
       "        race_id          race_timing race_title race_weather race_condition  \\\n",
       "0  200906070501  2009/6/7(日) 3回東京6日目   サラ系3歳未勝利            晴              重   \n",
       "1  200906070501  2009/6/7(日) 3回東京6日目   サラ系3歳未勝利            晴              重   \n",
       "2  200906070501  2009/6/7(日) 3回東京6日目   サラ系3歳未勝利            晴              重   \n",
       "3  200906070501  2009/6/7(日) 3回東京6日目   サラ系3歳未勝利            晴              重   \n",
       "4  200906070501  2009/6/7(日) 3回東京6日目   サラ系3歳未勝利            晴              重   \n",
       "\n",
       "                                  course_syokin_list  post_position  \\\n",
       "0  サラ系3歳未勝利 牝 [指] 馬齢 ダ1400m 16頭 10:00発走 本賞金 500万 ...              1   \n",
       "1  サラ系3歳未勝利 牝 [指] 馬齢 ダ1400m 16頭 10:00発走 本賞金 500万 ...              1   \n",
       "2  サラ系3歳未勝利 牝 [指] 馬齢 ダ1400m 16頭 10:00発走 本賞金 500万 ...              2   \n",
       "3  サラ系3歳未勝利 牝 [指] 馬齢 ダ1400m 16頭 10:00発走 本賞金 500万 ...              2   \n",
       "4  サラ系3歳未勝利 牝 [指] 馬齢 ダ1400m 16頭 10:00発走 本賞金 500万 ...              3   \n",
       "\n",
       "   horse_number                             href_to_the_horse  \\\n",
       "0             1  https://www.keibalab.jp/db/horse/2006104859/   \n",
       "1             2  https://www.keibalab.jp/db/horse/2006105710/   \n",
       "2             3  https://www.keibalab.jp/db/horse/2006103271/   \n",
       "3             4  https://www.keibalab.jp/db/horse/2006102356/   \n",
       "4             5  https://www.keibalab.jp/db/horse/2006102229/   \n",
       "\n",
       "  horse_sex_age_in_result  ... trainer_name_in_result trainer_name_in_prior  \\\n",
       "0                      牝3  ...                [美]田中清隆                  None   \n",
       "1                      牝3  ...                [美]萱野浩二                  None   \n",
       "2                      牝3  ...                [美]武藤善則                  None   \n",
       "3                      牝3  ...                [美]武市康男                  None   \n",
       "4                      牝3  ...                [美]藤原辰雄                  None   \n",
       "\n",
       "  href_to_the_owner breeder_name jockey_finish_first_second  \\\n",
       "0              None         None                       None   \n",
       "1              None         None                       None   \n",
       "2              None         None                       None   \n",
       "3              None         None                       None   \n",
       "4              None         None                       None   \n",
       "\n",
       "   horse_number_finish_first_second stallion_finish_first_second  \\\n",
       "0                              None                         None   \n",
       "1                              None                         None   \n",
       "2                              None                         None   \n",
       "3                              None                         None   \n",
       "4                              None                         None   \n",
       "\n",
       "  conbi_finish_first_second zensou_info_list  arrival_order  \n",
       "0                      None             None              4  \n",
       "1                      None             None             12  \n",
       "2                      None             None              1  \n",
       "3                      None             None              6  \n",
       "4                      None             None              5  \n",
       "\n",
       "[5 rows x 31 columns]"
      ]
     },
     "execution_count": 6,
     "metadata": {},
     "output_type": "execute_result"
    }
   ],
   "source": [
    "training_race_df.head()"
   ]
  },
  {
   "cell_type": "markdown",
   "metadata": {},
   "source": [
    "## Class: Preprocessing"
   ]
  },
  {
   "cell_type": "markdown",
   "metadata": {},
   "source": [
    "### Features from master"
   ]
  },
  {
   "cell_type": "code",
   "execution_count": null,
   "metadata": {},
   "outputs": [],
   "source": [
    "def _get_year_month_day_from_race_timing(x):\n",
    "    date_str = re.match('([0-9]+)/([0-9]+)/([0-9]+)' , x).group()\n",
    "    year = datetime.datetime.strptime(date_str, '%Y/%m/%d').year\n",
    "    month = datetime.datetime.strptime(date_str, '%Y/%m/%d').month\n",
    "    day = datetime.datetime.strptime(date_str, '%Y/%m/%d').day\n",
    "    return pd.Series([year, month, day])\n",
    "\n",
    "def _get_dow_from_race_timing(x):\n",
    "    return re.search(\"土|日\" , x).group() \n",
    "\n",
    "def _encode_dow(df):\n",
    "    dow_mapping = {'土': 1, '日': 2}\n",
    "    return df['dow'].map(dow_mapping)    \n",
    "\n",
    "def _get_time_in_the_racecourse_from_race_timing(x):\n",
    "    return int(re.split('([0-9]+)回([ぁ-んァ-ン 一-龥]+)([0-9]+)日目' , x)[1])\n",
    "\n",
    "def _get_racecourse_from_race_timing(x):\n",
    "    return re.split('([0-9]+)回([ぁ-んァ-ン 一-龥]+)([0-9]+)日目' , x)[2]\n",
    "\n",
    "def _get_what_day_in_the_racecourse_from_race_timing(x):\n",
    "    return int(re.split('([0-9]+)回([ぁ-んァ-ン 一-龥]+)([0-9]+)日目' , x)[3])\n",
    "\n",
    "def _encode_race_course(df):\n",
    "    race_course_mapping = {'函館': 1, '札幌': 2, '福島': 3, '東京': 4, '中山': 5, '新潟': 6, '中京': 7, '阪神': 8, '京都': 9, '小倉': 10}\n",
    "    return df['race_course'].map(race_course_mapping)"
   ]
  },
  {
   "cell_type": "code",
   "execution_count": null,
   "metadata": {},
   "outputs": [],
   "source": [
    "def preprocess_race_timing(df):\n",
    "    df[['year', 'month', 'day']] = df['race_timing'].apply(_get_year_month_day_from_race_timing)\n",
    "    df['dow'] = df['race_timing'].apply(_get_dow_from_race_timing)\n",
    "    df['dow_encoded'] = _encode_dow(df)\n",
    "    df['race_course'] =  df['race_timing'].apply(_get_racecourse_from_race_timing)\n",
    "    df['race_course_encoded'] = _encode_race_course(df)\n",
    "    df['time_in_racecourse'] =  df['race_timing'].apply(_get_time_in_the_racecourse_from_race_timing)\n",
    "    df['what_day_in_racecourse'] =  df['race_timing'].apply(_get_what_day_in_the_racecourse_from_race_timing)\n",
    "    return df"
   ]
  },
  {
   "cell_type": "code",
   "execution_count": null,
   "metadata": {
    "scrolled": true
   },
   "outputs": [],
   "source": [
    "training_race_df = preprocess_race_timing(training_race_df)"
   ]
  },
  {
   "cell_type": "code",
   "execution_count": null,
   "metadata": {},
   "outputs": [],
   "source": [
    "def encode_race_weather(df):\n",
    "    race_weather_mapping = {'晴': 1, '曇': 2, '小雨': 3, '雨': 4, '小雪': 5, '雪':6, 'unknown':7}\n",
    "    return df['race_weather'].map(race_weather_mapping)"
   ]
  },
  {
   "cell_type": "code",
   "execution_count": null,
   "metadata": {},
   "outputs": [],
   "source": [
    "training_race_df['race_weather_encoded'] = encode_race_weather(training_race_df)"
   ]
  },
  {
   "cell_type": "code",
   "execution_count": null,
   "metadata": {},
   "outputs": [],
   "source": [
    "def encode_race_condition(df):\n",
    "    race_condition_mapping = {'良': 1, '稍': 2, '重': 3, '不': 4, 'unknown':5}\n",
    "    return df['race_condition'].map(race_condition_mapping)"
   ]
  },
  {
   "cell_type": "code",
   "execution_count": null,
   "metadata": {},
   "outputs": [],
   "source": [
    "training_race_df['race_condition_encoded'] = encode_race_condition(training_race_df)"
   ]
  },
  {
   "cell_type": "code",
   "execution_count": null,
   "metadata": {},
   "outputs": [],
   "source": [
    "def encode_fit_and_transform_href_to_the_horse(df):\n",
    "    if parameters['HYPER_PARAMETERS']['CATEGORY_ENCODERS_FOR_HORSE']=='TargetEncoder':\n",
    "        ce = category_encoders.TargetEncoder(cols=['href_to_the_horse'])\n",
    "    elif parameters['HYPER_PARAMETERS']['CATEGORY_ENCODERS_FOR_HORSE']=='OrdinalEncoder':\n",
    "        ce = category_encoders.OrdinalEncoder(cols=['href_to_the_horse'])\n",
    "        \n",
    "    ce.fit(df, \n",
    "           df[parameters['DATAFRAME_COL_NAMES']['target_col']],\n",
    "           handle_unknown=parameters['HYPER_PARAMETERS']['CATEGORY_ENCODERS_HANDLE_UNKNOWN'])\n",
    "    joblib.dump(ce, parameters['FILE_NAME_OF_HORSE_CATEGORY_ENCODERS'])\n",
    "    \n",
    "    df_ce = ce.transform(df)\n",
    "    df_ce = df_ce.rename(columns={'href_to_the_horse': 'href_to_the_horse_encoded'})\n",
    "    return pd.concat([df, df_ce['href_to_the_horse_encoded']], axis=1)"
   ]
  },
  {
   "cell_type": "code",
   "execution_count": null,
   "metadata": {
    "scrolled": false
   },
   "outputs": [],
   "source": [
    "# ce_loaded = joblib.load(parameters['FILE_NAME_OF_CATEGORY_ENCODERS'])\n",
    "# ce_loaded"
   ]
  },
  {
   "cell_type": "code",
   "execution_count": null,
   "metadata": {
    "scrolled": true
   },
   "outputs": [],
   "source": [
    "training_race_df = encode_fit_and_transform_href_to_the_horse(training_race_df)"
   ]
  },
  {
   "cell_type": "markdown",
   "metadata": {},
   "source": [
    "### Features from prior or result"
   ]
  },
  {
   "cell_type": "code",
   "execution_count": null,
   "metadata": {},
   "outputs": [],
   "source": [
    "def _get_horse_age_and_sex_in_result(x):\n",
    "    horse_sex = re.split('([ぁ-んァ-ン 一-龥]+)([0-9]+)' , x)[1]\n",
    "    horse_age = int(re.split('([ぁ-んァ-ン 一-龥]+)([0-9]+)' , x)[2])\n",
    "    return pd.Series([horse_sex, horse_age])\n",
    "\n",
    "def  _encode_horse_sex(df_about_horse_sex):\n",
    "    horse_sex_mapping = {'牡': 1, '牝': 2, 'セ': 3}\n",
    "    return df_about_horse_sex.map(horse_sex_mapping)\n",
    "\n",
    "def preprocess_horse_sex_age(df, target_cols_type):\n",
    "    if target_cols_type == 'result':\n",
    "        df[['horse_sex', 'horse_age']] = df['horse_sex_age_in_result'].apply(_get_horse_age_and_sex_in_result)\n",
    "        df['horse_sex_encoded'] = _encode_horse_sex(df['horse_sex'])\n",
    "    elif target_cols_type == 'prior':\n",
    "        df['horse_age'] = pd.to_numeric(training_race_df[\"horse_age_in_prior\"], errors='coerce')\n",
    "        df['horse_sex_encoded'] = _encode_horse_sex(df['horse_sex_in_prior'])      \n",
    "    return df"
   ]
  },
  {
   "cell_type": "code",
   "execution_count": null,
   "metadata": {
    "scrolled": true
   },
   "outputs": [],
   "source": [
    "training_race_df = preprocess_horse_sex_age(df=training_race_df, target_cols_type='result')"
   ]
  },
  {
   "cell_type": "code",
   "execution_count": null,
   "metadata": {
    "scrolled": true
   },
   "outputs": [],
   "source": [
    "# training_race_df = training_race_df[training_race_df['horse_weight_in_result']!='計不(---)']"
   ]
  },
  {
   "cell_type": "code",
   "execution_count": null,
   "metadata": {},
   "outputs": [],
   "source": [
    "def _parse_horse_weight_increment(x):\n",
    "    return int(x.replace('＋', '+').replace('－', '-').replace('---', '0'))\n",
    "\n",
    "def _get_horse_weight_info_in_result(x):\n",
    "    horse_weight = int(re.split('(\\()(.*)(\\))' , x)[0])\n",
    "    horse_weight_increment_str = re.split('(\\()(.*)(\\))' , x)[2]\n",
    "    horse_weight_increment = _parse_horse_weight_increment(horse_weight_increment_str)\n",
    "    return pd.Series([horse_weight, horse_weight_increment])\n",
    "\n",
    "def _get_horse_weight_in_prior(x):\n",
    "    try:\n",
    "        return int(re.search(\"[0-9]+\" , x).group())\n",
    "    except TypeError:\n",
    "        return np.nan\n",
    "\n",
    "def _get_horse_weight_increment_in_prior(x):\n",
    "    try:\n",
    "        horse_weight_increment_str = re.split('(\\()(.*)(kg\\))' , x)[2]\n",
    "        horse_weight_increment = _parse_horse_weight_increment(horse_weight_increment_str)\n",
    "        return horse_weight_increment\n",
    "    except TypeError:\n",
    "        return np.nan\n",
    "\n",
    "def preprocess_horse_weight_and_increment(df, target_cols_type):\n",
    "    if target_cols_type == 'result':\n",
    "        df[['horse_weight', 'horse_weight_increment']] = df['horse_weight_in_result'].apply(_get_horse_weight_info_in_result)\n",
    "    elif target_cols_type == 'prior':\n",
    "        df['horse_weight'] = df['horse_weight_in_prior'].apply(_get_horse_weight_in_prior)\n",
    "        df['horse_weight_increment'] = df['horse_weight_increment_in_prior'].apply(_get_horse_weight_increment_in_prior)\n",
    "    return df"
   ]
  },
  {
   "cell_type": "code",
   "execution_count": null,
   "metadata": {
    "scrolled": true
   },
   "outputs": [],
   "source": [
    "training_race_df = preprocess_horse_weight_and_increment(df=training_race_df, target_cols_type='result')"
   ]
  },
  {
   "cell_type": "code",
   "execution_count": null,
   "metadata": {},
   "outputs": [],
   "source": [
    "def _get_and_encode_weight_loss_flg(x):\n",
    "    try:\n",
    "        weight_loss_flg = re.search('▲|△|☆' , x).group()\n",
    "        weight_loss_encode = int(weight_loss_flg.replace('▲', '3').replace('△', '2').replace('☆', '1'))\n",
    "    except AttributeError:\n",
    "        weight_loss_encode = 0\n",
    "    return weight_loss_encode\n",
    "\n",
    "def _get_horse_impost_in_prior(x):\n",
    "    try:\n",
    "        return float(re.split('(▲|△|☆|.)(.*)(\\()(.*)(\\))(.*)' , x)[4])\n",
    "    except TypeError:\n",
    "        return np.nan\n",
    "\n",
    "def _get_weight_loss_encode_in_prior(x):\n",
    "    try:\n",
    "        weight_loss_flg_str = re.split('(▲|△|☆|.)(.*)(\\()(.*)(\\))(.*)' , x)[1]\n",
    "        return _get_and_encode_weight_loss_flg(weight_loss_flg_str)\n",
    "    except TypeError:\n",
    "        return np.nan\n",
    "\n",
    "def preprocess_jockey_name(df, target_cols_type):\n",
    "    if target_cols_type == 'result':\n",
    "        df['horse_impost'] = df['horse_impost_in_result']\n",
    "        df['weight_loss_encode'] = df['jockey_name_in_result'].apply(_get_and_encode_weight_loss_flg)\n",
    "    elif target_cols_type == 'prior':\n",
    "        df['horse_impost'] = df['jockey_name_and_horse_impost_in_prior'].apply(_get_horse_impost_in_prior)\n",
    "        df['weight_loss_encode'] = df['jockey_name_and_horse_impost_in_prior'].apply(_get_weight_loss_encode_in_prior)\n",
    "    return df"
   ]
  },
  {
   "cell_type": "code",
   "execution_count": null,
   "metadata": {
    "scrolled": true
   },
   "outputs": [],
   "source": [
    "training_race_df = preprocess_jockey_name(df=training_race_df, target_cols_type='result')"
   ]
  },
  {
   "cell_type": "code",
   "execution_count": null,
   "metadata": {},
   "outputs": [],
   "source": [
    "def encode_fit_and_transform_href_to_the_jockey(df):\n",
    "    if parameters['HYPER_PARAMETERS']['CATEGORY_ENCODERS_FOR_JOCKEY']=='TargetEncoder':\n",
    "        ce = category_encoders.TargetEncoder(cols=['href_to_the_jockey'])\n",
    "    elif parameters['HYPER_PARAMETERS']['CATEGORY_ENCODERS_FOR_JOCKEY']=='OrdinalEncoder':\n",
    "        ce = category_encoders.OrdinalEncoder(cols=['href_to_the_jockey'])\n",
    "        \n",
    "    ce.fit(df, \n",
    "           df[parameters['DATAFRAME_COL_NAMES']['target_col']],\n",
    "           handle_unknown=parameters['HYPER_PARAMETERS']['CATEGORY_ENCODERS_HANDLE_UNKNOWN'])\n",
    "    joblib.dump(ce, parameters['FILE_NAME_OF_JOCKEY_CATEGORY_ENCODERS'])\n",
    "    \n",
    "    df_ce = ce.transform(df)\n",
    "    df_ce = df_ce.rename(columns={'href_to_the_jockey': 'href_to_the_jockey_encoded'})\n",
    "    return pd.concat([df, df_ce['href_to_the_jockey_encoded']], axis=1)"
   ]
  },
  {
   "cell_type": "code",
   "execution_count": null,
   "metadata": {
    "scrolled": true
   },
   "outputs": [],
   "source": [
    "# ce_loaded = joblib.load(parameters['FILE_NAME_OF_JOCKEY_CATEGORY_ENCODERS'])\n",
    "# ce_loaded"
   ]
  },
  {
   "cell_type": "code",
   "execution_count": null,
   "metadata": {},
   "outputs": [],
   "source": [
    "training_race_df = encode_fit_and_transform_href_to_the_jockey(training_race_df)"
   ]
  },
  {
   "cell_type": "code",
   "execution_count": null,
   "metadata": {},
   "outputs": [],
   "source": [
    "def _get_trainer_belonging_in_result(x):\n",
    "    return re.split('\\[(.*)\\]' , x)[1]\n",
    "\n",
    "def _get_trainer_belonging_in_prior(x):\n",
    "    try:\n",
    "        return re.split('(.*)(・)(.*)' , x)[1]\n",
    "    except TypeError:\n",
    "        return np.nan\n",
    "\n",
    "def _encode_trainer_belonging(df):\n",
    "    trainer_belonging_mapping = {'美': 1, '栗': 2, '招': 3}\n",
    "    return df['trainer_belonging'].map(trainer_belonging_mapping)\n",
    "\n",
    "def preprocess_trainer_name(df, target_cols_type):\n",
    "    if target_cols_type == 'result':\n",
    "        df['trainer_belonging'] = df['trainer_name_in_result'].apply(_get_trainer_belonging_in_result)\n",
    "        df['trainer_belonging_encoded'] = _encode_trainer_belonging(df)\n",
    "    elif target_cols_type == 'prior':\n",
    "        df['trainer_belonging'] = df['trainer_name_in_prior'].apply(_get_trainer_belonging_in_prior)\n",
    "        df['trainer_belonging_encoded'] = _encode_trainer_belonging(df)\n",
    "    return df"
   ]
  },
  {
   "cell_type": "code",
   "execution_count": null,
   "metadata": {},
   "outputs": [],
   "source": [
    "training_race_df = preprocess_trainer_name(df=training_race_df, target_cols_type='result')"
   ]
  },
  {
   "cell_type": "code",
   "execution_count": null,
   "metadata": {},
   "outputs": [],
   "source": [
    "# def encode_fit_and_transform_href_to_the_trainer(df):\n",
    "#     if parameters['HYPER_PARAMETERS']['CATEGORY_ENCODERS_FOR_TRAINER']=='TargetEncoder':\n",
    "#         ce = category_encoders.TargetEncoder(cols=['href_to_the_trainer'])\n",
    "#     elif parameters['HYPER_PARAMETERS']['CATEGORY_ENCODERS_FOR_TRAINER']=='OrdinalEncoder':\n",
    "#         ce = category_encoders.OrdinalEncoder(cols=['href_to_the_trainer'])\n",
    "        \n",
    "#     ce.fit(df, \n",
    "#            df[parameters['DATAFRAME_COL_NAMES']['target_col']],\n",
    "#            handle_unknown=parameters['HYPER_PARAMETERS']['CATEGORY_ENCODERS_HANDLE_UNKNOWN'])\n",
    "#     joblib.dump(ce, parameters['FILE_NAME_OF_TRAINER_CATEGORY_ENCODERS'])\n",
    "    \n",
    "#     df_ce = ce.transform(df)\n",
    "#     df_ce = df_ce.rename(columns={'href_to_the_trainer': 'href_to_the_trainer_encoded'})\n",
    "#     return pd.concat([df, df_ce['href_to_the_trainer_encoded']], axis=1)"
   ]
  },
  {
   "cell_type": "code",
   "execution_count": null,
   "metadata": {},
   "outputs": [],
   "source": [
    "# training_race_df = encode_fit_and_transform_href_to_the_trainer(training_race_df)"
   ]
  },
  {
   "cell_type": "code",
   "execution_count": null,
   "metadata": {
    "scrolled": true
   },
   "outputs": [],
   "source": [
    "training_race_df.head()"
   ]
  },
  {
   "cell_type": "code",
   "execution_count": null,
   "metadata": {
    "scrolled": false
   },
   "outputs": [],
   "source": [
    "training_race_df.tail()"
   ]
  },
  {
   "cell_type": "markdown",
   "metadata": {},
   "source": [
    "## Check wether Preprocess Class works"
   ]
  },
  {
   "cell_type": "code",
   "execution_count": 7,
   "metadata": {},
   "outputs": [],
   "source": [
    "from Model.Preprocessing import Preprocessing"
   ]
  },
  {
   "cell_type": "code",
   "execution_count": 8,
   "metadata": {},
   "outputs": [],
   "source": [
    "pp = Preprocessing(parameters)"
   ]
  },
  {
   "cell_type": "code",
   "execution_count": 9,
   "metadata": {},
   "outputs": [],
   "source": [
    "def preprocess_result_data_based_training_race_df(df, pp):\n",
    "    df = pp.preprocess_race_timing(df=df)\n",
    "    df = pp.encode_race_weather(df=df)\n",
    "    df = pp.encode_race_condition(df=df)\n",
    "    df = pp.encode_fit_and_transform_href_to_the_horse(df=df)\n",
    "    df = pp.preprocess_horse_sex_age(df=df, target_cols_type='result')\n",
    "    df = pp.preprocess_horse_weight_and_increment(df=df, target_cols_type='result')\n",
    "    df = pp.preprocess_jockey_name(df=df, target_cols_type='result')\n",
    "    df = pp.encode_fit_and_transform_href_to_the_jockey(df=df)\n",
    "    df = pp.preprocess_trainer_name(df=df, target_cols_type='result')\n",
    "    df = pp.preprocess_arrival_order(df=df)\n",
    "    return df"
   ]
  },
  {
   "cell_type": "code",
   "execution_count": 10,
   "metadata": {
    "scrolled": true
   },
   "outputs": [],
   "source": [
    "training_race_df_preprocessed = preprocess_result_data_based_training_race_df(training_race_df, pp)"
   ]
  },
  {
   "cell_type": "code",
   "execution_count": 11,
   "metadata": {
    "scrolled": true
   },
   "outputs": [
    {
     "data": {
      "text/html": [
       "<div>\n",
       "<style scoped>\n",
       "    .dataframe tbody tr th:only-of-type {\n",
       "        vertical-align: middle;\n",
       "    }\n",
       "\n",
       "    .dataframe tbody tr th {\n",
       "        vertical-align: top;\n",
       "    }\n",
       "\n",
       "    .dataframe thead th {\n",
       "        text-align: right;\n",
       "    }\n",
       "</style>\n",
       "<table border=\"1\" class=\"dataframe\">\n",
       "  <thead>\n",
       "    <tr style=\"text-align: right;\">\n",
       "      <th></th>\n",
       "      <th>race_id</th>\n",
       "      <th>race_timing</th>\n",
       "      <th>race_title</th>\n",
       "      <th>race_weather</th>\n",
       "      <th>race_condition</th>\n",
       "      <th>course_syokin_list</th>\n",
       "      <th>post_position</th>\n",
       "      <th>horse_number</th>\n",
       "      <th>href_to_the_horse</th>\n",
       "      <th>horse_sex_age_in_result</th>\n",
       "      <th>...</th>\n",
       "      <th>horse_age</th>\n",
       "      <th>horse_sex_encoded</th>\n",
       "      <th>horse_weight</th>\n",
       "      <th>horse_weight_increment</th>\n",
       "      <th>horse_impost</th>\n",
       "      <th>weight_loss_encode</th>\n",
       "      <th>href_to_the_jockey_encoded</th>\n",
       "      <th>trainer_belonging</th>\n",
       "      <th>trainer_belonging_encoded</th>\n",
       "      <th>arrival_order_category</th>\n",
       "    </tr>\n",
       "  </thead>\n",
       "  <tbody>\n",
       "    <tr>\n",
       "      <th>0</th>\n",
       "      <td>200906070501</td>\n",
       "      <td>2009/6/7(日) 3回東京6日目</td>\n",
       "      <td>サラ系3歳未勝利</td>\n",
       "      <td>晴</td>\n",
       "      <td>重</td>\n",
       "      <td>サラ系3歳未勝利 牝 [指] 馬齢 ダ1400m 16頭 10:00発走 本賞金 500万 ...</td>\n",
       "      <td>1</td>\n",
       "      <td>1</td>\n",
       "      <td>https://www.keibalab.jp/db/horse/2006104859/</td>\n",
       "      <td>牝3</td>\n",
       "      <td>...</td>\n",
       "      <td>3</td>\n",
       "      <td>2</td>\n",
       "      <td>436</td>\n",
       "      <td>-2</td>\n",
       "      <td>54.0</td>\n",
       "      <td>0</td>\n",
       "      <td>7.571491</td>\n",
       "      <td>美</td>\n",
       "      <td>1</td>\n",
       "      <td>4</td>\n",
       "    </tr>\n",
       "    <tr>\n",
       "      <th>1</th>\n",
       "      <td>200906070501</td>\n",
       "      <td>2009/6/7(日) 3回東京6日目</td>\n",
       "      <td>サラ系3歳未勝利</td>\n",
       "      <td>晴</td>\n",
       "      <td>重</td>\n",
       "      <td>サラ系3歳未勝利 牝 [指] 馬齢 ダ1400m 16頭 10:00発走 本賞金 500万 ...</td>\n",
       "      <td>1</td>\n",
       "      <td>2</td>\n",
       "      <td>https://www.keibalab.jp/db/horse/2006105710/</td>\n",
       "      <td>牝3</td>\n",
       "      <td>...</td>\n",
       "      <td>3</td>\n",
       "      <td>2</td>\n",
       "      <td>472</td>\n",
       "      <td>0</td>\n",
       "      <td>54.0</td>\n",
       "      <td>0</td>\n",
       "      <td>9.916139</td>\n",
       "      <td>美</td>\n",
       "      <td>1</td>\n",
       "      <td>4</td>\n",
       "    </tr>\n",
       "    <tr>\n",
       "      <th>2</th>\n",
       "      <td>200906070501</td>\n",
       "      <td>2009/6/7(日) 3回東京6日目</td>\n",
       "      <td>サラ系3歳未勝利</td>\n",
       "      <td>晴</td>\n",
       "      <td>重</td>\n",
       "      <td>サラ系3歳未勝利 牝 [指] 馬齢 ダ1400m 16頭 10:00発走 本賞金 500万 ...</td>\n",
       "      <td>2</td>\n",
       "      <td>3</td>\n",
       "      <td>https://www.keibalab.jp/db/horse/2006103271/</td>\n",
       "      <td>牝3</td>\n",
       "      <td>...</td>\n",
       "      <td>3</td>\n",
       "      <td>2</td>\n",
       "      <td>398</td>\n",
       "      <td>0</td>\n",
       "      <td>52.0</td>\n",
       "      <td>2</td>\n",
       "      <td>9.119874</td>\n",
       "      <td>美</td>\n",
       "      <td>1</td>\n",
       "      <td>1</td>\n",
       "    </tr>\n",
       "    <tr>\n",
       "      <th>3</th>\n",
       "      <td>200906070501</td>\n",
       "      <td>2009/6/7(日) 3回東京6日目</td>\n",
       "      <td>サラ系3歳未勝利</td>\n",
       "      <td>晴</td>\n",
       "      <td>重</td>\n",
       "      <td>サラ系3歳未勝利 牝 [指] 馬齢 ダ1400m 16頭 10:00発走 本賞金 500万 ...</td>\n",
       "      <td>2</td>\n",
       "      <td>4</td>\n",
       "      <td>https://www.keibalab.jp/db/horse/2006102356/</td>\n",
       "      <td>牝3</td>\n",
       "      <td>...</td>\n",
       "      <td>3</td>\n",
       "      <td>2</td>\n",
       "      <td>464</td>\n",
       "      <td>6</td>\n",
       "      <td>54.0</td>\n",
       "      <td>0</td>\n",
       "      <td>9.521200</td>\n",
       "      <td>美</td>\n",
       "      <td>1</td>\n",
       "      <td>4</td>\n",
       "    </tr>\n",
       "    <tr>\n",
       "      <th>4</th>\n",
       "      <td>200906070501</td>\n",
       "      <td>2009/6/7(日) 3回東京6日目</td>\n",
       "      <td>サラ系3歳未勝利</td>\n",
       "      <td>晴</td>\n",
       "      <td>重</td>\n",
       "      <td>サラ系3歳未勝利 牝 [指] 馬齢 ダ1400m 16頭 10:00発走 本賞金 500万 ...</td>\n",
       "      <td>3</td>\n",
       "      <td>5</td>\n",
       "      <td>https://www.keibalab.jp/db/horse/2006102229/</td>\n",
       "      <td>牝3</td>\n",
       "      <td>...</td>\n",
       "      <td>3</td>\n",
       "      <td>2</td>\n",
       "      <td>472</td>\n",
       "      <td>0</td>\n",
       "      <td>51.0</td>\n",
       "      <td>3</td>\n",
       "      <td>7.593424</td>\n",
       "      <td>美</td>\n",
       "      <td>1</td>\n",
       "      <td>4</td>\n",
       "    </tr>\n",
       "  </tbody>\n",
       "</table>\n",
       "<p>5 rows × 54 columns</p>\n",
       "</div>"
      ],
      "text/plain": [
       "        race_id          race_timing race_title race_weather race_condition  \\\n",
       "0  200906070501  2009/6/7(日) 3回東京6日目   サラ系3歳未勝利            晴              重   \n",
       "1  200906070501  2009/6/7(日) 3回東京6日目   サラ系3歳未勝利            晴              重   \n",
       "2  200906070501  2009/6/7(日) 3回東京6日目   サラ系3歳未勝利            晴              重   \n",
       "3  200906070501  2009/6/7(日) 3回東京6日目   サラ系3歳未勝利            晴              重   \n",
       "4  200906070501  2009/6/7(日) 3回東京6日目   サラ系3歳未勝利            晴              重   \n",
       "\n",
       "                                  course_syokin_list  post_position  \\\n",
       "0  サラ系3歳未勝利 牝 [指] 馬齢 ダ1400m 16頭 10:00発走 本賞金 500万 ...              1   \n",
       "1  サラ系3歳未勝利 牝 [指] 馬齢 ダ1400m 16頭 10:00発走 本賞金 500万 ...              1   \n",
       "2  サラ系3歳未勝利 牝 [指] 馬齢 ダ1400m 16頭 10:00発走 本賞金 500万 ...              2   \n",
       "3  サラ系3歳未勝利 牝 [指] 馬齢 ダ1400m 16頭 10:00発走 本賞金 500万 ...              2   \n",
       "4  サラ系3歳未勝利 牝 [指] 馬齢 ダ1400m 16頭 10:00発走 本賞金 500万 ...              3   \n",
       "\n",
       "   horse_number                             href_to_the_horse  \\\n",
       "0             1  https://www.keibalab.jp/db/horse/2006104859/   \n",
       "1             2  https://www.keibalab.jp/db/horse/2006105710/   \n",
       "2             3  https://www.keibalab.jp/db/horse/2006103271/   \n",
       "3             4  https://www.keibalab.jp/db/horse/2006102356/   \n",
       "4             5  https://www.keibalab.jp/db/horse/2006102229/   \n",
       "\n",
       "  horse_sex_age_in_result  ... horse_age horse_sex_encoded horse_weight  \\\n",
       "0                      牝3  ...         3                 2          436   \n",
       "1                      牝3  ...         3                 2          472   \n",
       "2                      牝3  ...         3                 2          398   \n",
       "3                      牝3  ...         3                 2          464   \n",
       "4                      牝3  ...         3                 2          472   \n",
       "\n",
       "  horse_weight_increment horse_impost  weight_loss_encode  \\\n",
       "0                     -2         54.0                   0   \n",
       "1                      0         54.0                   0   \n",
       "2                      0         52.0                   2   \n",
       "3                      6         54.0                   0   \n",
       "4                      0         51.0                   3   \n",
       "\n",
       "  href_to_the_jockey_encoded trainer_belonging trainer_belonging_encoded  \\\n",
       "0                   7.571491                 美                         1   \n",
       "1                   9.916139                 美                         1   \n",
       "2                   9.119874                 美                         1   \n",
       "3                   9.521200                 美                         1   \n",
       "4                   7.593424                 美                         1   \n",
       "\n",
       "   arrival_order_category  \n",
       "0                       4  \n",
       "1                       4  \n",
       "2                       1  \n",
       "3                       4  \n",
       "4                       4  \n",
       "\n",
       "[5 rows x 54 columns]"
      ]
     },
     "execution_count": 11,
     "metadata": {},
     "output_type": "execute_result"
    }
   ],
   "source": [
    "training_race_df_preprocessed.head()"
   ]
  },
  {
   "cell_type": "markdown",
   "metadata": {},
   "source": [
    "## Modeling Process"
   ]
  },
  {
   "cell_type": "code",
   "execution_count": 86,
   "metadata": {},
   "outputs": [],
   "source": [
    "# parameters\n",
    "parameters['CRITERIA_FOR_SPLIT_TRAINING_DATA'] ={'year': 2019, 'month': 5}\n",
    "\n",
    "def make_dataset_to_model_fit(df):\n",
    "    train_df = df[(df['year']<parameters['CRITERIA_FOR_SPLIT_TRAINING_DATA']['year']) | (df['month']<parameters['CRITERIA_FOR_SPLIT_TRAINING_DATA']['month'])]\n",
    "    validataion_df = df[(df['year']>=parameters['CRITERIA_FOR_SPLIT_TRAINING_DATA']['year']) & (df['month']>=parameters['CRITERIA_FOR_SPLIT_TRAINING_DATA']['month'])]\n",
    "    \n",
    "    x_train_df = train_df[parameters['DATAFRAME_COL_NAMES']['feature_cols_part1']]\n",
    "    y_train_df = train_df[parameters['DATAFRAME_COL_NAMES']['target_col']]\n",
    "    x_valid_df = validataion_df[parameters['DATAFRAME_COL_NAMES']['feature_cols_part1']]\n",
    "    y_valid_df = validataion_df[parameters['DATAFRAME_COL_NAMES']['target_col']]\n",
    "    \n",
    "    return x_train_df, y_train_df, x_valid_df, y_valid_df"
   ]
  },
  {
   "cell_type": "code",
   "execution_count": 87,
   "metadata": {},
   "outputs": [],
   "source": [
    "x_train_df, y_train_df, x_valid_df, y_valid_df = make_dataset_to_model_fit(df=training_race_df_preprocessed)"
   ]
  },
  {
   "cell_type": "code",
   "execution_count": 88,
   "metadata": {
    "scrolled": false
   },
   "outputs": [
    {
     "name": "stdout",
     "output_type": "stream",
     "text": [
      "(469765, 22)\n",
      "(469765,)\n",
      "(11524, 22)\n",
      "(11524,)\n"
     ]
    }
   ],
   "source": [
    "print(x_train_df.shape)\n",
    "print(y_train_df.shape)\n",
    "\n",
    "print(x_valid_df.shape)\n",
    "print(y_valid_df.shape)"
   ]
  },
  {
   "cell_type": "code",
   "execution_count": 89,
   "metadata": {
    "scrolled": true
   },
   "outputs": [
    {
     "data": {
      "text/plain": [
       "1     32978\n",
       "2     32970\n",
       "3     32964\n",
       "4    370853\n",
       "Name: arrival_order_category, dtype: int64"
      ]
     },
     "execution_count": 89,
     "metadata": {},
     "output_type": "execute_result"
    }
   ],
   "source": [
    "y_train_df.groupby(y_train_df.values).count()"
   ]
  },
  {
   "cell_type": "code",
   "execution_count": 90,
   "metadata": {
    "scrolled": false
   },
   "outputs": [
    {
     "data": {
      "text/plain": [
       "1     861\n",
       "2     861\n",
       "3     862\n",
       "4    8940\n",
       "Name: arrival_order_category, dtype: int64"
      ]
     },
     "execution_count": 90,
     "metadata": {},
     "output_type": "execute_result"
    }
   ],
   "source": [
    "y_valid_df.groupby(y_valid_df.values).count()"
   ]
  },
  {
   "cell_type": "code",
   "execution_count": 112,
   "metadata": {},
   "outputs": [],
   "source": [
    "from sklearn.ensemble import RandomForestClassifier\n",
    "from sklearn.model_selection import GridSearchCV, RandomizedSearchCV\n",
    "\n",
    "from sklearn.metrics import classification_report\n",
    "from scipy.stats import randint as sp_randint"
   ]
  },
  {
   "cell_type": "code",
   "execution_count": 114,
   "metadata": {},
   "outputs": [],
   "source": [
    "parameters[\"HYPER_PARAMETERS\"]['RF_CLF'] = {\n",
    "    'CV_WAYS': 'GridSearchCV'  # 'GridSearchCV', 'RandomizedSearchCV'\n",
    "    'GS_PARAMS': {'n_estimators': [10, 50, 100], \n",
    "                                 'max_depth': [5, 10, 20], \n",
    "                                 'max_features': ['sqrt', 'log2', None],\n",
    "                                 'class_weight': ['balanced', None]},\n",
    "    'RS_PARAMS': {'n_estimators': sp_randint(10, 100), \n",
    "                                 'max_depth': sp_randint(5, 20), \n",
    "                                 'max_features': ['sqrt', 'log2', None],\n",
    "                                 'class_weight': ['balanced', None]}\n",
    "}"
   ]
  },
  {
   "cell_type": "code",
   "execution_count": 96,
   "metadata": {
    "scrolled": false
   },
   "outputs": [
    {
     "data": {
      "text/plain": [
       "RandomForestClassifier(bootstrap=True, class_weight=None, criterion='gini',\n",
       "                       max_depth=None, max_features='auto', max_leaf_nodes=None,\n",
       "                       min_impurity_decrease=0.0, min_impurity_split=None,\n",
       "                       min_samples_leaf=1, min_samples_split=2,\n",
       "                       min_weight_fraction_leaf=0.0, n_estimators=10,\n",
       "                       n_jobs=None, oob_score=False, random_state=0, verbose=0,\n",
       "                       warm_start=False)"
      ]
     },
     "execution_count": 96,
     "metadata": {},
     "output_type": "execute_result"
    }
   ],
   "source": [
    "rf_clf = RandomForestClassifier(random_state=0)\n",
    "rf_clf.fit(x_train_df, y_train_df)"
   ]
  },
  {
   "cell_type": "code",
   "execution_count": 105,
   "metadata": {
    "scrolled": true
   },
   "outputs": [],
   "source": [
    "y_valid_pred = rf_clf.predict(x_valid_df)\n",
    "# pd.Series(y_valid_pred).groupby(pd.Series(y_valid_pred).values).count()"
   ]
  },
  {
   "cell_type": "code",
   "execution_count": 109,
   "metadata": {
    "scrolled": false
   },
   "outputs": [
    {
     "name": "stdout",
     "output_type": "stream",
     "text": [
      "              precision    recall  f1-score   support\n",
      "\n",
      "           1       0.30      0.24      0.27       861\n",
      "           2       0.20      0.12      0.15       861\n",
      "           3       0.18      0.05      0.08       862\n",
      "           4       0.83      0.94      0.88      8940\n",
      "\n",
      "    accuracy                           0.76     11524\n",
      "   macro avg       0.38      0.34      0.34     11524\n",
      "weighted avg       0.69      0.76      0.72     11524\n",
      "\n"
     ]
    }
   ],
   "source": [
    "print(classification_report(y_valid_df, y_valid_pred))"
   ]
  },
  {
   "cell_type": "code",
   "execution_count": null,
   "metadata": {},
   "outputs": [],
   "source": [
    "# rscv = RandomizedSearchCV(estimator=RandomForestClassifier(random_state=0),\n",
    "#                                     param_distributions=parameters[\"HYPER_PARAMETERS\"]['RF_CLF']['GS_PARAMS'],\n",
    "#                                     n_iter=54,\n",
    "#                                     scoring=\"f1_weighted\",\n",
    "#                                     cv=3,\n",
    "#                                     verbose=1,\n",
    "#                                     n_jobs=-1,          \n",
    "#                                     random_state=1)"
   ]
  },
  {
   "cell_type": "code",
   "execution_count": 115,
   "metadata": {},
   "outputs": [],
   "source": [
    "gscv = GridSearchCV(estimator=RandomForestClassifier(random_state=0),\n",
    "                    param_grid=parameters[\"HYPER_PARAMETERS\"]['RF_CLF']['GS_PARAMS'],\n",
    "                    scoring=\"f1_weighted\",\n",
    "                    cv=3,\n",
    "                    verbose=1,\n",
    "                    n_jobs=-1) "
   ]
  },
  {
   "cell_type": "code",
   "execution_count": null,
   "metadata": {},
   "outputs": [],
   "source": [
    "gscv.fit(x_train_df, y_train_df)"
   ]
  },
  {
   "cell_type": "code",
   "execution_count": null,
   "metadata": {},
   "outputs": [],
   "source": [
    "gscv..best_estimator_"
   ]
  },
  {
   "cell_type": "code",
   "execution_count": null,
   "metadata": {},
   "outputs": [],
   "source": [
    "gscv.best_params_"
   ]
  },
  {
   "cell_type": "code",
   "execution_count": null,
   "metadata": {},
   "outputs": [],
   "source": [
    "rf_clf = RandomForestClassifier(random_state=0,\n",
    "                               n_estimators=gscv.best_params_[],\n",
    "                               max_depth=gscv.best_params_[],\n",
    "                               max_features=gscv.best_params_[],\n",
    "                               class_weight=gscv.best_params_[])\n",
    "rf_clf.fit(x_train_df, y_train_df)"
   ]
  },
  {
   "cell_type": "code",
   "execution_count": null,
   "metadata": {},
   "outputs": [],
   "source": []
  },
  {
   "cell_type": "code",
   "execution_count": null,
   "metadata": {},
   "outputs": [],
   "source": []
  },
  {
   "cell_type": "code",
   "execution_count": null,
   "metadata": {},
   "outputs": [],
   "source": []
  },
  {
   "cell_type": "markdown",
   "metadata": {},
   "source": [
    "### Try Learning to Rank"
   ]
  },
  {
   "cell_type": "code",
   "execution_count": null,
   "metadata": {},
   "outputs": [],
   "source": [
    "import torch\n",
    "import torch.nn as nn\n",
    "import torch.nn.functional as F\n",
    "import torch.optim as optim"
   ]
  },
  {
   "cell_type": "code",
   "execution_count": null,
   "metadata": {},
   "outputs": [],
   "source": [
    "class Net(nn.Module):\n",
    "    def __init__(self, D):\n",
    "        super(Net, self).__init__()\n",
    "        self.l1 = nn.Linear(D, 10)\n",
    "        self.l2 = nn.Linear(10, 1)\n",
    "\n",
    "    def forward(self, x):\n",
    "        x = torch.sigmoid(self.l1(x))\n",
    "        x = self.l2(x)\n",
    "        return x"
   ]
  },
  {
   "cell_type": "code",
   "execution_count": null,
   "metadata": {},
   "outputs": [],
   "source": [
    "def listnet_loss(y_i, z_i):\n",
    "    \"\"\"\n",
    "    y_i: (n_i, 1)\n",
    "    z_i: (n_i, 1)\n",
    "    \"\"\"\n",
    "\n",
    "    P_y_i = F.softmax(y_i, dim=0)\n",
    "    P_z_i = F.softmax(z_i, dim=0)\n",
    "    return - torch.sum(P_y_i * torch.log(P_z_i))\n",
    "\n",
    "def make_dataset(N_train, N_valid, D):\n",
    "    ws = torch.randn(D, 1)\n",
    "\n",
    "    X_train = torch.randn(N_train, D, requires_grad=True)\n",
    "    X_valid = torch.randn(N_valid, D, requires_grad=True)\n",
    "\n",
    "    ys_train_score = torch.mm(X_train, ws)\n",
    "    ys_valid_score = torch.mm(X_valid, ws)\n",
    "\n",
    "    bins = [-2, -1, 0, 1]  # 5 relevances\n",
    "    ys_train_rel = torch.Tensor(\n",
    "        np.digitize(ys_train_score.clone().detach().numpy(), bins=bins)\n",
    "    )\n",
    "    ys_valid_rel = torch.Tensor(\n",
    "        np.digitize(ys_valid_score.clone().detach().numpy(), bins=bins)\n",
    "    )\n",
    "\n",
    "    return X_train, X_valid, ys_train_rel, ys_valid_rel\n",
    "\n",
    "\n",
    "def swapped_pairs(ys_pred, ys_target):\n",
    "    N = ys_target.shape[0]\n",
    "    swapped = 0\n",
    "    for i in range(N - 1):\n",
    "        for j in range(i + 1, N):\n",
    "            if ys_target[i] < ys_target[j]:\n",
    "                if ys_pred[i] > ys_pred[j]:\n",
    "                    swapped += 1\n",
    "            elif ys_target[i] > ys_target[j]:\n",
    "                if ys_pred[i] < ys_pred[j]:\n",
    "                    swapped += 1\n",
    "    return swapped\n",
    "\n",
    "\n",
    "def ndcg(ys_true, ys_pred):\n",
    "    def dcg(ys_true, ys_pred):\n",
    "        _, argsort = torch.sort(ys_pred, descending=True, dim=0)\n",
    "        ys_true_sorted = ys_true[argsort]\n",
    "        ret = 0\n",
    "        for i, l in enumerate(ys_true_sorted, 1):\n",
    "            ret += (2 ** l - 1) / np.log2(1 + i)\n",
    "        return ret\n",
    "    ideal_dcg = dcg(ys_true, ys_true)\n",
    "    pred_dcg = dcg(ys_true, ys_pred)\n",
    "    return pred_dcg / ideal_dcg"
   ]
  },
  {
   "cell_type": "code",
   "execution_count": null,
   "metadata": {},
   "outputs": [],
   "source": [
    "N_train = 500\n",
    "N_valid = 100\n",
    "D = 50\n",
    "epochs = 10\n",
    "batch_size = 16\n",
    "\n",
    "X_train, X_valid, ys_train, ys_valid = make_dataset(N_train, N_valid, D)"
   ]
  },
  {
   "cell_type": "code",
   "execution_count": null,
   "metadata": {},
   "outputs": [],
   "source": [
    "net = Net(D)\n",
    "opt = optim.Adam(net.parameters())"
   ]
  },
  {
   "cell_type": "code",
   "execution_count": null,
   "metadata": {},
   "outputs": [],
   "source": [
    "epoch = 0"
   ]
  },
  {
   "cell_type": "code",
   "execution_count": null,
   "metadata": {},
   "outputs": [],
   "source": [
    "idx = torch.randperm(N_train)\n",
    "\n",
    "X_train = X_train[idx]\n",
    "ys_train = ys_train[idx]\n",
    "\n",
    "cur_batch = 0"
   ]
  },
  {
   "cell_type": "code",
   "execution_count": null,
   "metadata": {},
   "outputs": [],
   "source": [
    "it = 0"
   ]
  },
  {
   "cell_type": "code",
   "execution_count": null,
   "metadata": {},
   "outputs": [],
   "source": [
    "batch_X = X_train[cur_batch: cur_batch + batch_size]\n",
    "batch_ys = ys_train[cur_batch: cur_batch + batch_size]\n",
    "cur_batch += batch_size"
   ]
  },
  {
   "cell_type": "code",
   "execution_count": null,
   "metadata": {},
   "outputs": [],
   "source": [
    "batch_X.shape"
   ]
  },
  {
   "cell_type": "code",
   "execution_count": null,
   "metadata": {
    "scrolled": true
   },
   "outputs": [],
   "source": [
    "opt.zero_grad()"
   ]
  },
  {
   "cell_type": "code",
   "execution_count": null,
   "metadata": {},
   "outputs": [],
   "source": [
    "opt"
   ]
  },
  {
   "cell_type": "code",
   "execution_count": null,
   "metadata": {},
   "outputs": [],
   "source": [
    "batch_pred = net(batch_X)\n",
    "batch_pred"
   ]
  },
  {
   "cell_type": "code",
   "execution_count": null,
   "metadata": {},
   "outputs": [],
   "source": [
    "batch_ys"
   ]
  },
  {
   "cell_type": "code",
   "execution_count": null,
   "metadata": {},
   "outputs": [],
   "source": [
    "batch_loss = listnet_loss(batch_ys, batch_pred)\n",
    "batch_loss"
   ]
  },
  {
   "cell_type": "code",
   "execution_count": null,
   "metadata": {},
   "outputs": [],
   "source": [
    "batch_loss.backward(retain_graph=True)"
   ]
  },
  {
   "cell_type": "code",
   "execution_count": null,
   "metadata": {},
   "outputs": [],
   "source": [
    "opt.step()"
   ]
  },
  {
   "cell_type": "code",
   "execution_count": null,
   "metadata": {},
   "outputs": [],
   "source": [
    "opt"
   ]
  },
  {
   "cell_type": "code",
   "execution_count": null,
   "metadata": {},
   "outputs": [],
   "source": []
  }
 ],
 "metadata": {
  "kernelspec": {
   "display_name": "Python 3",
   "language": "python",
   "name": "python3"
  },
  "language_info": {
   "codemirror_mode": {
    "name": "ipython",
    "version": 3
   },
   "file_extension": ".py",
   "mimetype": "text/x-python",
   "name": "python",
   "nbconvert_exporter": "python",
   "pygments_lexer": "ipython3",
   "version": "3.7.3"
  }
 },
 "nbformat": 4,
 "nbformat_minor": 2
}
