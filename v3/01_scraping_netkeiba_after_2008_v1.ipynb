{
 "cells": [
  {
   "cell_type": "code",
   "execution_count": 1,
   "metadata": {},
   "outputs": [],
   "source": [
    "import warnings\n",
    "warnings.filterwarnings('ignore')"
   ]
  },
  {
   "cell_type": "code",
   "execution_count": 116,
   "metadata": {},
   "outputs": [],
   "source": [
    "import os\n",
    "import sys\n",
    "import datetime\n",
    "import pymysql\n",
    "import re\n",
    "import time\n",
    "import urllib3\n",
    "from selenium.webdriver import Chrome\n",
    "from selenium.webdriver.chrome.options import Options\n",
    "from selenium.webdriver.common.by import By\n",
    "from selenium.webdriver.support.ui import WebDriverWait\n",
    "from selenium.webdriver.support import expected_conditions as EC\n",
    "from selenium.common.exceptions import NoSuchElementException, TimeoutException, InvalidSessionIdException\n",
    "\n",
    "from Utils.bulk_insert import BulkInsert"
   ]
  },
  {
   "cell_type": "code",
   "execution_count": 81,
   "metadata": {},
   "outputs": [],
   "source": [
    "db_params = {\n",
    "    'host': '127.0.0.1',\n",
    "    'user': 'root',\n",
    "    'password': 'daigo1123',\n",
    "    'database': 'dev_netkeiba',\n",
    "    'port': 3306,\n",
    "    'charset': 'utf8'\n",
    "}\n",
    "con = pymysql.connect(**db_params)\n",
    "\n",
    "parameters = {\n",
    "\n",
    "    # parameters about scraping\n",
    "    'URL_ABOUT_NETKEIBA': {\n",
    "        'RACE_TABLE': 'https://race.netkeiba.com/?pid=race_old&id=c',\n",
    "        'RACE_RESULT': 'https://race.netkeiba.com/?pid=race&id=c{RACE_ID}&mode=result',\n",
    "        'RACE_PAST5_RESULT': 'https://race.netkeiba.com/?pid=race&id=c{RACE_ID}&mode=shutuba'\n",
    "    },\n",
    "    'LATEST_YEAR': 2019,\n",
    "    'LATEST_MONTH': 1,\n",
    "    'DRIVER_DIR': './chromedriver',\n",
    "    'PAGE_LOAD_TIMEOUT': 10,\n",
    "#     'RETRIES': 5,\n",
    "#     'RETRIES_WHEN_WEB_CLICK': 3,\n",
    "#     'INITIALIZE_AND_RETRIES': 3,\n",
    "\n",
    "\n",
    "    # parameters about model training\n",
    "\n",
    "    # col names in database tables\n",
    "    'TABLE_COL_NAMES': {\n",
    "        'race_master': [\n",
    "            'race_id',\n",
    "            'race_title',\n",
    "            'race_course',\n",
    "            'race_weather',\n",
    "            'race_condition',\n",
    "            'race_year',\n",
    "            'race_month',\n",
    "            'race_date',\n",
    "            'race_dow',\n",
    "            'starting_time',\n",
    "            'race_other_info'\n",
    "        ],\n",
    "        'race_table_info': [\n",
    "            'race_id',\n",
    "            'bracket_num',\n",
    "            'horse_num',\n",
    "            'horse_name',\n",
    "            'horse_age',\n",
    "            'horse_sex',\n",
    "            'weight_penalty',\n",
    "            'jockey_name',\n",
    "            'href_to_jockey',\n",
    "            'owner_name',\n",
    "            'href_to_owner',\n",
    "            'horse_weight',\n",
    "            'horse_weight_increment',\n",
    "            'win_odds',\n",
    "            'popularity_order'\n",
    "        ],\n",
    "        'race_result_info': [\n",
    "            'race_id',\n",
    "            'bracket_num',\n",
    "            'horse_num',\n",
    "            'arrival_time',\n",
    "            'arrival_diff',\n",
    "            'arrrival_order'\n",
    "        ],\n",
    "        'race_refund_info': [\n",
    "            'race_id',\n",
    "            'refund_type',\n",
    "            'groupby_index',\n",
    "            'bracket_num',\n",
    "            'refund_yen',\n",
    "            'popularity_order'\n",
    "        ],\n",
    "        'race_past_5_result_info':[\n",
    "            'race_id',\n",
    "            'bracket_num',\n",
    "            'horse_num',\n",
    "            'past_x',\n",
    "            'arrival_order'\n",
    "        ]\n",
    "    },\n",
    "\n",
    "    # col names in dataframe\n",
    "    'DATAFRAME_COL_NAMES': {\n",
    "\n",
    "    }\n",
    "}"
   ]
  },
  {
   "cell_type": "code",
   "execution_count": 4,
   "metadata": {},
   "outputs": [],
   "source": [
    "# Common functions\n",
    "def _fetchall_and_make_list_by(query):\n",
    "    try:\n",
    "        cursor = con.cursor()\n",
    "        cursor.execute(query)\n",
    "        fetch_result = cursor.fetchall()\n",
    "        fetch_result_list = [item for item in fetch_result]\n",
    "        cursor.close()\n",
    "        return fetch_result_list\n",
    "    except Exception as e:\n",
    "        print(e)\n",
    "\n",
    "def _bulk_insert(insert_list, target_table_name, insert_col_names):\n",
    "    try:\n",
    "        bi = BulkInsert(con)\n",
    "        bi.execute(insert_data=insert_list, target_table=target_table_name, col_names=insert_col_names)\n",
    "    except TypeError as e:\n",
    "        print(e)\n",
    "        raise TypeError"
   ]
  },
  {
   "cell_type": "markdown",
   "metadata": {},
   "source": [
    "## Initialize ChromeDriver（Common functions）"
   ]
  },
  {
   "cell_type": "code",
   "execution_count": 5,
   "metadata": {},
   "outputs": [],
   "source": [
    "def initialize_chrome_driver(parameters):\n",
    "    chrome_options = Options()\n",
    "    chrome_options.add_argument('--dns-prefetch-disable')\n",
    "    driver = Chrome(executable_path=parameters['DRIVER_DIR'], chrome_options=chrome_options)\n",
    "    driver.set_page_load_timeout(parameters['PAGE_LOAD_TIMEOUT'])\n",
    "    driver.maximize_window()\n",
    "    return driver"
   ]
  },
  {
   "cell_type": "code",
   "execution_count": 6,
   "metadata": {},
   "outputs": [],
   "source": [
    "def _load_target_url_page(target_url):\n",
    "    try:\n",
    "        driver.get(target_url)\n",
    "        print('We could load the URL:', driver.current_url)\n",
    "    except (TimeoutException, urllib3.exceptions.MaxRetryError, InvalidSessionIdException) as e:\n",
    "        print('We could not load the URL because of: ', e)\n",
    "        driver.refresh()"
   ]
  },
  {
   "cell_type": "code",
   "execution_count": 47,
   "metadata": {
    "scrolled": true
   },
   "outputs": [],
   "source": [
    "driver = initialize_chrome_driver(parameters)"
   ]
  },
  {
   "cell_type": "markdown",
   "metadata": {},
   "source": [
    "## Get info about race master and table "
   ]
  },
  {
   "cell_type": "code",
   "execution_count": 118,
   "metadata": {},
   "outputs": [],
   "source": [
    "def _get_num_str(num):\n",
    "    num_str = str(num) if num >= 10 else '0' + str(num)\n",
    "    return num_str\n",
    "\n",
    "def _make_race_ids_list():\n",
    "    query = 'SELECT * FROM race_calender_master;'\n",
    "    return _fetchall_and_make_list_by(query)\n",
    "\n",
    "def _make_race_id_and_target_url(race_calender):\n",
    "    race_id = ''.join(map(lambda x: _get_num_str(x), race_calender))\n",
    "    target_url = parameters['URL_ABOUT_NETKEIBA']['RACE_TABLE'] + race_id\n",
    "    return race_id, target_url\n",
    "\n",
    "def _is_the_race_id_existing_in_master(race_id):\n",
    "    query = \"SELECT race_id FROM race_master WHERE race_id = '{RACE_ID}'\".format(RACE_ID=race_id)\n",
    "    race_id_list_in_master_existing = _fetchall_and_make_list_by(query)\n",
    "    query = \"SELECT race_id FROM race_table_info WHERE race_id = '{RACE_ID}'\".format(RACE_ID=race_id)\n",
    "    race_id_list_in_table_existing = _fetchall_and_make_list_by(query)\n",
    "    if len(race_id_list_in_master_existing) > 0 and len(race_id_list_in_table_existing) > 0:\n",
    "        return True\n",
    "    else:\n",
    "        return False\n",
    "    \n",
    "def _does_the_race_master_url_have_info():\n",
    "    try:\n",
    "        driver.find_elements_by_xpath('//*[@id=\"page\"]/div[2]/div/div[1]/div[3]/div[2]')[0]\n",
    "        int(driver.find_element_by_class_name('HorseList').find_elements_by_class_name('Txt_C')[0].text)  # wakuban\n",
    "        return True\n",
    "    except (IndexError, ValueError):\n",
    "        return False\n",
    "    \n",
    "def _get_race_date(race_id):\n",
    "    race_date_info = driver.find_elements_by_id('RaceList_DateList')[0].find_elements_by_class_name('Active')[0].text\n",
    "    race_year = race_id[:4]\n",
    "    \n",
    "    try:\n",
    "        race_month = re.split('月|日|\\(|\\)', race_date_info)[0]\n",
    "        race_date = re.split('月|日|\\(|\\)', race_date_info)[1]\n",
    "    except IndexError:\n",
    "        race_month = re.split('/', race_date_info)[0]\n",
    "        race_date = re.split('/', race_date_info)[1]\n",
    "    \n",
    "    race_date_str = race_year + '-' +race_month + '-' + race_date\n",
    "    race_dow = datetime.datetime.strptime(race_date_str, '%Y-%m-%d').strftime('%A')[0]\n",
    "    \n",
    "    return race_year, race_month, race_date, race_dow"
   ]
  },
  {
   "cell_type": "code",
   "execution_count": 110,
   "metadata": {},
   "outputs": [],
   "source": [
    "def _extract_race_master_info(race_id):\n",
    "    xpath_to_race_name = '//*[@id=\"page\"]/div[2]/div/div[1]/div[3]/div[2]'\n",
    "    race_master_info_elem = driver.find_elements_by_xpath(xpath_to_race_name)[0]\n",
    "\n",
    "    race_title = race_master_info_elem.find_elements_by_class_name('RaceName')[0].text\n",
    "    race_data_01 = race_master_info_elem.find_elements_by_class_name('RaceData01')[0].text.replace(u'\\n',u'')\n",
    "    starting_time = re.search('(.*)発走', race_data_01.split('/')[0]).group(1)\n",
    "    race_coure = race_data_01.split('/')[1]\n",
    "    race_weather = re.search('天候:(.*)', race_data_01.split('/')[2]).group(1)\n",
    "    race_condition = re.search('馬場:(.*)', race_data_01.split('/')[3]).group(1)\n",
    "    race_year, race_month, race_date, race_dow = _get_race_date(race_id)\n",
    "    race_other_info = re.sub(r\"\\s+\", \" \", race_master_info_elem.find_elements_by_class_name('RaceData02')[0].text.replace(u'\\n',u' '))\n",
    "\n",
    "    return ([\n",
    "        race_id, \n",
    "        race_title, \n",
    "        race_coure, \n",
    "        race_weather, \n",
    "        race_condition, \n",
    "        race_year, \n",
    "        race_month, \n",
    "        race_date, \n",
    "        race_dow, \n",
    "        starting_time, \n",
    "        race_other_info\n",
    "    ])"
   ]
  },
  {
   "cell_type": "code",
   "execution_count": 10,
   "metadata": {},
   "outputs": [],
   "source": [
    "def _get_horse_weight_and_increment_one(horse_weight_info):\n",
    "    if horse_weight_info != '':\n",
    "        horse_weight = int(re.split('\\(|\\)', horse_weight_info)[0])\n",
    "        horse_weight_increment = re.split('\\(|\\)', horse_weight_info)[1]\n",
    "    else:\n",
    "        horse_weight = ''\n",
    "        horse_weight_increment = ''\n",
    "    return horse_weight, horse_weight_increment"
   ]
  },
  {
   "cell_type": "code",
   "execution_count": 119,
   "metadata": {},
   "outputs": [],
   "source": [
    "def _extract_race_table_info(race_id):\n",
    "    table_element_list = driver.find_elements_by_class_name('HorseList')\n",
    "    this_race_table_info = []\n",
    "    for row in range(len(table_element_list)):\n",
    "        bracket_num = int(table_element_list[row].find_element_by_xpath('td[1]').text)\n",
    "        horse_num = int(table_element_list[row].find_element_by_xpath('td[2]').text)\n",
    "        horse_name = table_element_list[row].find_element_by_xpath('td[4]').text\n",
    "        href_to_horse = table_element_list[row].find_element_by_xpath('td[4]/div/div/span/a').get_attribute(\"href\")\n",
    "        horse_age = int(re.sub(\"\\\\D\", \"\", table_element_list[row].find_element_by_xpath('td[5]').text))\n",
    "        horse_sex = re.match('[0-9a-zA-Zあ-んア-ン一-鿐]', table_element_list[row].find_element_by_xpath('td[5]').text).group()\n",
    "\n",
    "        weight_penalty = table_element_list[row].find_element_by_xpath('td[6]').text\n",
    "        weight_penalty = float(weight_penalty) if weight_penalty != '' else ''\n",
    "\n",
    "        jockey_name = table_element_list[row].find_element_by_xpath('td[7]').text\n",
    "        href_to_jockey = table_element_list[row].find_element_by_xpath('td[7]/a').get_attribute(\"href\")\n",
    "        owner_name = table_element_list[row].find_element_by_xpath('td[8]/a').text\n",
    "        href_to_owner = table_element_list[row].find_element_by_xpath('td[8]/a').get_attribute(\"href\")\n",
    "\n",
    "        try:\n",
    "            horse_weight_info = table_element_list[row].find_element_by_xpath('td[9]').text\n",
    "            horse_weight, horse_weight_increment = _get_horse_weight_and_increment_one(horse_weight_info)\n",
    "        except ValueError:\n",
    "            horse_weight, horse_weight_increment = '', ''\n",
    "\n",
    "        win_odds = table_element_list[row].find_element_by_xpath('td[10]').text\n",
    "        popularity_order = table_element_list[row].find_element_by_xpath('td[11]').text\n",
    "\n",
    "        this_race_table_info.append([\n",
    "            race_id,\n",
    "            bracket_num,\n",
    "            horse_num,\n",
    "            horse_name,\n",
    "            href_to_horse,\n",
    "            horse_age,\n",
    "            horse_sex,\n",
    "            weight_penalty,\n",
    "            jockey_name,\n",
    "            href_to_jockey,\n",
    "            owner_name,\n",
    "            href_to_owner,\n",
    "            horse_weight,\n",
    "            horse_weight_increment,\n",
    "            win_odds,\n",
    "            popularity_order\n",
    "        ])\n",
    "\n",
    "    return this_race_table_info"
   ]
  },
  {
   "cell_type": "code",
   "execution_count": 120,
   "metadata": {},
   "outputs": [],
   "source": [
    "def get_race_master_and_table_info():\n",
    "    race_calender_master_list = _make_race_ids_list()\n",
    "    for race_calender in race_calender_master_list:\n",
    "        race_id, target_url = _make_race_id_and_target_url(race_calender)\n",
    "\n",
    "        if _is_the_race_id_existing_in_master(race_id):\n",
    "            print('Information about', target_url, 'is already existing in master')\n",
    "            continue\n",
    "        \n",
    "        _load_target_url_page(target_url)\n",
    "        if not _does_the_race_master_url_have_info():\n",
    "            print('\\tThis URL has no information about: ', race_id)\n",
    "            continue\n",
    "\n",
    "        race_master_list = _extract_race_master_info(race_id)\n",
    "        race_table_info_list = _extract_race_table_info(soup, race_id)"
   ]
  },
  {
   "cell_type": "code",
   "execution_count": 122,
   "metadata": {
    "scrolled": false
   },
   "outputs": [
    {
     "name": "stdout",
     "output_type": "stream",
     "text": [
      "Target URL to requests:  https://race.netkeiba.com/?pid=race_old&id=c202005020101\n"
     ]
    }
   ],
   "source": [
    "race_calender_master_list = _make_race_ids_list()\n",
    "race_calender = race_calender_master_list[0]\n",
    "race_calender = (2020, 5, 2, 1, 1)\n",
    "race_id, target_url = _make_race_id_and_target_url(race_calender)\n",
    "# target_url = 'https://race.netkeiba.com/race/shutuba.html?race_id=202003010502'\n",
    "print('Target URL to requests: ', target_url)"
   ]
  },
  {
   "cell_type": "code",
   "execution_count": 123,
   "metadata": {
    "scrolled": true
   },
   "outputs": [
    {
     "name": "stdout",
     "output_type": "stream",
     "text": [
      "We could load the URL: https://race.netkeiba.com/race/shutuba.html?race_id=202005020101\n"
     ]
    }
   ],
   "source": [
    "_load_target_url_page(target_url)"
   ]
  },
  {
   "cell_type": "code",
   "execution_count": 124,
   "metadata": {},
   "outputs": [
    {
     "data": {
      "text/plain": [
       "False"
      ]
     },
     "execution_count": 124,
     "metadata": {},
     "output_type": "execute_result"
    }
   ],
   "source": [
    "_is_the_race_id_existing_in_master(race_id)"
   ]
  },
  {
   "cell_type": "code",
   "execution_count": 125,
   "metadata": {
    "scrolled": true
   },
   "outputs": [
    {
     "ename": "IndexError",
     "evalue": "list index out of range",
     "output_type": "error",
     "traceback": [
      "\u001b[0;31m---------------------------------------------------------------------------\u001b[0m",
      "\u001b[0;31mIndexError\u001b[0m                                Traceback (most recent call last)",
      "\u001b[0;32m<ipython-input-125-e44075d6e13d>\u001b[0m in \u001b[0;36m<module>\u001b[0;34m\u001b[0m\n\u001b[0;32m----> 1\u001b[0;31m \u001b[0mrace_master_list\u001b[0m \u001b[0;34m=\u001b[0m \u001b[0m_extract_race_master_info\u001b[0m\u001b[0;34m(\u001b[0m\u001b[0mrace_id\u001b[0m\u001b[0;34m)\u001b[0m\u001b[0;34m\u001b[0m\u001b[0;34m\u001b[0m\u001b[0m\n\u001b[0m\u001b[1;32m      2\u001b[0m \u001b[0mrace_master_list\u001b[0m\u001b[0;34m\u001b[0m\u001b[0;34m\u001b[0m\u001b[0m\n",
      "\u001b[0;32m<ipython-input-110-edce34ecd74d>\u001b[0m in \u001b[0;36m_extract_race_master_info\u001b[0;34m(race_id)\u001b[0m\n\u001b[1;32m      8\u001b[0m     \u001b[0mstarting_time\u001b[0m \u001b[0;34m=\u001b[0m \u001b[0mre\u001b[0m\u001b[0;34m.\u001b[0m\u001b[0msearch\u001b[0m\u001b[0;34m(\u001b[0m\u001b[0;34m'(.*)発走'\u001b[0m\u001b[0;34m,\u001b[0m \u001b[0mrace_data_01\u001b[0m\u001b[0;34m.\u001b[0m\u001b[0msplit\u001b[0m\u001b[0;34m(\u001b[0m\u001b[0;34m'/'\u001b[0m\u001b[0;34m)\u001b[0m\u001b[0;34m[\u001b[0m\u001b[0;36m0\u001b[0m\u001b[0;34m]\u001b[0m\u001b[0;34m)\u001b[0m\u001b[0;34m.\u001b[0m\u001b[0mgroup\u001b[0m\u001b[0;34m(\u001b[0m\u001b[0;36m1\u001b[0m\u001b[0;34m)\u001b[0m\u001b[0;34m\u001b[0m\u001b[0;34m\u001b[0m\u001b[0m\n\u001b[1;32m      9\u001b[0m     \u001b[0mrace_coure\u001b[0m \u001b[0;34m=\u001b[0m \u001b[0mrace_data_01\u001b[0m\u001b[0;34m.\u001b[0m\u001b[0msplit\u001b[0m\u001b[0;34m(\u001b[0m\u001b[0;34m'/'\u001b[0m\u001b[0;34m)\u001b[0m\u001b[0;34m[\u001b[0m\u001b[0;36m1\u001b[0m\u001b[0;34m]\u001b[0m\u001b[0;34m\u001b[0m\u001b[0;34m\u001b[0m\u001b[0m\n\u001b[0;32m---> 10\u001b[0;31m     \u001b[0mrace_weather\u001b[0m \u001b[0;34m=\u001b[0m \u001b[0mre\u001b[0m\u001b[0;34m.\u001b[0m\u001b[0msearch\u001b[0m\u001b[0;34m(\u001b[0m\u001b[0;34m'天候:(.*)'\u001b[0m\u001b[0;34m,\u001b[0m \u001b[0mrace_data_01\u001b[0m\u001b[0;34m.\u001b[0m\u001b[0msplit\u001b[0m\u001b[0;34m(\u001b[0m\u001b[0;34m'/'\u001b[0m\u001b[0;34m)\u001b[0m\u001b[0;34m[\u001b[0m\u001b[0;36m2\u001b[0m\u001b[0;34m]\u001b[0m\u001b[0;34m)\u001b[0m\u001b[0;34m.\u001b[0m\u001b[0mgroup\u001b[0m\u001b[0;34m(\u001b[0m\u001b[0;36m1\u001b[0m\u001b[0;34m)\u001b[0m\u001b[0;34m\u001b[0m\u001b[0;34m\u001b[0m\u001b[0m\n\u001b[0m\u001b[1;32m     11\u001b[0m     \u001b[0mrace_condition\u001b[0m \u001b[0;34m=\u001b[0m \u001b[0mre\u001b[0m\u001b[0;34m.\u001b[0m\u001b[0msearch\u001b[0m\u001b[0;34m(\u001b[0m\u001b[0;34m'馬場:(.*)'\u001b[0m\u001b[0;34m,\u001b[0m \u001b[0mrace_data_01\u001b[0m\u001b[0;34m.\u001b[0m\u001b[0msplit\u001b[0m\u001b[0;34m(\u001b[0m\u001b[0;34m'/'\u001b[0m\u001b[0;34m)\u001b[0m\u001b[0;34m[\u001b[0m\u001b[0;36m3\u001b[0m\u001b[0;34m]\u001b[0m\u001b[0;34m)\u001b[0m\u001b[0;34m.\u001b[0m\u001b[0mgroup\u001b[0m\u001b[0;34m(\u001b[0m\u001b[0;36m1\u001b[0m\u001b[0;34m)\u001b[0m\u001b[0;34m\u001b[0m\u001b[0;34m\u001b[0m\u001b[0m\n\u001b[1;32m     12\u001b[0m \u001b[0;34m\u001b[0m\u001b[0m\n",
      "\u001b[0;31mIndexError\u001b[0m: list index out of range"
     ]
    }
   ],
   "source": [
    "race_master_list = _extract_race_master_info(race_id)\n",
    "race_master_list"
   ]
  },
  {
   "cell_type": "code",
   "execution_count": 121,
   "metadata": {},
   "outputs": [
    {
     "data": {
      "text/plain": [
       "[['202006020812',\n",
       "  1,\n",
       "  1,\n",
       "  'ゲバラ',\n",
       "  'https://db.netkeiba.com/horse/2016106395',\n",
       "  4,\n",
       "  '牡',\n",
       "  57.0,\n",
       "  'Ｍデムーロ',\n",
       "  'https://db.netkeiba.com/jockey/05212/',\n",
       "  '伊藤大',\n",
       "  'https://db.netkeiba.com/trainer/01109/',\n",
       "  474,\n",
       "  '+2',\n",
       "  '3.6',\n",
       "  '2'],\n",
       " ['202006020812',\n",
       "  1,\n",
       "  2,\n",
       "  'ライレローズ',\n",
       "  'https://db.netkeiba.com/horse/2015104700',\n",
       "  5,\n",
       "  '牝',\n",
       "  53.0,\n",
       "  '木幡育',\n",
       "  'https://db.netkeiba.com/jockey/01167/',\n",
       "  '古賀慎',\n",
       "  'https://db.netkeiba.com/trainer/01079/',\n",
       "  440,\n",
       "  '-10',\n",
       "  '17.1',\n",
       "  '6'],\n",
       " ['202006020812',\n",
       "  2,\n",
       "  3,\n",
       "  'ウインレフィナード',\n",
       "  'https://db.netkeiba.com/horse/2016102493',\n",
       "  4,\n",
       "  '牡',\n",
       "  57.0,\n",
       "  '横山武',\n",
       "  'https://db.netkeiba.com/jockey/01170/',\n",
       "  '畠山',\n",
       "  'https://db.netkeiba.com/trainer/01048/',\n",
       "  456,\n",
       "  '+6',\n",
       "  '35.2',\n",
       "  '10'],\n",
       " ['202006020812',\n",
       "  2,\n",
       "  4,\n",
       "  'オーバースペック',\n",
       "  'https://db.netkeiba.com/horse/2014103611',\n",
       "  6,\n",
       "  '牡',\n",
       "  57.0,\n",
       "  '丹内',\n",
       "  'https://db.netkeiba.com/jockey/01091/',\n",
       "  '斎藤誠',\n",
       "  'https://db.netkeiba.com/trainer/01086/',\n",
       "  504,\n",
       "  '+12',\n",
       "  '77.9',\n",
       "  '13'],\n",
       " ['202006020812',\n",
       "  3,\n",
       "  5,\n",
       "  'シャワークライム',\n",
       "  'https://db.netkeiba.com/horse/2016105247',\n",
       "  4,\n",
       "  '牝',\n",
       "  55.0,\n",
       "  'ミナリク',\n",
       "  'https://db.netkeiba.com/jockey/05517/',\n",
       "  '田中剛',\n",
       "  'https://db.netkeiba.com/trainer/01119/',\n",
       "  442,\n",
       "  '+8',\n",
       "  '9.3',\n",
       "  '4'],\n",
       " ['202006020812',\n",
       "  3,\n",
       "  6,\n",
       "  'ハワイアンダンサー',\n",
       "  'https://db.netkeiba.com/horse/2015104388',\n",
       "  5,\n",
       "  '牝',\n",
       "  55.0,\n",
       "  '黛',\n",
       "  'https://db.netkeiba.com/jockey/01109/',\n",
       "  '尾関',\n",
       "  'https://db.netkeiba.com/trainer/01103/',\n",
       "  466,\n",
       "  '-4',\n",
       "  '106.6',\n",
       "  '15'],\n",
       " ['202006020812',\n",
       "  4,\n",
       "  7,\n",
       "  'ジュピターズライト',\n",
       "  'https://db.netkeiba.com/horse/2016104758',\n",
       "  4,\n",
       "  '牡',\n",
       "  57.0,\n",
       "  '北村宏',\n",
       "  'https://db.netkeiba.com/jockey/01043/',\n",
       "  '金成',\n",
       "  'https://db.netkeiba.com/trainer/01132/',\n",
       "  466,\n",
       "  '0',\n",
       "  '9.4',\n",
       "  '5'],\n",
       " ['202006020812',\n",
       "  4,\n",
       "  8,\n",
       "  'ジーナスイート',\n",
       "  'https://db.netkeiba.com/horse/2015104890',\n",
       "  5,\n",
       "  '牝',\n",
       "  55.0,\n",
       "  '丸山',\n",
       "  'https://db.netkeiba.com/jockey/01127/',\n",
       "  '青木',\n",
       "  'https://db.netkeiba.com/trainer/01156/',\n",
       "  442,\n",
       "  '-4',\n",
       "  '3.3',\n",
       "  '1'],\n",
       " ['202006020812',\n",
       "  5,\n",
       "  9,\n",
       "  'ストームリッパー',\n",
       "  'https://db.netkeiba.com/horse/2016104524',\n",
       "  4,\n",
       "  'セ',\n",
       "  57.0,\n",
       "  '三浦',\n",
       "  'https://db.netkeiba.com/jockey/01122/',\n",
       "  '鹿戸',\n",
       "  'https://db.netkeiba.com/trainer/01097/',\n",
       "  502,\n",
       "  '+4',\n",
       "  '6.2',\n",
       "  '3'],\n",
       " ['202006020812',\n",
       "  5,\n",
       "  10,\n",
       "  'アピールバイオ',\n",
       "  'https://db.netkeiba.com/horse/2014101550',\n",
       "  6,\n",
       "  '牝',\n",
       "  55.0,\n",
       "  '木幡巧',\n",
       "  'https://db.netkeiba.com/jockey/01162/',\n",
       "  '牧',\n",
       "  'https://db.netkeiba.com/trainer/01106/',\n",
       "  456,\n",
       "  '-10',\n",
       "  '17.8',\n",
       "  '7'],\n",
       " ['202006020812',\n",
       "  6,\n",
       "  11,\n",
       "  'ウエスタンランポ',\n",
       "  'https://db.netkeiba.com/horse/2016105431',\n",
       "  4,\n",
       "  '牝',\n",
       "  54.0,\n",
       "  '菊沢',\n",
       "  'https://db.netkeiba.com/jockey/01161/',\n",
       "  '深山',\n",
       "  'https://db.netkeiba.com/trainer/01174/',\n",
       "  406,\n",
       "  '-2',\n",
       "  '23.6',\n",
       "  '8'],\n",
       " ['202006020812',\n",
       "  6,\n",
       "  12,\n",
       "  'ココロノイコロ',\n",
       "  'https://db.netkeiba.com/horse/2015105858',\n",
       "  5,\n",
       "  '牡',\n",
       "  57.0,\n",
       "  '勝浦',\n",
       "  'https://db.netkeiba.com/jockey/01025/',\n",
       "  '高橋博',\n",
       "  'https://db.netkeiba.com/trainer/01036/',\n",
       "  456,\n",
       "  '+8',\n",
       "  '55.5',\n",
       "  '12'],\n",
       " ['202006020812',\n",
       "  7,\n",
       "  13,\n",
       "  'セイウンシェリー',\n",
       "  'https://db.netkeiba.com/horse/2016103438',\n",
       "  4,\n",
       "  '牝',\n",
       "  55.0,\n",
       "  '武藤',\n",
       "  'https://db.netkeiba.com/jockey/01169/',\n",
       "  '武藤',\n",
       "  'https://db.netkeiba.com/trainer/01064/',\n",
       "  432,\n",
       "  '+1',\n",
       "  '104.0',\n",
       "  '14'],\n",
       " ['202006020812',\n",
       "  7,\n",
       "  14,\n",
       "  'コスモミローディア',\n",
       "  'https://db.netkeiba.com/horse/2016103386',\n",
       "  4,\n",
       "  '牡',\n",
       "  57.0,\n",
       "  '柴田大',\n",
       "  'https://db.netkeiba.com/jockey/01009/',\n",
       "  '清水英',\n",
       "  'https://db.netkeiba.com/trainer/01080/',\n",
       "  454,\n",
       "  '+2',\n",
       "  '37.4',\n",
       "  '11'],\n",
       " ['202006020812',\n",
       "  8,\n",
       "  15,\n",
       "  'アトムアストレア',\n",
       "  'https://db.netkeiba.com/horse/2015100339',\n",
       "  5,\n",
       "  '牝',\n",
       "  52.0,\n",
       "  '小林凌',\n",
       "  'https://db.netkeiba.com/jockey/01177/',\n",
       "  '勢司',\n",
       "  'https://db.netkeiba.com/trainer/01047/',\n",
       "  470,\n",
       "  '+10',\n",
       "  '171.5',\n",
       "  '16'],\n",
       " ['202006020812',\n",
       "  8,\n",
       "  16,\n",
       "  'オルトルート',\n",
       "  'https://db.netkeiba.com/horse/2015104385',\n",
       "  5,\n",
       "  '牝',\n",
       "  55.0,\n",
       "  '大野',\n",
       "  'https://db.netkeiba.com/jockey/01096/',\n",
       "  '大竹',\n",
       "  'https://db.netkeiba.com/trainer/01102/',\n",
       "  454,\n",
       "  '-4',\n",
       "  '28.8',\n",
       "  '9']]"
      ]
     },
     "execution_count": 121,
     "metadata": {},
     "output_type": "execute_result"
    }
   ],
   "source": [
    "race_table_info_list = _extract_race_table_info(race_id)\n",
    "race_table_info_list"
   ]
  },
  {
   "cell_type": "code",
   "execution_count": 45,
   "metadata": {
    "scrolled": true
   },
   "outputs": [],
   "source": [
    "# _bulk_insert([race_master_list], 'race_master', parameters['TABLE_COL_NAMES']['race_master'])"
   ]
  },
  {
   "cell_type": "code",
   "execution_count": 46,
   "metadata": {
    "scrolled": true
   },
   "outputs": [],
   "source": [
    "# _bulk_insert(race_table_info_list, 'race_table_info', parameters['TABLE_COL_NAMES']['race_table_info'])"
   ]
  },
  {
   "cell_type": "markdown",
   "metadata": {},
   "source": [
    "## Get info about race result and refund"
   ]
  },
  {
   "cell_type": "code",
   "execution_count": null,
   "metadata": {},
   "outputs": [],
   "source": [
    "def _extract_race_ids_in_master_not_exist_in_race_result():\n",
    "    query = \"\"\"\n",
    "        SELECT DISTINCT race_id \n",
    "        FROM race_master\n",
    "        WHERE 0=0 \n",
    "        AND race_id NOT IN (SELECT DISTINCT race_id FROM race_result_info)\n",
    "        AND CAST(LEFT(race_id, 4) AS SIGNED) >= {LATEST_YEAR}\n",
    "    \"\"\".format(LATEST_YEAR=parameters['LATEST_YEAR'])\n",
    "    return _fetchall_and_make_list_by(query)\n",
    "\n",
    "def _make_target_url_about_race_result(race_id):\n",
    "        return parameters['URL_ABOUT_NETKEIBA']['RACE_RESULT'].format(RACE_ID=race_id)\n",
    "    \n",
    "def _does_the_race_result_url_have_info():\n",
    "    try:\n",
    "        driver.find_elements_by_class_name('HorseList')\n",
    "        driver.find_element_by_class_name('FullWrap')\n",
    "        return True\n",
    "    except IndexError:\n",
    "        return False"
   ]
  },
  {
   "cell_type": "markdown",
   "metadata": {},
   "source": [
    "### Result info"
   ]
  },
  {
   "cell_type": "code",
   "execution_count": null,
   "metadata": {},
   "outputs": [],
   "source": [
    "def _extract_race_result_info(race_id):\n",
    "    this_race_result_info = []\n",
    "    table_element_list = driver.find_elements_by_class_name('HorseList')\n",
    "    for row in range(len(table_element_list)):\n",
    "        arrrival_order  = table_element_list[row].find_element_by_xpath('td[1]').text\n",
    "        bracket_num = table_element_list[row].find_element_by_xpath('td[2]').text\n",
    "        horse_num = table_element_list[row].find_element_by_xpath('td[3]').text\n",
    "        arrival_time = table_element_list[row].find_element_by_xpath('td[8]').text\n",
    "        arrival_diff = table_element_list[row].find_element_by_xpath('td[9]').text\n",
    "        \n",
    "        this_race_result_info.append([\n",
    "            race_id,\n",
    "            bracket_num,\n",
    "            horse_num,\n",
    "            arrival_time,\n",
    "            arrival_diff,\n",
    "            arrrival_order\n",
    "        ])\n",
    "\n",
    "    return this_race_result_info"
   ]
  },
  {
   "cell_type": "markdown",
   "metadata": {},
   "source": [
    "### Refund info"
   ]
  },
  {
   "cell_type": "code",
   "execution_count": null,
   "metadata": {},
   "outputs": [],
   "source": [
    "def _get_tansho_or_fukusho_result(i, race_id, refund_type, result_list, payout_list, ninki_list):\n",
    "    return [\n",
    "            race_id, \n",
    "            refund_type,  \n",
    "            i+1,\n",
    "            result_list[i],\n",
    "            payout_list[i],\n",
    "            ninki_list[i]\n",
    "    ]\n",
    "\n",
    "def _get_wide_result(i, race_id, refund_type, result_list, payout_list, ninki_list):\n",
    "    return [\n",
    "            race_id, \n",
    "            refund_type,  \n",
    "            int((i+2)/2),\n",
    "            result_list[i],\n",
    "            payout_list[int(i/2)],\n",
    "            ninki_list[int(i/2)]\n",
    "    ]\n",
    "\n",
    "def _get_other_result(i, race_id, refund_type, result_list, payout_list, ninki_list):\n",
    "        return [\n",
    "            race_id, \n",
    "            refund_type,  \n",
    "            1,\n",
    "            result_list[i],\n",
    "            payout_list[0],\n",
    "            ninki_list[0]\n",
    "        ]"
   ]
  },
  {
   "cell_type": "code",
   "execution_count": null,
   "metadata": {},
   "outputs": [],
   "source": [
    "def _get_payout_info(race_id, refund_table_elem, refund_type):\n",
    "    result_list = re.split('\\n| ' '', refund_table_elem.find_elements_by_tag_name('td')[0].text)\n",
    "    payout_list = re.split('\\n| ' '', refund_table_elem.find_elements_by_tag_name('td')[1].text.replace('円', ''))\n",
    "    ninki_list = re.split('\\n| ' '', refund_table_elem.find_elements_by_tag_name('td')[2].text.replace('人気', ''))\n",
    "\n",
    "    payout_result_list = []\n",
    "    for i in range(len(result_list)):\n",
    "        if refund_type in ['単勝', '複勝']:\n",
    "            payout_result_list.append(_get_tansho_or_fukusho_result(i, race_id, refund_type, result_list, payout_list, ninki_list))\n",
    "        elif refund_type in ['ワイド']:\n",
    "            payout_result_list.append(_get_wide_result(i, race_id, refund_type, result_list, payout_list, ninki_list))\n",
    "        else:\n",
    "            payout_result_list.append(_get_other_result(i, race_id, refund_type, result_list, payout_list, ninki_list))\n",
    "        \n",
    "    return payout_result_list"
   ]
  },
  {
   "cell_type": "code",
   "execution_count": null,
   "metadata": {},
   "outputs": [],
   "source": [
    "def _extract_race_refund_info(race_id):\n",
    "    empty_refund_list = []\n",
    "    refund_table_list = driver.find_element_by_class_name('FullWrap').find_elements_by_tag_name('tr')\n",
    "    for idx in range(len(refund_table_list)):\n",
    "        refund_table_elem = refund_table_list[idx]\n",
    "        refund_type = refund_table_elem.find_element_by_tag_name('th').text\n",
    "        \n",
    "        empty_refund_list.append(_get_payout_info(race_id, refund_table_elem, refund_type))\n",
    "\n",
    "    return empty_refund_list"
   ]
  },
  {
   "cell_type": "code",
   "execution_count": null,
   "metadata": {},
   "outputs": [],
   "source": [
    "def get_race_result_and_refund_info():\n",
    "    existing_race_ids_in_master = _extract_race_ids_in_master_not_exist_in_race_result()\n",
    "    \n",
    "    for id_idx in range(len(existing_race_ids_in_master)):\n",
    "        race_id = existing_race_ids_in_master[id_idx][0]\n",
    "        target_url = _make_target_url_about_race_result(race_id)\n",
    "        \n",
    "        _load_target_url_page(target_url)\n",
    "        if not _does_the_race_result_url_have_info():\n",
    "            print('\\tThis URL has no information about: ', race_id)\n",
    "            continue\n",
    "\n",
    "        race_result_info_list = _extract_race_result_info(race_id)\n",
    "        race_refund_info_list = _extract_race_refund_info(race_id)\n",
    "        \n",
    "#         _bulk_insert(race_result_info_list, 'race_result_info', parameters['TABLE_COL_NAMES']['race_result_info'])\n",
    "#         _bulk_insert(race_refund_info_list, 'race_refund_info', parameters['TABLE_COL_NAMES']['race_refund_info'])                        "
   ]
  },
  {
   "cell_type": "code",
   "execution_count": null,
   "metadata": {
    "scrolled": true
   },
   "outputs": [],
   "source": [
    "# get_race_result_and_refund_info()"
   ]
  },
  {
   "cell_type": "code",
   "execution_count": null,
   "metadata": {
    "scrolled": true
   },
   "outputs": [],
   "source": [
    "existing_race_ids_in_master = _extract_race_ids_in_master_not_exist_in_race_result()\n",
    "existing_race_ids_in_master"
   ]
  },
  {
   "cell_type": "code",
   "execution_count": null,
   "metadata": {},
   "outputs": [],
   "source": [
    "id_idx = 1\n",
    "race_id = existing_race_ids_in_master[id_idx][0]\n",
    "target_url = _make_target_url_about_race_result(race_id)\n",
    "target_url"
   ]
  },
  {
   "cell_type": "code",
   "execution_count": null,
   "metadata": {},
   "outputs": [],
   "source": [
    "_load_target_url_page(target_url)"
   ]
  },
  {
   "cell_type": "code",
   "execution_count": null,
   "metadata": {},
   "outputs": [],
   "source": [
    "_does_the_race_result_url_have_info()"
   ]
  },
  {
   "cell_type": "code",
   "execution_count": null,
   "metadata": {},
   "outputs": [],
   "source": [
    "race_result_info_list = _extract_race_result_info(race_id)\n",
    "race_result_info_list"
   ]
  },
  {
   "cell_type": "code",
   "execution_count": null,
   "metadata": {},
   "outputs": [],
   "source": [
    "race_refund_info_list = _extract_race_refund_info(race_id)\n",
    "race_refund_info_list"
   ]
  },
  {
   "cell_type": "markdown",
   "metadata": {},
   "source": [
    "## Get info about past 5 race result"
   ]
  },
  {
   "cell_type": "code",
   "execution_count": null,
   "metadata": {},
   "outputs": [],
   "source": [
    "def _extract_race_ids_in_master_not_exist_in_race_past_5_result():\n",
    "    query = \"\"\"\n",
    "            SELECT DISTINCT race_id \n",
    "            FROM race_master\n",
    "            WHERE 0=0\n",
    "            AND race_id NOT IN (SELECT DISTINCT race_id FROM race_past_5_result_info)\n",
    "            AND CAST(LEFT(race_id, 4) AS SIGNED) >= {LATEST_YEAR}\n",
    "        \"\"\".format(LATEST_YEAR=parameters['LATEST_YEAR'])\n",
    "    result = _fetchall_and_make_list_by(query)\n",
    "    return result\n",
    "\n",
    "def _make_target_url_about_past_5_race_result(race_id):\n",
    "    return parameters['URL_ABOUT_NETKEIBA']['RACE_PAST5_RESULT'].format(RACE_ID=race_id)"
   ]
  },
  {
   "cell_type": "code",
   "execution_count": null,
   "metadata": {},
   "outputs": [],
   "source": [
    "def _extract_past_5_race_result(race_id):\n",
    "    this_race_past5_result_info = []\n",
    "    table_element = driver.find_element_by_class_name('Shutuba_HorseList').find_elements_by_class_name('HorseList')\n",
    "    table_length = len(table_element)\n",
    "\n",
    "    for row in range(table_length):\n",
    "        bracket_num = table_element[row].find_elements_by_tag_name('td')[0].text\n",
    "        horse_num = table_element[row].find_elements_by_tag_name('td')[1].text\n",
    "\n",
    "        race_name_elem_list = table_element[row].find_elements_by_class_name('Data_Item')\n",
    "        for i in range(len(race_name_elem_list)):\n",
    "            past_x = i+1\n",
    "            race_name_element = race_name_elem_list[i].find_element_by_class_name('Data02')\n",
    "            past_x_race_title = race_name_element.text\n",
    "            past_x_race_id = int(re.sub('\\\\D', '', race_name_element.find_element_by_tag_name('a').get_attribute(\"href\")))\n",
    "            arrival_order = race_name_elem_list[i].find_element_by_class_name('Num').text\n",
    "            this_race_past5_result_info.append([\n",
    "                race_id, \n",
    "                bracket_num, \n",
    "                horse_num, \n",
    "                past_x, \n",
    "                past_x_race_title, \n",
    "                past_x_race_id, \n",
    "                arrival_order\n",
    "            ])\n",
    "\n",
    "    return this_race_past5_result_info"
   ]
  },
  {
   "cell_type": "code",
   "execution_count": null,
   "metadata": {},
   "outputs": [],
   "source": [
    "def get_past_5_race_result_info():\n",
    "    existing_race_ids_in_master = _extract_race_ids_in_master_not_exist_in_race_past_5_result()\n",
    "    \n",
    "    for id_idx in range(len(existing_race_ids_in_master)):\n",
    "        race_id = existing_race_ids_in_master[id_idx][0]\n",
    "        target_url = _make_target_url_about_past_5_race_result(race_id)\n",
    "        \n",
    "        _load_target_url_page(target_url)\n",
    "\n",
    "        race_past5_result_info_list = _extract_past_5_race_result(race_id)\n",
    "        if len(race_past5_result_info_list) == 0:\n",
    "            print('\\tThis race has no past 5 race result info')\n",
    "            continue\n",
    "\n",
    "#         _bulk_insert(race_past5_result_info_list, 'race_past_5_result_info', \n",
    "#                      parameters['TABLE_COL_NAMES']['race_past_5_result_info'])                        "
   ]
  },
  {
   "cell_type": "code",
   "execution_count": null,
   "metadata": {},
   "outputs": [],
   "source": [
    "existing_race_ids_in_master = _extract_race_ids_in_master_not_exist_in_race_past_5_result()\n",
    "existing_race_ids_in_master"
   ]
  },
  {
   "cell_type": "code",
   "execution_count": null,
   "metadata": {
    "scrolled": true
   },
   "outputs": [],
   "source": [
    "id_idx = 0\n",
    "race_id = existing_race_ids_in_master[id_idx][0]\n",
    "target_url = _make_target_url_about_past_5_race_result(race_id)\n",
    "# target_url = 'https://race.netkeiba.com/race/shutuba_past.html?race_id=202009020511'\n",
    "print(target_url)"
   ]
  },
  {
   "cell_type": "code",
   "execution_count": null,
   "metadata": {},
   "outputs": [],
   "source": [
    "_load_target_url_page(target_url)"
   ]
  },
  {
   "cell_type": "code",
   "execution_count": null,
   "metadata": {
    "scrolled": true
   },
   "outputs": [],
   "source": [
    "race_past5_result_info_list = _extract_past_5_race_result(race_id)\n",
    "race_past5_result_info_list"
   ]
  },
  {
   "cell_type": "code",
   "execution_count": null,
   "metadata": {},
   "outputs": [],
   "source": []
  }
 ],
 "metadata": {
  "kernelspec": {
   "display_name": "Python 3",
   "language": "python",
   "name": "python3"
  },
  "language_info": {
   "codemirror_mode": {
    "name": "ipython",
    "version": 3
   },
   "file_extension": ".py",
   "mimetype": "text/x-python",
   "name": "python",
   "nbconvert_exporter": "python",
   "pygments_lexer": "ipython3",
   "version": "3.7.3"
  }
 },
 "nbformat": 4,
 "nbformat_minor": 2
}
