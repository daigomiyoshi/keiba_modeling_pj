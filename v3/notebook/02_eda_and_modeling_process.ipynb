{
 "cells": [
  {
   "cell_type": "code",
   "execution_count": null,
   "metadata": {
    "scrolled": false
   },
   "outputs": [],
   "source": [
    "# !conda info -e"
   ]
  },
  {
   "cell_type": "code",
   "execution_count": 1,
   "metadata": {
    "scrolled": true
   },
   "outputs": [
    {
     "name": "stdout",
     "output_type": "stream",
     "text": [
      "/Users/daigomiyoshi/Desktop/keiba_modeling_pj/v3\n"
     ]
    }
   ],
   "source": [
    "# 1つ前のディレクトリで作業する\n",
    "%cd ../"
   ]
  },
  {
   "cell_type": "code",
   "execution_count": 2,
   "metadata": {},
   "outputs": [],
   "source": [
    "import pymysql\n",
    "import pandas as pd\n",
    "import numpy as np\n",
    "import category_encoders as ce\n",
    "import joblib\n",
    "import h2o\n",
    "from h2o.automl import H2OAutoML\n",
    "\n",
    "\n",
    "import matplotlib.pyplot as plt\n",
    "import seaborn as sns\n",
    "sns.set()\n",
    "sns.set_style('whitegrid')\n",
    "sns.set_palette('Set1')\n",
    "\n",
    "\n",
    "from Config import params_config, db_config\n",
    "from Utils.bulk_insert import BulkInsert\n",
    "\n",
    "import warnings\n",
    "warnings.filterwarnings('ignore')\n",
    "\n",
    "pd.set_option('display.max_columns', 400)\n",
    "pd.set_option('display.max_rows', 400)"
   ]
  },
  {
   "cell_type": "code",
   "execution_count": 145,
   "metadata": {},
   "outputs": [],
   "source": [
    "# from datetime import datetime\n",
    "\n",
    "con = pymysql.connect(**db_config.db_params)\n",
    "\n",
    "# parameters = params_config.parameters\n",
    "parameters = {\n",
    "    \n",
    "    # parameters about columns names in dataframe\n",
    "    'DATAFRAME_COL_NAMES': {\n",
    "        'RACE_MASTER_INFO_COLS': [\n",
    "            'race_id', \n",
    "            'race_place', \n",
    "            'race_kai', \n",
    "            'race_nichi', \n",
    "            'race_round', \n",
    "            'race_year', \n",
    "            'race_month', \n",
    "            'race_date', \n",
    "            'race_dow', \n",
    "            'race_course_baba', \n",
    "            'race_course_distance', \n",
    "            'race_course_mawari', \n",
    "            'race_weather', \n",
    "            'race_condition', \n",
    "            'starting_hour', \n",
    "            'starting_minutes'\n",
    "        ],\n",
    "        'RACE_TABLE_INFO_COLS': [\n",
    "            'race_id',\n",
    "            'horse_num',\n",
    "            'bracket_num',\n",
    "            'href_to_horse', \n",
    "            'horse_age', \n",
    "            'horse_sex',\n",
    "            'weight_penalty',\n",
    "            'weight_penalty_diff_from_avg',\n",
    "            'href_to_jockey',\n",
    "            'href_to_owner',\n",
    "            'popularity_order',\n",
    "            'win_odds'\n",
    "        ],\n",
    "        'RACE_RESULT_INFO_COLS': [\n",
    "            'race_id',\n",
    "            'bracket_num',\n",
    "            'horse_num',\n",
    "            'arrival_sec_diff_from_first',\n",
    "            'arrival_order'\n",
    "        ],\n",
    "        'RACE_PAST_5_RACE_INFO_COLS': [\n",
    "            'race_id',\n",
    "            'horse_num',\n",
    "            'count_of_latest_runs',\n",
    "            'avg_arrival_order',\n",
    "            'std_arrival_order',\n",
    "            'latest_arrival_order'\n",
    "        ],\n",
    "        'DATAMART_FOR_MODEL_COLS': [\n",
    "            'race_id',\n",
    "            'horse_num',\n",
    "            'race_horse_id',\n",
    "            'bracket_num',\n",
    "            'race_place', \n",
    "            'race_kai', \n",
    "            'race_nichi', \n",
    "            'race_round', \n",
    "            'race_year', \n",
    "            'race_month', \n",
    "            'race_date', \n",
    "            'race_dow', \n",
    "            'race_course_baba', \n",
    "            'race_course_distance', \n",
    "            'race_course_mawari', \n",
    "            'race_weather', \n",
    "            'race_condition', \n",
    "            'starting_hour', \n",
    "            'starting_minutes',\n",
    "            'href_to_horse', \n",
    "            'horse_age', \n",
    "            'horse_sex',\n",
    "            'weight_penalty',\n",
    "            'weight_penalty_diff_from_avg',\n",
    "            'href_to_jockey',\n",
    "            'href_to_owner',\n",
    "            'popularity_order',\n",
    "            'win_odds',\n",
    "            'count_of_latest_runs',\n",
    "            'avg_arrival_order',\n",
    "            'std_arrival_order',\n",
    "            'latest_arrival_order',\n",
    "            # 以下は結果に関する情報,\n",
    "            'arrival_order', \n",
    "            'arrival_sec_diff_from_first', \n",
    "            'refund_yen'\n",
    "        ],\n",
    "        'RACE_REFUND_INFO_COLS': [\n",
    "            'race_id', \n",
    "            'horse_num', \n",
    "            'refund_type', \n",
    "            'groupby_index', \n",
    "            'refund_yen'\n",
    "        ]\n",
    "    },\n",
    "    'TRAIN_TEST_SPLIT': {\n",
    "        'INDEX_COL': ['race_id', 'horse_num'],\n",
    "        'FEATURE_COLS': ['popularity_order', 'win_odds', 'horse_sex'],\n",
    "#         'EXCLUDE_COL': ['race_id', 'horse_num', 'y'],\n",
    "        'TARGET_COL': 'y',\n",
    "        'CRITERIA_TO_SPLIT_DATA': {'race_year': 2019, 'race_month': 12}\n",
    "    },\n",
    "    'DIR_NAME_OF_MODEL_PICKLE': 'Model/pickled_files/20200626/'\n",
    "}"
   ]
  },
  {
   "cell_type": "markdown",
   "metadata": {},
   "source": [
    "## Extract Data from DB"
   ]
  },
  {
   "cell_type": "code",
   "execution_count": 4,
   "metadata": {},
   "outputs": [],
   "source": [
    "def _fetch_all_and_make_list_by(query, con):\n",
    "    try:\n",
    "        cursor = con.cursor()\n",
    "        cursor.execute(query)\n",
    "        fetch_result = cursor.fetchall()\n",
    "        fetch_result_list = [item for item in fetch_result]\n",
    "        cursor.close()\n",
    "        return fetch_result_list\n",
    "    except Exception as e:\n",
    "        print(e)\n",
    "        \n",
    "def _read_query(query_file_path):\n",
    "    with open(query_file_path, 'r', encoding='utf-8') as f:\n",
    "        query = f.read()\n",
    "    return query\n",
    "\n",
    "def _get_data_frame_from_db(query_file_path, col_name_list, con):\n",
    "    queries = _read_query(query_file_path)\n",
    "    table_list = _fetch_all_and_make_list_by(queries, con)\n",
    "    return pd.DataFrame(table_list, columns=col_name_list)"
   ]
  },
  {
   "cell_type": "code",
   "execution_count": null,
   "metadata": {
    "scrolled": true
   },
   "outputs": [],
   "source": [
    "race_master_df = _get_data_frame_from_db(\n",
    "        query_file_path='SqlQuery/extract_race_master_info.sql', \n",
    "        col_name_list=parameters['DATAFRAME_COL_NAMES']['RACE_MASTER_INFO_COLS'],\n",
    "        con=con\n",
    ")"
   ]
  },
  {
   "cell_type": "code",
   "execution_count": null,
   "metadata": {},
   "outputs": [],
   "source": [
    "race_table_df = _get_data_frame_from_db(\n",
    "        query_file_path='SqlQuery/extract_race_table_info.sql', \n",
    "        col_name_list=parameters['DATAFRAME_COL_NAMES']['RACE_TABLE_INFO_COLS'],\n",
    "        con=con\n",
    ")"
   ]
  },
  {
   "cell_type": "code",
   "execution_count": null,
   "metadata": {},
   "outputs": [],
   "source": [
    "race_past_5_race_df = _get_data_frame_from_db(\n",
    "        query_file_path='SqlQuery/extract_race_past_5_result_info.sql', \n",
    "        col_name_list=parameters['DATAFRAME_COL_NAMES']['RACE_PAST_5_RACE_INFO_COLS'],\n",
    "        con=con\n",
    ")"
   ]
  },
  {
   "cell_type": "code",
   "execution_count": null,
   "metadata": {
    "scrolled": true
   },
   "outputs": [],
   "source": [
    "race_result_df = _get_data_frame_from_db(\n",
    "        query_file_path='SqlQuery/extract_race_result_info.sql', \n",
    "        col_name_list=parameters['DATAFRAME_COL_NAMES']['RACE_RESULT_INFO_COLS'],\n",
    "        con=con\n",
    ")"
   ]
  },
  {
   "cell_type": "code",
   "execution_count": null,
   "metadata": {},
   "outputs": [],
   "source": [
    "print(race_master_df.shape)\n",
    "race_master_df.head()"
   ]
  },
  {
   "cell_type": "code",
   "execution_count": null,
   "metadata": {
    "scrolled": true
   },
   "outputs": [],
   "source": [
    "print(race_table_df.shape)\n",
    "race_table_df.head()"
   ]
  },
  {
   "cell_type": "code",
   "execution_count": null,
   "metadata": {
    "scrolled": true
   },
   "outputs": [],
   "source": [
    "print(race_result_df.shape)\n",
    "race_result_df.head()"
   ]
  },
  {
   "cell_type": "code",
   "execution_count": null,
   "metadata": {
    "scrolled": true
   },
   "outputs": [],
   "source": [
    "print(race_past_5_race_df.shape)\n",
    "race_past_5_race_df.head()"
   ]
  },
  {
   "cell_type": "markdown",
   "metadata": {},
   "source": [
    "## Exploratory data analysis\n",
    "- レース毎に、予想順位=1の馬だけに100円単勝を投資する戦略：回収率 = 約-23%"
   ]
  },
  {
   "cell_type": "markdown",
   "metadata": {},
   "source": [
    "### Q1. 予想順位が（結果より相対的に）低い/高い歪みはあるのか？"
   ]
  },
  {
   "cell_type": "code",
   "execution_count": null,
   "metadata": {},
   "outputs": [],
   "source": [
    "query = '''\n",
    "    WITH id_tab AS (\n",
    "        SELECT race_id\n",
    "        FROM race_master AS m\n",
    "        -- WHERE (m.race_year=2019 AND m.race_month>=5) OR (m.race_year=2020 AND m.race_month>=1)\n",
    "    )\n",
    "    , race_card_tab AS (\n",
    "        SELECT race_id\n",
    "        , horse_num\n",
    "        , MIN(win_odds) AS win_odds\n",
    "        , MIN(popularity_order) AS popularity_order\n",
    "        FROM race_table_info\n",
    "        GROUP BY race_id, horse_num\n",
    "    )\n",
    "    , refund_tab AS (\n",
    "        SELECT race_id\n",
    "        , horse_num\n",
    "        , MIN(refund_yen) AS refund_yen\n",
    "        FROM race_refund_info\n",
    "        WHERE refund_type = '単勝'\n",
    "        GROUP BY race_id, horse_num\n",
    "    )\n",
    "    , agg_tab AS (\n",
    "        SELECT a.race_id\n",
    "        , CAST(b.horse_num AS SIGNED) AS horse_num\n",
    "        , CAST(b.win_odds AS FLOAT) AS win_odds\n",
    "        , CAST(b.popularity_order AS SIGNED) AS popularity_order\n",
    "        , CAST(c.arrival_order AS SIGNED) AS arrival_order\n",
    "        , CAST(d.refund_yen AS FLOAT) AS refund_yen\n",
    "        FROM id_tab AS a\n",
    "        LEFT OUTER JOIN race_card_tab AS b\n",
    "        ON a.race_id = b.race_id\n",
    "        LEFT OUTER JOIN race_result_info AS c\n",
    "        ON a.race_id = c.race_id AND b.horse_num = c.horse_num\n",
    "        LEFT OUTER JOIN refund_tab AS d\n",
    "        ON a.race_id = d.race_id AND b.horse_num = d.horse_num\n",
    "    )\n",
    "    SELECT *\n",
    "    FROM agg_tab\n",
    "    WHERE arrival_order <> 0 AND popularity_order <> 0\n",
    "'''"
   ]
  },
  {
   "cell_type": "code",
   "execution_count": null,
   "metadata": {},
   "outputs": [],
   "source": [
    "df_for_eda_1 =  pd.DataFrame(\n",
    "     _fetch_all_and_make_list_by(query, con), \n",
    "     columns=['race_id', 'horse_num', 'win_odds', 'popularity_order', 'arrival_order', 'refund_yen']\n",
    ")"
   ]
  },
  {
   "cell_type": "code",
   "execution_count": null,
   "metadata": {
    "scrolled": false
   },
   "outputs": [],
   "source": [
    "print(df_for_eda_1.shape)\n",
    "df_for_eda_1.head()"
   ]
  },
  {
   "cell_type": "code",
   "execution_count": null,
   "metadata": {
    "scrolled": false
   },
   "outputs": [],
   "source": [
    "pd.crosstab(index=df_for_eda_1['popularity_order'], columns=df_for_eda_1['arrival_order']).style.background_gradient(cmap='Blues')"
   ]
  },
  {
   "cell_type": "code",
   "execution_count": null,
   "metadata": {
    "scrolled": false
   },
   "outputs": [],
   "source": [
    "pd.crosstab(index=df_for_eda_1['popularity_order'], columns=df_for_eda_1['arrival_order']).apply(lambda x: x/x.sum(), axis=1).style.background_gradient(cmap='Blues')"
   ]
  },
  {
   "cell_type": "markdown",
   "metadata": {},
   "source": [
    "- 2, 3, 4位予想の馬の着順が相対的に高い傾向？"
   ]
  },
  {
   "cell_type": "markdown",
   "metadata": {},
   "source": [
    "### Q2. ある予想順位であるオッズ比以上の場合だけ投資するシミュレーションにより、一番回収額・回収率が高い閾値は？"
   ]
  },
  {
   "cell_type": "markdown",
   "metadata": {},
   "source": [
    "- 該当予想順位を1-18位までそれぞれ固定し、\n",
    "- 予想順位の馬のオッズ比が、決めた閾値を上回っていれば投資する（下回っていれば非投資）\n",
    "- 予想順位と閾値を動かしていき、利益額・利益率をシミュレーションする\n",
    "\n",
    "=> モデリング時に考えなくて良い予想順位やオッズ比を決めたい"
   ]
  },
  {
   "cell_type": "code",
   "execution_count": null,
   "metadata": {},
   "outputs": [],
   "source": [
    "query = \"\"\"\n",
    "WITH \n",
    "race_table_info_mod AS (\n",
    "    SELECT race_id\n",
    "    , horse_num\n",
    "    , CAST(win_odds AS FLOAT) AS win_odds\n",
    "    , CAST(popularity_order AS SIGNED) AS popularity_order\n",
    "    FROM race_table_info\n",
    ")\n",
    ", refund_tab AS (\n",
    "    SELECT race_id\n",
    "    , horse_num\n",
    "    , MIN(refund_yen) AS refund_yen\n",
    "    FROM race_refund_info\n",
    "    WHERE refund_type = '単勝'\n",
    "    GROUP BY race_id, horse_num\n",
    ")\n",
    "SELECT a.*\n",
    ", c.arrival_order\n",
    ", CASE WHEN b.refund_yen IS NOT NULL THEN b.refund_yen ELSE 0 END AS refund_yen\n",
    "FROM race_table_info_mod AS a\n",
    "LEFT OUTER JOIN refund_tab AS b\n",
    "ON a.race_id = b.race_id AND a.horse_num = b.horse_num\n",
    "LEFT OUTER JOIN race_result_info AS c\n",
    "ON a.race_id = c.race_id AND a.horse_num = c.horse_num\n",
    "WHERE a.win_odds <> 0 AND a.popularity_order <> 0\n",
    "AND c.arrival_order IS NOT NULL\n",
    "\"\"\"\n",
    "\n",
    "df_for_eda_2 =  pd.DataFrame(\n",
    "     _fetch_all_and_make_list_by(query, con), \n",
    "     columns=['race_id', 'horse_num', 'win_odds', 'popularity_order', 'arrival_order', 'refund_yen']\n",
    ")"
   ]
  },
  {
   "cell_type": "code",
   "execution_count": null,
   "metadata": {},
   "outputs": [],
   "source": [
    "print(df_for_eda_2.shape)\n",
    "df_for_eda_2.head()"
   ]
  },
  {
   "cell_type": "markdown",
   "metadata": {},
   "source": [
    "#### オッズ比の傾向を可視化する"
   ]
  },
  {
   "cell_type": "code",
   "execution_count": null,
   "metadata": {},
   "outputs": [],
   "source": [
    "print(min(df_for_eda_2['win_odds']))\n",
    "print(max(df_for_eda_2['win_odds']))"
   ]
  },
  {
   "cell_type": "code",
   "execution_count": null,
   "metadata": {
    "scrolled": false
   },
   "outputs": [],
   "source": [
    "fig = plt.figure(figsize=(15, 8), dpi=100)\n",
    "ax = fig.add_subplot(1, 1, 1)\n",
    "ax.hist(df_for_eda_2['win_odds'], bins=50, alpha=0.6)\n",
    "plt.show()"
   ]
  },
  {
   "cell_type": "code",
   "execution_count": null,
   "metadata": {
    "scrolled": false
   },
   "outputs": [],
   "source": [
    "# オッズ比が20以下\n",
    "fig = plt.figure(figsize=(15, 8), dpi=100)\n",
    "ax = fig.add_subplot(1, 1, 1)\n",
    "ax.hist(df_for_eda_2[df_for_eda_2['win_odds'] <= 20]['win_odds'], bins=50, alpha=0.6)\n",
    "ax.set_xlim([1.0, 20.0])\n",
    "plt.show()"
   ]
  },
  {
   "cell_type": "code",
   "execution_count": null,
   "metadata": {
    "scrolled": true
   },
   "outputs": [],
   "source": [
    "profit_amount_list = []\n",
    "popularity_order_range = list(range(1, 19))\n",
    "win_odds_range = [1.0, 1.5, 3.0, 5.0, 7.5, 10.0, 12.5, 15.0, 20, 30, 40, 50, 75, 100]\n",
    "\n",
    "for race_id in df_for_eda_2['race_id'].unique()[::-1]:\n",
    "    print(race_id)\n",
    "    each_race_df = df_for_eda_2[df_for_eda_2['race_id']==race_id]\n",
    "    for pop_order in popularity_order_range:\n",
    "        target_horse = each_race_df[each_race_df['popularity_order'] == pop_order]\n",
    "        for win_odds in win_odds_range:\n",
    "            try:\n",
    "                if float(target_horse['win_odds']) >= win_odds:\n",
    "                    investment_amount = 100\n",
    "                    profit_amount = int(target_horse['refund_yen']) - investment_amount\n",
    "                else:\n",
    "                    investment_amount = 0\n",
    "                    profit_amount = 0\n",
    "                profit_amount_list.append([race_id, pop_order, win_odds, investment_amount, profit_amount])\n",
    "            except TypeError:\n",
    "                continue"
   ]
  },
  {
   "cell_type": "code",
   "execution_count": null,
   "metadata": {
    "scrolled": true
   },
   "outputs": [],
   "source": [
    "profit_amount_df = pd.DataFrame(profit_amount_list, \n",
    "                                columns=['race_id', 'popularity_order', 'win_odds', 'investment_amount', 'profit_amount'])\n",
    "\n",
    "profit_amount_groupby = profit_amount_df.groupby(['popularity_order', 'win_odds'], as_index=False).sum()\n",
    "profit_amount_groupby['profit_rate'] = profit_amount_groupby['profit_amount'] / (profit_amount_groupby['investment_amount']+0.001)\n",
    "# profit_amount_groupby.head()"
   ]
  },
  {
   "cell_type": "code",
   "execution_count": null,
   "metadata": {
    "scrolled": false
   },
   "outputs": [],
   "source": [
    "investment_amount_pivot = profit_amount_groupby.pivot(index='popularity_order', columns='win_odds', values='investment_amount')\n",
    "investment_amount_pivot.style.background_gradient(cmap='Blues')"
   ]
  },
  {
   "cell_type": "code",
   "execution_count": null,
   "metadata": {
    "scrolled": false
   },
   "outputs": [],
   "source": [
    "profit_amount_pivot = profit_amount_groupby.pivot(index='popularity_order', columns='win_odds', values='profit_amount')\n",
    "profit_amount_pivot.style.background_gradient(cmap='Blues')"
   ]
  },
  {
   "cell_type": "code",
   "execution_count": null,
   "metadata": {
    "scrolled": false
   },
   "outputs": [],
   "source": [
    "profit_rate_pivot = profit_amount_groupby.pivot(index='popularity_order', columns='win_odds', values='profit_rate')\n",
    "profit_rate_pivot.style.background_gradient(cmap='Blues')"
   ]
  },
  {
   "cell_type": "markdown",
   "metadata": {},
   "source": [
    "- 予想順位が8位以下の場合は回収率が悪くなる\n",
    "    - 10位以下のデータは（学習の際に）差っ引いても良いかもしれない\n",
    "- オッズ比に関しては、閾値による差はそこまでない\n",
    "    - あまり高い閾値で切っても投資量が減って意味がないので"
   ]
  },
  {
   "cell_type": "markdown",
   "metadata": {},
   "source": [
    "#### データ数の可視化"
   ]
  },
  {
   "cell_type": "code",
   "execution_count": null,
   "metadata": {
    "scrolled": true
   },
   "outputs": [],
   "source": [
    "ariival_order_cnt = df_for_eda_2.groupby('arrival_order', as_index=False).count()[['arrival_order', 'race_id']]\n",
    "ariival_order_cnt = ariival_order_cnt.query(\"arrival_order not in ['', '中止']\").astype({'arrival_order': int}).sort_values('arrival_order')\n",
    "ariival_order_cnt = ariival_order_cnt.astype({'arrival_order': str})\n",
    "ariival_order_cnt"
   ]
  },
  {
   "cell_type": "code",
   "execution_count": null,
   "metadata": {
    "scrolled": false
   },
   "outputs": [],
   "source": [
    "fig = plt.figure(figsize=(15, 8), dpi=100)\n",
    "ax = fig.add_subplot(1, 1, 1)\n",
    "ax.bar(ariival_order_cnt['arrival_order'], ariival_order_cnt['race_id'], alpha=0.8)\n",
    "plt.show()"
   ]
  },
  {
   "cell_type": "markdown",
   "metadata": {},
   "source": [
    "## Preprocess / Modeling"
   ]
  },
  {
   "cell_type": "code",
   "execution_count": 214,
   "metadata": {},
   "outputs": [],
   "source": [
    "# functions for Preprocess \n",
    "def _define_target_variable(row, time_diff, model_type, obj_type):\n",
    "    if model_type == 'tansho' and obj_type == 'odds_or_zero':\n",
    "        if row['arrival_order'] == 1 or row['arrival_sec_diff_from_first'] < time_diff:\n",
    "            return row['win_odds']\n",
    "        else:\n",
    "            return 0\n",
    "    elif model_type == 'tansho' and obj_type == 'one_or_zero':\n",
    "        if row['arrival_order'] == 1 or row['arrival_sec_diff_from_first'] < time_diff:\n",
    "            return 1\n",
    "        else:\n",
    "            return 0\n",
    "    elif model_type == 'fukusho' and obj_type == 'one_or_zero':\n",
    "        if row['arrival_order'] in [1, 2, 3] or row['arrival_sec_diff_from_first'] < time_diff:\n",
    "            return 1\n",
    "        else:\n",
    "            return 0\n",
    "\n",
    "        \n",
    "def preprocess_target_variable(df, time_diff, model_type, obj_type):\n",
    "    df['y'] = df.apply(_define_target_variable, axis=1, time_diff = time_diff, model_type=model_type, obj_type=obj_type)\n",
    "    return df\n",
    "\n",
    "def subset_datamart(df, thr_pop_order):\n",
    "    df = df[df['popularity_order'] < thr_pop_order]\n",
    "    return df\n",
    "\n",
    "\n",
    "# functions for Modeling\n",
    "def make_train_test_data(parameters, dataset, how_to_select):\n",
    "    index_cols = parameters['TRAIN_TEST_SPLIT']['INDEX_COL']\n",
    "    if how_to_select == 'include':\n",
    "        feature_cols = parameters['TRAIN_TEST_SPLIT']['FEATURE_COLS']\n",
    "    elif how_to_select == 'exclude':\n",
    "        feature_cols = [col for col in list(dataset.columns) if col not in parameters['TRAIN_TEST_SPLIT']['EXCLUDE_COL']]\n",
    "    target_col = parameters['TRAIN_TEST_SPLIT']['TARGET_COL']\n",
    "    criteria_to_split_dict = parameters['TRAIN_TEST_SPLIT']['CRITERIA_TO_SPLIT_DATA']\n",
    "    \n",
    "    train_df = pd.DataFrame()\n",
    "    train_df = pd.concat([train_df, dataset[dataset['race_year'] < criteria_to_split_dict['race_year']]])\n",
    "    train_df = pd.concat([train_df, dataset[\n",
    "        (dataset['race_year'] == criteria_to_split_dict['race_year']) & \n",
    "        (dataset['race_month'] <= criteria_to_split_dict['race_month'])\n",
    "    ]])\n",
    "    Idx_train = train_df[index_cols]\n",
    "    X_train = train_df[feature_cols]\n",
    "    y_train = train_df[target_col]\n",
    "    \n",
    "    test_df = pd.DataFrame()\n",
    "    test_df = pd.concat([test_df, dataset[dataset['race_year'] > criteria_to_split_dict['race_year']]])\n",
    "    test_df = pd.concat([test_df, dataset[\n",
    "        (dataset['race_year'] == criteria_to_split_dict['race_year']) & \n",
    "        (dataset['race_month'] > criteria_to_split_dict['race_month'])\n",
    "    ]])\n",
    "    Idx_test = test_df[index_cols]\n",
    "    X_test = test_df[feature_cols]\n",
    "    y_test = test_df[target_col]\n",
    "\n",
    "    return Idx_train, X_train, y_train, Idx_test, X_test, y_test\n",
    "\n",
    "\n",
    "def fit_model_into_data_by(parameters, model_type, X_train, X_test, y_train, y_test):\n",
    "    if model_type == 'h2o_reg' or model_type == 'h2o_clf':\n",
    "        x=list(X_train.columns)\n",
    "        y=parameters['TRAIN_TEST_SPLIT']['TARGET_COL']\n",
    "        h2o.init(ip=\"127.0.0.1\", max_mem_size_GB=4)\n",
    "        hdf = h2o.H2OFrame(pd.concat([X_train, y_train], axis=1))\n",
    "        \n",
    "        if model_type == 'h2o_clf':\n",
    "            hdf[y] = hdf[y].asfactor()\n",
    "        \n",
    "        aml = H2OAutoML(max_models=5, seed=1, max_runtime_secs=432000)\n",
    "        aml.train(\n",
    "            x=list(X_train.columns),\n",
    "            y=parameters['TRAIN_TEST_SPLIT']['TARGET_COL'],\n",
    "            training_frame=hdf\n",
    "        )\n",
    "        # lb = aml.leaderboard\n",
    "        # print(lb.head(rows=lb.nrows))\n",
    "        model_path = h2o.save_model(\n",
    "            model=aml.leader,\n",
    "            path=parameters['DIR_NAME_OF_MODEL_PICKLE']+'fitted_'+model_type+'_model',\n",
    "            force=True\n",
    "        )\n",
    "        saved_model = h2o.load_model(model_path)\n",
    "        y_test_pred = saved_model.predict(h2o.H2OFrame(X_test)).as_data_frame()\n",
    "        \n",
    "    elif model_type == 'rf':\n",
    "        rf_reg = RandomForestRegressor(\n",
    "            n_estimators=1000,\n",
    "            max_depth=10,\n",
    "            max_features='sqrt',\n",
    "            n_jobs=-1,\n",
    "            verbose=1,\n",
    "            random_state=1\n",
    "        )\n",
    "        rf_reg.fit(X_train, y_train)\n",
    "        joblib.dump(rf_reg, parameters['DIR_NAME_OF_MODEL_PICKLE']+'fitted_'+model_type+'_model.pkl')\n",
    "        y_test_pred = rf_reg.predict(X_test)\n",
    "\n",
    "    return y_test_pred"
   ]
  },
  {
   "cell_type": "markdown",
   "metadata": {},
   "source": [
    "### 単勝予測モデル\n",
    "- 0/1、もしくは、1位回収率（1位もしくは1位とタイム僅差だったらオッズ比、それ以外は0）を目的変数？\n",
    "    - 後者の場合は、べき分布となっているので、目的変数は対数変換？\n",
    "- レース毎に予測値が最大の馬が閾値を超えたら購入する？"
   ]
  },
  {
   "cell_type": "code",
   "execution_count": 162,
   "metadata": {},
   "outputs": [],
   "source": [
    "datamart = _get_data_frame_from_db(\n",
    "        query_file_path='SqlQuery/extract_data_mart_for_modeling.sql', \n",
    "        col_name_list=parameters['DATAFRAME_COL_NAMES']['DATAMART_FOR_MODEL_COLS'],\n",
    "        con=con\n",
    ")"
   ]
  },
  {
   "cell_type": "code",
   "execution_count": 215,
   "metadata": {
    "scrolled": true
   },
   "outputs": [
    {
     "name": "stdout",
     "output_type": "stream",
     "text": [
      "(603556, 36)\n"
     ]
    },
    {
     "data": {
      "text/html": [
       "<div>\n",
       "<style scoped>\n",
       "    .dataframe tbody tr th:only-of-type {\n",
       "        vertical-align: middle;\n",
       "    }\n",
       "\n",
       "    .dataframe tbody tr th {\n",
       "        vertical-align: top;\n",
       "    }\n",
       "\n",
       "    .dataframe thead th {\n",
       "        text-align: right;\n",
       "    }\n",
       "</style>\n",
       "<table border=\"1\" class=\"dataframe\">\n",
       "  <thead>\n",
       "    <tr style=\"text-align: right;\">\n",
       "      <th></th>\n",
       "      <th>race_id</th>\n",
       "      <th>horse_num</th>\n",
       "      <th>race_horse_id</th>\n",
       "      <th>bracket_num</th>\n",
       "      <th>race_place</th>\n",
       "      <th>race_kai</th>\n",
       "      <th>race_nichi</th>\n",
       "      <th>race_round</th>\n",
       "      <th>race_year</th>\n",
       "      <th>race_month</th>\n",
       "      <th>race_date</th>\n",
       "      <th>race_dow</th>\n",
       "      <th>race_course_baba</th>\n",
       "      <th>race_course_distance</th>\n",
       "      <th>race_course_mawari</th>\n",
       "      <th>race_weather</th>\n",
       "      <th>race_condition</th>\n",
       "      <th>starting_hour</th>\n",
       "      <th>starting_minutes</th>\n",
       "      <th>href_to_horse</th>\n",
       "      <th>horse_age</th>\n",
       "      <th>horse_sex</th>\n",
       "      <th>weight_penalty</th>\n",
       "      <th>weight_penalty_diff_from_avg</th>\n",
       "      <th>href_to_jockey</th>\n",
       "      <th>href_to_owner</th>\n",
       "      <th>popularity_order</th>\n",
       "      <th>win_odds</th>\n",
       "      <th>count_of_latest_runs</th>\n",
       "      <th>avg_arrival_order</th>\n",
       "      <th>std_arrival_order</th>\n",
       "      <th>latest_arrival_order</th>\n",
       "      <th>arrival_order</th>\n",
       "      <th>arrival_sec_diff_from_first</th>\n",
       "      <th>refund_yen</th>\n",
       "      <th>y</th>\n",
       "    </tr>\n",
       "  </thead>\n",
       "  <tbody>\n",
       "    <tr>\n",
       "      <th>0</th>\n",
       "      <td>200801010101</td>\n",
       "      <td>1</td>\n",
       "      <td>200801010101_01</td>\n",
       "      <td>1</td>\n",
       "      <td>1</td>\n",
       "      <td>1</td>\n",
       "      <td>1</td>\n",
       "      <td>1</td>\n",
       "      <td>2008</td>\n",
       "      <td>8</td>\n",
       "      <td>16</td>\n",
       "      <td>土</td>\n",
       "      <td>芝</td>\n",
       "      <td>1500</td>\n",
       "      <td>右</td>\n",
       "      <td>曇</td>\n",
       "      <td>良</td>\n",
       "      <td>10</td>\n",
       "      <td>40</td>\n",
       "      <td>https://db.netkeiba.com/horse/2006104966/</td>\n",
       "      <td>2</td>\n",
       "      <td>牡</td>\n",
       "      <td>54.0</td>\n",
       "      <td>0.43</td>\n",
       "      <td>https://db.netkeiba.com/jockey/00945/</td>\n",
       "      <td>https://db.netkeiba.com/trainer/01059/</td>\n",
       "      <td>1</td>\n",
       "      <td>3.1</td>\n",
       "      <td>1.0</td>\n",
       "      <td>3.0</td>\n",
       "      <td>0.0</td>\n",
       "      <td>3.0</td>\n",
       "      <td>3.0</td>\n",
       "      <td>0.008</td>\n",
       "      <td>0</td>\n",
       "      <td>0</td>\n",
       "    </tr>\n",
       "    <tr>\n",
       "      <th>1</th>\n",
       "      <td>200801010101</td>\n",
       "      <td>2</td>\n",
       "      <td>200801010101_02</td>\n",
       "      <td>2</td>\n",
       "      <td>1</td>\n",
       "      <td>1</td>\n",
       "      <td>1</td>\n",
       "      <td>1</td>\n",
       "      <td>2008</td>\n",
       "      <td>8</td>\n",
       "      <td>16</td>\n",
       "      <td>土</td>\n",
       "      <td>芝</td>\n",
       "      <td>1500</td>\n",
       "      <td>右</td>\n",
       "      <td>曇</td>\n",
       "      <td>良</td>\n",
       "      <td>10</td>\n",
       "      <td>40</td>\n",
       "      <td>https://db.netkeiba.com/horse/2006110090/</td>\n",
       "      <td>2</td>\n",
       "      <td>牝</td>\n",
       "      <td>54.0</td>\n",
       "      <td>0.43</td>\n",
       "      <td>https://db.netkeiba.com/jockey/01084/</td>\n",
       "      <td>https://db.netkeiba.com/trainer/00419/</td>\n",
       "      <td>6</td>\n",
       "      <td>21.9</td>\n",
       "      <td>1.0</td>\n",
       "      <td>9.0</td>\n",
       "      <td>0.0</td>\n",
       "      <td>9.0</td>\n",
       "      <td>5.0</td>\n",
       "      <td>0.010</td>\n",
       "      <td>0</td>\n",
       "      <td>0</td>\n",
       "    </tr>\n",
       "    <tr>\n",
       "      <th>2</th>\n",
       "      <td>200801010101</td>\n",
       "      <td>3</td>\n",
       "      <td>200801010101_03</td>\n",
       "      <td>3</td>\n",
       "      <td>1</td>\n",
       "      <td>1</td>\n",
       "      <td>1</td>\n",
       "      <td>1</td>\n",
       "      <td>2008</td>\n",
       "      <td>8</td>\n",
       "      <td>16</td>\n",
       "      <td>土</td>\n",
       "      <td>芝</td>\n",
       "      <td>1500</td>\n",
       "      <td>右</td>\n",
       "      <td>曇</td>\n",
       "      <td>良</td>\n",
       "      <td>10</td>\n",
       "      <td>40</td>\n",
       "      <td>https://db.netkeiba.com/horse/2006104842/</td>\n",
       "      <td>2</td>\n",
       "      <td>牡</td>\n",
       "      <td>54.0</td>\n",
       "      <td>0.43</td>\n",
       "      <td>https://db.netkeiba.com/jockey/01032/</td>\n",
       "      <td>https://db.netkeiba.com/trainer/01016/</td>\n",
       "      <td>3</td>\n",
       "      <td>4.6</td>\n",
       "      <td>2.0</td>\n",
       "      <td>2.5</td>\n",
       "      <td>0.5</td>\n",
       "      <td>3.0</td>\n",
       "      <td>6.0</td>\n",
       "      <td>1.667</td>\n",
       "      <td>0</td>\n",
       "      <td>0</td>\n",
       "    </tr>\n",
       "    <tr>\n",
       "      <th>3</th>\n",
       "      <td>200801010101</td>\n",
       "      <td>4</td>\n",
       "      <td>200801010101_04</td>\n",
       "      <td>3</td>\n",
       "      <td>1</td>\n",
       "      <td>1</td>\n",
       "      <td>1</td>\n",
       "      <td>1</td>\n",
       "      <td>2008</td>\n",
       "      <td>8</td>\n",
       "      <td>16</td>\n",
       "      <td>土</td>\n",
       "      <td>芝</td>\n",
       "      <td>1500</td>\n",
       "      <td>右</td>\n",
       "      <td>曇</td>\n",
       "      <td>良</td>\n",
       "      <td>10</td>\n",
       "      <td>40</td>\n",
       "      <td>https://db.netkeiba.com/horse/2006104817/</td>\n",
       "      <td>2</td>\n",
       "      <td>牡</td>\n",
       "      <td>54.0</td>\n",
       "      <td>0.43</td>\n",
       "      <td>https://db.netkeiba.com/jockey/01026/</td>\n",
       "      <td>https://db.netkeiba.com/trainer/00401/</td>\n",
       "      <td>9</td>\n",
       "      <td>46.9</td>\n",
       "      <td>1.0</td>\n",
       "      <td>5.0</td>\n",
       "      <td>0.0</td>\n",
       "      <td>5.0</td>\n",
       "      <td>12.0</td>\n",
       "      <td>1.678</td>\n",
       "      <td>0</td>\n",
       "      <td>0</td>\n",
       "    </tr>\n",
       "    <tr>\n",
       "      <th>4</th>\n",
       "      <td>200801010101</td>\n",
       "      <td>5</td>\n",
       "      <td>200801010101_05</td>\n",
       "      <td>4</td>\n",
       "      <td>1</td>\n",
       "      <td>1</td>\n",
       "      <td>1</td>\n",
       "      <td>1</td>\n",
       "      <td>2008</td>\n",
       "      <td>8</td>\n",
       "      <td>16</td>\n",
       "      <td>土</td>\n",
       "      <td>芝</td>\n",
       "      <td>1500</td>\n",
       "      <td>右</td>\n",
       "      <td>曇</td>\n",
       "      <td>良</td>\n",
       "      <td>10</td>\n",
       "      <td>40</td>\n",
       "      <td>https://db.netkeiba.com/horse/2006102676/</td>\n",
       "      <td>2</td>\n",
       "      <td>牡</td>\n",
       "      <td>53.0</td>\n",
       "      <td>-0.57</td>\n",
       "      <td>https://db.netkeiba.com/jockey/01102/</td>\n",
       "      <td>https://db.netkeiba.com/trainer/00412/</td>\n",
       "      <td>11</td>\n",
       "      <td>111.7</td>\n",
       "      <td>1.0</td>\n",
       "      <td>9.0</td>\n",
       "      <td>0.0</td>\n",
       "      <td>9.0</td>\n",
       "      <td>9.0</td>\n",
       "      <td>1.668</td>\n",
       "      <td>0</td>\n",
       "      <td>0</td>\n",
       "    </tr>\n",
       "  </tbody>\n",
       "</table>\n",
       "</div>"
      ],
      "text/plain": [
       "        race_id  horse_num    race_horse_id  bracket_num  race_place  \\\n",
       "0  200801010101          1  200801010101_01            1           1   \n",
       "1  200801010101          2  200801010101_02            2           1   \n",
       "2  200801010101          3  200801010101_03            3           1   \n",
       "3  200801010101          4  200801010101_04            3           1   \n",
       "4  200801010101          5  200801010101_05            4           1   \n",
       "\n",
       "   race_kai  race_nichi  race_round  race_year  race_month  race_date  \\\n",
       "0         1           1           1       2008           8         16   \n",
       "1         1           1           1       2008           8         16   \n",
       "2         1           1           1       2008           8         16   \n",
       "3         1           1           1       2008           8         16   \n",
       "4         1           1           1       2008           8         16   \n",
       "\n",
       "  race_dow race_course_baba  race_course_distance race_course_mawari  \\\n",
       "0        土                芝                  1500                  右   \n",
       "1        土                芝                  1500                  右   \n",
       "2        土                芝                  1500                  右   \n",
       "3        土                芝                  1500                  右   \n",
       "4        土                芝                  1500                  右   \n",
       "\n",
       "  race_weather race_condition  starting_hour  starting_minutes  \\\n",
       "0           曇              良              10                40   \n",
       "1           曇              良              10                40   \n",
       "2           曇              良              10                40   \n",
       "3           曇              良              10                40   \n",
       "4           曇              良              10                40   \n",
       "\n",
       "                               href_to_horse  horse_age horse_sex  \\\n",
       "0  https://db.netkeiba.com/horse/2006104966/          2         牡   \n",
       "1  https://db.netkeiba.com/horse/2006110090/          2         牝   \n",
       "2  https://db.netkeiba.com/horse/2006104842/          2         牡   \n",
       "3  https://db.netkeiba.com/horse/2006104817/          2         牡   \n",
       "4  https://db.netkeiba.com/horse/2006102676/          2         牡   \n",
       "\n",
       "   weight_penalty  weight_penalty_diff_from_avg  \\\n",
       "0            54.0                          0.43   \n",
       "1            54.0                          0.43   \n",
       "2            54.0                          0.43   \n",
       "3            54.0                          0.43   \n",
       "4            53.0                         -0.57   \n",
       "\n",
       "                          href_to_jockey  \\\n",
       "0  https://db.netkeiba.com/jockey/00945/   \n",
       "1  https://db.netkeiba.com/jockey/01084/   \n",
       "2  https://db.netkeiba.com/jockey/01032/   \n",
       "3  https://db.netkeiba.com/jockey/01026/   \n",
       "4  https://db.netkeiba.com/jockey/01102/   \n",
       "\n",
       "                            href_to_owner  popularity_order  win_odds  \\\n",
       "0  https://db.netkeiba.com/trainer/01059/                 1       3.1   \n",
       "1  https://db.netkeiba.com/trainer/00419/                 6      21.9   \n",
       "2  https://db.netkeiba.com/trainer/01016/                 3       4.6   \n",
       "3  https://db.netkeiba.com/trainer/00401/                 9      46.9   \n",
       "4  https://db.netkeiba.com/trainer/00412/                11     111.7   \n",
       "\n",
       "   count_of_latest_runs  avg_arrival_order  std_arrival_order  \\\n",
       "0                   1.0                3.0                0.0   \n",
       "1                   1.0                9.0                0.0   \n",
       "2                   2.0                2.5                0.5   \n",
       "3                   1.0                5.0                0.0   \n",
       "4                   1.0                9.0                0.0   \n",
       "\n",
       "   latest_arrival_order  arrival_order  arrival_sec_diff_from_first  \\\n",
       "0                   3.0            3.0                        0.008   \n",
       "1                   9.0            5.0                        0.010   \n",
       "2                   3.0            6.0                        1.667   \n",
       "3                   5.0           12.0                        1.678   \n",
       "4                   9.0            9.0                        1.668   \n",
       "\n",
       "   refund_yen  y  \n",
       "0           0  0  \n",
       "1           0  0  \n",
       "2           0  0  \n",
       "3           0  0  \n",
       "4           0  0  "
      ]
     },
     "execution_count": 215,
     "metadata": {},
     "output_type": "execute_result"
    }
   ],
   "source": [
    "print(datamart.shape)\n",
    "datamart.head()"
   ]
  },
  {
   "cell_type": "markdown",
   "metadata": {},
   "source": [
    "#### パターン1: 目的変数は0/1・予想順位とオッズ比のみを特徴量とした場合\n",
    "- 目的変数: 1位であれば1、それ以外は0\n",
    "- 学習データの対象範囲：\n",
    "    - 1. 競馬場毎にモデルを分ける?\n",
    "    - 2. 10位未満の予想順位のみに絞る?"
   ]
  },
  {
   "cell_type": "markdown",
   "metadata": {},
   "source": [
    "##### 前処理"
   ]
  },
  {
   "cell_type": "code",
   "execution_count": 216,
   "metadata": {
    "scrolled": false
   },
   "outputs": [
    {
     "data": {
      "text/html": [
       "<div>\n",
       "<style scoped>\n",
       "    .dataframe tbody tr th:only-of-type {\n",
       "        vertical-align: middle;\n",
       "    }\n",
       "\n",
       "    .dataframe tbody tr th {\n",
       "        vertical-align: top;\n",
       "    }\n",
       "\n",
       "    .dataframe thead th {\n",
       "        text-align: right;\n",
       "    }\n",
       "</style>\n",
       "<table border=\"1\" class=\"dataframe\">\n",
       "  <thead>\n",
       "    <tr style=\"text-align: right;\">\n",
       "      <th></th>\n",
       "      <th>race_id</th>\n",
       "      <th>horse_num</th>\n",
       "      <th>race_horse_id</th>\n",
       "      <th>bracket_num</th>\n",
       "      <th>race_place</th>\n",
       "      <th>race_kai</th>\n",
       "      <th>race_nichi</th>\n",
       "      <th>race_round</th>\n",
       "      <th>race_year</th>\n",
       "      <th>race_month</th>\n",
       "      <th>race_date</th>\n",
       "      <th>race_dow</th>\n",
       "      <th>race_course_baba</th>\n",
       "      <th>race_course_distance</th>\n",
       "      <th>race_course_mawari</th>\n",
       "      <th>race_weather</th>\n",
       "      <th>race_condition</th>\n",
       "      <th>starting_hour</th>\n",
       "      <th>starting_minutes</th>\n",
       "      <th>href_to_horse</th>\n",
       "      <th>horse_age</th>\n",
       "      <th>horse_sex</th>\n",
       "      <th>weight_penalty</th>\n",
       "      <th>weight_penalty_diff_from_avg</th>\n",
       "      <th>href_to_jockey</th>\n",
       "      <th>href_to_owner</th>\n",
       "      <th>popularity_order</th>\n",
       "      <th>win_odds</th>\n",
       "      <th>count_of_latest_runs</th>\n",
       "      <th>avg_arrival_order</th>\n",
       "      <th>std_arrival_order</th>\n",
       "      <th>latest_arrival_order</th>\n",
       "      <th>arrival_order</th>\n",
       "      <th>arrival_sec_diff_from_first</th>\n",
       "      <th>refund_yen</th>\n",
       "      <th>y</th>\n",
       "    </tr>\n",
       "  </thead>\n",
       "  <tbody>\n",
       "    <tr>\n",
       "      <th>0</th>\n",
       "      <td>200801010101</td>\n",
       "      <td>1</td>\n",
       "      <td>200801010101_01</td>\n",
       "      <td>1</td>\n",
       "      <td>1</td>\n",
       "      <td>1</td>\n",
       "      <td>1</td>\n",
       "      <td>1</td>\n",
       "      <td>2008</td>\n",
       "      <td>8</td>\n",
       "      <td>16</td>\n",
       "      <td>土</td>\n",
       "      <td>芝</td>\n",
       "      <td>1500</td>\n",
       "      <td>右</td>\n",
       "      <td>曇</td>\n",
       "      <td>良</td>\n",
       "      <td>10</td>\n",
       "      <td>40</td>\n",
       "      <td>https://db.netkeiba.com/horse/2006104966/</td>\n",
       "      <td>2</td>\n",
       "      <td>牡</td>\n",
       "      <td>54.0</td>\n",
       "      <td>0.43</td>\n",
       "      <td>https://db.netkeiba.com/jockey/00945/</td>\n",
       "      <td>https://db.netkeiba.com/trainer/01059/</td>\n",
       "      <td>1</td>\n",
       "      <td>3.1</td>\n",
       "      <td>1.0</td>\n",
       "      <td>3.0</td>\n",
       "      <td>0.0</td>\n",
       "      <td>3.0</td>\n",
       "      <td>3.0</td>\n",
       "      <td>0.008</td>\n",
       "      <td>0</td>\n",
       "      <td>1</td>\n",
       "    </tr>\n",
       "    <tr>\n",
       "      <th>1</th>\n",
       "      <td>200801010101</td>\n",
       "      <td>2</td>\n",
       "      <td>200801010101_02</td>\n",
       "      <td>2</td>\n",
       "      <td>1</td>\n",
       "      <td>1</td>\n",
       "      <td>1</td>\n",
       "      <td>1</td>\n",
       "      <td>2008</td>\n",
       "      <td>8</td>\n",
       "      <td>16</td>\n",
       "      <td>土</td>\n",
       "      <td>芝</td>\n",
       "      <td>1500</td>\n",
       "      <td>右</td>\n",
       "      <td>曇</td>\n",
       "      <td>良</td>\n",
       "      <td>10</td>\n",
       "      <td>40</td>\n",
       "      <td>https://db.netkeiba.com/horse/2006110090/</td>\n",
       "      <td>2</td>\n",
       "      <td>牝</td>\n",
       "      <td>54.0</td>\n",
       "      <td>0.43</td>\n",
       "      <td>https://db.netkeiba.com/jockey/01084/</td>\n",
       "      <td>https://db.netkeiba.com/trainer/00419/</td>\n",
       "      <td>6</td>\n",
       "      <td>21.9</td>\n",
       "      <td>1.0</td>\n",
       "      <td>9.0</td>\n",
       "      <td>0.0</td>\n",
       "      <td>9.0</td>\n",
       "      <td>5.0</td>\n",
       "      <td>0.010</td>\n",
       "      <td>0</td>\n",
       "      <td>0</td>\n",
       "    </tr>\n",
       "    <tr>\n",
       "      <th>2</th>\n",
       "      <td>200801010101</td>\n",
       "      <td>3</td>\n",
       "      <td>200801010101_03</td>\n",
       "      <td>3</td>\n",
       "      <td>1</td>\n",
       "      <td>1</td>\n",
       "      <td>1</td>\n",
       "      <td>1</td>\n",
       "      <td>2008</td>\n",
       "      <td>8</td>\n",
       "      <td>16</td>\n",
       "      <td>土</td>\n",
       "      <td>芝</td>\n",
       "      <td>1500</td>\n",
       "      <td>右</td>\n",
       "      <td>曇</td>\n",
       "      <td>良</td>\n",
       "      <td>10</td>\n",
       "      <td>40</td>\n",
       "      <td>https://db.netkeiba.com/horse/2006104842/</td>\n",
       "      <td>2</td>\n",
       "      <td>牡</td>\n",
       "      <td>54.0</td>\n",
       "      <td>0.43</td>\n",
       "      <td>https://db.netkeiba.com/jockey/01032/</td>\n",
       "      <td>https://db.netkeiba.com/trainer/01016/</td>\n",
       "      <td>3</td>\n",
       "      <td>4.6</td>\n",
       "      <td>2.0</td>\n",
       "      <td>2.5</td>\n",
       "      <td>0.5</td>\n",
       "      <td>3.0</td>\n",
       "      <td>6.0</td>\n",
       "      <td>1.667</td>\n",
       "      <td>0</td>\n",
       "      <td>0</td>\n",
       "    </tr>\n",
       "    <tr>\n",
       "      <th>3</th>\n",
       "      <td>200801010101</td>\n",
       "      <td>4</td>\n",
       "      <td>200801010101_04</td>\n",
       "      <td>3</td>\n",
       "      <td>1</td>\n",
       "      <td>1</td>\n",
       "      <td>1</td>\n",
       "      <td>1</td>\n",
       "      <td>2008</td>\n",
       "      <td>8</td>\n",
       "      <td>16</td>\n",
       "      <td>土</td>\n",
       "      <td>芝</td>\n",
       "      <td>1500</td>\n",
       "      <td>右</td>\n",
       "      <td>曇</td>\n",
       "      <td>良</td>\n",
       "      <td>10</td>\n",
       "      <td>40</td>\n",
       "      <td>https://db.netkeiba.com/horse/2006104817/</td>\n",
       "      <td>2</td>\n",
       "      <td>牡</td>\n",
       "      <td>54.0</td>\n",
       "      <td>0.43</td>\n",
       "      <td>https://db.netkeiba.com/jockey/01026/</td>\n",
       "      <td>https://db.netkeiba.com/trainer/00401/</td>\n",
       "      <td>9</td>\n",
       "      <td>46.9</td>\n",
       "      <td>1.0</td>\n",
       "      <td>5.0</td>\n",
       "      <td>0.0</td>\n",
       "      <td>5.0</td>\n",
       "      <td>12.0</td>\n",
       "      <td>1.678</td>\n",
       "      <td>0</td>\n",
       "      <td>0</td>\n",
       "    </tr>\n",
       "    <tr>\n",
       "      <th>4</th>\n",
       "      <td>200801010101</td>\n",
       "      <td>5</td>\n",
       "      <td>200801010101_05</td>\n",
       "      <td>4</td>\n",
       "      <td>1</td>\n",
       "      <td>1</td>\n",
       "      <td>1</td>\n",
       "      <td>1</td>\n",
       "      <td>2008</td>\n",
       "      <td>8</td>\n",
       "      <td>16</td>\n",
       "      <td>土</td>\n",
       "      <td>芝</td>\n",
       "      <td>1500</td>\n",
       "      <td>右</td>\n",
       "      <td>曇</td>\n",
       "      <td>良</td>\n",
       "      <td>10</td>\n",
       "      <td>40</td>\n",
       "      <td>https://db.netkeiba.com/horse/2006102676/</td>\n",
       "      <td>2</td>\n",
       "      <td>牡</td>\n",
       "      <td>53.0</td>\n",
       "      <td>-0.57</td>\n",
       "      <td>https://db.netkeiba.com/jockey/01102/</td>\n",
       "      <td>https://db.netkeiba.com/trainer/00412/</td>\n",
       "      <td>11</td>\n",
       "      <td>111.7</td>\n",
       "      <td>1.0</td>\n",
       "      <td>9.0</td>\n",
       "      <td>0.0</td>\n",
       "      <td>9.0</td>\n",
       "      <td>9.0</td>\n",
       "      <td>1.668</td>\n",
       "      <td>0</td>\n",
       "      <td>0</td>\n",
       "    </tr>\n",
       "  </tbody>\n",
       "</table>\n",
       "</div>"
      ],
      "text/plain": [
       "        race_id  horse_num    race_horse_id  bracket_num  race_place  \\\n",
       "0  200801010101          1  200801010101_01            1           1   \n",
       "1  200801010101          2  200801010101_02            2           1   \n",
       "2  200801010101          3  200801010101_03            3           1   \n",
       "3  200801010101          4  200801010101_04            3           1   \n",
       "4  200801010101          5  200801010101_05            4           1   \n",
       "\n",
       "   race_kai  race_nichi  race_round  race_year  race_month  race_date  \\\n",
       "0         1           1           1       2008           8         16   \n",
       "1         1           1           1       2008           8         16   \n",
       "2         1           1           1       2008           8         16   \n",
       "3         1           1           1       2008           8         16   \n",
       "4         1           1           1       2008           8         16   \n",
       "\n",
       "  race_dow race_course_baba  race_course_distance race_course_mawari  \\\n",
       "0        土                芝                  1500                  右   \n",
       "1        土                芝                  1500                  右   \n",
       "2        土                芝                  1500                  右   \n",
       "3        土                芝                  1500                  右   \n",
       "4        土                芝                  1500                  右   \n",
       "\n",
       "  race_weather race_condition  starting_hour  starting_minutes  \\\n",
       "0           曇              良              10                40   \n",
       "1           曇              良              10                40   \n",
       "2           曇              良              10                40   \n",
       "3           曇              良              10                40   \n",
       "4           曇              良              10                40   \n",
       "\n",
       "                               href_to_horse  horse_age horse_sex  \\\n",
       "0  https://db.netkeiba.com/horse/2006104966/          2         牡   \n",
       "1  https://db.netkeiba.com/horse/2006110090/          2         牝   \n",
       "2  https://db.netkeiba.com/horse/2006104842/          2         牡   \n",
       "3  https://db.netkeiba.com/horse/2006104817/          2         牡   \n",
       "4  https://db.netkeiba.com/horse/2006102676/          2         牡   \n",
       "\n",
       "   weight_penalty  weight_penalty_diff_from_avg  \\\n",
       "0            54.0                          0.43   \n",
       "1            54.0                          0.43   \n",
       "2            54.0                          0.43   \n",
       "3            54.0                          0.43   \n",
       "4            53.0                         -0.57   \n",
       "\n",
       "                          href_to_jockey  \\\n",
       "0  https://db.netkeiba.com/jockey/00945/   \n",
       "1  https://db.netkeiba.com/jockey/01084/   \n",
       "2  https://db.netkeiba.com/jockey/01032/   \n",
       "3  https://db.netkeiba.com/jockey/01026/   \n",
       "4  https://db.netkeiba.com/jockey/01102/   \n",
       "\n",
       "                            href_to_owner  popularity_order  win_odds  \\\n",
       "0  https://db.netkeiba.com/trainer/01059/                 1       3.1   \n",
       "1  https://db.netkeiba.com/trainer/00419/                 6      21.9   \n",
       "2  https://db.netkeiba.com/trainer/01016/                 3       4.6   \n",
       "3  https://db.netkeiba.com/trainer/00401/                 9      46.9   \n",
       "4  https://db.netkeiba.com/trainer/00412/                11     111.7   \n",
       "\n",
       "   count_of_latest_runs  avg_arrival_order  std_arrival_order  \\\n",
       "0                   1.0                3.0                0.0   \n",
       "1                   1.0                9.0                0.0   \n",
       "2                   2.0                2.5                0.5   \n",
       "3                   1.0                5.0                0.0   \n",
       "4                   1.0                9.0                0.0   \n",
       "\n",
       "   latest_arrival_order  arrival_order  arrival_sec_diff_from_first  \\\n",
       "0                   3.0            3.0                        0.008   \n",
       "1                   9.0            5.0                        0.010   \n",
       "2                   3.0            6.0                        1.667   \n",
       "3                   5.0           12.0                        1.678   \n",
       "4                   9.0            9.0                        1.668   \n",
       "\n",
       "   refund_yen  y  \n",
       "0           0  1  \n",
       "1           0  0  \n",
       "2           0  0  \n",
       "3           0  0  \n",
       "4           0  0  "
      ]
     },
     "execution_count": 216,
     "metadata": {},
     "output_type": "execute_result"
    }
   ],
   "source": [
    "# datamart = subset_datamart(df=datamart, thr_pop_order=10)\n",
    "datamart = preprocess_target_variable(df=datamart, time_diff = 0.000, model_type='fukusho', obj_type='one_or_zero')\n",
    "datamart.head()"
   ]
  },
  {
   "cell_type": "code",
   "execution_count": 217,
   "metadata": {},
   "outputs": [
    {
     "name": "stdout",
     "output_type": "stream",
     "text": [
      "0\n",
      "1\n"
     ]
    }
   ],
   "source": [
    "print(min(datamart['y']))\n",
    "print(max(datamart['y']))"
   ]
  },
  {
   "cell_type": "markdown",
   "metadata": {},
   "source": [
    "##### 目的変数に関する可視化"
   ]
  },
  {
   "cell_type": "code",
   "execution_count": 218,
   "metadata": {
    "scrolled": false
   },
   "outputs": [],
   "source": [
    "# fig = plt.figure(figsize=(15, 8), dpi=100)\n",
    "# ax = fig.add_subplot(1, 1, 1)\n",
    "# ax.hist(datamart['y'], alpha=0.6)\n",
    "# plt.show()"
   ]
  },
  {
   "cell_type": "code",
   "execution_count": 219,
   "metadata": {
    "scrolled": false
   },
   "outputs": [
    {
     "name": "stdout",
     "output_type": "stream",
     "text": [
      "603556\n",
      "0    476827\n",
      "1    126729\n",
      "Name: y, dtype: int64\n",
      "0    0.790029\n",
      "1    0.209971\n",
      "Name: y, dtype: float64\n"
     ]
    }
   ],
   "source": [
    "print(datamart.shape[0])\n",
    "print(datamart['y'].value_counts())\n",
    "print(datamart['y'].value_counts() / datamart.shape[0])"
   ]
  },
  {
   "cell_type": "markdown",
   "metadata": {},
   "source": [
    "##### 学習"
   ]
  },
  {
   "cell_type": "code",
   "execution_count": 220,
   "metadata": {
    "scrolled": true
   },
   "outputs": [
    {
     "name": "stdout",
     "output_type": "stream",
     "text": [
      "(580062, 3)\n",
      "(23494, 3)\n"
     ]
    },
    {
     "data": {
      "text/html": [
       "<div>\n",
       "<style scoped>\n",
       "    .dataframe tbody tr th:only-of-type {\n",
       "        vertical-align: middle;\n",
       "    }\n",
       "\n",
       "    .dataframe tbody tr th {\n",
       "        vertical-align: top;\n",
       "    }\n",
       "\n",
       "    .dataframe thead th {\n",
       "        text-align: right;\n",
       "    }\n",
       "</style>\n",
       "<table border=\"1\" class=\"dataframe\">\n",
       "  <thead>\n",
       "    <tr style=\"text-align: right;\">\n",
       "      <th></th>\n",
       "      <th>popularity_order</th>\n",
       "      <th>win_odds</th>\n",
       "      <th>horse_sex</th>\n",
       "    </tr>\n",
       "  </thead>\n",
       "  <tbody>\n",
       "    <tr>\n",
       "      <th>0</th>\n",
       "      <td>1</td>\n",
       "      <td>3.1</td>\n",
       "      <td>牡</td>\n",
       "    </tr>\n",
       "    <tr>\n",
       "      <th>1</th>\n",
       "      <td>6</td>\n",
       "      <td>21.9</td>\n",
       "      <td>牝</td>\n",
       "    </tr>\n",
       "    <tr>\n",
       "      <th>2</th>\n",
       "      <td>3</td>\n",
       "      <td>4.6</td>\n",
       "      <td>牡</td>\n",
       "    </tr>\n",
       "    <tr>\n",
       "      <th>3</th>\n",
       "      <td>9</td>\n",
       "      <td>46.9</td>\n",
       "      <td>牡</td>\n",
       "    </tr>\n",
       "    <tr>\n",
       "      <th>4</th>\n",
       "      <td>11</td>\n",
       "      <td>111.7</td>\n",
       "      <td>牡</td>\n",
       "    </tr>\n",
       "  </tbody>\n",
       "</table>\n",
       "</div>"
      ],
      "text/plain": [
       "   popularity_order  win_odds horse_sex\n",
       "0                 1       3.1         牡\n",
       "1                 6      21.9         牝\n",
       "2                 3       4.6         牡\n",
       "3                 9      46.9         牡\n",
       "4                11     111.7         牡"
      ]
     },
     "execution_count": 220,
     "metadata": {},
     "output_type": "execute_result"
    }
   ],
   "source": [
    "Idx_train, X_train, y_train, Idx_test, X_test, y_test = make_train_test_data(\n",
    "    parameters=parameters, dataset=datamart, how_to_select='include'\n",
    ")\n",
    "print(X_train.shape)\n",
    "print(X_test.shape)\n",
    "\n",
    "X_train.head()"
   ]
  },
  {
   "cell_type": "code",
   "execution_count": null,
   "metadata": {
    "scrolled": true
   },
   "outputs": [],
   "source": [
    "y_test_pred = fit_model_into_data_by(\n",
    "    parameters=parameters,\n",
    "    model_type='h2o_clf',\n",
    "    X_train=X_train,\n",
    "    X_test=X_test,\n",
    "    y_train=y_train,\n",
    "    y_test=y_test\n",
    ")"
   ]
  },
  {
   "cell_type": "code",
   "execution_count": 118,
   "metadata": {
    "scrolled": true
   },
   "outputs": [
    {
     "name": "stdout",
     "output_type": "stream",
     "text": [
      "Checking whether there is an H2O instance running at http://127.0.0.1:54321 . connected.\n",
      "Warning: Your H2O cluster version is too old (7 months and 19 days)! Please download and install the latest version from http://h2o.ai/download/\n"
     ]
    },
    {
     "data": {
      "text/html": [
       "<div style=\"overflow:auto\"><table style=\"width:50%\"><tr><td>H2O cluster uptime:</td>\n",
       "<td>22 hours 4 mins</td></tr>\n",
       "<tr><td>H2O cluster timezone:</td>\n",
       "<td>Asia/Tokyo</td></tr>\n",
       "<tr><td>H2O data parsing timezone:</td>\n",
       "<td>UTC</td></tr>\n",
       "<tr><td>H2O cluster version:</td>\n",
       "<td>3.26.0.10</td></tr>\n",
       "<tr><td>H2O cluster version age:</td>\n",
       "<td>7 months and 19 days !!!</td></tr>\n",
       "<tr><td>H2O cluster name:</td>\n",
       "<td>H2O_from_python_daigomiyoshi_elpulk</td></tr>\n",
       "<tr><td>H2O cluster total nodes:</td>\n",
       "<td>1</td></tr>\n",
       "<tr><td>H2O cluster free memory:</td>\n",
       "<td>1.340 Gb</td></tr>\n",
       "<tr><td>H2O cluster total cores:</td>\n",
       "<td>4</td></tr>\n",
       "<tr><td>H2O cluster allowed cores:</td>\n",
       "<td>4</td></tr>\n",
       "<tr><td>H2O cluster status:</td>\n",
       "<td>locked, healthy</td></tr>\n",
       "<tr><td>H2O connection url:</td>\n",
       "<td>http://127.0.0.1:54321</td></tr>\n",
       "<tr><td>H2O connection proxy:</td>\n",
       "<td>{'http': None, 'https': None}</td></tr>\n",
       "<tr><td>H2O internal security:</td>\n",
       "<td>False</td></tr>\n",
       "<tr><td>H2O API Extensions:</td>\n",
       "<td>Amazon S3, XGBoost, Algos, AutoML, Core V3, TargetEncoder, Core V4</td></tr>\n",
       "<tr><td>Python version:</td>\n",
       "<td>3.7.3 final</td></tr></table></div>"
      ],
      "text/plain": [
       "--------------------------  ------------------------------------------------------------------\n",
       "H2O cluster uptime:         22 hours 4 mins\n",
       "H2O cluster timezone:       Asia/Tokyo\n",
       "H2O data parsing timezone:  UTC\n",
       "H2O cluster version:        3.26.0.10\n",
       "H2O cluster version age:    7 months and 19 days !!!\n",
       "H2O cluster name:           H2O_from_python_daigomiyoshi_elpulk\n",
       "H2O cluster total nodes:    1\n",
       "H2O cluster free memory:    1.340 Gb\n",
       "H2O cluster total cores:    4\n",
       "H2O cluster allowed cores:  4\n",
       "H2O cluster status:         locked, healthy\n",
       "H2O connection url:         http://127.0.0.1:54321\n",
       "H2O connection proxy:       {'http': None, 'https': None}\n",
       "H2O internal security:      False\n",
       "H2O API Extensions:         Amazon S3, XGBoost, Algos, AutoML, Core V3, TargetEncoder, Core V4\n",
       "Python version:             3.7.3 final\n",
       "--------------------------  ------------------------------------------------------------------"
      ]
     },
     "metadata": {},
     "output_type": "display_data"
    },
    {
     "name": "stdout",
     "output_type": "stream",
     "text": [
      "Parse progress: |█████████████████████████████████████████████████████████| 100%\n",
      "xgboost prediction progress: |████████████████████████████████████████████| 100%\n"
     ]
    }
   ],
   "source": [
    "### 学習済モデルを使用する場合 ###\n",
    "\n",
    "# h2o.init(ip=\"127.0.0.1\", max_mem_size_GB=4)\n",
    "# model_path = parameters['DIR_NAME_OF_MODEL_PICKLE'] + 'fitted_h2o_clf_model/XGBoost_3_AutoML_20200626_151444'\n",
    "# saved_model = h2o.load_model(model_path)\n",
    "\n",
    "# y_test_pred = saved_model.predict(h2o.H2OFrame(X_test)).as_data_frame()"
   ]
  },
  {
   "cell_type": "code",
   "execution_count": 119,
   "metadata": {
    "scrolled": true
   },
   "outputs": [
    {
     "data": {
      "text/plain": [
       "<matplotlib.axes._subplots.AxesSubplot at 0x7f83b70954a8>"
      ]
     },
     "execution_count": 119,
     "metadata": {},
     "output_type": "execute_result"
    },
    {
     "data": {
      "image/png": "[encoded data removed]",
      "text/plain": [
       "<Figure size 432x288 with 1 Axes>"
      ]
     },
     "metadata": {
      "needs_background": "light"
     },
     "output_type": "display_data"
    }
   ],
   "source": [
    "y_test_pred['p1'].hist()"
   ]
  },
  {
   "cell_type": "markdown",
   "metadata": {},
   "source": [
    "##### シミュレーション\n",
    "\n",
    "- 1位確率に基づいて、以下のパターンでTestデータにおけるシミュレーションを行い、回収額・回収率を検証する\n",
    "    - レース毎に、TopNの馬の(予測値, オッズ比)が(閾値X, 閾値Y)以上であれば、各馬に単勝として100円投資\n",
    "    - レース毎に、TopNの馬の(予測値, オッズ比)が(閾値X, 閾値Y)以上であれば、各馬に複勝として100円投資\n",
    "        - (正確には、複勝の場合は目的変数の定義を複勝に相当するように変えておく必要があるが、シミュレーションは念の為行う)"
   ]
  },
  {
   "cell_type": "code",
   "execution_count": null,
   "metadata": {},
   "outputs": [],
   "source": [
    "def make_test_dataset(Idx_test, y_test_pred, y_test, model_type):\n",
    "    Idx_test = Idx_test.reset_index(drop=True)\n",
    "    y_test = y_test.reset_index(drop=True)\n",
    "    \n",
    "    if model_type == 'clf':\n",
    "        try:\n",
    "            y_pred_proba = pd.DataFrame({'y_pred_proba': y_test_pred['p1']})\n",
    "        except KeyError:\n",
    "            y_pred_proba = pd.DataFrame({'y_pred_proba': y_test_pred['predict']})\n",
    "        y_pred_proba = y_pred_proba.reset_index(drop=True)\n",
    "    elif model_type == 'reg':\n",
    "        pass\n",
    "    \n",
    "    return pd.concat([pd.concat([Idx_test, y_pred_proba], axis=1), y_test], axis=1)"
   ]
  },
  {
   "cell_type": "code",
   "execution_count": 41,
   "metadata": {
    "scrolled": true
   },
   "outputs": [
    {
     "name": "stdout",
     "output_type": "stream",
     "text": [
      "(924917, 5)\n"
     ]
    },
    {
     "data": {
      "text/html": [
       "<div>\n",
       "<style scoped>\n",
       "    .dataframe tbody tr th:only-of-type {\n",
       "        vertical-align: middle;\n",
       "    }\n",
       "\n",
       "    .dataframe tbody tr th {\n",
       "        vertical-align: top;\n",
       "    }\n",
       "\n",
       "    .dataframe thead th {\n",
       "        text-align: right;\n",
       "    }\n",
       "</style>\n",
       "<table border=\"1\" class=\"dataframe\">\n",
       "  <thead>\n",
       "    <tr style=\"text-align: right;\">\n",
       "      <th></th>\n",
       "      <th>race_id</th>\n",
       "      <th>horse_num</th>\n",
       "      <th>refund_type</th>\n",
       "      <th>groupby_index</th>\n",
       "      <th>refund_yen</th>\n",
       "    </tr>\n",
       "  </thead>\n",
       "  <tbody>\n",
       "    <tr>\n",
       "      <th>0</th>\n",
       "      <td>200901010101</td>\n",
       "      <td>4</td>\n",
       "      <td>単勝</td>\n",
       "      <td>1</td>\n",
       "      <td>710</td>\n",
       "    </tr>\n",
       "    <tr>\n",
       "      <th>1</th>\n",
       "      <td>200901010101</td>\n",
       "      <td>4</td>\n",
       "      <td>複勝</td>\n",
       "      <td>1</td>\n",
       "      <td>150</td>\n",
       "    </tr>\n",
       "    <tr>\n",
       "      <th>2</th>\n",
       "      <td>200901010101</td>\n",
       "      <td>12</td>\n",
       "      <td>複勝</td>\n",
       "      <td>2</td>\n",
       "      <td>120</td>\n",
       "    </tr>\n",
       "    <tr>\n",
       "      <th>3</th>\n",
       "      <td>200901010101</td>\n",
       "      <td>3</td>\n",
       "      <td>複勝</td>\n",
       "      <td>3</td>\n",
       "      <td>180</td>\n",
       "    </tr>\n",
       "    <tr>\n",
       "      <th>4</th>\n",
       "      <td>200901010101</td>\n",
       "      <td>4</td>\n",
       "      <td>枠連</td>\n",
       "      <td>1</td>\n",
       "      <td>590</td>\n",
       "    </tr>\n",
       "  </tbody>\n",
       "</table>\n",
       "</div>"
      ],
      "text/plain": [
       "        race_id  horse_num refund_type  groupby_index  refund_yen\n",
       "0  200901010101          4          単勝              1         710\n",
       "1  200901010101          4          複勝              1         150\n",
       "2  200901010101         12          複勝              2         120\n",
       "3  200901010101          3          複勝              3         180\n",
       "4  200901010101          4          枠連              1         590"
      ]
     },
     "execution_count": 41,
     "metadata": {},
     "output_type": "execute_result"
    }
   ],
   "source": [
    "race_refund_df = _get_data_frame_from_db(\n",
    "        query_file_path='SqlQuery/extract_race_refund_info.sql', \n",
    "        col_name_list=parameters['DATAFRAME_COL_NAMES']['RACE_REFUND_INFO_COLS'],\n",
    "        con=con\n",
    ")\n",
    "print(race_refund_df.shape)\n",
    "race_refund_df.head()"
   ]
  },
  {
   "cell_type": "code",
   "execution_count": 131,
   "metadata": {},
   "outputs": [
    {
     "name": "stdout",
     "output_type": "stream",
     "text": [
      "(15008, 4)\n",
      "レース数:  1680\n"
     ]
    },
    {
     "data": {
      "text/html": [
       "<div>\n",
       "<style scoped>\n",
       "    .dataframe tbody tr th:only-of-type {\n",
       "        vertical-align: middle;\n",
       "    }\n",
       "\n",
       "    .dataframe tbody tr th {\n",
       "        vertical-align: top;\n",
       "    }\n",
       "\n",
       "    .dataframe thead th {\n",
       "        text-align: right;\n",
       "    }\n",
       "</style>\n",
       "<table border=\"1\" class=\"dataframe\">\n",
       "  <thead>\n",
       "    <tr style=\"text-align: right;\">\n",
       "      <th></th>\n",
       "      <th>race_id</th>\n",
       "      <th>horse_num</th>\n",
       "      <th>y_pred_proba</th>\n",
       "      <th>y</th>\n",
       "    </tr>\n",
       "  </thead>\n",
       "  <tbody>\n",
       "    <tr>\n",
       "      <th>0</th>\n",
       "      <td>202002010101</td>\n",
       "      <td>3</td>\n",
       "      <td>0.038048</td>\n",
       "      <td>0</td>\n",
       "    </tr>\n",
       "    <tr>\n",
       "      <th>1</th>\n",
       "      <td>202002010101</td>\n",
       "      <td>4</td>\n",
       "      <td>0.135737</td>\n",
       "      <td>0</td>\n",
       "    </tr>\n",
       "    <tr>\n",
       "      <th>2</th>\n",
       "      <td>202002010101</td>\n",
       "      <td>6</td>\n",
       "      <td>0.089800</td>\n",
       "      <td>0</td>\n",
       "    </tr>\n",
       "    <tr>\n",
       "      <th>3</th>\n",
       "      <td>202002010101</td>\n",
       "      <td>7</td>\n",
       "      <td>0.046267</td>\n",
       "      <td>1</td>\n",
       "    </tr>\n",
       "    <tr>\n",
       "      <th>4</th>\n",
       "      <td>202002010101</td>\n",
       "      <td>8</td>\n",
       "      <td>0.150987</td>\n",
       "      <td>0</td>\n",
       "    </tr>\n",
       "  </tbody>\n",
       "</table>\n",
       "</div>"
      ],
      "text/plain": [
       "        race_id  horse_num  y_pred_proba  y\n",
       "0  202002010101          3      0.038048  0\n",
       "1  202002010101          4      0.135737  0\n",
       "2  202002010101          6      0.089800  0\n",
       "3  202002010101          7      0.046267  1\n",
       "4  202002010101          8      0.150987  0"
      ]
     },
     "execution_count": 131,
     "metadata": {},
     "output_type": "execute_result"
    }
   ],
   "source": [
    "test_dataset = make_test_dataset(Idx_test, y_test_pred, y_test, model_type='clf')\n",
    "print(test_dataset.shape)\n",
    "print('レース数: ', len(test_dataset.race_id.unique()))\n",
    "test_dataset.head()"
   ]
  },
  {
   "cell_type": "code",
   "execution_count": 209,
   "metadata": {
    "scrolled": true
   },
   "outputs": [],
   "source": [
    "def calc_profit_in_tansho_or_fukusho(top_n_horse_df, rece_refund_df):\n",
    "    race_id = top_n_horse_df['race_id'].iloc[0]\n",
    "    rece_refund_df = rece_refund_df.query('race_id == @race_id')\n",
    "    invest_result_df = pd.merge(top_n_horse_df, rece_refund_df, on=['race_id', 'horse_num'], how='left')[[\n",
    "        'race_id', 'horse_num', 'is_invested', 'refund_yen'\n",
    "    ]].query('is_invested == 1')\n",
    "    invest_yen = np.sum(invest_result_df['is_invested'] * 100)\n",
    "    refund_yen = np.nansum(invest_result_df['refund_yen'])\n",
    "    profit_yen = refund_yen - invest_yen if invest_yen>0 else 0\n",
    "    return invest_yen, refund_yen, profit_yen\n",
    "\n",
    "\n",
    "def calc_profit_in_fixed_params(df, rece_refund_df, sim_type, top_n, proba_thr):\n",
    "    top_n_horse_df = df.sort_values(by='y_pred_proba', ascending=False).iloc[:top_n, :]\n",
    "    top_n_horse_df['is_invested'] = top_n_horse_df['y_pred_proba'].apply(lambda x: 1 if x >= proba_thr else 0)\n",
    "    \n",
    "    if sim_type == '単勝' or sim_type == '複勝':\n",
    "        invest_yen, refund_yen, profit_yen = calc_profit_in_tansho_or_fukusho(top_n_horse_df, rece_refund_df)\n",
    "    elif sim_type == 'ワイド':\n",
    "        pass\n",
    "    \n",
    "    return pd.DataFrame({\n",
    "        'top_n': top_n,\n",
    "        'proba_thr': proba_thr,\n",
    "        'invest_yen': invest_yen,\n",
    "        'refund_yen': refund_yen,\n",
    "        'profit_yen': profit_yen\n",
    "    }, index=[''])\n",
    "\n",
    "\n",
    "def simulate_profit_in_test_data(test_dataset, race_refund_df, sim_type):\n",
    "    rece_refund_df_subset = race_refund_df.query('refund_type == @sim_type')\n",
    "    profit_amount_df = pd.DataFrame()\n",
    "    \n",
    "    proba_thr_range = [0.3, 0.35, 0.4]\n",
    "    top_n_range = [1]\n",
    "    for top_n in top_n_range:\n",
    "        for proba_thr in proba_thr_range:\n",
    "            each_race_df = pd.DataFrame(\n",
    "                test_dataset.groupby(['race_id'], as_index=True).apply(\n",
    "                    calc_profit_in_fixed_params,\n",
    "                    rece_refund_df=rece_refund_df_subset, \n",
    "                    sim_type=sim_type, \n",
    "                    top_n=top_n,\n",
    "                    proba_thr=proba_thr\n",
    "                )\n",
    "            ).reset_index(level='race_id')\n",
    "            profit_amount_df = pd.concat([profit_amount_df, each_race_df])\n",
    "    return profit_amount_df"
   ]
  },
  {
   "cell_type": "code",
   "execution_count": 210,
   "metadata": {
    "scrolled": true
   },
   "outputs": [],
   "source": [
    "profit_amount_df = simulate_profit_in_test_data(test_dataset, race_refund_df, sim_type='複勝')\n",
    "\n",
    "profit_amount_groupby = profit_amount_df.groupby(['top_n', 'proba_thr'], as_index=False).sum()\n",
    "profit_amount_groupby['profit_rate'] = profit_amount_groupby['profit_yen'] / (profit_amount_groupby['invest_yen']+0.001)"
   ]
  },
  {
   "cell_type": "code",
   "execution_count": 211,
   "metadata": {
    "scrolled": true
   },
   "outputs": [
    {
     "data": {
      "text/html": [
       "<style  type=\"text/css\" >\n",
       "    #T_c7ca3a6e_b780_11ea_88b9_60f81dc8024crow0_col0 {\n",
       "            background-color:  #08306b;\n",
       "            color:  #f1f1f1;\n",
       "        }    #T_c7ca3a6e_b780_11ea_88b9_60f81dc8024crow1_col0 {\n",
       "            background-color:  #d8e7f5;\n",
       "            color:  #000000;\n",
       "        }    #T_c7ca3a6e_b780_11ea_88b9_60f81dc8024crow2_col0 {\n",
       "            background-color:  #f7fbff;\n",
       "            color:  #000000;\n",
       "        }</style><table id=\"T_c7ca3a6e_b780_11ea_88b9_60f81dc8024c\" ><thead>    <tr>        <th class=\"index_name level0\" >top_n</th>        <th class=\"col_heading level0 col0\" >1</th>    </tr>    <tr>        <th class=\"index_name level0\" >proba_thr</th>        <th class=\"blank\" ></th>    </tr></thead><tbody>\n",
       "                <tr>\n",
       "                        <th id=\"T_c7ca3a6e_b780_11ea_88b9_60f81dc8024clevel0_row0\" class=\"row_heading level0 row0\" >0.3</th>\n",
       "                        <td id=\"T_c7ca3a6e_b780_11ea_88b9_60f81dc8024crow0_col0\" class=\"data row0 col0\" >82200</td>\n",
       "            </tr>\n",
       "            <tr>\n",
       "                        <th id=\"T_c7ca3a6e_b780_11ea_88b9_60f81dc8024clevel0_row1\" class=\"row_heading level0 row1\" >0.35</th>\n",
       "                        <td id=\"T_c7ca3a6e_b780_11ea_88b9_60f81dc8024crow1_col0\" class=\"data row1 col0\" >44300</td>\n",
       "            </tr>\n",
       "            <tr>\n",
       "                        <th id=\"T_c7ca3a6e_b780_11ea_88b9_60f81dc8024clevel0_row2\" class=\"row_heading level0 row2\" >0.4</th>\n",
       "                        <td id=\"T_c7ca3a6e_b780_11ea_88b9_60f81dc8024crow2_col0\" class=\"data row2 col0\" >37200</td>\n",
       "            </tr>\n",
       "    </tbody></table>"
      ],
      "text/plain": [
       "<pandas.io.formats.style.Styler at 0x7f83cbf91710>"
      ]
     },
     "execution_count": 211,
     "metadata": {},
     "output_type": "execute_result"
    }
   ],
   "source": [
    "invest_amount_pivot = profit_amount_groupby.pivot(index='proba_thr', columns='top_n', values='invest_yen')\n",
    "invest_amount_pivot.style.background_gradient(cmap='Blues')"
   ]
  },
  {
   "cell_type": "code",
   "execution_count": 212,
   "metadata": {
    "scrolled": true
   },
   "outputs": [
    {
     "data": {
      "text/html": [
       "<style  type=\"text/css\" >\n",
       "    #T_c7cda6fe_b780_11ea_88b9_60f81dc8024crow0_col0 {\n",
       "            background-color:  #f7fbff;\n",
       "            color:  #000000;\n",
       "        }    #T_c7cda6fe_b780_11ea_88b9_60f81dc8024crow1_col0 {\n",
       "            background-color:  #105ba4;\n",
       "            color:  #f1f1f1;\n",
       "        }    #T_c7cda6fe_b780_11ea_88b9_60f81dc8024crow2_col0 {\n",
       "            background-color:  #08306b;\n",
       "            color:  #f1f1f1;\n",
       "        }</style><table id=\"T_c7cda6fe_b780_11ea_88b9_60f81dc8024c\" ><thead>    <tr>        <th class=\"index_name level0\" >top_n</th>        <th class=\"col_heading level0 col0\" >1</th>    </tr>    <tr>        <th class=\"index_name level0\" >proba_thr</th>        <th class=\"blank\" ></th>    </tr></thead><tbody>\n",
       "                <tr>\n",
       "                        <th id=\"T_c7cda6fe_b780_11ea_88b9_60f81dc8024clevel0_row0\" class=\"row_heading level0 row0\" >0.3</th>\n",
       "                        <td id=\"T_c7cda6fe_b780_11ea_88b9_60f81dc8024crow0_col0\" class=\"data row0 col0\" >-10250</td>\n",
       "            </tr>\n",
       "            <tr>\n",
       "                        <th id=\"T_c7cda6fe_b780_11ea_88b9_60f81dc8024clevel0_row1\" class=\"row_heading level0 row1\" >0.35</th>\n",
       "                        <td id=\"T_c7cda6fe_b780_11ea_88b9_60f81dc8024crow1_col0\" class=\"data row1 col0\" >-4600</td>\n",
       "            </tr>\n",
       "            <tr>\n",
       "                        <th id=\"T_c7cda6fe_b780_11ea_88b9_60f81dc8024clevel0_row2\" class=\"row_heading level0 row2\" >0.4</th>\n",
       "                        <td id=\"T_c7cda6fe_b780_11ea_88b9_60f81dc8024crow2_col0\" class=\"data row2 col0\" >-3480</td>\n",
       "            </tr>\n",
       "    </tbody></table>"
      ],
      "text/plain": [
       "<pandas.io.formats.style.Styler at 0x7f83cbf913c8>"
      ]
     },
     "execution_count": 212,
     "metadata": {},
     "output_type": "execute_result"
    }
   ],
   "source": [
    "profit_amount_pivot = profit_amount_groupby.pivot(index='proba_thr', columns='top_n', values='profit_yen')\n",
    "profit_amount_pivot.style.background_gradient(cmap='Blues')"
   ]
  },
  {
   "cell_type": "code",
   "execution_count": 213,
   "metadata": {
    "scrolled": false
   },
   "outputs": [
    {
     "data": {
      "text/html": [
       "<style  type=\"text/css\" >\n",
       "    #T_c7d0a034_b780_11ea_88b9_60f81dc8024crow0_col0 {\n",
       "            background-color:  #f7fbff;\n",
       "            color:  #000000;\n",
       "        }    #T_c7d0a034_b780_11ea_88b9_60f81dc8024crow1_col0 {\n",
       "            background-color:  #3686c0;\n",
       "            color:  #000000;\n",
       "        }    #T_c7d0a034_b780_11ea_88b9_60f81dc8024crow2_col0 {\n",
       "            background-color:  #08306b;\n",
       "            color:  #f1f1f1;\n",
       "        }</style><table id=\"T_c7d0a034_b780_11ea_88b9_60f81dc8024c\" ><thead>    <tr>        <th class=\"index_name level0\" >top_n</th>        <th class=\"col_heading level0 col0\" >1</th>    </tr>    <tr>        <th class=\"index_name level0\" >proba_thr</th>        <th class=\"blank\" ></th>    </tr></thead><tbody>\n",
       "                <tr>\n",
       "                        <th id=\"T_c7d0a034_b780_11ea_88b9_60f81dc8024clevel0_row0\" class=\"row_heading level0 row0\" >0.3</th>\n",
       "                        <td id=\"T_c7d0a034_b780_11ea_88b9_60f81dc8024crow0_col0\" class=\"data row0 col0\" >-0.124696</td>\n",
       "            </tr>\n",
       "            <tr>\n",
       "                        <th id=\"T_c7d0a034_b780_11ea_88b9_60f81dc8024clevel0_row1\" class=\"row_heading level0 row1\" >0.35</th>\n",
       "                        <td id=\"T_c7d0a034_b780_11ea_88b9_60f81dc8024crow1_col0\" class=\"data row1 col0\" >-0.103837</td>\n",
       "            </tr>\n",
       "            <tr>\n",
       "                        <th id=\"T_c7d0a034_b780_11ea_88b9_60f81dc8024clevel0_row2\" class=\"row_heading level0 row2\" >0.4</th>\n",
       "                        <td id=\"T_c7d0a034_b780_11ea_88b9_60f81dc8024crow2_col0\" class=\"data row2 col0\" >-0.0935484</td>\n",
       "            </tr>\n",
       "    </tbody></table>"
      ],
      "text/plain": [
       "<pandas.io.formats.style.Styler at 0x7f83ce86d320>"
      ]
     },
     "execution_count": 213,
     "metadata": {},
     "output_type": "execute_result"
    }
   ],
   "source": [
    "profit_rate_pivot = profit_amount_groupby.pivot(index='proba_thr', columns='top_n', values='profit_rate')\n",
    "profit_rate_pivot.style.background_gradient(cmap='Blues')"
   ]
  },
  {
   "cell_type": "code",
   "execution_count": null,
   "metadata": {},
   "outputs": [],
   "source": []
  },
  {
   "cell_type": "code",
   "execution_count": 197,
   "metadata": {
    "scrolled": true
   },
   "outputs": [
    {
     "data": {
      "text/html": [
       "<style  type=\"text/css\" >\n",
       "    #T_4a958d24_b77f_11ea_88b9_60f81dc8024crow0_col0 {\n",
       "            background-color:  #f7fbff;\n",
       "            color:  #000000;\n",
       "        }</style><table id=\"T_4a958d24_b77f_11ea_88b9_60f81dc8024c\" ><thead>    <tr>        <th class=\"index_name level0\" >top_n</th>        <th class=\"col_heading level0 col0\" >1</th>    </tr>    <tr>        <th class=\"index_name level0\" >proba_thr</th>        <th class=\"blank\" ></th>    </tr></thead><tbody>\n",
       "                <tr>\n",
       "                        <th id=\"T_4a958d24_b77f_11ea_88b9_60f81dc8024clevel0_row0\" class=\"row_heading level0 row0\" >0.3</th>\n",
       "                        <td id=\"T_4a958d24_b77f_11ea_88b9_60f81dc8024crow0_col0\" class=\"data row0 col0\" >82200</td>\n",
       "            </tr>\n",
       "    </tbody></table>"
      ],
      "text/plain": [
       "<pandas.io.formats.style.Styler at 0x7f83d3772c50>"
      ]
     },
     "execution_count": 197,
     "metadata": {},
     "output_type": "execute_result"
    }
   ],
   "source": [
    "invest_amount_pivot = profit_amount_groupby.pivot(index='proba_thr', columns='top_n', values='invest_yen')\n",
    "invest_amount_pivot.style.background_gradient(cmap='Blues')"
   ]
  },
  {
   "cell_type": "code",
   "execution_count": 198,
   "metadata": {
    "scrolled": true
   },
   "outputs": [
    {
     "data": {
      "text/html": [
       "<style  type=\"text/css\" >\n",
       "    #T_4a9866fc_b77f_11ea_88b9_60f81dc8024crow0_col0 {\n",
       "            background-color:  #f7fbff;\n",
       "            color:  #000000;\n",
       "        }</style><table id=\"T_4a9866fc_b77f_11ea_88b9_60f81dc8024c\" ><thead>    <tr>        <th class=\"index_name level0\" >top_n</th>        <th class=\"col_heading level0 col0\" >1</th>    </tr>    <tr>        <th class=\"index_name level0\" >proba_thr</th>        <th class=\"blank\" ></th>    </tr></thead><tbody>\n",
       "                <tr>\n",
       "                        <th id=\"T_4a9866fc_b77f_11ea_88b9_60f81dc8024clevel0_row0\" class=\"row_heading level0 row0\" >0.3</th>\n",
       "                        <td id=\"T_4a9866fc_b77f_11ea_88b9_60f81dc8024crow0_col0\" class=\"data row0 col0\" >-18190</td>\n",
       "            </tr>\n",
       "    </tbody></table>"
      ],
      "text/plain": [
       "<pandas.io.formats.style.Styler at 0x7f83d3772a20>"
      ]
     },
     "execution_count": 198,
     "metadata": {},
     "output_type": "execute_result"
    }
   ],
   "source": [
    "profit_amount_pivot = profit_amount_groupby.pivot(index='proba_thr', columns='top_n', values='profit_yen')\n",
    "profit_amount_pivot.style.background_gradient(cmap='Blues')"
   ]
  },
  {
   "cell_type": "code",
   "execution_count": 199,
   "metadata": {
    "scrolled": false
   },
   "outputs": [
    {
     "data": {
      "text/html": [
       "<style  type=\"text/css\" >\n",
       "    #T_4a9b0b64_b77f_11ea_88b9_60f81dc8024crow0_col0 {\n",
       "            background-color:  #f7fbff;\n",
       "            color:  #000000;\n",
       "        }</style><table id=\"T_4a9b0b64_b77f_11ea_88b9_60f81dc8024c\" ><thead>    <tr>        <th class=\"index_name level0\" >top_n</th>        <th class=\"col_heading level0 col0\" >1</th>    </tr>    <tr>        <th class=\"index_name level0\" >proba_thr</th>        <th class=\"blank\" ></th>    </tr></thead><tbody>\n",
       "                <tr>\n",
       "                        <th id=\"T_4a9b0b64_b77f_11ea_88b9_60f81dc8024clevel0_row0\" class=\"row_heading level0 row0\" >0.3</th>\n",
       "                        <td id=\"T_4a9b0b64_b77f_11ea_88b9_60f81dc8024crow0_col0\" class=\"data row0 col0\" >-0.22129</td>\n",
       "            </tr>\n",
       "    </tbody></table>"
      ],
      "text/plain": [
       "<pandas.io.formats.style.Styler at 0x7f83d3772f28>"
      ]
     },
     "execution_count": 199,
     "metadata": {},
     "output_type": "execute_result"
    }
   ],
   "source": [
    "profit_rate_pivot = profit_amount_groupby.pivot(index='proba_thr', columns='top_n', values='profit_rate')\n",
    "profit_rate_pivot.style.background_gradient(cmap='Blues')"
   ]
  },
  {
   "cell_type": "code",
   "execution_count": null,
   "metadata": {},
   "outputs": [],
   "source": []
  }
 ],
 "metadata": {
  "kernelspec": {
   "display_name": "Python 3",
   "language": "python",
   "name": "python3"
  },
  "language_info": {
   "codemirror_mode": {
    "name": "ipython",
    "version": 3
   },
   "file_extension": ".py",
   "mimetype": "text/x-python",
   "name": "python",
   "nbconvert_exporter": "python",
   "pygments_lexer": "ipython3",
   "version": "3.7.3"
  }
 },
 "nbformat": 4,
 "nbformat_minor": 2
}
