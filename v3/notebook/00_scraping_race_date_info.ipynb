{
 "cells": [
  {
   "cell_type": "code",
   "execution_count": null,
   "metadata": {},
   "outputs": [],
   "source": [
    "import warnings\n",
    "warnings.filterwarnings('ignore')"
   ]
  },
  {
   "cell_type": "code",
   "execution_count": null,
   "metadata": {},
   "outputs": [],
   "source": [
    "import pandas as pd\n",
    "import os\n",
    "import sys\n",
    "import datetime\n",
    "import time\n",
    "import re\n",
    "import itertools\n",
    "from selenium.webdriver import Chrome\n",
    "from selenium.webdriver.chrome.options import Options\n",
    "from selenium.common.exceptions import NoSuchElementException"
   ]
  },
  {
   "cell_type": "code",
   "execution_count": null,
   "metadata": {},
   "outputs": [],
   "source": [
    "parameters = {\n",
    "    # parameters about scraping\n",
    "    'URL_ABOUT_KEIBA_YAHOO': 'https://keiba.yahoo.co.jp/schedule/list/{YEAR}/?place={PLACE}',\n",
    "    'YEAR_RANGE': range(1986, 2020),\n",
    "    'PLACE_RANGE': range(1, 10),\n",
    "    'DRIVER_DIR': 'Config/chromedriver_v83',\n",
    "    'PAGE_LOAD_TIMEOUT': 10,\n",
    "}"
   ]
  },
  {
   "cell_type": "markdown",
   "metadata": {},
   "source": [
    "## Initialize ChromeDriver"
   ]
  },
  {
   "cell_type": "code",
   "execution_count": null,
   "metadata": {},
   "outputs": [],
   "source": [
    "def initialize_chrome_driver(parameters):\n",
    "    chrome_options = Options()\n",
    "    chrome_options.add_argument('--dns-prefetch-disable')\n",
    "    driver = Chrome(executable_path=parameters['DRIVER_DIR'], chrome_options=chrome_options)\n",
    "    driver.set_page_load_timeout(parameters['PAGE_LOAD_TIMEOUT'])\n",
    "    driver.maximize_window()\n",
    "    return driver\n",
    "\n",
    "def _load_target_url_page(target_url):\n",
    "    try:\n",
    "        driver.get(target_url)\n",
    "        print('We could load the URL:', driver.current_url)\n",
    "    except (TimeoutException, urllib3.exceptions.MaxRetryError, InvalidSessionIdException) as e:\n",
    "        print('We could not load the URL because of: ', e)\n",
    "        driver.refresh()"
   ]
  },
  {
   "cell_type": "code",
   "execution_count": null,
   "metadata": {
    "scrolled": true
   },
   "outputs": [],
   "source": [
    "driver = initialize_chrome_driver(parameters)"
   ]
  },
  {
   "cell_type": "markdown",
   "metadata": {},
   "source": [
    "## Get race date info"
   ]
  },
  {
   "cell_type": "code",
   "execution_count": null,
   "metadata": {},
   "outputs": [],
   "source": [
    "def _extract_race_date_info(year, place, race_date_and_place_text):\n",
    "    race_text_1st = re.split('\\n', race_date_and_place_text)[0]\n",
    "    race_text_2nd = re.split('\\n', race_date_and_place_text)[1]\n",
    "    \n",
    "    race_year = year\n",
    "    race_month = int(re.split('月|日', race_text_1st)[0])\n",
    "    race_date = int(re.split('月|日', race_text_1st)[1])\n",
    "    race_place = place\n",
    "    race_kai = int(re.split('回|日', race_text_2nd)[0])\n",
    "    race_nichi = int(re.sub(\"\\\\D\", \"\", re.split('回|日', race_text_2nd)[1]))\n",
    "    \n",
    "    return [race_year, race_place, race_kai, race_nichi, race_month, race_date]"
   ]
  },
  {
   "cell_type": "code",
   "execution_count": null,
   "metadata": {},
   "outputs": [],
   "source": [
    "def _get_round_list(driver, xpath_to_date):\n",
    "    url_to_round_list = driver.find_element_by_xpath(xpath_to_date+'/a').get_attribute(\"href\")\n",
    "    _load_target_url_page(url_to_round_list)\n",
    "    length_of_round = len(driver.find_elements_by_class_name('scheRNo'))\n",
    "    return list(range(1, length_of_round+1))"
   ]
  },
  {
   "cell_type": "code",
   "execution_count": null,
   "metadata": {},
   "outputs": [],
   "source": [
    "def _make_each_year_place_race_date_list(driver, target_url, year, place):\n",
    "    each_year_place_race_date_list = []\n",
    "    idx = 2\n",
    "    while True :\n",
    "        try:\n",
    "            _load_target_url_page(target_url)\n",
    "            xpath_to_date = '//*[@id=\"wrap\"]/div[1]/div[1]/table/tbody/tr[{IDX}]/td[1]'.format(IDX=idx)\n",
    "            race_date_and_place_text = driver.find_element_by_xpath(xpath_to_date).text\n",
    "            race_date_info_list = _extract_race_date_info(year, place, race_date_and_place_text)\n",
    "\n",
    "            round_list = _get_round_list(driver, xpath_to_date)\n",
    "            each_year_place_race_date_list += [list(itertools.chain.from_iterable([race_date_info_list, [i]])) for i in round_list]\n",
    "\n",
    "            idx += 2\n",
    "            time.sleep(1)\n",
    "\n",
    "        except NoSuchElementException:\n",
    "            print('break')\n",
    "            break\n",
    "    return each_year_place_race_date_list"
   ]
  },
  {
   "cell_type": "code",
   "execution_count": null,
   "metadata": {},
   "outputs": [],
   "source": [
    "def get_race_date_df(driver, parameters):\n",
    "    race_date_df = pd.DataFrame()\n",
    "    for year in parameters['YEAR_RANGE']:\n",
    "        for place in parameters['PLACE_RANGE']:\n",
    "            target_url = parameters['URL_ABOUT_KEIBA_YAHOO'].format(YEAR=year, PLACE=place)\n",
    "            each_year_place_race_date_list = _make_each_year_place_race_date_list(driver, target_url, year, place)\n",
    "            race_date_df = pd.concat([race_date_df, pd.DataFrame(each_year_place_race_date_list)])\n",
    "    \n",
    "    race_date_df.columns = ['race_year', 'race_place_id', 'race_kai', 'race_nichi', 'race_month', 'race_date', 'race_round']\n",
    "    race_date_df = race_date_df.loc[:, ['race_year', 'race_place_id', 'race_kai', 'race_nichi', 'race_round', 'race_month', 'race_date']]\n",
    "    return race_date_df"
   ]
  },
  {
   "cell_type": "code",
   "execution_count": null,
   "metadata": {
    "scrolled": true
   },
   "outputs": [],
   "source": [
    "race_date_df = get_race_date_df(driver, parameters)"
   ]
  },
  {
   "cell_type": "code",
   "execution_count": null,
   "metadata": {
    "scrolled": true
   },
   "outputs": [],
   "source": [
    "race_date_df"
   ]
  },
  {
   "cell_type": "code",
   "execution_count": null,
   "metadata": {
    "scrolled": true
   },
   "outputs": [],
   "source": [
    "# race_date_df.to_csv('race_date_info.csv', index=False)"
   ]
  },
  {
   "cell_type": "markdown",
   "metadata": {},
   "source": [
    "## Insert data into database"
   ]
  },
  {
   "cell_type": "code",
   "execution_count": null,
   "metadata": {},
   "outputs": [],
   "source": [
    "import pandas as pd\n",
    "import pymysql\n",
    "\n",
    "from Config import db_config\n",
    "from Utils.bulk_insert import BulkInsert\n",
    "from Utils import teardown_tables"
   ]
  },
  {
   "cell_type": "code",
   "execution_count": null,
   "metadata": {},
   "outputs": [],
   "source": [
    "csv_file_path_list = [\n",
    "    'tips/race_calender_master_1986_to_2019.csv', \n",
    "    'tips/race_calender_master_2020.csv'\n",
    "]"
   ]
  },
  {
   "cell_type": "code",
   "execution_count": null,
   "metadata": {},
   "outputs": [],
   "source": [
    "db_params = db_config.db_params\n",
    "con = pymysql.connect(**db_params)"
   ]
  },
  {
   "cell_type": "code",
   "execution_count": null,
   "metadata": {},
   "outputs": [],
   "source": [
    "def read_csv_as_dataframe(csv_file_path_list):\n",
    "    if len(csv_file_path_list) == 1:\n",
    "        return pd.read_csv(csv_file_path_list[0])\n",
    "    else:\n",
    "        df = pd.read_csv(csv_file_path_list[0])\n",
    "        for i in range(1, len(csv_file_path_list)):\n",
    "            tmp = pd.read_csv(csv_file_path_list[i])\n",
    "            df = pd.concat([df, tmp])\n",
    "        return df\n",
    "    \n",
    "def bulk_insert(con, insert_list, target_table_name, insert_col_names):\n",
    "    try:\n",
    "        bi = BulkInsert(con)\n",
    "        bi.execute(\n",
    "            insert_data=insert_list,\n",
    "            target_table=target_table_name,\n",
    "            col_names=insert_col_names\n",
    "        )\n",
    "    except RuntimeError as e:\n",
    "        print(e)\n",
    "        raise TypeError"
   ]
  },
  {
   "cell_type": "code",
   "execution_count": null,
   "metadata": {
    "scrolled": true
   },
   "outputs": [],
   "source": [
    "race_calender_master = read_csv_as_dataframe(csv_file_path_list)"
   ]
  },
  {
   "cell_type": "code",
   "execution_count": null,
   "metadata": {},
   "outputs": [],
   "source": [
    "race_calender_master.shape"
   ]
  },
  {
   "cell_type": "code",
   "execution_count": null,
   "metadata": {
    "scrolled": true
   },
   "outputs": [],
   "source": [
    "teardown_tables.teardown(['race_calendar_master'])"
   ]
  },
  {
   "cell_type": "code",
   "execution_count": null,
   "metadata": {},
   "outputs": [],
   "source": [
    "bulk_insert(\n",
    "    con, \n",
    "    race_calender_master.values.tolist(), \n",
    "    'race_calendar_master',\n",
    "    list(race_calender_master)\n",
    ")"
   ]
  },
  {
   "cell_type": "code",
   "execution_count": null,
   "metadata": {},
   "outputs": [],
   "source": []
  }
 ],
 "metadata": {
  "kernelspec": {
   "display_name": "Python 3",
   "language": "python",
   "name": "python3"
  },
  "language_info": {
   "codemirror_mode": {
    "name": "ipython",
    "version": 3
   },
   "file_extension": ".py",
   "mimetype": "text/x-python",
   "name": "python",
   "nbconvert_exporter": "python",
   "pygments_lexer": "ipython3",
   "version": "3.7.3"
  }
 },
 "nbformat": 4,
 "nbformat_minor": 2
}
