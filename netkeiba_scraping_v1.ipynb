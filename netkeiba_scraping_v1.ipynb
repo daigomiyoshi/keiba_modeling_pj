{
 "cells": [
  {
   "cell_type": "code",
   "execution_count": 1,
   "metadata": {},
   "outputs": [],
   "source": [
    "import glob\n",
    "import os\n",
    "import time \n",
    "import pandas as pd\n",
    "from selenium import webdriver\n",
    "from selenium.webdriver.common.by import By\n",
    "from selenium.webdriver.support.ui import WebDriverWait\n",
    "from selenium.webdriver.support import expected_conditions as EC\n",
    "\n",
    "from Config import params_config"
   ]
  },
  {
   "cell_type": "code",
   "execution_count": 2,
   "metadata": {
    "scrolled": true
   },
   "outputs": [
    {
     "data": {
      "text/plain": [
       "{'TARGET_URL': 'https://race.netkeiba.com/?pid=schedule&select=schedule&year={YEAR}',\n",
       " 'YEAR_RANGE': range(2002, 2020),\n",
       " 'DRIVER_DIR': './chromedriver',\n",
       " 'PAGE_LOAD_TIMEOUT': 10}"
      ]
     },
     "execution_count": 2,
     "metadata": {},
     "output_type": "execute_result"
    }
   ],
   "source": [
    "parameters = params_config.parameters\n",
    "parameters"
   ]
  },
  {
   "cell_type": "code",
   "execution_count": 3,
   "metadata": {},
   "outputs": [],
   "source": [
    "def initialize_chromdriver(parameters):\n",
    "    driver = webdriver.Chrome(executable_path=parameters['DRIVER_DIR'])\n",
    "    driver.set_page_load_timeout(parameters['PAGE_LOAD_TIMEOUT'])\n",
    "    driver.maximize_window()\n",
    "    \n",
    "    return driver"
   ]
  },
  {
   "cell_type": "code",
   "execution_count": 4,
   "metadata": {},
   "outputs": [],
   "source": [
    "def load_target_url_page(driver, parameters, year):\n",
    "    target_url = parameters['TARGET_URL'].format(YEAR=year)\n",
    "    \n",
    "    try:\n",
    "        driver.get(target_url)\n",
    "        print('We can load the URL:', driver.current_url)\n",
    "    except:\n",
    "        print(\"The page load was time out\")"
   ]
  },
  {
   "cell_type": "code",
   "execution_count": 5,
   "metadata": {},
   "outputs": [],
   "source": [
    "def close_chrome_window(driver):\n",
    "    driver.quit()"
   ]
  },
  {
   "cell_type": "code",
   "execution_count": 6,
   "metadata": {},
   "outputs": [],
   "source": [
    "def back_chrome_window(driver):\n",
    "    driver.back()"
   ]
  },
  {
   "cell_type": "code",
   "execution_count": 29,
   "metadata": {},
   "outputs": [],
   "source": [
    "driver = initialize_chromdriver(parameters)"
   ]
  },
  {
   "cell_type": "code",
   "execution_count": 30,
   "metadata": {
    "scrolled": true
   },
   "outputs": [
    {
     "name": "stdout",
     "output_type": "stream",
     "text": [
      "We can load the URL: https://race.netkeiba.com/?pid=schedule&select=schedule&year=2019\n"
     ]
    }
   ],
   "source": [
    "#  Year毎にfor roop\n",
    "year = parameters['YEAR_RANGE'][17]\n",
    "load_target_url_page(driver, parameters, year)"
   ]
  },
  {
   "cell_type": "markdown",
   "metadata": {},
   "source": [
    "### Get race list from schedule pages"
   ]
  },
  {
   "cell_type": "code",
   "execution_count": 9,
   "metadata": {
    "scrolled": true
   },
   "outputs": [],
   "source": [
    "def get_race_info_from_schedule_page(driver):\n",
    "    # find table tag info \n",
    "    race_schedule_block_elem = driver.find_element_by_class_name('race_schedule_block')\n",
    "    race_schedule_block_elem_list = race_schedule_block_elem.find_element_by_tag_name('tbody').find_elements_by_tag_name('tr')\n",
    "    \n",
    "    # define table header\n",
    "    race_schedule_block_header = race_schedule_block_elem_list[0].find_elements_by_tag_name('th')\n",
    "    race_schedule_block_header = [race_schedule_block_header[i].text for i in range(len(race_schedule_block_header))]\n",
    "    \n",
    "    # make race info data frame\n",
    "    race_schedule_block_info_list = []\n",
    "#     for i in range(1, len(race_schedule_block_elem_list)):\n",
    "    for i in range(1, len(race_schedule_block_elem_list)-120):\n",
    "        race_schedule_block_body = race_schedule_block_elem_list[i].find_elements_by_tag_name('td')\n",
    "        race_schedule_block_body = [race_schedule_block_body[i].text for i in range(len(race_schedule_block_body))]\n",
    "        race_schedule_block_info_list.append(race_schedule_block_body)\n",
    "    \n",
    "    return pd.DataFrame(race_schedule_block_info_list, columns=race_schedule_block_header)"
   ]
  },
  {
   "cell_type": "code",
   "execution_count": 10,
   "metadata": {
    "scrolled": false
   },
   "outputs": [
    {
     "data": {
      "text/html": [
       "<div>\n",
       "<style scoped>\n",
       "    .dataframe tbody tr th:only-of-type {\n",
       "        vertical-align: middle;\n",
       "    }\n",
       "\n",
       "    .dataframe tbody tr th {\n",
       "        vertical-align: top;\n",
       "    }\n",
       "\n",
       "    .dataframe thead th {\n",
       "        text-align: right;\n",
       "    }\n",
       "</style>\n",
       "<table border=\"1\" class=\"dataframe\">\n",
       "  <thead>\n",
       "    <tr style=\"text-align: right;\">\n",
       "      <th></th>\n",
       "      <th>日付</th>\n",
       "      <th>レース名</th>\n",
       "      <th>格</th>\n",
       "      <th>場</th>\n",
       "      <th>距離</th>\n",
       "      <th>条件</th>\n",
       "      <th>重量</th>\n",
       "    </tr>\n",
       "  </thead>\n",
       "  <tbody>\n",
       "    <tr>\n",
       "      <th>0</th>\n",
       "      <td>2019/01/05(土)</td>\n",
       "      <td>中山金杯</td>\n",
       "      <td>G3</td>\n",
       "      <td>中山</td>\n",
       "      <td>芝2000m</td>\n",
       "      <td>4歳上</td>\n",
       "      <td>ハンデ</td>\n",
       "    </tr>\n",
       "    <tr>\n",
       "      <th>1</th>\n",
       "      <td>2019/01/05(土)</td>\n",
       "      <td>京都金杯</td>\n",
       "      <td>G3</td>\n",
       "      <td>京都</td>\n",
       "      <td>芝1600m</td>\n",
       "      <td>4歳上</td>\n",
       "      <td>ハンデ</td>\n",
       "    </tr>\n",
       "    <tr>\n",
       "      <th>2</th>\n",
       "      <td>2019/01/06(日)</td>\n",
       "      <td>シンザン記念</td>\n",
       "      <td>G3</td>\n",
       "      <td>京都</td>\n",
       "      <td>芝1600m</td>\n",
       "      <td>3歳</td>\n",
       "      <td>別定</td>\n",
       "    </tr>\n",
       "    <tr>\n",
       "      <th>3</th>\n",
       "      <td>2019/01/12(土)</td>\n",
       "      <td>フェアリーS</td>\n",
       "      <td>G3</td>\n",
       "      <td>中山</td>\n",
       "      <td>芝1600m</td>\n",
       "      <td>3歳牝</td>\n",
       "      <td>別定</td>\n",
       "    </tr>\n",
       "    <tr>\n",
       "      <th>4</th>\n",
       "      <td>2019/01/13(日)</td>\n",
       "      <td>日経新春杯</td>\n",
       "      <td>G2</td>\n",
       "      <td>京都</td>\n",
       "      <td>芝2400m</td>\n",
       "      <td>4歳上</td>\n",
       "      <td>ハンデ</td>\n",
       "    </tr>\n",
       "    <tr>\n",
       "      <th>5</th>\n",
       "      <td>2019/01/14(月)</td>\n",
       "      <td>京成杯</td>\n",
       "      <td>G3</td>\n",
       "      <td>中山</td>\n",
       "      <td>芝2000m</td>\n",
       "      <td>3歳</td>\n",
       "      <td>別定</td>\n",
       "    </tr>\n",
       "    <tr>\n",
       "      <th>6</th>\n",
       "      <td>2019/01/20(日)</td>\n",
       "      <td>アメリカJCC</td>\n",
       "      <td>G2</td>\n",
       "      <td>中山</td>\n",
       "      <td>芝2200m</td>\n",
       "      <td>4歳上</td>\n",
       "      <td>別定</td>\n",
       "    </tr>\n",
       "    <tr>\n",
       "      <th>7</th>\n",
       "      <td>2019/01/20(日)</td>\n",
       "      <td>東海S</td>\n",
       "      <td>G2</td>\n",
       "      <td>中京</td>\n",
       "      <td>ダ1800m</td>\n",
       "      <td>4歳上</td>\n",
       "      <td>別定</td>\n",
       "    </tr>\n",
       "    <tr>\n",
       "      <th>8</th>\n",
       "      <td>2019/01/26(土)</td>\n",
       "      <td>愛知杯</td>\n",
       "      <td>G3</td>\n",
       "      <td>中京</td>\n",
       "      <td>芝2000m</td>\n",
       "      <td>4歳上牝</td>\n",
       "      <td>ハンデ</td>\n",
       "    </tr>\n",
       "  </tbody>\n",
       "</table>\n",
       "</div>"
      ],
      "text/plain": [
       "              日付     レース名   格   場      距離    条件   重量\n",
       "0  2019/01/05(土)     中山金杯  G3  中山  芝2000m   4歳上  ハンデ\n",
       "1  2019/01/05(土)     京都金杯  G3  京都  芝1600m   4歳上  ハンデ\n",
       "2  2019/01/06(日)   シンザン記念  G3  京都  芝1600m    3歳   別定\n",
       "3  2019/01/12(土)   フェアリーS  G3  中山  芝1600m   3歳牝   別定\n",
       "4  2019/01/13(日)    日経新春杯  G2  京都  芝2400m   4歳上  ハンデ\n",
       "5  2019/01/14(月)      京成杯  G3  中山  芝2000m    3歳   別定\n",
       "6  2019/01/20(日)  アメリカJCC  G2  中山  芝2200m   4歳上   別定\n",
       "7  2019/01/20(日)      東海S  G2  中京  ダ1800m   4歳上   別定\n",
       "8  2019/01/26(土)      愛知杯  G3  中京  芝2000m  4歳上牝  ハンデ"
      ]
     },
     "execution_count": 10,
     "metadata": {},
     "output_type": "execute_result"
    }
   ],
   "source": [
    "race_schedule_block_df = get_race_info_from_schedule_page(driver)\n",
    "race_schedule_block_df"
   ]
  },
  {
   "cell_type": "markdown",
   "metadata": {},
   "source": [
    "### Click and get each race information"
   ]
  },
  {
   "cell_type": "code",
   "execution_count": 72,
   "metadata": {},
   "outputs": [],
   "source": [
    "def make_web_driver_click(driver, parameters, xpath, verbose=True):\n",
    "    try:\n",
    "        WebDriverWait(driver, parameters['PAGE_LOAD_TIMEOUT']).until(EC.element_to_be_clickable((By.XPATH, xpath)))\n",
    "        driver.find_element_by_xpath(xpath).click()\n",
    "        if verbose:\n",
    "            print('We can load the XPATH and now locate in:', driver.current_url)\n",
    "        \n",
    "    except:\n",
    "        print('The page load was time out')"
   ]
  },
  {
   "cell_type": "code",
   "execution_count": 26,
   "metadata": {},
   "outputs": [],
   "source": [
    "def click_into_top_page_of_each_race(driver, parameters, race_idx):\n",
    "    xpath_to_each_race = '//*[@id=\"main\"]/div/table/tbody/tr[{TR_IDX}]/td[2]/a'.format(TR_IDX=race_idx)\n",
    "    make_web_driver_click(driver, parameters, xpath_to_each_race)"
   ]
  },
  {
   "cell_type": "code",
   "execution_count": 65,
   "metadata": {},
   "outputs": [],
   "source": [
    "def click_into_race_table_page_of_each_race(driver, parameters):\n",
    "    xpath_to_each_race_table = '//*[@id=\"main\"]/div[1]/div/div[2]/div[2]/div/ul[1]/li[2]/a/span'\n",
    "    make_web_driver_click(driver, parameters, xpath_to_each_race_table, verbose=False) \n",
    "    \n",
    "    xpath_to_each_race_table = '//*[@id=\"race_main\"]/div[1]/ul[2]/li[1]/a'\n",
    "    make_web_driver_click(driver, parameters, xpath_to_each_race_table) "
   ]
  },
  {
   "cell_type": "code",
   "execution_count": 73,
   "metadata": {
    "scrolled": false
   },
   "outputs": [
    {
     "name": "stdout",
     "output_type": "stream",
     "text": [
      "We get the information of race: ['2019/01/20(日)', '東海S', 'G2', '中京', 'ダ1800m', '4歳上', '別定']\n",
      "We can load the XPATH and now locate in: https://race.netkeiba.com/?pid=special&id=0057\n"
     ]
    }
   ],
   "source": [
    "race_idx = 9 # 2 to race_schedule_block_df.shape[0]+1\n",
    "print('We get the information of race:', list(race_schedule_block_df.loc[race_idx-2, :]))\n",
    "\n",
    "click_into_top_page_of_each_race(driver, parameters, race_idx)"
   ]
  },
  {
   "cell_type": "code",
   "execution_count": 74,
   "metadata": {
    "scrolled": true
   },
   "outputs": [
    {
     "name": "stdout",
     "output_type": "stream",
     "text": [
      "We can load the XPATH and now locate in: https://race.netkeiba.com/?pid=race_old&id=c201907010211\n"
     ]
    }
   ],
   "source": [
    "click_into_race_table_page_of_each_race(driver, parameters)"
   ]
  },
  {
   "cell_type": "code",
   "execution_count": 154,
   "metadata": {
    "scrolled": true
   },
   "outputs": [],
   "source": [
    "def get_race_table(driver):\n",
    "    xpath_to_race_table = '//*[@id=\"shutuba\"]/diary_snap/table/tbody'\n",
    "    race_table_elem = driver.find_element_by_xpath(xpath_to_race_table)\n",
    "\n",
    "    race_table_header_elem = race_table_elem.find_element_by_xpath('tr').find_elements_by_xpath('th')\n",
    "    race_table_header = [race_table_header_elem[i].text.replace('\\n','') for i in range(len(race_table_header_elem))]\n",
    "\n",
    "    race_table_body_elem = race_table_elem.find_elements_by_xpath('tr')[3:]\n",
    "    race_table_body_list = []\n",
    "    for i in range(len(race_table_body_elem)):\n",
    "        race_table_body_elem_list = race_table_body_elem[i].find_elements_by_xpath('td')\n",
    "        race_table_body = [race_table_body_elem_list[j].text.replace('\\n','') for j in range(len(race_table_body_elem_list))]\n",
    "        race_table_body_list.append(race_table_body[:-2])\n",
    "        \n",
    "    return pd.DataFrame(race_table_body_list, columns=race_table_header[:-1])"
   ]
  },
  {
   "cell_type": "code",
   "execution_count": 153,
   "metadata": {},
   "outputs": [
    {
     "data": {
      "text/html": [
       "<div>\n",
       "<style scoped>\n",
       "    .dataframe tbody tr th:only-of-type {\n",
       "        vertical-align: middle;\n",
       "    }\n",
       "\n",
       "    .dataframe tbody tr th {\n",
       "        vertical-align: top;\n",
       "    }\n",
       "\n",
       "    .dataframe thead th {\n",
       "        text-align: right;\n",
       "    }\n",
       "</style>\n",
       "<table border=\"1\" class=\"dataframe\">\n",
       "  <thead>\n",
       "    <tr style=\"text-align: right;\">\n",
       "      <th></th>\n",
       "      <th>枠番</th>\n",
       "      <th>馬番</th>\n",
       "      <th>あなたの印※</th>\n",
       "      <th>馬名</th>\n",
       "      <th>性齢</th>\n",
       "      <th>負担重量</th>\n",
       "      <th>騎手</th>\n",
       "      <th>厩舎</th>\n",
       "      <th>馬体重</th>\n",
       "      <th>単勝オッズ</th>\n",
       "      <th>人気</th>\n",
       "    </tr>\n",
       "  </thead>\n",
       "  <tbody>\n",
       "    <tr>\n",
       "      <th>0</th>\n",
       "      <td>1</td>\n",
       "      <td>1</td>\n",
       "      <td>…◎○▲△☆消</td>\n",
       "      <td>グレンツェント</td>\n",
       "      <td>牡6</td>\n",
       "      <td>56.0</td>\n",
       "      <td>ミナリク</td>\n",
       "      <td>加藤征</td>\n",
       "      <td>484(+6)</td>\n",
       "      <td>28.3</td>\n",
       "      <td>5</td>\n",
       "    </tr>\n",
       "    <tr>\n",
       "      <th>1</th>\n",
       "      <td>2</td>\n",
       "      <td>2</td>\n",
       "      <td>…◎○▲△☆消</td>\n",
       "      <td>アスカノロマン</td>\n",
       "      <td>牡8</td>\n",
       "      <td>56.0</td>\n",
       "      <td>太宰</td>\n",
       "      <td>川村</td>\n",
       "      <td>526(+2)</td>\n",
       "      <td>85.5</td>\n",
       "      <td>8</td>\n",
       "    </tr>\n",
       "    <tr>\n",
       "      <th>2</th>\n",
       "      <td>3</td>\n",
       "      <td>3</td>\n",
       "      <td>…◎○▲△☆消</td>\n",
       "      <td>チュウワウィザード</td>\n",
       "      <td>牡4</td>\n",
       "      <td>56.0</td>\n",
       "      <td>川田</td>\n",
       "      <td>大久保</td>\n",
       "      <td>480(+3)</td>\n",
       "      <td>4.8</td>\n",
       "      <td>2</td>\n",
       "    </tr>\n",
       "    <tr>\n",
       "      <th>3</th>\n",
       "      <td>4</td>\n",
       "      <td>4</td>\n",
       "      <td>…◎○▲△☆消</td>\n",
       "      <td>インティ</td>\n",
       "      <td>牡5</td>\n",
       "      <td>56.0</td>\n",
       "      <td>武豊</td>\n",
       "      <td>野中</td>\n",
       "      <td>514(-2)</td>\n",
       "      <td>1.5</td>\n",
       "      <td>1</td>\n",
       "    </tr>\n",
       "    <tr>\n",
       "      <th>4</th>\n",
       "      <td>4</td>\n",
       "      <td>5</td>\n",
       "      <td>…◎○▲△☆消</td>\n",
       "      <td>スマハマ</td>\n",
       "      <td>牡4</td>\n",
       "      <td>55.0</td>\n",
       "      <td>藤岡佑</td>\n",
       "      <td>高橋亮</td>\n",
       "      <td>538(+4)</td>\n",
       "      <td>7.9</td>\n",
       "      <td>4</td>\n",
       "    </tr>\n",
       "    <tr>\n",
       "      <th>5</th>\n",
       "      <td>5</td>\n",
       "      <td>6</td>\n",
       "      <td>…◎○▲△☆消</td>\n",
       "      <td>アングライフェン</td>\n",
       "      <td>牡7</td>\n",
       "      <td>56.0</td>\n",
       "      <td>鮫島駿</td>\n",
       "      <td>安田隆</td>\n",
       "      <td>496(+18)</td>\n",
       "      <td>73.6</td>\n",
       "      <td>7</td>\n",
       "    </tr>\n",
       "    <tr>\n",
       "      <th>6</th>\n",
       "      <td>5</td>\n",
       "      <td>7</td>\n",
       "      <td>…◎○▲△☆消</td>\n",
       "      <td>アンジュデジール</td>\n",
       "      <td>牝5</td>\n",
       "      <td>55.0</td>\n",
       "      <td>横山典</td>\n",
       "      <td>昆</td>\n",
       "      <td>488(+2)</td>\n",
       "      <td>7.5</td>\n",
       "      <td>3</td>\n",
       "    </tr>\n",
       "    <tr>\n",
       "      <th>7</th>\n",
       "      <td>6</td>\n",
       "      <td>8</td>\n",
       "      <td>…◎○▲△☆消</td>\n",
       "      <td>モルトベーネ</td>\n",
       "      <td>牡7</td>\n",
       "      <td>56.0</td>\n",
       "      <td>藤岡康</td>\n",
       "      <td>松永昌</td>\n",
       "      <td>478(+12)</td>\n",
       "      <td>184.0</td>\n",
       "      <td>11</td>\n",
       "    </tr>\n",
       "    <tr>\n",
       "      <th>8</th>\n",
       "      <td>6</td>\n",
       "      <td>9</td>\n",
       "      <td>…◎○▲△☆消</td>\n",
       "      <td>シャイニービーム</td>\n",
       "      <td>牡7</td>\n",
       "      <td>56.0</td>\n",
       "      <td>藤懸</td>\n",
       "      <td>羽月</td>\n",
       "      <td>458(0)</td>\n",
       "      <td>333.8</td>\n",
       "      <td>12</td>\n",
       "    </tr>\n",
       "    <tr>\n",
       "      <th>9</th>\n",
       "      <td>7</td>\n",
       "      <td>10</td>\n",
       "      <td>…◎○▲△☆消</td>\n",
       "      <td>コスモカナディアン</td>\n",
       "      <td>牡6</td>\n",
       "      <td>56.0</td>\n",
       "      <td>丸山</td>\n",
       "      <td>金成</td>\n",
       "      <td>500(+6)</td>\n",
       "      <td>32.6</td>\n",
       "      <td>6</td>\n",
       "    </tr>\n",
       "    <tr>\n",
       "      <th>10</th>\n",
       "      <td>7</td>\n",
       "      <td>11</td>\n",
       "      <td>…◎○▲△☆消</td>\n",
       "      <td>マイネルバサラ</td>\n",
       "      <td>牡6</td>\n",
       "      <td>56.0</td>\n",
       "      <td>吉田隼</td>\n",
       "      <td>松山</td>\n",
       "      <td>476(+2)</td>\n",
       "      <td>94.2</td>\n",
       "      <td>9</td>\n",
       "    </tr>\n",
       "    <tr>\n",
       "      <th>11</th>\n",
       "      <td>8</td>\n",
       "      <td>12</td>\n",
       "      <td>…◎○▲△☆消</td>\n",
       "      <td>メイショウスミトモ</td>\n",
       "      <td>牡8</td>\n",
       "      <td>56.0</td>\n",
       "      <td>古川</td>\n",
       "      <td>南井</td>\n",
       "      <td>504(+16)</td>\n",
       "      <td>382.1</td>\n",
       "      <td>13</td>\n",
       "    </tr>\n",
       "    <tr>\n",
       "      <th>12</th>\n",
       "      <td>8</td>\n",
       "      <td>13</td>\n",
       "      <td>…◎○▲△☆消</td>\n",
       "      <td>カゼノコ</td>\n",
       "      <td>牡8</td>\n",
       "      <td>57.0</td>\n",
       "      <td>小崎</td>\n",
       "      <td>野中</td>\n",
       "      <td>462(-4)</td>\n",
       "      <td>129.2</td>\n",
       "      <td>10</td>\n",
       "    </tr>\n",
       "  </tbody>\n",
       "</table>\n",
       "</div>"
      ],
      "text/plain": [
       "   枠番  馬番   あなたの印※         馬名  性齢  負担重量    騎手   厩舎       馬体重  単勝オッズ  人気\n",
       "0   1   1  …◎○▲△☆消    グレンツェント  牡6  56.0  ミナリク  加藤征   484(+6)   28.3   5\n",
       "1   2   2  …◎○▲△☆消    アスカノロマン  牡8  56.0    太宰   川村   526(+2)   85.5   8\n",
       "2   3   3  …◎○▲△☆消  チュウワウィザード  牡4  56.0    川田  大久保   480(+3)    4.8   2\n",
       "3   4   4  …◎○▲△☆消       インティ  牡5  56.0    武豊   野中   514(-2)    1.5   1\n",
       "4   4   5  …◎○▲△☆消       スマハマ  牡4  55.0   藤岡佑  高橋亮   538(+4)    7.9   4\n",
       "5   5   6  …◎○▲△☆消   アングライフェン  牡7  56.0   鮫島駿  安田隆  496(+18)   73.6   7\n",
       "6   5   7  …◎○▲△☆消   アンジュデジール  牝5  55.0   横山典    昆   488(+2)    7.5   3\n",
       "7   6   8  …◎○▲△☆消     モルトベーネ  牡7  56.0   藤岡康  松永昌  478(+12)  184.0  11\n",
       "8   6   9  …◎○▲△☆消   シャイニービーム  牡7  56.0    藤懸   羽月    458(0)  333.8  12\n",
       "9   7  10  …◎○▲△☆消  コスモカナディアン  牡6  56.0    丸山   金成   500(+6)   32.6   6\n",
       "10  7  11  …◎○▲△☆消    マイネルバサラ  牡6  56.0   吉田隼   松山   476(+2)   94.2   9\n",
       "11  8  12  …◎○▲△☆消  メイショウスミトモ  牡8  56.0    古川   南井  504(+16)  382.1  13\n",
       "12  8  13  …◎○▲△☆消       カゼノコ  牡8  57.0    小崎   野中   462(-4)  129.2  10"
      ]
     },
     "execution_count": 153,
     "metadata": {},
     "output_type": "execute_result"
    }
   ],
   "source": [
    "get_race_table(driver)"
   ]
  },
  {
   "cell_type": "code",
   "execution_count": 138,
   "metadata": {},
   "outputs": [
    {
     "data": {
      "text/plain": [
       "['2',\n",
       " '2',\n",
       " '…◎○▲△☆消',\n",
       " 'アスカノロマン',\n",
       " '牡8',\n",
       " '56.0',\n",
       " '太宰',\n",
       " '川村',\n",
       " '526(+2)',\n",
       " '85.5',\n",
       " '8',\n",
       " '',\n",
       " ' ']"
      ]
     },
     "execution_count": 138,
     "metadata": {},
     "output_type": "execute_result"
    }
   ],
   "source": [
    "race_table_body"
   ]
  },
  {
   "cell_type": "code",
   "execution_count": null,
   "metadata": {},
   "outputs": [],
   "source": []
  },
  {
   "cell_type": "code",
   "execution_count": null,
   "metadata": {},
   "outputs": [],
   "source": []
  },
  {
   "cell_type": "code",
   "execution_count": null,
   "metadata": {},
   "outputs": [],
   "source": []
  },
  {
   "cell_type": "code",
   "execution_count": null,
   "metadata": {},
   "outputs": [],
   "source": []
  },
  {
   "cell_type": "code",
   "execution_count": 68,
   "metadata": {},
   "outputs": [],
   "source": [
    "back_chrome_window(driver)"
   ]
  },
  {
   "cell_type": "code",
   "execution_count": 69,
   "metadata": {},
   "outputs": [],
   "source": [
    "# close_chrome_window(driver)"
   ]
  },
  {
   "cell_type": "code",
   "execution_count": null,
   "metadata": {},
   "outputs": [],
   "source": []
  }
 ],
 "metadata": {
  "kernelspec": {
   "display_name": "Python 3",
   "language": "python",
   "name": "python3"
  },
  "language_info": {
   "codemirror_mode": {
    "name": "ipython",
    "version": 3
   },
   "file_extension": ".py",
   "mimetype": "text/x-python",
   "name": "python",
   "nbconvert_exporter": "python",
   "pygments_lexer": "ipython3",
   "version": "3.7.3"
  }
 },
 "nbformat": 4,
 "nbformat_minor": 2
}
