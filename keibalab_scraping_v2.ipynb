{
 "cells": [
  {
   "cell_type": "code",
   "execution_count": 515,
   "metadata": {},
   "outputs": [],
   "source": [
    "import re\n",
    "import glob\n",
    "import os\n",
    "import time \n",
    "import datetime\n",
    "import pandas as pd\n",
    "import pymysql\n",
    "from selenium import webdriver\n",
    "from selenium.webdriver.common.by import By\n",
    "from selenium.webdriver.support.ui import WebDriverWait\n",
    "from selenium.webdriver.support import expected_conditions as EC\n",
    "import warnings\n",
    "warnings.filterwarnings('ignore')\n",
    "\n",
    "from Config import params_config, db_config\n",
    "from Utils.bulk_insert import BulkInsert"
   ]
  },
  {
   "cell_type": "code",
   "execution_count": 516,
   "metadata": {
    "scrolled": true
   },
   "outputs": [],
   "source": [
    "parameters = params_config.parameters"
   ]
  },
  {
   "cell_type": "code",
   "execution_count": 517,
   "metadata": {},
   "outputs": [],
   "source": [
    "class BulkInsert(object):\n",
    "    def __init__(self, con):\n",
    "        self.con = con\n",
    "\n",
    "    def execute(self, insert_data, target_table, col_names):\n",
    "        if len(insert_data) == 0:\n",
    "            return None\n",
    "\n",
    "        try:\n",
    "            cursor = self.con.cursor()\n",
    "            query = self._generate_query(col_names, insert_data, target_table)\n",
    "            cursor.execute(query)\n",
    "            self.con.commit()\n",
    "        except Exception:\n",
    "            raise RuntimeError()\n",
    "\n",
    "    @staticmethod\n",
    "    def _generate_query(col_names, insert_data, target_table):\n",
    "        schema = '(' + ', '.join(map(lambda x: str(x), col_names)) + ')'\n",
    "        data_text =  ', '.join(map(lambda x: str(tuple(x)), insert_data))\n",
    "        return 'INSERT INTO ' + target_table + schema + ' VALUES ' + data_text"
   ]
  },
  {
   "cell_type": "code",
   "execution_count": 518,
   "metadata": {},
   "outputs": [],
   "source": [
    "def _bulk_insert(insert_list, target_table_name, insert_col_names):\n",
    "    bi = BulkInsert(con)\n",
    "    bi.execute(insert_data=insert_list, target_table=target_table_name, col_names=insert_col_names)"
   ]
  },
  {
   "cell_type": "code",
   "execution_count": 519,
   "metadata": {
    "scrolled": true
   },
   "outputs": [],
   "source": [
    "db_params = db_config.db_params\n",
    "con = pymysql.connect(**db_params)"
   ]
  },
  {
   "cell_type": "markdown",
   "metadata": {},
   "source": [
    "##  競馬結果のスクレイピングロジック\n",
    "- 将来直近の土日に関して\n",
    "    - ウェブ新聞の予想情報を取得\n",
    "- 過去の土日に関して\n",
    "    - ウェブ新聞の予想情報を取得\n",
    "    - 結果払い戻し情報を取得\n",
    "<br>\n",
    "\n",
    "1986/01/05 まで情報あり<br>\n",
    "土曜と日曜（レースがない日もある）だけ記録があるので、そこだけスクレイピングする"
   ]
  },
  {
   "cell_type": "code",
   "execution_count": 520,
   "metadata": {},
   "outputs": [],
   "source": [
    "def initialize_chrome_driver(parameters):\n",
    "    driver = webdriver.Chrome(executable_path=parameters['DRIVER_DIR'])\n",
    "    driver.set_page_load_timeout(parameters['PAGE_LOAD_TIMEOUT'])\n",
    "    driver.maximize_window()\n",
    "    return driver\n",
    "\n",
    "\n",
    "def get_nearest_future_holidays_list():\n",
    "    target_datetime = datetime.date.today()\n",
    "    target_datetime = datetime.date(2019, 7, 15)\n",
    "    if target_datetime.weekday() == 6:\n",
    "        sunday_datetime_str = target_datetime.strftime(\"%Y%m%d\")\n",
    "        target_datetime_minus_1 = target_datetime + datetime.timedelta(days=-1)\n",
    "        saturday_datetime_str = target_datetime_minus_1.strftime(\"%Y%m%d\")\n",
    "        return [saturday_datetime_str, sunday_datetime_str]\n",
    "    \n",
    "    while True:\n",
    "        if target_datetime.weekday() == 5:\n",
    "            saturday_datetime_str = target_datetime.strftime(\"%Y%m%d\")\n",
    "            target_datetime_plus_1 = target_datetime + datetime.timedelta(days=1)\n",
    "            sunday_datetime_str = target_datetime_plus_1.strftime(\"%Y%m%d\")\n",
    "            return [saturday_datetime_str, sunday_datetime_str]\n",
    "        else:\n",
    "            target_datetime = target_datetime + datetime.timedelta(days=1)\n",
    "\n",
    "\n",
    "def get_latest_holidays_list(target_datetime):\n",
    "    while True:\n",
    "        if target_datetime.weekday() == 5:\n",
    "            saturday_datetime_str = target_datetime.strftime(\"%Y%m%d\")\n",
    "            target_datetime_plus_1 = target_datetime + datetime.timedelta(days=1)\n",
    "            sunday_datetime_str = target_datetime_plus_1.strftime(\"%Y%m%d\")\n",
    "            return [saturday_datetime_str, sunday_datetime_str]\n",
    "        else:\n",
    "            target_datetime = target_datetime + datetime.timedelta(days=-1)"
   ]
  },
  {
   "cell_type": "code",
   "execution_count": 521,
   "metadata": {},
   "outputs": [],
   "source": [
    "def initialize_chrome_driver(parameters):\n",
    "    driver = webdriver.Chrome(executable_path=parameters['DRIVER_DIR'])\n",
    "    driver.set_page_load_timeout(parameters['PAGE_LOAD_TIMEOUT'])\n",
    "    driver.maximize_window()\n",
    "    \n",
    "    return driver "
   ]
  },
  {
   "cell_type": "code",
   "execution_count": 650,
   "metadata": {},
   "outputs": [],
   "source": [
    "driver = initialize_chrome_driver(parameters)"
   ]
  },
  {
   "cell_type": "code",
   "execution_count": 157,
   "metadata": {},
   "outputs": [],
   "source": [
    "driver.back()\n",
    "# driver.quit()"
   ]
  },
  {
   "cell_type": "markdown",
   "metadata": {},
   "source": [
    "## Class: KeibaLabScraper"
   ]
  },
  {
   "cell_type": "code",
   "execution_count": 522,
   "metadata": {
    "scrolled": false
   },
   "outputs": [
    {
     "data": {
      "text/plain": [
       "['20190720', '20190721']"
      ]
     },
     "execution_count": 522,
     "metadata": {},
     "output_type": "execute_result"
    }
   ],
   "source": [
    "# first process for scraping\n",
    "target_datetime_list =  get_nearest_future_holidays_list()\n",
    "target_datetime_list"
   ]
  },
  {
   "cell_type": "code",
   "execution_count": 523,
   "metadata": {},
   "outputs": [],
   "source": [
    "def _load_target_url_page(driver, parameters, target_datetime_str):\n",
    "    target_url = parameters['TARGET_URL_OF_KAIBALAB_RACE'] + target_datetime_str\n",
    "    try:\n",
    "        driver.get(target_url)\n",
    "        print('We could load the URL:', driver.current_url)\n",
    "    except Exception as e:\n",
    "        print(e)\n",
    "\n",
    "def _make_web_driver_click_by(driver, parameters, xpath, verbose=True):\n",
    "    try:\n",
    "        WebDriverWait(driver, self.parameters['PAGE_LOAD_TIMEOUT']).until(\n",
    "            EC.element_to_be_clickable((By.XPATH, xpath)))\n",
    "        driver.find_element_by_xpath(xpath).click()\n",
    "\n",
    "        if verbose:\n",
    "            print('We could load the XPATH and now locate in:', driver.current_url)\n",
    "\n",
    "    except Exception as e:\n",
    "        print(e)"
   ]
  },
  {
   "cell_type": "code",
   "execution_count": 524,
   "metadata": {
    "scrolled": false
   },
   "outputs": [],
   "source": [
    "def _is_race_kakutei(xpath_table_of_race_result, table_tbody_idx):\n",
    "    xpath_for_kakutei_box = xpath_table_of_race_result + '/tbody/tr[{TBODY_IDX}]/td[3]'.format(TBODY_IDX=table_tbody_idx+1)\n",
    "    try:\n",
    "        driver.find_element_by_xpath(xpath_for_kakutei_box).find_element_by_tag_name('a')\n",
    "        return True\n",
    "    except Exception:\n",
    "        return False"
   ]
  },
  {
   "cell_type": "code",
   "execution_count": 525,
   "metadata": {},
   "outputs": [],
   "source": [
    "def _make_xpath_list_of_race_result_link():\n",
    "    xpath_list_of_race_result_link = []\n",
    "    \n",
    "    xpath_race_info_div = '//*[@id=\"raceInfo\"]/div[1]'\n",
    "    race_table_header_list = driver.find_element_by_xpath(xpath_race_info_div).find_elements_by_tag_name('table')\n",
    "    \n",
    "    for table_header_idx in range(len(race_table_header_list)):\n",
    "        xpath_table_of_race_result = xpath_race_info_div + '/table[{TABLE_IDX_IDX}]'.format(TABLE_IDX_IDX=table_header_idx+1)\n",
    "        race_table_body_elem_list = driver.find_element_by_xpath(xpath_table_of_race_result).find_element_by_tag_name('tbody').find_elements_by_tag_name('tr')\n",
    "        \n",
    "        for table_tbody_idx in range(len(race_table_body_elem_list)):\n",
    "            if is_race_kakutei(xpath_table_of_race_result, table_tbody_idx):\n",
    "                xpath_tdoby_of_table_race_result = xpath_table_of_race_result + '/tbody/tr[{TBODY_IDX}]/td[2]/a'.format(TBODY_IDX=table_tbody_idx+1)\n",
    "                xpath_list_of_race_result_link.append(['kakutei', xpath_tdoby_of_table_race_result])\n",
    "            else:\n",
    "                xpath_tdoby_of_table_race_result = xpath_table_of_race_result + '/tbody/tr[{TBODY_IDX}]/td[2]/a'.format(TBODY_IDX=table_tbody_idx+1)\n",
    "                xpath_list_of_race_result_link.append(['not_kakutei', xpath_tdoby_of_table_race_result])\n",
    "                \n",
    "    if xpath_list_of_race_result_link is None:\n",
    "        return None\n",
    "    \n",
    "    return xpath_list_of_race_result_link"
   ]
  },
  {
   "cell_type": "code",
   "execution_count": 526,
   "metadata": {},
   "outputs": [],
   "source": [
    "def get_race_id():\n",
    "    return re.sub('\\\\D', '', driver.current_url.split(parameters['TARGET_URL_OF_KAIBALAB_RACE'])[1])"
   ]
  },
  {
   "cell_type": "code",
   "execution_count": 527,
   "metadata": {},
   "outputs": [],
   "source": [
    "def get_race_data_box_list(race_id):\n",
    "    race_data_box = driver.find_element_by_xpath('//*[@id=\"tab1\"]/div[2]/div[1]/div[1]/div[1]/div[2]')\n",
    "    race_timing = race_data_box.find_element_by_xpath('//p[@class=\"bold\"]').text\n",
    "    race_title = race_data_box.find_element_by_xpath('//h1[@class=\"raceTitle fL\"]').text\n",
    "    try:\n",
    "        race_weather = race_data_box.find_elements_by_xpath('//div[@class=\"weather_ground fL\"]/ul/li')[0].text\n",
    "        race_condition =  race_data_box.find_elements_by_xpath('//div[@class=\"weather_ground fL\"]/ul/li')[1].text\n",
    "    except:\n",
    "        race_weather = 'unknown'\n",
    "        race_condition = 'unknown'\n",
    "    \n",
    "    course_syokin_elem = race_data_box.find_elements_by_xpath('//ul[@class=\"classCourseSyokin clearfix\"]/li')\n",
    "    course_syokin_list = ','.join([course_syokin_elem[i].text.replace('\\u3000',' ') for i in range(len(course_syokin_elem))]).replace(',',' ')\n",
    "    \n",
    "    return [race_id, race_timing, race_title, race_weather, race_condition, course_syokin_list]"
   ]
  },
  {
   "cell_type": "code",
   "execution_count": 528,
   "metadata": {},
   "outputs": [],
   "source": [
    "def get_race_result_tbody_list(race_id):\n",
    "    race_result_tbody_row_elem_list = driver.find_elements_by_xpath('//*[@class=\"DbTable stripe resulttable\"]/tbody/tr')\n",
    "    race_result_tbody_list = []\n",
    "    \n",
    "    for i in range(len(race_result_tbody_row_elem_list)):\n",
    "        arrival_order = race_result_tbody_row_elem_list[i].find_element_by_xpath('td[1]').text\n",
    "        post_position = race_result_tbody_row_elem_list[i].find_element_by_xpath('td[2]').text\n",
    "\n",
    "        horse_number = race_result_tbody_row_elem_list[i].find_element_by_xpath('td[3]').text\n",
    "        horse_name = race_result_tbody_row_elem_list[i].find_element_by_xpath('td[4]').text\n",
    "        href_to_the_horse = race_result_tbody_row_elem_list[i].find_element_by_xpath('td[4]/a').get_attribute(\"href\")\n",
    "        horse_age = race_result_tbody_row_elem_list[i].find_element_by_xpath('td[5]').text\n",
    "        horse_weight = race_result_tbody_row_elem_list[i].find_element_by_xpath('td[15]').text \n",
    "        horse_impost = race_result_tbody_row_elem_list[i].find_element_by_xpath('td[6]').text \n",
    "\n",
    "        jockey_name = race_result_tbody_row_elem_list[i].find_element_by_xpath('td[7]').text\n",
    "        href_to_the_jockey = race_result_tbody_row_elem_list[i].find_element_by_xpath('td[7]/a').get_attribute(\"href\")\n",
    "\n",
    "        popularity_order = race_result_tbody_row_elem_list[i].find_element_by_xpath('td[8]').text\n",
    "        win_odds = race_result_tbody_row_elem_list[i].find_element_by_xpath('td[9]').text\n",
    "\n",
    "        trainer_name = race_result_tbody_row_elem_list[i].find_element_by_xpath('td[14]').text\n",
    "        href_to_the_trainer = race_result_tbody_row_elem_list[i].find_element_by_xpath('td[14]/a').get_attribute(\"href\")\n",
    "        \n",
    "        race_result_tbody_list.append([race_id, arrival_order, post_position, horse_number, horse_name, href_to_the_horse, horse_age, horse_weight, horse_impost, \n",
    " jockey_name, href_to_the_jockey, popularity_order, win_odds, trainer_name, href_to_the_trainer])\n",
    "    \n",
    "    return race_result_tbody_list"
   ]
  },
  {
   "cell_type": "code",
   "execution_count": null,
   "metadata": {
    "scrolled": true
   },
   "outputs": [],
   "source": [
    "# bulk_insert(insert_list=race_result_tbody_list,\n",
    "#                              target_table_name='keibalab_race_result_list',\n",
    "#                              insert_col_names=parameters['TABLE_COL_NAMES']['keibalab_race_result_list']) "
   ]
  },
  {
   "cell_type": "markdown",
   "metadata": {},
   "source": [
    "## 将来のレース情報を取得"
   ]
  },
  {
   "cell_type": "code",
   "execution_count": 651,
   "metadata": {
    "scrolled": true
   },
   "outputs": [
    {
     "name": "stdout",
     "output_type": "stream",
     "text": [
      "We could load the URL: https://www.keibalab.jp/db/race/20190720\n"
     ]
    }
   ],
   "source": [
    "target_datetime_str = target_datetime_list[1]\n",
    "target_datetime_str = '20190720'\n",
    "_load_target_url_page(driver, parameters, target_datetime_str)"
   ]
  },
  {
   "cell_type": "code",
   "execution_count": 652,
   "metadata": {
    "scrolled": true
   },
   "outputs": [
    {
     "name": "stdout",
     "output_type": "stream",
     "text": [
      "9\n"
     ]
    },
    {
     "data": {
      "text/plain": [
       "[['not_kakutei', '//*[@id=\"raceInfo\"]/div[1]/table[1]/tbody/tr[1]/td[2]/a'],\n",
       " ['not_kakutei', '//*[@id=\"raceInfo\"]/div[1]/table[1]/tbody/tr[2]/td[2]/a'],\n",
       " ['not_kakutei', '//*[@id=\"raceInfo\"]/div[1]/table[1]/tbody/tr[3]/td[2]/a'],\n",
       " ['not_kakutei', '//*[@id=\"raceInfo\"]/div[1]/table[2]/tbody/tr[1]/td[2]/a'],\n",
       " ['not_kakutei', '//*[@id=\"raceInfo\"]/div[1]/table[2]/tbody/tr[2]/td[2]/a'],\n",
       " ['not_kakutei', '//*[@id=\"raceInfo\"]/div[1]/table[2]/tbody/tr[3]/td[2]/a'],\n",
       " ['not_kakutei', '//*[@id=\"raceInfo\"]/div[1]/table[3]/tbody/tr[1]/td[2]/a'],\n",
       " ['not_kakutei', '//*[@id=\"raceInfo\"]/div[1]/table[3]/tbody/tr[2]/td[2]/a'],\n",
       " ['not_kakutei', '//*[@id=\"raceInfo\"]/div[1]/table[3]/tbody/tr[3]/td[2]/a']]"
      ]
     },
     "execution_count": 652,
     "metadata": {},
     "output_type": "execute_result"
    }
   ],
   "source": [
    "xpath_list_of_race_result_link = _make_xpath_list_of_race_result_link()\n",
    "print(len(xpath_list_of_race_result_link))\n",
    "xpath_list_of_race_result_link"
   ]
  },
  {
   "cell_type": "code",
   "execution_count": 653,
   "metadata": {
    "scrolled": false
   },
   "outputs": [
    {
     "name": "stdout",
     "output_type": "stream",
     "text": [
      "We can load the XPATH and now locate in: https://www.keibalab.jp/db/race/201907200309/\n"
     ]
    }
   ],
   "source": [
    "xpath = xpath_list_of_race_result_link[0][1]\n",
    "make_web_driver_click_by(driver, parameters, xpath, verbose=True)"
   ]
  },
  {
   "cell_type": "code",
   "execution_count": 654,
   "metadata": {},
   "outputs": [
    {
     "data": {
      "text/plain": [
       "'201907200309'"
      ]
     },
     "execution_count": 654,
     "metadata": {},
     "output_type": "execute_result"
    }
   ],
   "source": [
    "race_id = get_race_id()\n",
    "race_id"
   ]
  },
  {
   "cell_type": "code",
   "execution_count": 655,
   "metadata": {
    "scrolled": false
   },
   "outputs": [
    {
     "data": {
      "text/plain": [
       "['201907200309',\n",
       " '2019/7/20(土) 2回福島7日目',\n",
       " '栗子特別',\n",
       " 'unknown',\n",
       " 'unknown',\n",
       " '500万 (混)(特) 定量 芝2000m 21頭 発走']"
      ]
     },
     "execution_count": 655,
     "metadata": {},
     "output_type": "execute_result"
    }
   ],
   "source": [
    "race_data_box_list = get_race_data_box_list(race_id)\n",
    "race_data_box_list"
   ]
  },
  {
   "cell_type": "code",
   "execution_count": 638,
   "metadata": {},
   "outputs": [],
   "source": [
    "def get_arrival_order_before(race_info_tbody_row_elem_list, i, number):\n",
    "    try:\n",
    "        arrival_order_before = race_info_tbody_row_elem_list[i].find_elements_by_xpath('td[{NUMBER}]/a/dl/dd'.format(NUMBER=number+11))[0].text\n",
    "    except IndexError:\n",
    "        try:\n",
    "            arrival_order_before = race_info_tbody_row_elem_list[i].find_elements_by_xpath('td[{NUMBER}]/dl/dd'.format(NUMBER=number+11))[0].text\n",
    "        except IndexError:\n",
    "            arrival_order_before = ''\n",
    "    return arrival_order_before\n",
    "\n",
    "def get_race_prior_info_tbody_list(race_id):\n",
    "    xpath_to_web_newspaper = '//*[@id=\"dbNav\"]/div/ul/li[1]/a'\n",
    "    make_web_driver_click_by(driver, parameters, xpath_to_web_newspaper)\n",
    "    xpath_to_yoko_gata = '//*[@id=\"dbnewWrap\"]/div/article/div/section/div[4]/div[1]/div[1]/ul/li[2]/a'\n",
    "    make_web_driver_click_by(driver, parameters, xpath_to_yoko_gata)\n",
    "    \n",
    "    race_info_tbody_row_elem_list = driver.find_elements_by_xpath('//*[@id=\"top\"]/table/tbody/tr')\n",
    "    if len(race_info_tbody_row_elem_list) == 0:\n",
    "        pass\n",
    "    \n",
    "    race_info_tbody_list = []\n",
    "    for i in range(len(race_info_tbody_row_elem_list)):\n",
    "        post_position = race_info_tbody_row_elem_list[i].find_element_by_xpath('td[1]').text\n",
    "        horse_number = race_info_tbody_row_elem_list[i].find_element_by_xpath('td[2]').text\n",
    "        horse_name = race_info_tbody_row_elem_list[i].find_element_by_xpath('td[4]/dl/dd[1]').text\n",
    "        href_to_the_horse = race_info_tbody_row_elem_list[i].find_element_by_xpath('td[4]/dl/dd[1]/a').get_attribute(\"href\")\n",
    "        jockey_name = race_info_tbody_row_elem_list[i].find_element_by_xpath('td[4]/dl/dd[2]').text\n",
    "        trainer_name = race_info_tbody_row_elem_list[i].find_element_by_xpath('td[4]/dl/dd[3]/a').text\n",
    "        \n",
    "        sex_and_age, interval = race_info_tbody_row_elem_list[i].find_element_by_xpath('td[4]/dl/dd[3]').text.split(trainer_name)\n",
    "        horse_age = re.sub(\"\\\\D\", \"\", sex_and_age)\n",
    "        horse_sex = re.match('[0-9a-zA-Zあ-んア-ン一-鿐]' , sex_and_age).group()\n",
    "        \n",
    "        popularity_order = race_info_tbody_row_elem_list[i].find_elements_by_xpath('td[5]/dl/dd')[0].text\n",
    "        win_odds = race_info_tbody_row_elem_list[i].find_elements_by_xpath('td[5]/dl/dd')[1].text\n",
    "        horse_weight = race_info_tbody_row_elem_list[i].find_elements_by_xpath('td[5]/dl/dd')[2].text\n",
    "        horse_weight_increment_from_previous = race_info_tbody_row_elem_list[i].find_elements_by_xpath('td[5]/dl/dd')[3].text\n",
    "        owner_name = race_info_tbody_row_elem_list[i].find_elements_by_xpath('td[6]/dl/dd/a')[0].text\n",
    "        href_to_owner_name = race_info_tbody_row_elem_list[i].find_elements_by_xpath('td[6]/dl/dd/a')[0].get_attribute(\"href\")\n",
    "        breeder_name = race_info_tbody_row_elem_list[i].find_elements_by_xpath('td[6]/dl/dd/a')[1].text\n",
    "        \n",
    "        jockey_finish_first_second = race_info_tbody_row_elem_list[i].find_elements_by_xpath('td[7]/i')[0].text\n",
    "        horse_number_finish_first_second = race_info_tbody_row_elem_list[i].find_elements_by_xpath('td[7]/i')[1].text\n",
    "        stallion_finish_first_second = race_info_tbody_row_elem_list[i].find_elements_by_xpath('td[7]/i')[2].text\n",
    "        conbi_finish_first_second = race_info_tbody_row_elem_list[i].find_elements_by_xpath('td[7]/i')[3].text\n",
    "        \n",
    "        arrival_orders_before = []\n",
    "        for number in range(5):\n",
    "            arrival_orders_before.append(get_arrival_order_before(race_info_tbody_row_elem_list, i, number))\n",
    "        arrival_orders_before = str(arrival_orders_before).replace('\\'', '')\n",
    "        \n",
    "        zensou_info_elem = race_info_tbody_row_elem_list[i].find_elements_by_xpath('td/a/dl')\n",
    "        zensou_info_list = [(zensou_info_elem[i].text.replace('\\n',' ').replace('  ',' ')) for i in range(len(zensou_info_elem))]\n",
    "        zensou_info_list = [[zensou_info_list[i].replace(' ', ',')] for i in range(len(zensou_info_elem))]\n",
    "        zensou_info_list = str(zensou_info_list).replace('\\'', '')\n",
    "        \n",
    "        race_info_tbody_list.append([race_id, post_position, horse_number, horse_name, href_to_the_horse, jockey_name, trainer_name,\n",
    "                                   horse_age, horse_sex, popularity_order, win_odds, horse_weight, horse_weight_increment_from_previous,\n",
    "                                   owner_name, href_to_owner_name, breeder_name, jockey_finish_first_second, horse_number_finish_first_second,\n",
    "                                   stallion_finish_first_second, conbi_finish_first_second, arrival_orders_before, zensou_info_list])\n",
    "\n",
    "    return race_info_tbody_list"
   ]
  },
  {
   "cell_type": "code",
   "execution_count": 639,
   "metadata": {
    "scrolled": true
   },
   "outputs": [
    {
     "name": "stdout",
     "output_type": "stream",
     "text": [
      "We can load the XPATH and now locate in: https://www.keibalab.jp/db/race/201907140310/umabashira.html\n",
      "We can load the XPATH and now locate in: https://www.keibalab.jp/db/race/201907140310/umabashira.html?kind=yoko\n"
     ]
    }
   ],
   "source": [
    "race_prior_info_tbody_list = get_race_prior_info_tbody_list(race_id)"
   ]
  },
  {
   "cell_type": "code",
   "execution_count": 640,
   "metadata": {},
   "outputs": [
    {
     "data": {
      "text/plain": [
       "['201907140310',\n",
       " '1',\n",
       " '1',\n",
       " 'スナークライデン',\n",
       " 'https://www.keibalab.jp/db/horse/2014100190/',\n",
       " '津村明(57.0)◁◀◀◁',\n",
       " '栗・川村禎',\n",
       " '5',\n",
       " '牡',\n",
       " '5人気',\n",
       " '8.9倍',\n",
       " '480kg',\n",
       " '(－2kg)',\n",
       " '杉本豊',\n",
       " 'https://www.keibalab.jp/db/owner/167808/',\n",
       " '小泉牧場',\n",
       " '25.0%[44]',\n",
       " '11.5%[87]',\n",
       " '23.1%[52]',\n",
       " '20.0%[5]',\n",
       " '[2, 4, 1, 8, 7]',\n",
       " '[[2,2福島1,19/6/29,ダ115,郡山特別,－－⑧⑥,16頭5番7人,小雨,稍,1:07.6,36.2,H,482kg(0),三浦皇,57.0,レッドアネラ(0.2)], [4,3京都7,19/5/11,ダ12,4歳上1000万,－－⑩⑨,16頭14番15人,晴,良,1:11.9,36.5,H,482kg(－6),和田竜,57.0,ジャスパーウ(0.6)], [8,1小倉8,19/3/3,ダ10,4歳上500万,－－⑨⑥,14頭10番5人,雨,不,0:58.9,35.9,H,486kg(－4),中井裕,57.0,ガウル(0.5)], [7,1京都2,19/1/6,ダ12,4歳上500万,－－⑪⑩,16頭12番11人,曇,良,1:12.1,36.0,M,490kg(＋2),和田竜,57.0,ヒロシゲゴー(1.5)]]']"
      ]
     },
     "execution_count": 640,
     "metadata": {},
     "output_type": "execute_result"
    }
   ],
   "source": [
    "race_prior_info_tbody_list[0]"
   ]
  },
  {
   "cell_type": "code",
   "execution_count": null,
   "metadata": {},
   "outputs": [],
   "source": []
  }
 ],
 "metadata": {
  "kernelspec": {
   "display_name": "Python 3",
   "language": "python",
   "name": "python3"
  },
  "language_info": {
   "codemirror_mode": {
    "name": "ipython",
    "version": 3
   },
   "file_extension": ".py",
   "mimetype": "text/x-python",
   "name": "python",
   "nbconvert_exporter": "python",
   "pygments_lexer": "ipython3",
   "version": "3.7.3"
  }
 },
 "nbformat": 4,
 "nbformat_minor": 2
}
