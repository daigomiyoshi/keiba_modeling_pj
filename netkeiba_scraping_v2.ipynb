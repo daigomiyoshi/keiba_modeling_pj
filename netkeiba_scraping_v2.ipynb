{
 "cells": [
  {
   "cell_type": "code",
   "execution_count": 1,
   "metadata": {},
   "outputs": [],
   "source": [
    "import re\n",
    "import glob\n",
    "import os\n",
    "import time \n",
    "import datetime\n",
    "import pandas as pd\n",
    "from selenium import webdriver\n",
    "from selenium.webdriver.common.by import By\n",
    "from selenium.webdriver.support.ui import WebDriverWait\n",
    "from selenium.webdriver.support import expected_conditions as EC\n",
    "\n",
    "from Config import params_config"
   ]
  },
  {
   "cell_type": "code",
   "execution_count": 2,
   "metadata": {
    "scrolled": true
   },
   "outputs": [
    {
     "data": {
      "text/plain": [
       "{'TARGET_URL': 'https://www.keibalab.jp/db/race/',\n",
       " 'START_DATE': '19860105',\n",
       " 'DRIVER_DIR': './chromedriver',\n",
       " 'PAGE_LOAD_TIMEOUT': 10}"
      ]
     },
     "execution_count": 2,
     "metadata": {},
     "output_type": "execute_result"
    }
   ],
   "source": [
    "parameters = params_config.parameters\n",
    "parameters"
   ]
  },
  {
   "cell_type": "markdown",
   "metadata": {},
   "source": [
    "### 過去の競馬結果をスクレイピングするmain関数処理\n",
    "- 1986/01/05 まで情報あり\n",
    "- 土曜と日曜（レースがない日もある）だけ記録があるので、そこだけスクレイピングする"
   ]
  },
  {
   "cell_type": "code",
   "execution_count": 3,
   "metadata": {},
   "outputs": [],
   "source": [
    "def get_today_datetime():\n",
    "    return datetime.date.today()"
   ]
  },
  {
   "cell_type": "code",
   "execution_count": 4,
   "metadata": {},
   "outputs": [],
   "source": [
    "def get_latest_holiday_list(target_datetime):\n",
    "    while True:\n",
    "        if target_datetime.weekday() == 5:\n",
    "            saturday_datetime_str = target_datetime.strftime(\"%Y%m%d\")\n",
    "            target_datetime_plus_1 = target_datetime + datetime.timedelta(days=1)\n",
    "            sunday_datetime_str = target_datetime_plus_1.strftime(\"%Y%m%d\")\n",
    "            return [saturday_datetime_str, sunday_datetime_str]\n",
    "        else:\n",
    "            target_datetime = target_datetime + datetime.timedelta(days=-1)"
   ]
  },
  {
   "cell_type": "code",
   "execution_count": 5,
   "metadata": {},
   "outputs": [],
   "source": [
    "def scraping_race_result_until_start_date(parameters):\n",
    "    # first process for scraping\n",
    "    target_datetime =  get_today_datetime()  # type: datetime.date\n",
    "    target_datetime_list =  get_latest_holiday_list(target_datetime)\n",
    "    print(target_datetime_list)\n",
    "    \n",
    "    # scarping keibalab web info\n",
    "    print('scraping the web site info in {TARGET_DATE}'.format(TARGET_DATE = target_datetime_list[0]))\n",
    "    ## ENTERE MY CODE ##\n",
    "    print('scraping the web site info in {TARGET_DATE}'.format(TARGET_DATE = target_datetime_list[1]))\n",
    "    ## ENTERE MY CODE ##\n",
    "    \n",
    "    # after the second time process for scraping\n",
    "    while True:\n",
    "        target_datetime_str = target_datetime_list[0]  # type: str\n",
    "        target_datetime = datetime.datetime.strptime(target_datetime_str, '%Y%m%d') - datetime.timedelta(days=1)  # type: datetime.date\n",
    "        target_datetime_list =  get_latest_holiday_list(target_datetime)\n",
    "        print(target_datetime_list)\n",
    "        \n",
    "        # scarping keibalab web info\n",
    "        print('scraping the web site info in {TARGET_DATE}'.format(TARGET_DATE = target_datetime_list[0]))\n",
    "        ## ENTERE MY CODE ##\n",
    "        print('scraping the web site info in {TARGET_DATE}'.format(TARGET_DATE = target_datetime_list[1]))\n",
    "        ## ENTERE MY CODE ##\n",
    "\n",
    "        if parameters['START_DATE'] in target_datetime_list:\n",
    "            break"
   ]
  },
  {
   "cell_type": "code",
   "execution_count": null,
   "metadata": {
    "scrolled": true
   },
   "outputs": [],
   "source": [
    "scraping_race_result_until_start_date(parameters)"
   ]
  },
  {
   "cell_type": "code",
   "execution_count": 6,
   "metadata": {},
   "outputs": [],
   "source": [
    "def initialize_chrome_driver(parameters):\n",
    "    driver = webdriver.Chrome(executable_path=parameters['DRIVER_DIR'])\n",
    "    driver.set_page_load_timeout(parameters['PAGE_LOAD_TIMEOUT'])\n",
    "    driver.maximize_window()\n",
    "    \n",
    "    return driver "
   ]
  },
  {
   "cell_type": "code",
   "execution_count": 7,
   "metadata": {},
   "outputs": [],
   "source": [
    "def close_chrome_window(driver):\n",
    "    driver.quit()"
   ]
  },
  {
   "cell_type": "code",
   "execution_count": 8,
   "metadata": {},
   "outputs": [],
   "source": [
    "def back_chrome_window(driver):\n",
    "    driver.back()"
   ]
  },
  {
   "cell_type": "code",
   "execution_count": 9,
   "metadata": {},
   "outputs": [],
   "source": [
    "driver = initialize_chrome_driver(parameters)"
   ]
  },
  {
   "cell_type": "code",
   "execution_count": null,
   "metadata": {},
   "outputs": [],
   "source": [
    "# back_chrome_window(driver)\n",
    "# close_chrome_window(driver)"
   ]
  },
  {
   "cell_type": "markdown",
   "metadata": {},
   "source": [
    "## Class: KeibaLabScraper"
   ]
  },
  {
   "cell_type": "markdown",
   "metadata": {},
   "source": [
    "- 例：20181229,1230の日はレースがないため、例外処理を行うようにしておく"
   ]
  },
  {
   "cell_type": "code",
   "execution_count": 10,
   "metadata": {
    "scrolled": true
   },
   "outputs": [
    {
     "data": {
      "text/plain": [
       "['20190629', '20190630']"
      ]
     },
     "execution_count": 10,
     "metadata": {},
     "output_type": "execute_result"
    }
   ],
   "source": [
    "# first process for scraping\n",
    "target_datetime =  get_today_datetime()  # type: datetime.date\n",
    "target_datetime_list =  get_latest_holiday_list(target_datetime)\n",
    "target_datetime_list"
   ]
  },
  {
   "cell_type": "code",
   "execution_count": 11,
   "metadata": {},
   "outputs": [],
   "source": [
    "def make_web_driver_click_by(driver, parameters, xpath, verbose=True):\n",
    "    try:\n",
    "        WebDriverWait(driver, parameters['PAGE_LOAD_TIMEOUT']).until(EC.element_to_be_clickable((By.XPATH, xpath)))\n",
    "        driver.find_element_by_xpath(xpath).click()\n",
    "        if verbose:\n",
    "            print('We can load the XPATH and now locate in:', driver.current_url)\n",
    "            \n",
    "    except Exception as e:\n",
    "        print(e)"
   ]
  },
  {
   "cell_type": "code",
   "execution_count": 12,
   "metadata": {},
   "outputs": [],
   "source": [
    "def load_target_url_page(driver, parameters, target_datetime_str):\n",
    "    target_url = parameters['TARGET_URL'] + target_datetime_str\n",
    "    \n",
    "    try:\n",
    "        driver.get(target_url)\n",
    "        print('We can load the URL:', driver.current_url)\n",
    "    except:\n",
    "        print(\"The page load was time out\")"
   ]
  },
  {
   "cell_type": "code",
   "execution_count": 13,
   "metadata": {
    "scrolled": false
   },
   "outputs": [
    {
     "name": "stdout",
     "output_type": "stream",
     "text": [
      "We can load the URL: https://www.keibalab.jp/db/race/20190629\n"
     ]
    }
   ],
   "source": [
    "target_datetime_str = target_datetime_list[0]\n",
    "load_target_url_page(driver, parameters, target_datetime_str)"
   ]
  },
  {
   "cell_type": "code",
   "execution_count": 14,
   "metadata": {},
   "outputs": [],
   "source": [
    "def make_xpath_list_of_race_result_link():\n",
    "    xpath_list_of_race_result_link = []\n",
    "    \n",
    "    xpath_race_info_div = '//*[@id=\"raceInfo\"]/div[1]'\n",
    "    race_table_header_list = driver.find_element_by_xpath(xpath_race_info_div).find_elements_by_tag_name('table')\n",
    "    \n",
    "    for table_header_idx in range(len(race_table_header_list)):\n",
    "        xpath_table_of_race_result = xpath_race_info_div + '/table[{TABLE_IDX_IDX}]'.format(TABLE_IDX_IDX=table_header_idx+1)\n",
    "        race_table_body_elem_list = driver.find_element_by_xpath(xpath_table_of_race_result).find_element_by_tag_name('tbody').find_elements_by_tag_name('tr')\n",
    "        \n",
    "        for table_tbody_idx in range(len(race_table_body_elem_list)):\n",
    "            xpath_tdoby_of_table_race_result = xpath_table_of_race_result + '/tbody/tr[{TBODY_IDX}]/td[2]/a'.format(TBODY_IDX=table_tbody_idx+1)\n",
    "            xpath_list_of_race_result_link.append(xpath_tdoby_of_table_race_result)\n",
    "            \n",
    "    return xpath_list_of_race_result_link"
   ]
  },
  {
   "cell_type": "code",
   "execution_count": 17,
   "metadata": {},
   "outputs": [],
   "source": [
    "def get_race_id():\n",
    "    return int(re.sub('\\\\D', '', driver.current_url.split(parameters['TARGET_URL'])[1]))"
   ]
  },
  {
   "cell_type": "code",
   "execution_count": 15,
   "metadata": {
    "scrolled": true
   },
   "outputs": [
    {
     "data": {
      "text/plain": [
       "['//*[@id=\"raceInfo\"]/div[1]/table[1]/tbody/tr[1]/td[2]/a',\n",
       " '//*[@id=\"raceInfo\"]/div[1]/table[1]/tbody/tr[2]/td[2]/a',\n",
       " '//*[@id=\"raceInfo\"]/div[1]/table[1]/tbody/tr[3]/td[2]/a',\n",
       " '//*[@id=\"raceInfo\"]/div[1]/table[1]/tbody/tr[4]/td[2]/a',\n",
       " '//*[@id=\"raceInfo\"]/div[1]/table[1]/tbody/tr[5]/td[2]/a',\n",
       " '//*[@id=\"raceInfo\"]/div[1]/table[1]/tbody/tr[6]/td[2]/a',\n",
       " '//*[@id=\"raceInfo\"]/div[1]/table[1]/tbody/tr[7]/td[2]/a',\n",
       " '//*[@id=\"raceInfo\"]/div[1]/table[1]/tbody/tr[8]/td[2]/a',\n",
       " '//*[@id=\"raceInfo\"]/div[1]/table[1]/tbody/tr[9]/td[2]/a',\n",
       " '//*[@id=\"raceInfo\"]/div[1]/table[1]/tbody/tr[10]/td[2]/a',\n",
       " '//*[@id=\"raceInfo\"]/div[1]/table[1]/tbody/tr[11]/td[2]/a',\n",
       " '//*[@id=\"raceInfo\"]/div[1]/table[1]/tbody/tr[12]/td[2]/a',\n",
       " '//*[@id=\"raceInfo\"]/div[1]/table[2]/tbody/tr[1]/td[2]/a',\n",
       " '//*[@id=\"raceInfo\"]/div[1]/table[2]/tbody/tr[2]/td[2]/a',\n",
       " '//*[@id=\"raceInfo\"]/div[1]/table[2]/tbody/tr[3]/td[2]/a',\n",
       " '//*[@id=\"raceInfo\"]/div[1]/table[2]/tbody/tr[4]/td[2]/a',\n",
       " '//*[@id=\"raceInfo\"]/div[1]/table[2]/tbody/tr[5]/td[2]/a',\n",
       " '//*[@id=\"raceInfo\"]/div[1]/table[2]/tbody/tr[6]/td[2]/a',\n",
       " '//*[@id=\"raceInfo\"]/div[1]/table[2]/tbody/tr[7]/td[2]/a',\n",
       " '//*[@id=\"raceInfo\"]/div[1]/table[2]/tbody/tr[8]/td[2]/a',\n",
       " '//*[@id=\"raceInfo\"]/div[1]/table[2]/tbody/tr[9]/td[2]/a',\n",
       " '//*[@id=\"raceInfo\"]/div[1]/table[2]/tbody/tr[10]/td[2]/a',\n",
       " '//*[@id=\"raceInfo\"]/div[1]/table[2]/tbody/tr[11]/td[2]/a',\n",
       " '//*[@id=\"raceInfo\"]/div[1]/table[2]/tbody/tr[12]/td[2]/a',\n",
       " '//*[@id=\"raceInfo\"]/div[1]/table[3]/tbody/tr[1]/td[2]/a',\n",
       " '//*[@id=\"raceInfo\"]/div[1]/table[3]/tbody/tr[2]/td[2]/a',\n",
       " '//*[@id=\"raceInfo\"]/div[1]/table[3]/tbody/tr[3]/td[2]/a',\n",
       " '//*[@id=\"raceInfo\"]/div[1]/table[3]/tbody/tr[4]/td[2]/a',\n",
       " '//*[@id=\"raceInfo\"]/div[1]/table[3]/tbody/tr[5]/td[2]/a',\n",
       " '//*[@id=\"raceInfo\"]/div[1]/table[3]/tbody/tr[6]/td[2]/a',\n",
       " '//*[@id=\"raceInfo\"]/div[1]/table[3]/tbody/tr[7]/td[2]/a',\n",
       " '//*[@id=\"raceInfo\"]/div[1]/table[3]/tbody/tr[8]/td[2]/a',\n",
       " '//*[@id=\"raceInfo\"]/div[1]/table[3]/tbody/tr[9]/td[2]/a',\n",
       " '//*[@id=\"raceInfo\"]/div[1]/table[3]/tbody/tr[10]/td[2]/a',\n",
       " '//*[@id=\"raceInfo\"]/div[1]/table[3]/tbody/tr[11]/td[2]/a',\n",
       " '//*[@id=\"raceInfo\"]/div[1]/table[3]/tbody/tr[12]/td[2]/a']"
      ]
     },
     "execution_count": 15,
     "metadata": {},
     "output_type": "execute_result"
    }
   ],
   "source": [
    "xpath_list_of_race_result_link = make_xpath_list_of_race_result_link()\n",
    "xpath_list_of_race_result_link"
   ]
  },
  {
   "cell_type": "code",
   "execution_count": 16,
   "metadata": {
    "scrolled": false
   },
   "outputs": [
    {
     "name": "stdout",
     "output_type": "stream",
     "text": [
      "We can load the XPATH and now locate in: https://www.keibalab.jp/db/race/201906290301/\n"
     ]
    }
   ],
   "source": [
    "xpath = xpath_list_of_race_result_link[0]\n",
    "make_web_driver_click_by(driver, parameters, xpath, verbose=True)"
   ]
  },
  {
   "cell_type": "code",
   "execution_count": 20,
   "metadata": {
    "scrolled": true
   },
   "outputs": [
    {
     "data": {
      "text/plain": [
       "201906290301"
      ]
     },
     "execution_count": 20,
     "metadata": {},
     "output_type": "execute_result"
    }
   ],
   "source": [
    "race_id = get_race_id()\n",
    "race_id"
   ]
  },
  {
   "cell_type": "code",
   "execution_count": null,
   "metadata": {},
   "outputs": [],
   "source": []
  },
  {
   "cell_type": "code",
   "execution_count": null,
   "metadata": {},
   "outputs": [],
   "source": []
  },
  {
   "cell_type": "markdown",
   "metadata": {},
   "source": [
    "### Get race list from schedule pages"
   ]
  },
  {
   "cell_type": "code",
   "execution_count": null,
   "metadata": {
    "scrolled": true
   },
   "outputs": [],
   "source": [
    "def get_race_info_from_schedule_page(driver):\n",
    "    # find table tag info \n",
    "    race_schedule_block_elem = driver.find_element_by_class_name('race_schedule_block')\n",
    "    race_schedule_block_elem_list = race_schedule_block_elem.find_element_by_tag_name('tbody').find_elements_by_tag_name('tr')\n",
    "    \n",
    "    # define table header\n",
    "    race_schedule_block_header = race_schedule_block_elem_list[0].find_elements_by_tag_name('th')\n",
    "    race_schedule_block_header = [race_schedule_block_header[i].text for i in range(len(race_schedule_block_header))]\n",
    "    \n",
    "    # make race info data frame\n",
    "    race_schedule_block_info_list = []\n",
    "#     for i in range(1, len(race_schedule_block_elem_list)):\n",
    "    for i in range(1, len(race_schedule_block_elem_list)-120):\n",
    "        race_schedule_block_body = race_schedule_block_elem_list[i].find_elements_by_tag_name('td')\n",
    "        race_schedule_block_body = [race_schedule_block_body[i].text for i in range(len(race_schedule_block_body))]\n",
    "        race_schedule_block_info_list.append(race_schedule_block_body)\n",
    "    \n",
    "    return pd.DataFrame(race_schedule_block_info_list, columns=race_schedule_block_header)"
   ]
  },
  {
   "cell_type": "code",
   "execution_count": null,
   "metadata": {
    "scrolled": false
   },
   "outputs": [],
   "source": [
    "race_schedule_block_df = get_race_info_from_schedule_page(driver)\n",
    "race_schedule_block_df"
   ]
  },
  {
   "cell_type": "markdown",
   "metadata": {},
   "source": [
    "### Click and get each race information"
   ]
  },
  {
   "cell_type": "code",
   "execution_count": null,
   "metadata": {},
   "outputs": [],
   "source": [
    "def make_web_driver_click(driver, parameters, xpath, verbose=True):\n",
    "    try:\n",
    "        WebDriverWait(driver, parameters['PAGE_LOAD_TIMEOUT']).until(EC.element_to_be_clickable((By.XPATH, xpath)))\n",
    "        driver.find_element_by_xpath(xpath).click()\n",
    "        if verbose:\n",
    "            print('We can load the XPATH and now locate in:', driver.current_url)\n",
    "        \n",
    "    except:\n",
    "        print('The page load was time out')"
   ]
  },
  {
   "cell_type": "code",
   "execution_count": null,
   "metadata": {},
   "outputs": [],
   "source": [
    "def click_into_top_page_of_each_race(driver, parameters, race_idx):\n",
    "    xpath_to_each_race = '//*[@id=\"main\"]/div/table/tbody/tr[{TR_IDX}]/td[2]/a'.format(TR_IDX=race_idx)\n",
    "    make_web_driver_click(driver, parameters, xpath_to_each_race)"
   ]
  },
  {
   "cell_type": "code",
   "execution_count": null,
   "metadata": {},
   "outputs": [],
   "source": [
    "def click_into_race_table_page_of_each_race(driver, parameters):\n",
    "    xpath_to_each_race_table = '//*[@id=\"main\"]/div[1]/div/div[2]/div[2]/div/ul[1]/li[2]/a/span'\n",
    "    make_web_driver_click(driver, parameters, xpath_to_each_race_table, verbose=False) \n",
    "    \n",
    "    xpath_to_each_race_table = '//*[@id=\"race_main\"]/div[1]/ul[2]/li[1]/a'\n",
    "    make_web_driver_click(driver, parameters, xpath_to_each_race_table) "
   ]
  },
  {
   "cell_type": "code",
   "execution_count": null,
   "metadata": {
    "scrolled": false
   },
   "outputs": [],
   "source": [
    "race_idx = 9 # 2 to race_schedule_block_df.shape[0]+1\n",
    "print('We get the information of race:', list(race_schedule_block_df.loc[race_idx-2, :]))\n",
    "\n",
    "click_into_top_page_of_each_race(driver, parameters, race_idx)"
   ]
  },
  {
   "cell_type": "code",
   "execution_count": null,
   "metadata": {
    "scrolled": true
   },
   "outputs": [],
   "source": [
    "click_into_race_table_page_of_each_race(driver, parameters)"
   ]
  },
  {
   "cell_type": "code",
   "execution_count": null,
   "metadata": {
    "scrolled": true
   },
   "outputs": [],
   "source": [
    "def get_race_table(driver):\n",
    "    xpath_to_race_table = '//*[@id=\"shutuba\"]/diary_snap/table/tbody'\n",
    "    race_table_elem = driver.find_element_by_xpath(xpath_to_race_table)\n",
    "\n",
    "    race_table_header_elem = race_table_elem.find_element_by_xpath('tr').find_elements_by_xpath('th')\n",
    "    race_table_header = [race_table_header_elem[i].text.replace('\\n','') for i in range(len(race_table_header_elem))]\n",
    "\n",
    "    race_table_body_elem = race_table_elem.find_elements_by_xpath('tr')[3:]\n",
    "    race_table_body_list = []\n",
    "    for i in range(len(race_table_body_elem)):\n",
    "        race_table_body_elem_list = race_table_body_elem[i].find_elements_by_xpath('td')\n",
    "        race_table_body = [race_table_body_elem_list[j].text.replace('\\n','') for j in range(len(race_table_body_elem_list))]\n",
    "        race_table_body_list.append(race_table_body[:-2])\n",
    "        \n",
    "    return pd.DataFrame(race_table_body_list, columns=race_table_header[:-1])"
   ]
  },
  {
   "cell_type": "code",
   "execution_count": null,
   "metadata": {
    "scrolled": true
   },
   "outputs": [],
   "source": [
    "get_race_table(driver)"
   ]
  }
 ],
 "metadata": {
  "kernelspec": {
   "display_name": "Python 3",
   "language": "python",
   "name": "python3"
  },
  "language_info": {
   "codemirror_mode": {
    "name": "ipython",
    "version": 3
   },
   "file_extension": ".py",
   "mimetype": "text/x-python",
   "name": "python",
   "nbconvert_exporter": "python",
   "pygments_lexer": "ipython3",
   "version": "3.7.3"
  }
 },
 "nbformat": 4,
 "nbformat_minor": 2
}
